{
 "cells": [
  {
   "cell_type": "code",
   "execution_count": 1,
   "metadata": {
    "execution": {
     "iopub.execute_input": "2023-01-23T10:51:38.134912Z",
     "iopub.status.busy": "2023-01-23T10:51:38.134579Z",
     "iopub.status.idle": "2023-01-23T10:51:39.132541Z",
     "shell.execute_reply": "2023-01-23T10:51:39.131884Z"
    }
   },
   "outputs": [],
   "source": [
    "import os\n",
    "os.chdir('siesta_1')\n",
    "import numpy as np\n",
    "from sisl import *\n",
    "import sisl.viz\n",
    "from functools import partial\n",
    "import matplotlib.pyplot as plt\n",
    "%matplotlib inline"
   ]
  },
  {
   "cell_type": "markdown",
   "metadata": {},
   "source": [
    "# Siesta --- the H2O molecule\n",
    "\n",
    "This tutorial will describe a complete walk-through of some of the `sisl` functionalities that may be related to the [Siesta code](https://gitlab.com/siesta-project/siesta).\n",
    "\n",
    "## Creating the geometry\n",
    "\n",
    "Our system of interest will be the $\\mathrm H_2\\mathrm O$ system. The first task will be to create the molecule geometry.\n",
    "This is done using lists of atomic coordinates and atomic species. Additionally one needs to define the supercell (or if you prefer: unit-cell) where the molecule resides in. Siesta is a periodic DFT code and thus all directions are periodic. I.e. when simulating molecules it is vital to have a large vacuum gap between periodic images. In this case we use a supercell of side-lengths $10\\mathrm{Ang}$."
   ]
  },
  {
   "cell_type": "code",
   "execution_count": 2,
   "metadata": {
    "execution": {
     "iopub.execute_input": "2023-01-23T10:51:39.135876Z",
     "iopub.status.busy": "2023-01-23T10:51:39.135552Z",
     "iopub.status.idle": "2023-01-23T10:51:39.142054Z",
     "shell.execute_reply": "2023-01-23T10:51:39.141109Z"
    }
   },
   "outputs": [],
   "source": [
    "h2o = Geometry([[0, 0, 0], [0.8, 0.6, 0], [-0.8, 0.6, 0.]], \n",
    "               [Atom('O'), Atom('H'), Atom('H')], \n",
    "               sc=SuperCell(10, origin=[-5] * 3))"
   ]
  },
  {
   "cell_type": "markdown",
   "metadata": {},
   "source": [
    "The input are the 1) xyz coordinates, 2) the atomic species and 3) the supercell that is attached.\n",
    "\n",
    "By printing the object one gets basic information regarding the geometry, such as 1) number of atoms, 2) species of atoms, 3) number of orbitals, 4) orbitals associated with each atom and 5) number of supercells."
   ]
  },
  {
   "cell_type": "code",
   "execution_count": 3,
   "metadata": {
    "execution": {
     "iopub.execute_input": "2023-01-23T10:51:39.144752Z",
     "iopub.status.busy": "2023-01-23T10:51:39.144547Z",
     "iopub.status.idle": "2023-01-23T10:51:39.148079Z",
     "shell.execute_reply": "2023-01-23T10:51:39.147448Z"
    }
   },
   "outputs": [
    {
     "name": "stdout",
     "output_type": "stream",
     "text": [
      "Geometry{na: 3, no: 3,\n",
      " Atoms{species: 2,\n",
      "  Atom{O, Z: 8, mass(au): 15.99940, maxR: -1.00000,\n",
      "   Orbital{R: -1.00000, q0: 0.0}\n",
      "  }: 1,\n",
      "  Atom{H, Z: 1, mass(au): 1.00794, maxR: -1.00000,\n",
      "   Orbital{R: -1.00000, q0: 0.0}\n",
      "  }: 2,\n",
      " },\n",
      " maxR: -1.00000,\n",
      " SuperCell{nsc: [1 1 1],\n",
      "  A=[10.000, 0.000, 0.000],\n",
      "  B=[0.000, 10.000, 0.000],\n",
      "  C=[0.000, 0.000, 10.000],\n",
      " }\n",
      "}\n"
     ]
    }
   ],
   "source": [
    "print(h2o)"
   ]
  },
  {
   "cell_type": "markdown",
   "metadata": {},
   "source": [
    "So there are 3 atoms, 1 Oxygen and 2 Hydrogen. Currently there are only 1 orbital per atom.  \n",
    "Later we will look into the details of *orbitals* associated with *atoms* and how they may be used for wavefunctions etc.\n",
    "\n",
    "Lets visualize the atomic positions (here adding atomic indices)"
   ]
  },
  {
   "cell_type": "code",
   "execution_count": 4,
   "metadata": {
    "execution": {
     "iopub.execute_input": "2023-01-23T10:51:39.152001Z",
     "iopub.status.busy": "2023-01-23T10:51:39.151783Z",
     "iopub.status.idle": "2023-01-23T10:51:39.245606Z",
     "shell.execute_reply": "2023-01-23T10:51:39.244958Z"
    }
   },
   "outputs": [
    {
     "data": {
      "application/vnd.jupyter.widget-view+json": {
       "model_id": "de9345fb74f14a5f919a4a22b600a61c",
       "version_major": 2,
       "version_minor": 0
      },
      "text/plain": [
       "FigureWidget({\n",
       "    'data': [{'line': {'color': '#cccccc', 'width': 3},\n",
       "              'mode': 'lines',\n",
       "              'name': 'bonds',\n",
       "              'opacity': 1,\n",
       "              'type': 'scatter',\n",
       "              'uid': 'be277a36-2a38-41a8-8080-099186642787',\n",
       "              'x': [0.0, 0.8, None, 0.0, -0.8, None],\n",
       "              'y': [0.0, 0.6, None, 0.0, 0.6, None]},\n",
       "             {'marker': {'color': array(['red', '#cccccc', '#cccccc'], dtype=object),\n",
       "                         'opacity': array([1., 1., 1.]),\n",
       "                         'size': array([7.68, 8.48, 8.48])},\n",
       "              'mode': 'markers',\n",
       "              'name': 'Atoms',\n",
       "              'opacity': 1,\n",
       "              'text': array(['[0. 0. 0.]<br>0 (O)', '[0.8 0.6 0. ]<br>1 (H)',\n",
       "                             '[-0.8  0.6  0. ]<br>2 (H)'], dtype='<U25'),\n",
       "              'type': 'scatter',\n",
       "              'uid': 'e08e30b6-f527-4868-a26c-29b401385cdc',\n",
       "              'x': array([ 0. ,  0.8, -0.8]),\n",
       "              'y': array([0. , 0.6, 0.6])},\n",
       "             {'line': {'color': 'green'},\n",
       "              'mode': 'lines',\n",
       "              'name': 'Unit cell',\n",
       "              'opacity': 1,\n",
       "              'type': 'scatter',\n",
       "              'uid': 'a3cb838e-31c0-49ee-aded-15abc8b77612',\n",
       "              'x': array([-5., -5.,  5.,  5., -5., -5., nan, -5., -5., -5.,  5.,  5., -5., nan,\n",
       "                           5.,  5., nan,  5.,  5.]),\n",
       "              'y': array([-5.,  5.,  5.,  5.,  5.,  5., nan,  5., -5., -5., -5., -5., -5., nan,\n",
       "                           5., -5., nan,  5., -5.])}],\n",
       "    'layout': {'template': '...',\n",
       "               'xaxis': {'showgrid': False, 'title': {'text': 'X axis [Ang]'}, 'zeroline': False},\n",
       "               'yaxis': {'scaleanchor': 'x',\n",
       "                         'scaleratio': 1,\n",
       "                         'showgrid': False,\n",
       "                         'title': {'text': 'Y axis [Ang]'},\n",
       "                         'zeroline': False}}\n",
       "})"
      ]
     },
     "metadata": {},
     "output_type": "display_data"
    }
   ],
   "source": [
    "h2o.plot(axes=\"xy\")"
   ]
  },
  {
   "cell_type": "markdown",
   "metadata": {},
   "source": [
    "Now we need to create the input fdf file for Siesta:"
   ]
  },
  {
   "cell_type": "code",
   "execution_count": 5,
   "metadata": {
    "execution": {
     "iopub.execute_input": "2023-01-23T10:51:39.248390Z",
     "iopub.status.busy": "2023-01-23T10:51:39.248182Z",
     "iopub.status.idle": "2023-01-23T10:51:39.252256Z",
     "shell.execute_reply": "2023-01-23T10:51:39.251653Z"
    }
   },
   "outputs": [],
   "source": [
    "open('RUN.fdf', 'w').write(\"\"\"%include STRUCT.fdf\n",
    "SystemLabel siesta_1\n",
    "PAO.BasisSize SZP\n",
    "MeshCutoff 250. Ry\n",
    "CDF.Save true\n",
    "CDF.Compress 9\n",
    "SaveHS true\n",
    "SaveRho true\n",
    "\"\"\")\n",
    "h2o.write('STRUCT.fdf')"
   ]
  },
  {
   "cell_type": "markdown",
   "metadata": {},
   "source": [
    "The first block of code simply writes a text-file with the required input, the last line of code tells the geometry (`h2o`) to write its information to the file `STRUCT.fdf`.  \n",
    "It automatically writes the following geometry information to the fdf file:\n",
    "- `LatticeConstant`\n",
    "- `LatticeVectors`\n",
    "- `NumberOfAtoms`\n",
    "- `AtomicCoordinatesFormat`\n",
    "- `AtomicCoordinatesAndAtomicSpecies`\n",
    "- `NumberOfSpecies`\n",
    "- `ChemicalSpeciesLabel`"
   ]
  },
  {
   "cell_type": "markdown",
   "metadata": {},
   "source": [
    "## Creating the electronic structure\n",
    "\n",
    "Before continuing we need to run Siesta to calculate the electronic structure.\n",
    "```bash\n",
    "siesta RUN.fdf\n",
    "```\n",
    "After having completed the Siesta run we may read the Siesta output to manipulate and extract different information."
   ]
  },
  {
   "cell_type": "code",
   "execution_count": 6,
   "metadata": {
    "execution": {
     "iopub.execute_input": "2023-01-23T10:51:39.254967Z",
     "iopub.status.busy": "2023-01-23T10:51:39.254754Z",
     "iopub.status.idle": "2023-01-23T10:51:39.288306Z",
     "shell.execute_reply": "2023-01-23T10:51:39.287632Z"
    }
   },
   "outputs": [
    {
     "name": "stdout",
     "output_type": "stream",
     "text": [
      "Hamiltonian{non-zero: 289, orthogonal: False,\n",
      " Spin{unpolarized, kind=f},\n",
      " Geometry{na: 3, no: 17,\n",
      "  Atoms{species: 2,\n",
      "   Atom{O, Z: 8, mass(au): 16.00000, maxR: 2.08350,\n",
      "    AtomicOrbital{2sZ1, q0: 2.0, SphericalOrbital{l: 0, R: 1.749, q0: 2.0}},\n",
      "    AtomicOrbital{2pyZ1, q0: 1.3333333333333333, SphericalOrbital{l: 1, R: 2.0835000000000004, q0: 4.0}},\n",
      "    AtomicOrbital{2pzZ1, q0: 1.3333333333333333, SphericalOrbital{l: 1, R: 2.0835000000000004, q0: 4.0}},\n",
      "    AtomicOrbital{2pxZ1, q0: 1.3333333333333333, SphericalOrbital{l: 1, R: 2.0835000000000004, q0: 4.0}},\n",
      "    AtomicOrbital{2dxyZ1P, q0: 0.0, SphericalOrbital{l: 2, R: 2.0835000000000004, q0: 0.0}},\n",
      "    AtomicOrbital{2dyzZ1P, q0: 0.0, SphericalOrbital{l: 2, R: 2.0835000000000004, q0: 0.0}},\n",
      "    AtomicOrbital{2dz2Z1P, q0: 0.0, SphericalOrbital{l: 2, R: 2.0835000000000004, q0: 0.0}},\n",
      "    AtomicOrbital{2dxzZ1P, q0: 0.0, SphericalOrbital{l: 2, R: 2.0835000000000004, q0: 0.0}},\n",
      "    AtomicOrbital{2dx2-y2Z1P, q0: 0.0, SphericalOrbital{l: 2, R: 2.0835000000000004, q0: 0.0}}\n",
      "   }: 1,\n",
      "   Atom{H, Z: 1, mass(au): 1.01000, maxR: 2.55510,\n",
      "    AtomicOrbital{1sZ1, q0: 1.0, SphericalOrbital{l: 0, R: 2.5551000000000004, q0: 1.0}},\n",
      "    AtomicOrbital{1pyZ1P, q0: 0.0, SphericalOrbital{l: 1, R: 2.5551000000000004, q0: 0.0}},\n",
      "    AtomicOrbital{1pzZ1P, q0: 0.0, SphericalOrbital{l: 1, R: 2.5551000000000004, q0: 0.0}},\n",
      "    AtomicOrbital{1pxZ1P, q0: 0.0, SphericalOrbital{l: 1, R: 2.5551000000000004, q0: 0.0}}\n",
      "   }: 2,\n",
      "  },\n",
      "  maxR: 2.55510,\n",
      "  SuperCell{nsc: [1 1 1],\n",
      "   A=[10.000, 0.000, 0.000],\n",
      "   B=[0.000, 10.000, 0.000],\n",
      "   C=[0.000, 0.000, 10.000],\n",
      "  }\n",
      " }\n",
      "}\n"
     ]
    }
   ],
   "source": [
    "fdf = get_sile('RUN.fdf')\n",
    "H = fdf.read_hamiltonian()\n",
    "# Create a short-hand to handle the geometry\n",
    "h2o = H.geometry\n",
    "print(H)"
   ]
  },
  {
   "cell_type": "markdown",
   "metadata": {},
   "source": [
    "A lot of new information has appeared. The Hamiltonian object describes the non-orthogonal basis and the \"hopping\" elements between the orbitals. We see it is a non-orthogonal basis via: `orthogonal: False`. Secondly, we see it was an un-polarized calculation (`Spin{unpolarized...`).  \n",
    "Lastly the geometry information is printed again. Contrary to the previous printing of the geometry we now find additional information based on the orbitals on each of the atoms. This information is read from the Siesta output and thus the basic information regarding the orbital symmetry and the basis functions are now handled by `sisl`. The oxygen has 9 orbitals ($s+p+d$ where the $d$ orbitals are $p$-polarizations denoted by capital `P`). We also see that it is a single-$\\zeta$ calculation `Z1` (for double-$\\zeta$ `Z2` would also appear in the list). The hydrogens only has 4 orbitals $s+p$.\n",
    "For each orbital one can see its maximal radial part and how initial charges are distributed."
   ]
  },
  {
   "cell_type": "markdown",
   "metadata": {},
   "source": [
    "### Plotting orbitals\n",
    "\n",
    "Often it may be educational (and fun) to plot the orbital wavefunctions. To do this we use the intrinsic method in the `Orbital` class named `toGrid`. The below code is rather complicated, but the complexity is simply because we want to show the orbitals in a rectangular grid of plots."
   ]
  },
  {
   "cell_type": "code",
   "execution_count": 7,
   "metadata": {
    "execution": {
     "iopub.execute_input": "2023-01-23T10:51:39.291258Z",
     "iopub.status.busy": "2023-01-23T10:51:39.291051Z",
     "iopub.status.idle": "2023-01-23T10:51:46.230240Z",
     "shell.execute_reply": "2023-01-23T10:51:46.229593Z"
    }
   },
   "outputs": [
    {
     "data": {
      "image/png": "[encoded data removed]",
      "text/plain": [
       "<Figure size 2000x1500 with 9 Axes>"
      ]
     },
     "metadata": {},
     "output_type": "display_data"
    },
    {
     "data": {
      "image/png": "[encoded data removed]",
      "text/plain": [
       "<Figure size 2000x500 with 4 Axes>"
      ]
     },
     "metadata": {},
     "output_type": "display_data"
    }
   ],
   "source": [
    "def plot_atom(atom):\n",
    "    no = len(atom) # number of orbitals\n",
    "    nx = no // 4\n",
    "    ny = no // nx\n",
    "    if nx * ny < no:\n",
    "        nx += 1\n",
    "    fig, axs = plt.subplots(nx, ny, figsize=(20, 5*nx))\n",
    "    fig.suptitle('Atom: {}'.format(atom.symbol), fontsize=14)\n",
    "    def my_plot(i, orb):\n",
    "        grid = orb.toGrid(atom=atom)\n",
    "        # Also write to a cube file\n",
    "        grid.write('{}_{}.cube'.format(atom.symbol, orb.name()))\n",
    "        c, r = i // 4, (i - 4) % 4\n",
    "        if nx == 1:\n",
    "            ax = axs[r]\n",
    "        else:\n",
    "            ax = axs[c][r]\n",
    "        ax.imshow(grid.grid[:, :, grid.shape[2] // 2])\n",
    "        ax.set_title(r'${}$'.format(orb.name(True)))\n",
    "        ax.set_xlabel(r'$x$ [Ang]')\n",
    "        ax.set_ylabel(r'$y$ [Ang]')\n",
    "    i = 0\n",
    "    for orb in atom:\n",
    "        my_plot(i, orb)\n",
    "        i += 1\n",
    "    if i < nx * ny:\n",
    "        # This removes the empty plots\n",
    "        for j in range(i, nx * ny):\n",
    "            c, r = j // 4, (j - 4) % 4\n",
    "            if nx == 1:\n",
    "                ax = axs[r]\n",
    "            else:\n",
    "                ax = axs[c][r]\n",
    "            fig.delaxes(ax)\n",
    "        plt.draw()\n",
    "plot_atom(h2o.atoms[0])\n",
    "plot_atom(h2o.atoms[1])"
   ]
  },
  {
   "cell_type": "markdown",
   "metadata": {},
   "source": [
    "## Hamiltonian eigenstates\n",
    "\n",
    "At this point we have the full Hamiltonian as well as the basis functions used in the Siesta calculation.\n",
    "This completes what is needed to calculate a great deal of physical quantities, e.g. eigenstates, density of states, projected density of states and wavefunctions.\n",
    "\n",
    "To begin with we calculate the $\\Gamma$-point eigenstates and plot a subset of the eigenstates' norm on the geometry. An important aspect of the electronic structure handled by Siesta is that it is shifted to $E_F=0$ meaning that the HOMO level is the smallest negative eigenvalue, while the LUMO is the smallest positive eigenvalue:"
   ]
  },
  {
   "cell_type": "code",
   "execution_count": 8,
   "metadata": {
    "execution": {
     "iopub.execute_input": "2023-01-23T10:51:46.233725Z",
     "iopub.status.busy": "2023-01-23T10:51:46.233373Z",
     "iopub.status.idle": "2023-01-23T10:51:46.430491Z",
     "shell.execute_reply": "2023-01-23T10:51:46.429918Z"
    }
   },
   "outputs": [
    {
     "data": {
      "application/vnd.jupyter.widget-view+json": {
       "model_id": "2740b83180e24133ae9208e4d514c387",
       "version_major": 2,
       "version_minor": 0
      },
      "text/plain": [
       "FigureWidget({\n",
       "    'data': [{'line': {'color': '#cccccc', 'width': 3},\n",
       "              'mode': 'lines',\n",
       "              'name': 'bonds',\n",
       "              'opacity': 1,\n",
       "              'type': 'scatter',\n",
       "              'uid': 'a99c360a-80b7-456c-b2ca-804c1d850719',\n",
       "              'x': [0.0, 0.8, None, 0.0, -0.8, None],\n",
       "              'xaxis': 'x',\n",
       "              'y': [0.0, 0.6, None, 0.0, 0.6, None],\n",
       "              'yaxis': 'y'},\n",
       "             {'marker': {'color': array(['red', 'red', 'red'], dtype=object),\n",
       "                         'opacity': array([1., 1., 1.]),\n",
       "                         'size': array([27.16302772,  1.41848614,  1.41848614])},\n",
       "              'mode': 'markers',\n",
       "              'name': 'Atoms',\n",
       "              'opacity': 1,\n",
       "              'text': array(['[0. 0. 0.]<br>0 (O)', '[0.8 0.6 0. ]<br>1 (H)',\n",
       "                             '[-0.8  0.6  0. ]<br>2 (H)'], dtype='<U25'),\n",
       "              'type': 'scatter',\n",
       "              'uid': '2add9287-7a9d-401d-9a17-5df1b9bca113',\n",
       "              'x': array([ 0. ,  0.8, -0.8]),\n",
       "              'xaxis': 'x',\n",
       "              'y': array([0. , 0.6, 0.6]),\n",
       "              'yaxis': 'y'},\n",
       "             {'line': {'color': 'green'},\n",
       "              'mode': 'lines',\n",
       "              'name': 'Unit cell',\n",
       "              'opacity': 1,\n",
       "              'type': 'scatter',\n",
       "              'uid': '7462cbca-d8d4-4ba3-a38a-b62c109c360e',\n",
       "              'x': array([-4., -4.,  6.,  6., -4., -4., nan, -4., -4., -4.,  6.,  6., -4., nan,\n",
       "                           6.,  6., nan,  6.,  6.]),\n",
       "              'xaxis': 'x',\n",
       "              'y': array([-4.,  6.,  6.,  6.,  6.,  6., nan,  6., -4., -4., -4., -4., -4., nan,\n",
       "                           6., -4., nan,  6., -4.]),\n",
       "              'yaxis': 'y'},\n",
       "             {'line': {'color': '#cccccc', 'width': 3},\n",
       "              'mode': 'lines',\n",
       "              'name': 'bonds',\n",
       "              'opacity': 1,\n",
       "              'type': 'scatter',\n",
       "              'uid': 'ec1bb6f3-63b7-45aa-8c36-76bda09cb7c3',\n",
       "              'x': [0.0, 0.8, None, 0.0, -0.8, None],\n",
       "              'xaxis': 'x2',\n",
       "              'y': [0.0, 0.6, None, 0.0, 0.6, None],\n",
       "              'yaxis': 'y2'},\n",
       "             {'marker': {'color': array(['blue', 'blue', 'blue'], dtype=object),\n",
       "                         'opacity': array([1., 1., 1.]),\n",
       "                         'size': array([ 6.29721299, 11.8513935 , 11.8513935 ])},\n",
       "              'mode': 'markers',\n",
       "              'name': 'Atoms',\n",
       "              'opacity': 1,\n",
       "              'text': array(['[0. 0. 0.]<br>0 (O)', '[0.8 0.6 0. ]<br>1 (H)',\n",
       "                             '[-0.8  0.6  0. ]<br>2 (H)'], dtype='<U25'),\n",
       "              'type': 'scatter',\n",
       "              'uid': '082f6005-7998-42ed-81d8-09ad77851bd8',\n",
       "              'x': array([ 0. ,  0.8, -0.8]),\n",
       "              'xaxis': 'x2',\n",
       "              'y': array([0. , 0.6, 0.6]),\n",
       "              'yaxis': 'y2'},\n",
       "             {'line': {'color': 'green'},\n",
       "              'mode': 'lines',\n",
       "              'name': 'Unit cell',\n",
       "              'opacity': 1,\n",
       "              'type': 'scatter',\n",
       "              'uid': '12444fac-51d2-4d4c-8d81-ea06a0f136bf',\n",
       "              'x': array([-4., -4.,  6.,  6., -4., -4., nan, -4., -4., -4.,  6.,  6., -4., nan,\n",
       "                           6.,  6., nan,  6.,  6.]),\n",
       "              'xaxis': 'x2',\n",
       "              'y': array([-4.,  6.,  6.,  6.,  6.,  6., nan,  6., -4., -4., -4., -4., -4., nan,\n",
       "                           6., -4., nan,  6., -4.]),\n",
       "              'yaxis': 'y2'}],\n",
       "    'layout': {'annotations': [{'font': {'size': 16},\n",
       "                                'showarrow': False,\n",
       "                                'text': 'X axis [Ang]',\n",
       "                                'x': 0.5,\n",
       "                                'xanchor': 'center',\n",
       "                                'xref': 'paper',\n",
       "                                'y': 0,\n",
       "                                'yanchor': 'top',\n",
       "                                'yref': 'paper',\n",
       "                                'yshift': -30},\n",
       "                               {'font': {'size': 16},\n",
       "                                'showarrow': False,\n",
       "                                'text': 'Y axis [Ang]',\n",
       "                                'textangle': -90,\n",
       "                                'x': 0,\n",
       "                                'xanchor': 'right',\n",
       "                                'xref': 'paper',\n",
       "                                'xshift': -40,\n",
       "                                'y': 0.5,\n",
       "                                'yanchor': 'middle',\n",
       "                                'yref': 'paper'}],\n",
       "               'template': '...',\n",
       "               'xaxis': {'anchor': 'y', 'domain': [0.0, 0.45], 'showgrid': False, 'zeroline': False},\n",
       "               'xaxis2': {'anchor': 'y2', 'domain': [0.55, 1.0], 'showgrid': False, 'zeroline': False},\n",
       "               'yaxis': {'anchor': 'x',\n",
       "                         'domain': [0.0, 1.0],\n",
       "                         'scaleanchor': 'x',\n",
       "                         'scaleratio': 1,\n",
       "                         'showgrid': False,\n",
       "                         'zeroline': False},\n",
       "               'yaxis2': {'anchor': 'x2',\n",
       "                          'domain': [0.0, 1.0],\n",
       "                          'scaleanchor': 'x2',\n",
       "                          'scaleratio': 1,\n",
       "                          'showgrid': False,\n",
       "                          'zeroline': False}}\n",
       "})"
      ]
     },
     "metadata": {},
     "output_type": "display_data"
    }
   ],
   "source": [
    "es = H.eigenstate()\n",
    "\n",
    "# We specify an origin to center the molecule in the grid\n",
    "h2o.sc.origin = [-4, -4, -4]\n",
    "\n",
    "# Reduce the contained eigenstates to only the HOMO and LUMO\n",
    "# Find the index of the smallest positive eigenvalue\n",
    "idx_lumo = (es.eig > 0).nonzero()[0][0]\n",
    "es = es.sub([idx_lumo - 1, idx_lumo])\n",
    "h2o.plot(\n",
    "    subplots=\"atoms_style\", cols=2,\n",
    "    axes=\"xy\", \n",
    "    atoms_style=[{\"size\": n * 30, \"color\": c}\n",
    "                 for n, c in zip(h2o.apply(es.norm2(sum=False),\n",
    "                                           np.sum,\n",
    "                                           mapper=partial(h2o.a2o, all=True),\n",
    "                                           axis=1),\n",
    "                                 (\"red\", \"blue\", \"green\"))]\n",
    ")"
   ]
  },
  {
   "cell_type": "markdown",
   "metadata": {},
   "source": [
    "These are not that interesting. The projection of the HOMO and LUMO states show where the largest weight of the HOMO and LUMO states, however we can't see the orbital symmetry differences between the HOMO and LUMO states.\n",
    "\n",
    "Instead of plotting the weight on each orbital it is more interesting to plot the actual wavefunctions which contains the orbital symmetries, however, matplotlib is currently not capable of plotting real-space iso-surface plots. To do this, please use VMD or your preferred software."
   ]
  },
  {
   "cell_type": "code",
   "execution_count": 9,
   "metadata": {
    "execution": {
     "iopub.execute_input": "2023-01-23T10:51:46.433810Z",
     "iopub.status.busy": "2023-01-23T10:51:46.433570Z",
     "iopub.status.idle": "2023-01-23T10:51:46.533202Z",
     "shell.execute_reply": "2023-01-23T10:51:46.532609Z"
    }
   },
   "outputs": [
    {
     "name": "stdout",
     "output_type": "stream",
     "text": [
      "Real space integrated wavefunction: 1.0001\n",
      "Real space integrated wavefunction: 1.0000\n"
     ]
    }
   ],
   "source": [
    "def integrate(g):\n",
    "    print('Real space integrated wavefunction: {:.4f}'.format((np.absolute(g.grid) ** 2).sum() * g.dvolume))\n",
    "g = Grid(0.2, sc=h2o.sc)\n",
    "es.sub(0).wavefunction(g)\n",
    "integrate(g)\n",
    "#g.write('HOMO.cube')\n",
    "g.fill(0) # reset the grid values to 0\n",
    "es.sub(1).wavefunction(g)\n",
    "integrate(g)\n",
    "#g.write('LUMO.cube')"
   ]
  },
  {
   "cell_type": "markdown",
   "metadata": {},
   "source": [
    "## Real space charge\n",
    "\n",
    "Since we have the basis functions we can also plot the charge in the grid. We can do this via either reading the density matrix or read in the charge output directly from Siesta.\n",
    "Since both should yield the same value we can compare the output from Siesta with that calculated in `sisl`.\n",
    "\n",
    "You will notice that re-creating the density on a real space grid in sisl is much slower than creating the wavefunction. This is because we need _orbital multiplications_."
   ]
  },
  {
   "cell_type": "code",
   "execution_count": 10,
   "metadata": {
    "execution": {
     "iopub.execute_input": "2023-01-23T10:51:46.536274Z",
     "iopub.status.busy": "2023-01-23T10:51:46.535855Z",
     "iopub.status.idle": "2023-01-23T10:51:46.606462Z",
     "shell.execute_reply": "2023-01-23T10:51:46.605899Z"
    }
   },
   "outputs": [],
   "source": [
    "DM = fdf.read_density_matrix()\n",
    "rho = get_sile('siesta_1.nc').read_grid('Rho')"
   ]
  },
  {
   "cell_type": "markdown",
   "metadata": {},
   "source": [
    "Create a new grid that is the negative of the readed charge density, then use sisl to calculate the charge density. This will check whether sisl and Siesta creates the same charge density."
   ]
  },
  {
   "cell_type": "code",
   "execution_count": 11,
   "metadata": {
    "execution": {
     "iopub.execute_input": "2023-01-23T10:51:46.609430Z",
     "iopub.status.busy": "2023-01-23T10:51:46.609046Z",
     "iopub.status.idle": "2023-01-23T10:51:48.319891Z",
     "shell.execute_reply": "2023-01-23T10:51:48.319350Z"
    }
   },
   "outputs": [
    {
     "name": "stdout",
     "output_type": "stream",
     "text": [
      "Real space integrated density difference: 2.386e-09\n"
     ]
    }
   ],
   "source": [
    "diff = rho * (-1)\n",
    "DM.density(diff)\n",
    "print('Real space integrated density difference: {:.3e}'.format(diff.grid.sum() * diff.dvolume))"
   ]
  }
 ],
 "metadata": {
  "kernelspec": {
   "display_name": "Python 3 (ipykernel)",
   "language": "python",
   "name": "python3"
  },
  "language_info": {
   "codemirror_mode": {
    "name": "ipython",
    "version": 3
   },
   "file_extension": ".py",
   "mimetype": "text/x-python",
   "name": "python",
   "nbconvert_exporter": "python",
   "pygments_lexer": "ipython3",
   "version": "3.9.16"
  },
  "widgets": {
   "application/vnd.jupyter.widget-state+json": {
    "state": {
     "2740b83180e24133ae9208e4d514c387": {
      "buffers": [
       {
        "data": "AAAAAAAA8D8AAAAAAADwPwAAAAAAAPA/",
        "encoding": "base64",
        "path": [
         "_data",
         1,
         "marker",
         "opacity",
         "buffer"
        ]
       },
       {
        "data": "KaU6L7wpO0Dc1iqGHrL2P9nWKoYesvY/",
        "encoding": "base64",
        "path": [
         "_data",
         1,
         "marker",
         "size",
         "buffer"
        ]
       },
       {
        "data": "AAAAAAAAAACamZmZmZnpP5qZmZmZmem/",
        "encoding": "base64",
        "path": [
         "_data",
         1,
         "x",
         "buffer"
        ]
       },
       {
        "data": "AAAAAAAAAAAzMzMzMzPjPzMzMzMzM+M/",
        "encoding": "base64",
        "path": [
         "_data",
         1,
         "y",
         "buffer"
        ]
       },
       {
        "data": "AAAAAAAAEMAAAAAAAAAQwAIAAAAAABhAAgAAAAAAGEAAAAAAAAAQwAAAAAAAABDAAAAAAAAA+H8AAAAAAAAQwAAAAAAAABDAAAAAAAAAEMACAAAAAAAYQAIAAAAAABhAAAAAAAAAEMAAAAAAAAD4fwIAAAAAABhAAgAAAAAAGEAAAAAAAAD4fwIAAAAAABhAAgAAAAAAGEA=",
        "encoding": "base64",
        "path": [
         "_data",
         2,
         "x",
         "buffer"
        ]
       },
       {
        "data": "AAAAAAAAEMACAAAAAAAYQAIAAAAAABhAAgAAAAAAGEACAAAAAAAYQAIAAAAAABhAAAAAAAAA+H8CAAAAAAAYQAAAAAAAABDAAAAAAAAAEMAAAAAAAAAQwAAAAAAAABDAAAAAAAAAEMAAAAAAAAD4fwIAAAAAABhAAAAAAAAAEMAAAAAAAAD4fwIAAAAAABhAAAAAAAAAEMA=",
        "encoding": "base64",
        "path": [
         "_data",
         2,
         "y",
         "buffer"
        ]
       },
       {
        "data": "AAAAAAAA8D8AAAAAAADwPwAAAAAAAPA/",
        "encoding": "base64",
        "path": [
         "_data",
         4,
         "marker",
         "opacity",
         "buffer"
        ]
       },
       {
        "data": "4IR1mlgwGUDznWLZ6bMnQJaeYtnpsydA",
        "encoding": "base64",
        "path": [
         "_data",
         4,
         "marker",
         "size",
         "buffer"
        ]
       },
       {
        "data": "AAAAAAAAAACamZmZmZnpP5qZmZmZmem/",
        "encoding": "base64",
        "path": [
         "_data",
         4,
         "x",
         "buffer"
        ]
       },
       {
        "data": "AAAAAAAAAAAzMzMzMzPjPzMzMzMzM+M/",
        "encoding": "base64",
        "path": [
         "_data",
         4,
         "y",
         "buffer"
        ]
       },
       {
        "data": "AAAAAAAAEMAAAAAAAAAQwAIAAAAAABhAAgAAAAAAGEAAAAAAAAAQwAAAAAAAABDAAAAAAAAA+H8AAAAAAAAQwAAAAAAAABDAAAAAAAAAEMACAAAAAAAYQAIAAAAAABhAAAAAAAAAEMAAAAAAAAD4fwIAAAAAABhAAgAAAAAAGEAAAAAAAAD4fwIAAAAAABhAAgAAAAAAGEA=",
        "encoding": "base64",
        "path": [
         "_data",
         5,
         "x",
         "buffer"
        ]
       },
       {
        "data": "AAAAAAAAEMACAAAAAAAYQAIAAAAAABhAAgAAAAAAGEACAAAAAAAYQAIAAAAAABhAAAAAAAAA+H8CAAAAAAAYQAAAAAAAABDAAAAAAAAAEMAAAAAAAAAQwAAAAAAAABDAAAAAAAAAEMAAAAAAAAD4fwIAAAAAABhAAAAAAAAAEMAAAAAAAAD4fwIAAAAAABhAAAAAAAAAEMA=",
        "encoding": "base64",
        "path": [
         "_data",
         5,
         "y",
         "buffer"
        ]
       }
      ],
      "model_module": "jupyterlab-plotly",
      "model_module_version": "^5.12.0",
      "model_name": "FigureModel",
      "state": {
       "_config": {
        "plotlyServerURL": "https://plot.ly"
       },
       "_data": [
        {
         "line": {
          "color": "#cccccc",
          "width": 3
         },
         "mode": "lines",
         "name": "bonds",
         "opacity": 1,
         "type": "scatter",
         "uid": "a99c360a-80b7-456c-b2ca-804c1d850719",
         "x": [
          0.0,
          0.8,
          null,
          0.0,
          -0.8,
          null
         ],
         "xaxis": "x",
         "y": [
          0.0,
          0.6,
          null,
          0.0,
          0.6,
          null
         ],
         "yaxis": "y"
        },
        {
         "marker": {
          "color": [
           "red",
           "red",
           "red"
          ],
          "opacity": {
           "dtype": "float64",
           "shape": [
            3
           ]
          },
          "size": {
           "dtype": "float64",
           "shape": [
            3
           ]
          }
         },
         "mode": "markers",
         "name": "Atoms",
         "opacity": 1,
         "text": [
          "[0. 0. 0.]<br>0 (O)",
          "[0.8 0.6 0. ]<br>1 (H)",
          "[-0.8  0.6  0. ]<br>2 (H)"
         ],
         "type": "scatter",
         "uid": "2add9287-7a9d-401d-9a17-5df1b9bca113",
         "x": {
          "dtype": "float64",
          "shape": [
           3
          ]
         },
         "xaxis": "x",
         "y": {
          "dtype": "float64",
          "shape": [
           3
          ]
         },
         "yaxis": "y"
        },
        {
         "line": {
          "color": "green"
         },
         "mode": "lines",
         "name": "Unit cell",
         "opacity": 1,
         "type": "scatter",
         "uid": "7462cbca-d8d4-4ba3-a38a-b62c109c360e",
         "x": {
          "dtype": "float64",
          "shape": [
           19
          ]
         },
         "xaxis": "x",
         "y": {
          "dtype": "float64",
          "shape": [
           19
          ]
         },
         "yaxis": "y"
        },
        {
         "line": {
          "color": "#cccccc",
          "width": 3
         },
         "mode": "lines",
         "name": "bonds",
         "opacity": 1,
         "type": "scatter",
         "uid": "ec1bb6f3-63b7-45aa-8c36-76bda09cb7c3",
         "x": [
          0.0,
          0.8,
          null,
          0.0,
          -0.8,
          null
         ],
         "xaxis": "x2",
         "y": [
          0.0,
          0.6,
          null,
          0.0,
          0.6,
          null
         ],
         "yaxis": "y2"
        },
        {
         "marker": {
          "color": [
           "blue",
           "blue",
           "blue"
          ],
          "opacity": {
           "dtype": "float64",
           "shape": [
            3
           ]
          },
          "size": {
           "dtype": "float64",
           "shape": [
            3
           ]
          }
         },
         "mode": "markers",
         "name": "Atoms",
         "opacity": 1,
         "text": [
          "[0. 0. 0.]<br>0 (O)",
          "[0.8 0.6 0. ]<br>1 (H)",
          "[-0.8  0.6  0. ]<br>2 (H)"
         ],
         "type": "scatter",
         "uid": "082f6005-7998-42ed-81d8-09ad77851bd8",
         "x": {
          "dtype": "float64",
          "shape": [
           3
          ]
         },
         "xaxis": "x2",
         "y": {
          "dtype": "float64",
          "shape": [
           3
          ]
         },
         "yaxis": "y2"
        },
        {
         "line": {
          "color": "green"
         },
         "mode": "lines",
         "name": "Unit cell",
         "opacity": 1,
         "type": "scatter",
         "uid": "12444fac-51d2-4d4c-8d81-ea06a0f136bf",
         "x": {
          "dtype": "float64",
          "shape": [
           19
          ]
         },
         "xaxis": "x2",
         "y": {
          "dtype": "float64",
          "shape": [
           19
          ]
         },
         "yaxis": "y2"
        }
       ],
       "_dom_classes": [],
       "_js2py_layoutDelta": {},
       "_js2py_pointsCallback": {},
       "_js2py_relayout": {},
       "_js2py_restyle": {},
       "_js2py_traceDeltas": {},
       "_js2py_update": {},
       "_last_layout_edit_id": 0,
       "_last_trace_edit_id": 0,
       "_layout": {
        "annotations": [
         {
          "font": {
           "size": 16
          },
          "showarrow": false,
          "text": "X axis [Ang]",
          "x": 0.5,
          "xanchor": "center",
          "xref": "paper",
          "y": 0,
          "yanchor": "top",
          "yref": "paper",
          "yshift": -30
         },
         {
          "font": {
           "size": 16
          },
          "showarrow": false,
          "text": "Y axis [Ang]",
          "textangle": -90,
          "x": 0,
          "xanchor": "right",
          "xref": "paper",
          "xshift": -40,
          "y": 0.5,
          "yanchor": "middle",
          "yref": "paper"
         }
        ],
        "template": {
         "layout": {
          "hovermode": "closest",
          "paper_bgcolor": "white",
          "plot_bgcolor": "white",
          "scene": {
           "xaxis": {
            "color": "black",
            "gridcolor": "#ccc",
            "gridwidth": 1,
            "linewidth": 1,
            "mirror": true,
            "showgrid": false,
            "showline": true,
            "ticklen": 5,
            "ticks": "outside",
            "ticksuffix": " ",
            "visible": true,
            "zeroline": false,
            "zerolinecolor": "#ccc",
            "zerolinewidth": 1
           },
           "yaxis": {
            "color": "black",
            "gridcolor": "#ccc",
            "gridwidth": 1,
            "linewidth": 1,
            "mirror": true,
            "showgrid": false,
            "showline": true,
            "ticklen": 5,
            "ticks": "outside",
            "ticksuffix": " ",
            "visible": true,
            "zeroline": false,
            "zerolinecolor": "#ccc",
            "zerolinewidth": 1
           },
           "zaxis": {
            "color": "black",
            "gridcolor": "#ccc",
            "gridwidth": 1,
            "linewidth": 1,
            "mirror": true,
            "showgrid": false,
            "showline": true,
            "ticklen": 5,
            "ticks": "outside",
            "ticksuffix": " ",
            "visible": true,
            "zeroline": false,
            "zerolinecolor": "#ccc",
            "zerolinewidth": 1
           }
          },
          "xaxis": {
           "color": "black",
           "gridcolor": "#ccc",
           "gridwidth": 1,
           "linewidth": 1,
           "mirror": true,
           "showgrid": false,
           "showline": true,
           "ticklen": 5,
           "ticks": "outside",
           "ticksuffix": " ",
           "visible": true,
           "zeroline": false,
           "zerolinecolor": "#ccc",
           "zerolinewidth": 1
          },
          "yaxis": {
           "color": "black",
           "gridcolor": "#ccc",
           "gridwidth": 1,
           "linewidth": 1,
           "mirror": true,
           "showgrid": false,
           "showline": true,
           "ticklen": 5,
           "ticks": "outside",
           "ticksuffix": " ",
           "visible": true,
           "zeroline": false,
           "zerolinecolor": "#ccc",
           "zerolinewidth": 1
          }
         }
        },
        "xaxis": {
         "anchor": "y",
         "domain": [
          0.0,
          0.45
         ],
         "showgrid": false,
         "zeroline": false
        },
        "xaxis2": {
         "anchor": "y2",
         "domain": [
          0.55,
          1.0
         ],
         "showgrid": false,
         "zeroline": false
        },
        "yaxis": {
         "anchor": "x",
         "domain": [
          0.0,
          1.0
         ],
         "scaleanchor": "x",
         "scaleratio": 1,
         "showgrid": false,
         "zeroline": false
        },
        "yaxis2": {
         "anchor": "x2",
         "domain": [
          0.0,
          1.0
         ],
         "scaleanchor": "x2",
         "scaleratio": 1,
         "showgrid": false,
         "zeroline": false
        }
       },
       "_model_module": "jupyterlab-plotly",
       "_model_module_version": "^5.12.0",
       "_model_name": "FigureModel",
       "_py2js_addTraces": {},
       "_py2js_animate": {},
       "_py2js_deleteTraces": {},
       "_py2js_moveTraces": {},
       "_py2js_relayout": {},
       "_py2js_removeLayoutProps": {},
       "_py2js_removeTraceProps": {},
       "_py2js_restyle": {},
       "_py2js_update": {},
       "_view_count": 0,
       "_view_module": "jupyterlab-plotly",
       "_view_module_version": "^5.12.0",
       "_view_name": "FigureView"
      }
     },
     "de9345fb74f14a5f919a4a22b600a61c": {
      "buffers": [
       {
        "data": "AAAAAAAA8D8AAAAAAADwPwAAAAAAAPA/",
        "encoding": "base64",
        "path": [
         "_data",
         1,
         "marker",
         "opacity",
         "buffer"
        ]
       },
       {
        "data": "uB6F61G4HkD2KFyPwvUgQPYoXI/C9SBA",
        "encoding": "base64",
        "path": [
         "_data",
         1,
         "marker",
         "size",
         "buffer"
        ]
       },
       {
        "data": "AAAAAAAAAACamZmZmZnpP5qZmZmZmem/",
        "encoding": "base64",
        "path": [
         "_data",
         1,
         "x",
         "buffer"
        ]
       },
       {
        "data": "AAAAAAAAAAAzMzMzMzPjPzMzMzMzM+M/",
        "encoding": "base64",
        "path": [
         "_data",
         1,
         "y",
         "buffer"
        ]
       },
       {
        "data": "AAAAAAAAFMAAAAAAAAAUwAAAAAAAABRAAAAAAAAAFEAAAAAAAAAUwAAAAAAAABTAAAAAAAAA+H8AAAAAAAAUwAAAAAAAABTAAAAAAAAAFMAAAAAAAAAUQAAAAAAAABRAAAAAAAAAFMAAAAAAAAD4fwAAAAAAABRAAAAAAAAAFEAAAAAAAAD4fwAAAAAAABRAAAAAAAAAFEA=",
        "encoding": "base64",
        "path": [
         "_data",
         2,
         "x",
         "buffer"
        ]
       },
       {
        "data": "AAAAAAAAFMAAAAAAAAAUQAAAAAAAABRAAAAAAAAAFEAAAAAAAAAUQAAAAAAAABRAAAAAAAAA+H8AAAAAAAAUQAAAAAAAABTAAAAAAAAAFMAAAAAAAAAUwAAAAAAAABTAAAAAAAAAFMAAAAAAAAD4fwAAAAAAABRAAAAAAAAAFMAAAAAAAAD4fwAAAAAAABRAAAAAAAAAFMA=",
        "encoding": "base64",
        "path": [
         "_data",
         2,
         "y",
         "buffer"
        ]
       }
      ],
      "model_module": "jupyterlab-plotly",
      "model_module_version": "^5.12.0",
      "model_name": "FigureModel",
      "state": {
       "_config": {
        "plotlyServerURL": "https://plot.ly"
       },
       "_data": [
        {
         "line": {
          "color": "#cccccc",
          "width": 3
         },
         "mode": "lines",
         "name": "bonds",
         "opacity": 1,
         "type": "scatter",
         "uid": "be277a36-2a38-41a8-8080-099186642787",
         "x": [
          0.0,
          0.8,
          null,
          0.0,
          -0.8,
          null
         ],
         "y": [
          0.0,
          0.6,
          null,
          0.0,
          0.6,
          null
         ]
        },
        {
         "marker": {
          "color": [
           "red",
           "#cccccc",
           "#cccccc"
          ],
          "opacity": {
           "dtype": "float64",
           "shape": [
            3
           ]
          },
          "size": {
           "dtype": "float64",
           "shape": [
            3
           ]
          }
         },
         "mode": "markers",
         "name": "Atoms",
         "opacity": 1,
         "text": [
          "[0. 0. 0.]<br>0 (O)",
          "[0.8 0.6 0. ]<br>1 (H)",
          "[-0.8  0.6  0. ]<br>2 (H)"
         ],
         "type": "scatter",
         "uid": "e08e30b6-f527-4868-a26c-29b401385cdc",
         "x": {
          "dtype": "float64",
          "shape": [
           3
          ]
         },
         "y": {
          "dtype": "float64",
          "shape": [
           3
          ]
         }
        },
        {
         "line": {
          "color": "green"
         },
         "mode": "lines",
         "name": "Unit cell",
         "opacity": 1,
         "type": "scatter",
         "uid": "a3cb838e-31c0-49ee-aded-15abc8b77612",
         "x": {
          "dtype": "float64",
          "shape": [
           19
          ]
         },
         "y": {
          "dtype": "float64",
          "shape": [
           19
          ]
         }
        }
       ],
       "_dom_classes": [],
       "_js2py_layoutDelta": {},
       "_js2py_pointsCallback": {},
       "_js2py_relayout": {},
       "_js2py_restyle": {},
       "_js2py_traceDeltas": {},
       "_js2py_update": {},
       "_last_layout_edit_id": 0,
       "_last_trace_edit_id": 0,
       "_layout": {
        "template": {
         "layout": {
          "hovermode": "closest",
          "paper_bgcolor": "white",
          "plot_bgcolor": "white",
          "scene": {
           "xaxis": {
            "color": "black",
            "gridcolor": "#ccc",
            "gridwidth": 1,
            "linewidth": 1,
            "mirror": true,
            "showgrid": false,
            "showline": true,
            "ticklen": 5,
            "ticks": "outside",
            "ticksuffix": " ",
            "visible": true,
            "zeroline": false,
            "zerolinecolor": "#ccc",
            "zerolinewidth": 1
           },
           "yaxis": {
            "color": "black",
            "gridcolor": "#ccc",
            "gridwidth": 1,
            "linewidth": 1,
            "mirror": true,
            "showgrid": false,
            "showline": true,
            "ticklen": 5,
            "ticks": "outside",
            "ticksuffix": " ",
            "visible": true,
            "zeroline": false,
            "zerolinecolor": "#ccc",
            "zerolinewidth": 1
           },
           "zaxis": {
            "color": "black",
            "gridcolor": "#ccc",
            "gridwidth": 1,
            "linewidth": 1,
            "mirror": true,
            "showgrid": false,
            "showline": true,
            "ticklen": 5,
            "ticks": "outside",
            "ticksuffix": " ",
            "visible": true,
            "zeroline": false,
            "zerolinecolor": "#ccc",
            "zerolinewidth": 1
           }
          },
          "xaxis": {
           "color": "black",
           "gridcolor": "#ccc",
           "gridwidth": 1,
           "linewidth": 1,
           "mirror": true,
           "showgrid": false,
           "showline": true,
           "ticklen": 5,
           "ticks": "outside",
           "ticksuffix": " ",
           "visible": true,
           "zeroline": false,
           "zerolinecolor": "#ccc",
           "zerolinewidth": 1
          },
          "yaxis": {
           "color": "black",
           "gridcolor": "#ccc",
           "gridwidth": 1,
           "linewidth": 1,
           "mirror": true,
           "showgrid": false,
           "showline": true,
           "ticklen": 5,
           "ticks": "outside",
           "ticksuffix": " ",
           "visible": true,
           "zeroline": false,
           "zerolinecolor": "#ccc",
           "zerolinewidth": 1
          }
         }
        },
        "xaxis": {
         "showgrid": false,
         "title": {
          "text": "X axis [Ang]"
         },
         "zeroline": false
        },
        "yaxis": {
         "scaleanchor": "x",
         "scaleratio": 1,
         "showgrid": false,
         "title": {
          "text": "Y axis [Ang]"
         },
         "zeroline": false
        }
       },
       "_model_module": "jupyterlab-plotly",
       "_model_module_version": "^5.12.0",
       "_model_name": "FigureModel",
       "_py2js_addTraces": {},
       "_py2js_animate": {},
       "_py2js_deleteTraces": {},
       "_py2js_moveTraces": {},
       "_py2js_relayout": {},
       "_py2js_removeLayoutProps": {},
       "_py2js_removeTraceProps": {},
       "_py2js_restyle": {},
       "_py2js_update": {},
       "_view_count": 0,
       "_view_module": "jupyterlab-plotly",
       "_view_module_version": "^5.12.0",
       "_view_name": "FigureView"
      }
     }
    },
    "version_major": 2,
    "version_minor": 0
   }
  }
 },
 "nbformat": 4,
 "nbformat_minor": 2
}
