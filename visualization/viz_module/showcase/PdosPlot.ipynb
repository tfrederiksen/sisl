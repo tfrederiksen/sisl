{
 "cells": [
  {
   "cell_type": "markdown",
   "metadata": {
    "tags": [
     "notebook-header"
    ]
   },
   "source": [
    "[![GitHub issues by-label](https://img.shields.io/github/issues-raw/pfebrer/sisl/PdosPlot?style=for-the-badge)](https://github.com/pfebrer/sisl/labels/PdosPlot)"
   ]
  },
  {
   "cell_type": "markdown",
   "metadata": {},
   "source": [
    "    \n",
    "    \n",
    "PdosPlot\n",
    "========="
   ]
  },
  {
   "cell_type": "code",
   "execution_count": 1,
   "metadata": {
    "execution": {
     "iopub.execute_input": "2022-02-23T10:57:10.184595Z",
     "iopub.status.busy": "2022-02-23T10:57:10.184340Z",
     "iopub.status.idle": "2022-02-23T10:57:12.048561Z",
     "shell.execute_reply": "2022-02-23T10:57:12.047707Z"
    }
   },
   "outputs": [],
   "source": [
    "import sisl\n",
    "import sisl.viz\n",
    "# This is just for convenience to retreive files\n",
    "siesta_files = sisl._environ.get_environ_variable(\"SISL_FILES_TESTS\") / \"sisl\" / \"io\" / \"siesta\""
   ]
  },
  {
   "cell_type": "markdown",
   "metadata": {},
   "source": [
    "We are going to get the PDOS from a SIESTA `.PDOS` file, but we could get it from a hamiltonian as well."
   ]
  },
  {
   "cell_type": "code",
   "execution_count": 2,
   "metadata": {
    "execution": {
     "iopub.execute_input": "2022-02-23T10:57:12.054262Z",
     "iopub.status.busy": "2022-02-23T10:57:12.054017Z",
     "iopub.status.idle": "2022-02-23T10:57:12.183895Z",
     "shell.execute_reply": "2022-02-23T10:57:12.183106Z"
    }
   },
   "outputs": [],
   "source": [
    "plot = sisl.get_sile(siesta_files / \"SrTiO3.PDOS\").plot(Erange=[-10,10])"
   ]
  },
  {
   "cell_type": "markdown",
   "metadata": {},
   "source": [
    "By default, a PDOS plot shows the total density of states:"
   ]
  },
  {
   "cell_type": "code",
   "execution_count": 3,
   "metadata": {
    "execution": {
     "iopub.execute_input": "2022-02-23T10:57:12.188428Z",
     "iopub.status.busy": "2022-02-23T10:57:12.188159Z",
     "iopub.status.idle": "2022-02-23T10:57:12.301799Z",
     "shell.execute_reply": "2022-02-23T10:57:12.300967Z"
    }
   },
   "outputs": [
    {
     "data": {
      "application/vnd.jupyter.widget-view+json": {
       "model_id": "87329fb281714a9b95a777db7b2f04c6",
       "version_major": 2,
       "version_minor": 0
      },
      "text/plain": [
       "FigureWidget({\n",
       "    'data': [{'line': {'color': 'black', 'dash': 'solid', 'width': 1.0},\n",
       "              'mode': …"
      ]
     },
     "metadata": {},
     "output_type": "display_data"
    }
   ],
   "source": [
    "plot"
   ]
  },
  {
   "cell_type": "markdown",
   "metadata": {},
   "source": [
    "## PDOS requests\n",
    "\n",
    "There's a very important setting in the `PdosPlot`: `requests`. This setting expects a list of PDOS requests, where each request is a dictionary that can specify \n",
    "- `species`\n",
    "- `atoms`\n",
    "- `orbitals` (the orbital name)\n",
    "- `n`, `l`, `m` (the quantum numbers)\n",
    "- `Z` (the Z shell of the orbital)\n",
    "- `spin`\n",
    "\n",
    "involved in the PDOS line that you want to draw. Apart from that, a request also accepts the `name`, `color`, `linewidth` and `dash` keys that manage the aesthetics of the line and `normalize`, which indicates if the PDOS should be normalized (divided by number of orbitals).\n",
    "\n",
    "Here is an example of how to use the `requests` setting to create a line that displays the Oxygen 2p PDOS:"
   ]
  },
  {
   "cell_type": "code",
   "execution_count": 4,
   "metadata": {
    "execution": {
     "iopub.execute_input": "2022-02-23T10:57:12.305691Z",
     "iopub.status.busy": "2022-02-23T10:57:12.305459Z",
     "iopub.status.idle": "2022-02-23T10:57:12.390512Z",
     "shell.execute_reply": "2022-02-23T10:57:12.389662Z"
    }
   },
   "outputs": [
    {
     "data": {
      "application/vnd.jupyter.widget-view+json": {
       "model_id": "72e473939aa8463eafcb67bd6e8230db",
       "version_major": 2,
       "version_minor": 0
      },
      "text/plain": [
       "FigureWidget({\n",
       "    'data': [{'line': {'dash': 'solid', 'width': 1},\n",
       "              'mode': 'lines',\n",
       "           …"
      ]
     },
     "metadata": {},
     "output_type": "display_data"
    }
   ],
   "source": [
    "plot.update_settings(requests=[{\"name\": \"My first PDOS (Oxygen)\", \"species\": [\"O\"], \"n\": 2, \"l\": 1}])\n",
    "# or (it's equivalent)\n",
    "plot.update_settings(requests=[{\n",
    "    \"name\": \"My first PDOS (Oxygen)\", \"species\": [\"O\"],\n",
    "    \"orbitals\": [\"2pzZ1\", \"2pzZ2\", \"2pxZ1\", \"2pxZ2\", \"2pyZ1\", \"2pyZ2\"]\n",
    "}])"
   ]
  },
  {
   "cell_type": "markdown",
   "metadata": {},
   "source": [
    "And now we are going to create three lines, one for each species"
   ]
  },
  {
   "cell_type": "code",
   "execution_count": 5,
   "metadata": {
    "execution": {
     "iopub.execute_input": "2022-02-23T10:57:12.394325Z",
     "iopub.status.busy": "2022-02-23T10:57:12.393973Z",
     "iopub.status.idle": "2022-02-23T10:57:12.571373Z",
     "shell.execute_reply": "2022-02-23T10:57:12.570503Z"
    }
   },
   "outputs": [
    {
     "data": {
      "application/vnd.jupyter.widget-view+json": {
       "model_id": "f2ef1439ac2a4de5aee378ca40fd688f",
       "version_major": 2,
       "version_minor": 0
      },
      "text/plain": [
       "FigureWidget({\n",
       "    'data': [{'line': {'color': 'darkred', 'dash': 'dash', 'width': 1},\n",
       "              'mode': '…"
      ]
     },
     "metadata": {},
     "output_type": "display_data"
    }
   ],
   "source": [
    "plot.update_settings(requests=[\n",
    "    {\"name\": \"Oxygen\", \"species\": [\"O\"], \"color\": \"darkred\", \"dash\": \"dash\", \"normalize\": True},\n",
    "    {\"name\": \"Titanium\", \"species\": [\"Ti\"], \"color\": \"grey\", \"linewidth\": 3, \"normalize\": True},\n",
    "    {\"name\": \"Sr\", \"species\": [\"Sr\"], \"color\": \"green\", \"normalize\": True},\n",
    "], Erange=[-5, 5])"
   ]
  },
  {
   "cell_type": "markdown",
   "metadata": {},
   "source": [
    "It's interesting to note that the `atoms` key of each request accepts the same possibilities as the `atoms` argument of the `Geometry` methods. Therefore, **you can use indices, categories, dictionaries, strings...**\n",
    "\n",
    "For example:"
   ]
  },
  {
   "cell_type": "code",
   "execution_count": 6,
   "metadata": {
    "execution": {
     "iopub.execute_input": "2022-02-23T10:57:12.574556Z",
     "iopub.status.busy": "2022-02-23T10:57:12.574377Z",
     "iopub.status.idle": "2022-02-23T10:57:12.667419Z",
     "shell.execute_reply": "2022-02-23T10:57:12.666439Z"
    },
    "scrolled": false
   },
   "outputs": [
    {
     "data": {
      "application/vnd.jupyter.widget-view+json": {
       "model_id": "7be6a0b46a5b44b5920eaaab51175d39",
       "version_major": 2,
       "version_minor": 0
      },
      "text/plain": [
       "FigureWidget({\n",
       "    'data': [{'line': {'dash': 'solid', 'width': 1},\n",
       "              'mode': 'lines',\n",
       "           …"
      ]
     },
     "metadata": {},
     "output_type": "display_data"
    }
   ],
   "source": [
    "# Let's import the AtomZ and AtomOdd categories just to play with them\n",
    "from sisl.geom import AtomZ, AtomOdd\n",
    "\n",
    "plot.update_settings(requests=[\n",
    "    {\"atoms\": [0,1], \"name\": \"Atoms 0 and 1\"},\n",
    "    {\"atoms\": {\"Z\": 8}, \"name\": \"Atoms with Z=8\"},\n",
    "    {\"atoms\": AtomZ(8) & ~ AtomOdd(), \"name\": \"Oxygens with even indices\"}\n",
    "])"
   ]
  },
  {
   "cell_type": "markdown",
   "metadata": {},
   "source": [
    "## Easy and fast DOS splitting\n",
    "\n",
    "As you might have noticed, sometimes it might be cumbersome to build all the requests you want. If your needs are simple and you don't need the flexibility of defining every parameter by yourself, there is a set of methods that will help you explore your PDOS data faster than ever before. These are: `split_DOS`, `split_requests`, `update_requests`, `remove_requests` and `add_requests`.?\n",
    "\n",
    "Let's begin with `split_DOS`. As you can imagine, this method splits the density of states:"
   ]
  },
  {
   "cell_type": "code",
   "execution_count": 7,
   "metadata": {
    "execution": {
     "iopub.execute_input": "2022-02-23T10:57:12.670406Z",
     "iopub.status.busy": "2022-02-23T10:57:12.670211Z",
     "iopub.status.idle": "2022-02-23T10:57:12.766990Z",
     "shell.execute_reply": "2022-02-23T10:57:12.766223Z"
    }
   },
   "outputs": [
    {
     "data": {
      "application/vnd.jupyter.widget-view+json": {
       "model_id": "570cc6f9c8254197ae13a2822d606167",
       "version_major": 2,
       "version_minor": 0
      },
      "text/plain": [
       "FigureWidget({\n",
       "    'data': [{'line': {'dash': 'solid', 'width': 1.0},\n",
       "              'mode': 'lines',\n",
       "         …"
      ]
     },
     "metadata": {},
     "output_type": "display_data"
    }
   ],
   "source": [
    "plot.split_DOS()"
   ]
  },
  {
   "cell_type": "markdown",
   "metadata": {},
   "source": [
    "By default, it splits on the different species, but you can use the `on` argument to change that."
   ]
  },
  {
   "cell_type": "code",
   "execution_count": 8,
   "metadata": {
    "execution": {
     "iopub.execute_input": "2022-02-23T10:57:12.771292Z",
     "iopub.status.busy": "2022-02-23T10:57:12.770949Z",
     "iopub.status.idle": "2022-02-23T10:57:12.911189Z",
     "shell.execute_reply": "2022-02-23T10:57:12.910160Z"
    }
   },
   "outputs": [
    {
     "data": {
      "application/vnd.jupyter.widget-view+json": {
       "model_id": "137cd5d0c44244cbbb0e6401fc7b1528",
       "version_major": 2,
       "version_minor": 0
      },
      "text/plain": [
       "FigureWidget({\n",
       "    'data': [{'line': {'dash': 'solid', 'width': 1.0},\n",
       "              'mode': 'lines',\n",
       "         …"
      ]
     },
     "metadata": {},
     "output_type": "display_data"
    }
   ],
   "source": [
    "plot.split_DOS(on=\"atoms\")"
   ]
  },
  {
   "cell_type": "markdown",
   "metadata": {},
   "source": [
    "Now we have the contribution of each atom.\n",
    "\n",
    "But here comes the powerful part: `split_DOS` accepts as keyword arguments all the keys that a request accepts. Then, it adds that extra constrain to the splitting by adding the value to each request. So, if we want to get the separate contributions of all oxygen atoms, **we can impose an extra constraint** on species:"
   ]
  },
  {
   "cell_type": "code",
   "execution_count": 9,
   "metadata": {
    "execution": {
     "iopub.execute_input": "2022-02-23T10:57:12.914863Z",
     "iopub.status.busy": "2022-02-23T10:57:12.914667Z",
     "iopub.status.idle": "2022-02-23T10:57:13.016815Z",
     "shell.execute_reply": "2022-02-23T10:57:13.015871Z"
    }
   },
   "outputs": [
    {
     "data": {
      "application/vnd.jupyter.widget-view+json": {
       "model_id": "bb7a4295ecf34b81bbf8e67f03a98106",
       "version_major": 2,
       "version_minor": 0
      },
      "text/plain": [
       "FigureWidget({\n",
       "    'data': [{'line': {'dash': 'solid', 'width': 1.0},\n",
       "              'mode': 'lines',\n",
       "         …"
      ]
     },
     "metadata": {},
     "output_type": "display_data"
    }
   ],
   "source": [
    "plot.split_DOS(on=\"atoms\", species=[\"O\"], name=\"Oxygen $atoms\")"
   ]
  },
  {
   "cell_type": "markdown",
   "metadata": {},
   "source": [
    "and then we have only the oxygen atoms, which are all equivalent.\n",
    "\n",
    "Note that we also set a name for all requests, with the additional twist that we used the templating supported by `split_DOS`. If you are splitting on `parameter`, you can use `$parameter` inside your name and the method will replace it with the value for each request. In this case `parameter` was `atoms`, but it could be anything you are splitting the DOS on.\n",
    "\n",
    "You can also **exclude some values of the parameter you are splitting on**:"
   ]
  },
  {
   "cell_type": "code",
   "execution_count": 10,
   "metadata": {
    "execution": {
     "iopub.execute_input": "2022-02-23T10:57:13.021185Z",
     "iopub.status.busy": "2022-02-23T10:57:13.020897Z",
     "iopub.status.idle": "2022-02-23T10:57:13.126910Z",
     "shell.execute_reply": "2022-02-23T10:57:13.126203Z"
    }
   },
   "outputs": [
    {
     "data": {
      "application/vnd.jupyter.widget-view+json": {
       "model_id": "2d42a12e4d534933a16324c7a994d55a",
       "version_major": 2,
       "version_minor": 0
      },
      "text/plain": [
       "FigureWidget({\n",
       "    'data': [{'line': {'dash': 'solid', 'width': 1.0},\n",
       "              'mode': 'lines',\n",
       "         …"
      ]
     },
     "metadata": {},
     "output_type": "display_data"
    }
   ],
   "source": [
    "plot.split_DOS(on=\"atoms\", exclude=[1,3])"
   ]
  },
  {
   "cell_type": "markdown",
   "metadata": {},
   "source": [
    "Or **indicate the only values that you want**:"
   ]
  },
  {
   "cell_type": "code",
   "execution_count": 11,
   "metadata": {
    "execution": {
     "iopub.execute_input": "2022-02-23T10:57:13.131261Z",
     "iopub.status.busy": "2022-02-23T10:57:13.131002Z",
     "iopub.status.idle": "2022-02-23T10:57:13.204421Z",
     "shell.execute_reply": "2022-02-23T10:57:13.203738Z"
    }
   },
   "outputs": [
    {
     "data": {
      "application/vnd.jupyter.widget-view+json": {
       "model_id": "979489b53ccf46b5bdf159261dc805b5",
       "version_major": 2,
       "version_minor": 0
      },
      "text/plain": [
       "FigureWidget({\n",
       "    'data': [{'line': {'dash': 'solid', 'width': 1.0},\n",
       "              'mode': 'lines',\n",
       "         …"
      ]
     },
     "metadata": {},
     "output_type": "display_data"
    }
   ],
   "source": [
    "plot.split_DOS(on=\"atoms\", only=[0,2])"
   ]
  },
  {
   "cell_type": "markdown",
   "metadata": {},
   "source": [
    "Finally, if you want to split on multiple parameters at the same time, you can use `+` between different parameters. For example, to get all the oxygen orbitals:"
   ]
  },
  {
   "cell_type": "code",
   "execution_count": 12,
   "metadata": {
    "execution": {
     "iopub.execute_input": "2022-02-23T10:57:13.208544Z",
     "iopub.status.busy": "2022-02-23T10:57:13.208238Z",
     "iopub.status.idle": "2022-02-23T10:57:13.598672Z",
     "shell.execute_reply": "2022-02-23T10:57:13.597928Z"
    }
   },
   "outputs": [
    {
     "data": {
      "application/vnd.jupyter.widget-view+json": {
       "model_id": "1e61ac385811461e8146d84362327346",
       "version_major": 2,
       "version_minor": 0
      },
      "text/plain": [
       "FigureWidget({\n",
       "    'data': [{'line': {'dash': 'solid', 'width': 1.0},\n",
       "              'mode': 'lines',\n",
       "         …"
      ]
     },
     "metadata": {},
     "output_type": "display_data"
    }
   ],
   "source": [
    "plot.split_DOS(on=\"n+l+m\", species=[\"O\"], name=\"Oxygen\")"
   ]
  },
  {
   "cell_type": "markdown",
   "metadata": {},
   "source": [
    "## Managing existing requests\n",
    "\n",
    "Not only you can create requests easily with `split_DOS`, but it's also easy to manage the requests that you have created. \n",
    "\n",
    "The methods that help you accomplish this are `split_requests`, `update_requests`, `remove_requests`. All three methods accept an undefined number of arguments that are used to select the requests you want to act on. You can refer to requests by their name (using a `str`) or their position (using an `int`). It's very easy to understand with examples. Then, keyword arguments depend on the functionality of each method.\n",
    "\n",
    "For example, let's say that we have splitted the DOS on species"
   ]
  },
  {
   "cell_type": "code",
   "execution_count": 13,
   "metadata": {
    "execution": {
     "iopub.execute_input": "2022-02-23T10:57:13.603726Z",
     "iopub.status.busy": "2022-02-23T10:57:13.602030Z",
     "iopub.status.idle": "2022-02-23T10:57:13.707231Z",
     "shell.execute_reply": "2022-02-23T10:57:13.706179Z"
    }
   },
   "outputs": [
    {
     "data": {
      "application/vnd.jupyter.widget-view+json": {
       "model_id": "082744e7e6ec4736b7f9e925710ed552",
       "version_major": 2,
       "version_minor": 0
      },
      "text/plain": [
       "FigureWidget({\n",
       "    'data': [{'line': {'dash': 'solid', 'width': 1.0},\n",
       "              'mode': 'lines',\n",
       "         …"
      ]
     },
     "metadata": {},
     "output_type": "display_data"
    }
   ],
   "source": [
    "plot.split_DOS(name=\"$species\")"
   ]
  },
  {
   "cell_type": "markdown",
   "metadata": {},
   "source": [
    "and we want to remove the Sr and O lines. That's easy:"
   ]
  },
  {
   "cell_type": "code",
   "execution_count": 14,
   "metadata": {
    "execution": {
     "iopub.execute_input": "2022-02-23T10:57:13.711360Z",
     "iopub.status.busy": "2022-02-23T10:57:13.711010Z",
     "iopub.status.idle": "2022-02-23T10:57:13.760355Z",
     "shell.execute_reply": "2022-02-23T10:57:13.759629Z"
    }
   },
   "outputs": [
    {
     "data": {
      "application/vnd.jupyter.widget-view+json": {
       "model_id": "6f0b046014c24b6a8aca4f731802380c",
       "version_major": 2,
       "version_minor": 0
      },
      "text/plain": [
       "FigureWidget({\n",
       "    'data': [{'line': {'dash': 'solid', 'width': 1.0},\n",
       "              'mode': 'lines',\n",
       "         …"
      ]
     },
     "metadata": {},
     "output_type": "display_data"
    }
   ],
   "source": [
    "plot.remove_requests(\"Sr\", 2)"
   ]
  },
  {
   "cell_type": "markdown",
   "metadata": {},
   "source": [
    "We have indicated that we wanted to remove the request with name `\"Sr\"` and the 2nd request. Simple, isn't it?\n",
    "\n",
    "Now that we know how to indicate the requests that we want to act on, let's use it to get the total `Sr` contribution, and then the `Ti` and `O` contributions splitted by `n` and `l`.\n",
    "\n",
    "It sounds difficult, but it's actually not. Just split the DOS on species:"
   ]
  },
  {
   "cell_type": "code",
   "execution_count": 15,
   "metadata": {
    "execution": {
     "iopub.execute_input": "2022-02-23T10:57:13.764136Z",
     "iopub.status.busy": "2022-02-23T10:57:13.763891Z",
     "iopub.status.idle": "2022-02-23T10:57:13.872673Z",
     "shell.execute_reply": "2022-02-23T10:57:13.871912Z"
    }
   },
   "outputs": [
    {
     "data": {
      "application/vnd.jupyter.widget-view+json": {
       "model_id": "7566d63bb69f4da2bb45800b560b134a",
       "version_major": 2,
       "version_minor": 0
      },
      "text/plain": [
       "FigureWidget({\n",
       "    'data': [{'line': {'dash': 'solid', 'width': 1.0},\n",
       "              'mode': 'lines',\n",
       "         …"
      ]
     },
     "metadata": {},
     "output_type": "display_data"
    }
   ],
   "source": [
    "plot.split_DOS(name=\"$species\", normalize=True)"
   ]
  },
  {
   "cell_type": "markdown",
   "metadata": {},
   "source": [
    "And then use `split_requests` to split only the requests that we want to split:"
   ]
  },
  {
   "cell_type": "code",
   "execution_count": 16,
   "metadata": {
    "execution": {
     "iopub.execute_input": "2022-02-23T10:57:13.876784Z",
     "iopub.status.busy": "2022-02-23T10:57:13.876556Z",
     "iopub.status.idle": "2022-02-23T10:57:14.167003Z",
     "shell.execute_reply": "2022-02-23T10:57:14.166349Z"
    }
   },
   "outputs": [
    {
     "data": {
      "application/vnd.jupyter.widget-view+json": {
       "model_id": "6b636c171be84e49acfa3df010674f76",
       "version_major": 2,
       "version_minor": 0
      },
      "text/plain": [
       "FigureWidget({\n",
       "    'data': [{'line': {'dash': 'solid', 'width': 1.0},\n",
       "              'mode': 'lines',\n",
       "         …"
      ]
     },
     "metadata": {},
     "output_type": "display_data"
    }
   ],
   "source": [
    "plot.split_requests(\"Sr\", 2, on=\"n+l\", dash=\"dot\")"
   ]
  },
  {
   "cell_type": "markdown",
   "metadata": {},
   "source": [
    "Notice how we've also set `dash` for all the requests that `split_requests` has generated. We can do this because `split_requests` works exactly as `split_DOS`, with the only difference that splits specific requests.\n",
    "\n",
    "Just as a last thing, we will let you figure out how `update_requests` works:"
   ]
  },
  {
   "cell_type": "code",
   "execution_count": 17,
   "metadata": {
    "execution": {
     "iopub.execute_input": "2022-02-23T10:57:14.170894Z",
     "iopub.status.busy": "2022-02-23T10:57:14.170229Z",
     "iopub.status.idle": "2022-02-23T10:57:14.474982Z",
     "shell.execute_reply": "2022-02-23T10:57:14.474136Z"
    },
    "scrolled": false
   },
   "outputs": [
    {
     "data": {
      "application/vnd.jupyter.widget-view+json": {
       "model_id": "8a74ce3e37984d43bad53433ac177cef",
       "version_major": 2,
       "version_minor": 0
      },
      "text/plain": [
       "FigureWidget({\n",
       "    'data': [{'line': {'color': 'red', 'dash': 'solid', 'width': 2.0},\n",
       "              'mode': 'l…"
      ]
     },
     "metadata": {},
     "output_type": "display_data"
    }
   ],
   "source": [
    "plot.update_requests(\"Ti\", color=\"red\", linewidth=2)"
   ]
  },
  {
   "cell_type": "markdown",
   "metadata": {
    "tags": [
     "notebook-end"
    ]
   },
   "source": [
    "We hope you enjoyed what you learned!"
   ]
  },
  {
   "cell_type": "markdown",
   "metadata": {},
   "source": [
    "-----\n",
    "This next cell is just to create the thumbnail for the notebook in the docs "
   ]
  },
  {
   "cell_type": "code",
   "execution_count": 18,
   "metadata": {
    "execution": {
     "iopub.execute_input": "2022-02-23T10:57:14.478900Z",
     "iopub.status.busy": "2022-02-23T10:57:14.478697Z",
     "iopub.status.idle": "2022-02-23T10:57:15.481101Z",
     "shell.execute_reply": "2022-02-23T10:57:15.480240Z"
    },
    "tags": [
     "nbsphinx-thumbnail"
    ]
   },
   "outputs": [
    {
     "data": {
      "image/png": "[encoded data removed]"
     },
     "metadata": {},
     "output_type": "display_data"
    }
   ],
   "source": [
    "thumbnail_plot = plot.update_requests(\"Ti\", color=None, linewidth=1)\n",
    "\n",
    "if thumbnail_plot:\n",
    "    thumbnail_plot.show(\"png\")"
   ]
  },
  {
   "cell_type": "markdown",
   "metadata": {
    "tags": [
     "notebook-footer"
    ]
   },
   "source": [
    "-------------"
   ]
  }
 ],
 "metadata": {
  "kernelspec": {
   "display_name": "Python 3",
   "language": "python",
   "name": "python3"
  },
  "language_info": {
   "codemirror_mode": {
    "name": "ipython",
    "version": 3
   },
   "file_extension": ".py",
   "mimetype": "text/x-python",
   "name": "python",
   "nbconvert_exporter": "python",
   "pygments_lexer": "ipython3",
   "version": "3.9.10"
  },
  "widgets": {
   "application/vnd.jupyter.widget-state+json": {
    "state": {
     "082744e7e6ec4736b7f9e925710ed552": {
      "buffers": [
       {
        "data": "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",
        "encoding": "base64",
        "path": [
         "_data",
         0,
         "x",
         "buffer"
        ]
       },
       {
        "data": "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",
        "encoding": "base64",
        "path": [
         "_data",
         0,
         "y",
         "buffer"
        ]
       },
       {
        "data": "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",
        "encoding": "base64",
        "path": [
         "_data",
         1,
         "x",
         "buffer"
        ]
       },
       {
        "data": "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",
        "encoding": "base64",
        "path": [
         "_data",
         1,
         "y",
         "buffer"
        ]
       },
       {
        "data": "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",
        "encoding": "base64",
        "path": [
         "_data",
         2,
         "x",
         "buffer"
        ]
       },
       {
        "data": "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",
        "encoding": "base64",
        "path": [
         "_data",
         2,
         "y",
         "buffer"
        ]
       }
      ],
      "model_module": "jupyterlab-plotly",
      "model_module_version": "^5.6.0",
      "model_name": "FigureModel",
      "state": {
       "_config": {
        "plotlyServerURL": "https://plot.ly"
       },
       "_data": [
        {
         "line": {
          "dash": "solid",
          "width": 1.0
         },
         "mode": "lines",
         "name": "Sr",
         "opacity": 1,
         "type": "scatter",
         "uid": "a98e5a0a-9265-494d-bf81-7b729f31ab38",
         "x": {
          "dtype": "float64",
          "shape": [
           399
          ]
         },
         "y": {
          "dtype": "float64",
          "shape": [
           399
          ]
         }
        },
        {
         "line": {
          "dash": "solid",
          "width": 1.0
         },
         "mode": "lines",
         "name": "Ti",
         "opacity": 1,
         "type": "scatter",
         "uid": "07e9d642-c3c4-4ebd-aa1f-1e906d32cb86",
         "x": {
          "dtype": "float64",
          "shape": [
           399
          ]
         },
         "y": {
          "dtype": "float64",
          "shape": [
           399
          ]
         }
        },
        {
         "line": {
          "dash": "solid",
          "width": 1.0
         },
         "mode": "lines",
         "name": "O",
         "opacity": 1,
         "type": "scatter",
         "uid": "88e923d0-6542-4884-bfac-01474a06dece",
         "x": {
          "dtype": "float64",
          "shape": [
           399
          ]
         },
         "y": {
          "dtype": "float64",
          "shape": [
           399
          ]
         }
        }
       ],
       "_dom_classes": [],
       "_js2py_layoutDelta": {},
       "_js2py_pointsCallback": {},
       "_js2py_relayout": {},
       "_js2py_restyle": {},
       "_js2py_traceDeltas": {},
       "_js2py_update": {},
       "_last_layout_edit_id": 0,
       "_last_trace_edit_id": 0,
       "_layout": {
        "showlegend": true,
        "template": {
         "layout": {
          "hovermode": "closest",
          "paper_bgcolor": "white",
          "plot_bgcolor": "white",
          "scene": {
           "xaxis": {
            "color": "black",
            "gridcolor": "#ccc",
            "gridwidth": 1,
            "linewidth": 1,
            "mirror": true,
            "showgrid": false,
            "showline": true,
            "ticklen": 5,
            "ticks": "outside",
            "ticksuffix": " ",
            "visible": true,
            "zeroline": false,
            "zerolinecolor": "#ccc",
            "zerolinewidth": 1
           },
           "yaxis": {
            "color": "black",
            "gridcolor": "#ccc",
            "gridwidth": 1,
            "linewidth": 1,
            "mirror": true,
            "showgrid": false,
            "showline": true,
            "ticklen": 5,
            "ticks": "outside",
            "ticksuffix": " ",
            "visible": true,
            "zeroline": false,
            "zerolinecolor": "#ccc",
            "zerolinewidth": 1
           },
           "zaxis": {
            "color": "black",
            "gridcolor": "#ccc",
            "gridwidth": 1,
            "linewidth": 1,
            "mirror": true,
            "showgrid": false,
            "showline": true,
            "ticklen": 5,
            "ticks": "outside",
            "ticksuffix": " ",
            "visible": true,
            "zeroline": false,
            "zerolinecolor": "#ccc",
            "zerolinewidth": 1
           }
          },
          "xaxis": {
           "color": "black",
           "gridcolor": "#ccc",
           "gridwidth": 1,
           "linewidth": 1,
           "mirror": true,
           "showgrid": false,
           "showline": true,
           "ticklen": 5,
           "ticks": "outside",
           "ticksuffix": " ",
           "visible": true,
           "zeroline": false,
           "zerolinecolor": "#ccc",
           "zerolinewidth": 1
          },
          "yaxis": {
           "color": "black",
           "gridcolor": "#ccc",
           "gridwidth": 1,
           "linewidth": 1,
           "mirror": true,
           "showgrid": false,
           "showline": true,
           "ticklen": 5,
           "ticks": "outside",
           "ticksuffix": " ",
           "visible": true,
           "zeroline": false,
           "zerolinecolor": "#ccc",
           "zerolinewidth": 1
          }
         }
        },
        "xaxis": {
         "mirror": true,
         "title": {
          "text": "Density of states [1/eV]"
         }
        },
        "yaxis": {
         "mirror": true,
         "range": [
          -4.977538290000001,
          4.975768842
         ],
         "title": {
          "text": "Energy [eV]"
         }
        }
       },
       "_model_module": "jupyterlab-plotly",
       "_model_module_version": "^5.6.0",
       "_model_name": "FigureModel",
       "_py2js_addTraces": {},
       "_py2js_animate": {},
       "_py2js_deleteTraces": {},
       "_py2js_moveTraces": {},
       "_py2js_relayout": {},
       "_py2js_removeLayoutProps": {},
       "_py2js_removeTraceProps": {},
       "_py2js_restyle": {},
       "_py2js_update": {},
       "_view_count": 0,
       "_view_module": "jupyterlab-plotly",
       "_view_module_version": "^5.6.0",
       "_view_name": "FigureView"
      }
     },
     "137cd5d0c44244cbbb0e6401fc7b1528": {
      "buffers": [
       {
        "data": "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",
        "encoding": "base64",
        "path": [
         "_data",
         0,
         "x",
         "buffer"
        ]
       },
       {
        "data": "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",
        "encoding": "base64",
        "path": [
         "_data",
         0,
         "y",
         "buffer"
        ]
       },
       {
        "data": "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",
        "encoding": "base64",
        "path": [
         "_data",
         1,
         "x",
         "buffer"
        ]
       },
       {
        "data": "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",
        "encoding": "base64",
        "path": [
         "_data",
         1,
         "y",
         "buffer"
        ]
       },
       {
        "data": "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",
        "encoding": "base64",
        "path": [
         "_data",
         2,
         "x",
         "buffer"
        ]
       },
       {
        "data": "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",
        "encoding": "base64",
        "path": [
         "_data",
         2,
         "y",
         "buffer"
        ]
       },
       {
        "data": "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",
        "encoding": "base64",
        "path": [
         "_data",
         3,
         "x",
         "buffer"
        ]
       },
       {
        "data": "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",
        "encoding": "base64",
        "path": [
         "_data",
         3,
         "y",
         "buffer"
        ]
       },
       {
        "data": "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",
        "encoding": "base64",
        "path": [
         "_data",
         4,
         "x",
         "buffer"
        ]
       },
       {
        "data": "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",
        "encoding": "base64",
        "path": [
         "_data",
         4,
         "y",
         "buffer"
        ]
       }
      ],
      "model_module": "jupyterlab-plotly",
      "model_module_version": "^5.6.0",
      "model_name": "FigureModel",
      "state": {
       "_config": {
        "plotlyServerURL": "https://plot.ly"
       },
       "_data": [
        {
         "line": {
          "dash": "solid",
          "width": 1.0
         },
         "mode": "lines",
         "name": " | atoms=0",
         "opacity": 1,
         "type": "scatter",
         "uid": "a848abb1-713b-40cb-a31a-ffbdc3bea82c",
         "x": {
          "dtype": "float64",
          "shape": [
           399
          ]
         },
         "y": {
          "dtype": "float64",
          "shape": [
           399
          ]
         }
        },
        {
         "line": {
          "dash": "solid",
          "width": 1.0
         },
         "mode": "lines",
         "name": " | atoms=1",
         "opacity": 1,
         "type": "scatter",
         "uid": "2ddcdcff-fe88-40c8-a276-7e2424366295",
         "x": {
          "dtype": "float64",
          "shape": [
           399
          ]
         },
         "y": {
          "dtype": "float64",
          "shape": [
           399
          ]
         }
        },
        {
         "line": {
          "dash": "solid",
          "width": 1.0
         },
         "mode": "lines",
         "name": " | atoms=2",
         "opacity": 1,
         "type": "scatter",
         "uid": "c18d694b-aba6-4a8a-812a-158d6e2d041f",
         "x": {
          "dtype": "float64",
          "shape": [
           399
          ]
         },
         "y": {
          "dtype": "float64",
          "shape": [
           399
          ]
         }
        },
        {
         "line": {
          "dash": "solid",
          "width": 1.0
         },
         "mode": "lines",
         "name": " | atoms=3",
         "opacity": 1,
         "type": "scatter",
         "uid": "fc32c75c-4601-4e8e-a2aa-b76c71164502",
         "x": {
          "dtype": "float64",
          "shape": [
           399
          ]
         },
         "y": {
          "dtype": "float64",
          "shape": [
           399
          ]
         }
        },
        {
         "line": {
          "dash": "solid",
          "width": 1.0
         },
         "mode": "lines",
         "name": " | atoms=4",
         "opacity": 1,
         "type": "scatter",
         "uid": "e8a78d69-06aa-40be-af69-3b3db41a6733",
         "x": {
          "dtype": "float64",
          "shape": [
           399
          ]
         },
         "y": {
          "dtype": "float64",
          "shape": [
           399
          ]
         }
        }
       ],
       "_dom_classes": [],
       "_js2py_layoutDelta": {},
       "_js2py_pointsCallback": {},
       "_js2py_relayout": {},
       "_js2py_restyle": {},
       "_js2py_traceDeltas": {},
       "_js2py_update": {},
       "_last_layout_edit_id": 0,
       "_last_trace_edit_id": 0,
       "_layout": {
        "showlegend": true,
        "template": {
         "layout": {
          "hovermode": "closest",
          "paper_bgcolor": "white",
          "plot_bgcolor": "white",
          "scene": {
           "xaxis": {
            "color": "black",
            "gridcolor": "#ccc",
            "gridwidth": 1,
            "linewidth": 1,
            "mirror": true,
            "showgrid": false,
            "showline": true,
            "ticklen": 5,
            "ticks": "outside",
            "ticksuffix": " ",
            "visible": true,
            "zeroline": false,
            "zerolinecolor": "#ccc",
            "zerolinewidth": 1
           },
           "yaxis": {
            "color": "black",
            "gridcolor": "#ccc",
            "gridwidth": 1,
            "linewidth": 1,
            "mirror": true,
            "showgrid": false,
            "showline": true,
            "ticklen": 5,
            "ticks": "outside",
            "ticksuffix": " ",
            "visible": true,
            "zeroline": false,
            "zerolinecolor": "#ccc",
            "zerolinewidth": 1
           },
           "zaxis": {
            "color": "black",
            "gridcolor": "#ccc",
            "gridwidth": 1,
            "linewidth": 1,
            "mirror": true,
            "showgrid": false,
            "showline": true,
            "ticklen": 5,
            "ticks": "outside",
            "ticksuffix": " ",
            "visible": true,
            "zeroline": false,
            "zerolinecolor": "#ccc",
            "zerolinewidth": 1
           }
          },
          "xaxis": {
           "color": "black",
           "gridcolor": "#ccc",
           "gridwidth": 1,
           "linewidth": 1,
           "mirror": true,
           "showgrid": false,
           "showline": true,
           "ticklen": 5,
           "ticks": "outside",
           "ticksuffix": " ",
           "visible": true,
           "zeroline": false,
           "zerolinecolor": "#ccc",
           "zerolinewidth": 1
          },
          "yaxis": {
           "color": "black",
           "gridcolor": "#ccc",
           "gridwidth": 1,
           "linewidth": 1,
           "mirror": true,
           "showgrid": false,
           "showline": true,
           "ticklen": 5,
           "ticks": "outside",
           "ticksuffix": " ",
           "visible": true,
           "zeroline": false,
           "zerolinecolor": "#ccc",
           "zerolinewidth": 1
          }
         }
        },
        "xaxis": {
         "mirror": true,
         "title": {
          "text": "Density of states [1/eV]"
         }
        },
        "yaxis": {
         "mirror": true,
         "range": [
          -4.977538290000001,
          4.975768842
         ],
         "title": {
          "text": "Energy [eV]"
         }
        }
       },
       "_model_module": "jupyterlab-plotly",
       "_model_module_version": "^5.6.0",
       "_model_name": "FigureModel",
       "_py2js_addTraces": {},
       "_py2js_animate": {},
       "_py2js_deleteTraces": {},
       "_py2js_moveTraces": {},
       "_py2js_relayout": {},
       "_py2js_removeLayoutProps": {},
       "_py2js_removeTraceProps": {},
       "_py2js_restyle": {},
       "_py2js_update": {},
       "_view_count": 0,
       "_view_module": "jupyterlab-plotly",
       "_view_module_version": "^5.6.0",
       "_view_name": "FigureView"
      }
     },
     "1e61ac385811461e8146d84362327346": {
      "buffers": [
       {
        "data": "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",
        "encoding": "base64",
        "path": [
         "_data",
         0,
         "x",
         "buffer"
        ]
       },
       {
        "data": "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",
        "encoding": "base64",
        "path": [
         "_data",
         0,
         "y",
         "buffer"
        ]
       },
       {
        "data": "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",
        "encoding": "base64",
        "path": [
         "_data",
         1,
         "x",
         "buffer"
        ]
       },
       {
        "data": "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",
        "encoding": "base64",
        "path": [
         "_data",
         1,
         "y",
         "buffer"
        ]
       },
       {
        "data": "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",
        "encoding": "base64",
        "path": [
         "_data",
         2,
         "x",
         "buffer"
        ]
       },
       {
        "data": "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",
        "encoding": "base64",
        "path": [
         "_data",
         2,
         "y",
         "buffer"
        ]
       },
       {
        "data": "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",
        "encoding": "base64",
        "path": [
         "_data",
         3,
         "x",
         "buffer"
        ]
       },
       {
        "data": "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",
        "encoding": "base64",
        "path": [
         "_data",
         3,
         "y",
         "buffer"
        ]
       },
       {
        "data": "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",
        "encoding": "base64",
        "path": [
         "_data",
         4,
         "x",
         "buffer"
        ]
       },
       {
        "data": "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",
        "encoding": "base64",
        "path": [
         "_data",
         4,
         "y",
         "buffer"
        ]
       },
       {
        "data": "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",
        "encoding": "base64",
        "path": [
         "_data",
         5,
         "x",
         "buffer"
        ]
       },
       {
        "data": "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",
        "encoding": "base64",
        "path": [
         "_data",
         5,
         "y",
         "buffer"
        ]
       },
       {
        "data": "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",
        "encoding": "base64",
        "path": [
         "_data",
         6,
         "x",
         "buffer"
        ]
       },
       {
        "data": "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",
        "encoding": "base64",
        "path": [
         "_data",
         6,
         "y",
         "buffer"
        ]
       },
       {
        "data": "Zns/xAF12D/SFJoqURDVP40zUsTKG9I/oQiSE0q7zz94alXEM/rMPxIiKog3BMw//MyCAZ+7zD+AmlmRse/OP2bu9mAfO9E//OJ9FROd0z8K+UGIbZzWP1gPITCLN9o/2sXdrd9d3j/D1Sj8PnHhP0gD6mAMu+M/v/PRwlrW5T+/yyhwlIfnP10bbQfxmeg/3wUFNsvr6D+Xt4nsIXfoP0SxDp/qU+c/FZi59Puz5T+Pfd1hS9rjP1a+538yEOI/P5EPiDyb4D+Rwz1HK2rfP/BFONpFDN8/LqUf7pki4D9TzgmLtInhP7KoAvKupuM/vu3Hs2FT5j/HSI80WFzpPySIyeI4huw/XQ6jjSqU7z9kVmLrSCfxP5LVAS+KRPI/PVPJJEIT8z/6tz3UxYzzP6f5t8fqsPM/vM3XwGiD8z9cdOahJQnzP/nfWaGZRvI/+dJ4vu8/8T/3UNKRN/XvP2+O0k3G/uw/2B6gJUO36T+DfUwxEkLmP7ZSUbrJx+I/fxB9Sz3i3j94pXdUCMTYP7HcUNuabNM/UJm2bLwAzj8YQRxRxSDHP4RDaq1wN8I/g+mO/xRFvj9ihcKdNUi7P394N6Na0ro/DsxyRF4ovD9pCwa7cZW+P9iFbO08xMA/pJjM8gtVwj9FyDjV4PDDPzz1qzhdosU/grC+Khl5xz9YVycSeXTJP2hS/Cjvc8s/yMgh1kA0zT/Z139cjlzOP52N57tsl84/3DWvDiqvzT9CXuoODqPLPxtNHIRYrsg/Atqoqrk/xT/+dpgBruXBP4TsZ7I5br4/bodtPpV9uz+4K+sVONm7PygFuk++C8A/ycrMza86xD/aP+HiBWPKPxyxpKjGGNE/Fp0VNm6J1T8GL0x39hzaP0tfp4SYWt4/rm2BvJ7k4D8jbZNvIQPiP+8bYw/7beI/ygJZucQo4j8ECj5Wj1fhP5SnaqCmOeA/xI2p7X473j+65cjdN6TcP/FBhP20KNw/VqYevW8J3T+h4hybOz/fP2CB6krEPuE/uGV4Fnoh4z/SC/xCNvrkP5vqtc+dfuY/YBlxA7J25z8M0RMh/cfnP9Fz0/tJeuc/lk/zKru05j/aBkewxbPlP+KM5GFPuuQ/uY0QYooB5D9WFWDvrKvjP44GHgYUveM/a+wvT7Ad5D8Nk69gMKLkP6eSR1DxGeU/LyvHfjNd5T9T/LqiKVflP1rTlQc4CeU/hPj2j2eH5D+yyibrefDjP0fr1TQpZeM/9+ynaZEB4z+7dHgxGdriP1AB01Fl++I/d5/+089r4z8tIcMV1SzkP1WbKiGZO+U/fSuyV4iQ5j9iWjlTnx7oP+WmAZj20uk/KCu1v/SU6z8jNtGQNUftP2stN5Ufye4/cfeBgSr57z/0tyeB8lvwP1khIkLOdfA/p3aZsQ5C8D99ICPnl33vP17fRhee4e0/qa/zyKfF6z/W9bOKbEfpP1hvFY1GiOY/TKa5/iWp4z+DR/6gPcjgP5QnoGRKAdw/5dRrHIfW1j9BCFmFvT/SP4bdbjR61cw/xr+ff1oDxz+Ygpq35U3DP1vvxQ9Q38E/rrVSmQC7wj/eXnSBM7LFPySP4bBnXMo/XwNyWNgL0D+TMlardQrTPzgbt0WsuNU/++juAjKt1z9EccoztZnYP8C2OXJfWdg/VC1KVWj21j+85XUA/qTUP8HV9AVLtdE/iAvKWksCzT8wjrl8gbXGP98Y7k0XAcE/BsSodgtguD9vEe3IUruwP1QMMPB2AaY/B9p7VpK6mz8eowPYCbyQP5/v8lH6VoM/CbgM9MxidT/V1pZc+ptmP1dP+lOp1FY/s+mc8p//RT8+H5byqjQ0P2pKzaSarCE/v+WKRz5rDT8xrEn0tEb3PpoFXJGdfuE+zjzEbTqlyD4OIfvnGrywPlFpiiZAapQ+JhCoypobeT5XaReh6jVdPgAAAAAAAAAAAAAAAAAAAAAAAAAAAAAAAAAAAAAAAAAAAAAAAAAAAAAAAAAAAAAAAAAAAAAAAAAAAAAAAAAAAAAAAAAAAAAAAAAAAAAAAAAAAAAAAAAAAAAAAAAAAAAAAAAAAAAAAAAAAAAAAAAAAAAAAAAAAAAAAAAAAAAAAAAAAAAAAAAAAAAAAAAAAAAAAAAAAAAAAAAAAAAAAAAAAAAAAAAAAAAAAAAAAAAAAAAAAAAAAAAAAAAAAAAAAAAAAAAAAAAAAAAAAAAAAAAAAAAAAAAAAAAAAAAAAAAAAAAAAAAAAAAAAAAAAAAAAAAAAAAAAAAAAAAAAAAAAAAAAAAAAAAAAAAAAAAAAAAAAAAAAAAAAAAAAAAAAAAAAAAAABwDr0UVwRE+JCJZG64KLz6uaRCmnatJPvItLClNSmU+dZ8bNq/bfz66YxoRu/mWPt4S0NLzCa8+YXi6z8jowz4Y1kwoC0vYPqLPbpVQLOw+L1iAy7oZ/z47tEbC9FoQP70zdC3mZyA/KqwWOAdsLz90lGTn1sE8P52VbWQlLUk/FnIvaZgaVT8oNeddbfNgP1frcLrQG2o/Pgk7nKBJcz+JLYg/EFh7P+JkPeLhmYI/uUXt8otJiD+dFHbTg26OP6v/WSUrS5I/ftfB4coZlT95AgFLuViXP5/a3wlCxpg/yMfg5o81mT9YD2VNiJeYPxg3h/r5/ZY/tqW3DkSYlD+NKNfiXaqRP19R36soAY0/1PMPHvfFhj93nlTZsxaBP+DdSCFyfXg/PcWn/kK+cD9aiddYPNNlPzQjLuskGls/3KI5JV4HUD97JGk4OBxCPx7ZYguX4DM/mqyc9D7tJj+g79OMm8YhP1AumQ7Zryc/wye5/9wvNj/XZ9iA3UlGP5rUrLJQ1lU/XgFQPwttZD/2OrxzMStyP60ifcETun4/Tis7nYa2iD/3ZdfAbuuSP9HEtNbYmZs/dcUqSg00oz/2Q6gE8YSpP1erwGUpN7A/YgdFgCe8sz8UIqMiywi3P+to+Y5z0bk/AMRhVmXSuz9ymdnBvNm8P9JnmW7pzrw/0FoONMS2uz/gbjaRvbO5P1D9iuzdAbc/4rcJvLHusz8OMo6Z/s2wP5HCa99G2qs/squAYJoPpz/sKl9FSYGjP3OzXolGP6E/npYYKgAsoD9E9ngeEAygP2YwLjdVmKA/w7e64C+NoT/cH16Fw7OiP9wraAUo5aM/dzKa8EcKpT/SCVBoSRymPwq5oFhRKKc/ozF8S3hWqD/RtJBSIfCpPz09kBNXX6w/lLK5ZIcQsD/noo9i/tOyP5YxNocwmrY/HXoXiRhWuz876HheyGDAP8bcQxkHMMM/1r+TvUnJxT846cdwhtzHPxP9rE3FK8k/084Oy7aZyT9211Pidi/JP2ElisTQF8g/2bNx6guSxj89ipw2/uDEP+kIJgHLO8M/jMZez17EwT+MByVKO4XAP3U4xKZd674/DsuWPuwDvT+z59YXmyi7P0uV47bVOLk/eNJF8Z4ntz+HH+in//y0P5e+dXdM0bI/EveKo6nEsD9DgmpCguutP1q7nJeB9Ko/pQSmNGm1qD+Qe6MfBySnPw1KpZGIH6Y/x4CvyDl4pT/rNxCqAPikP6UmAwAwaqQ/MUp4akiioz/b4TO3l4GiP1VY95lZ+6A/G/yVP/ksnj8iqCUuO9iZP4SHOJr/RJU/CJJ6FhHLkD9Ghs22JHuJP6jlgV19vYI/bt3ePHJpez+cVW1ZrRt1P3yZf3ezq3I/e4irjt4IdD/28U+ugv94PyCrodvqloA/upyXRBP2hT/hzD6d3xuMP1rlbwGZLJE/iwQ2uKbwkz8H+cVlDPWVPzwXDn5g6pY/ichYj/Wolj9KwPcKWDqVPzC/+iyL1pI/sSi6LKKrjz8k2LSdnjeJP+N8nmqaBYM/Onmpy+4zez+/XHAE93pyP87vJDibDGg/SCrjy0jMXj8gKBANhwFVP9adju1r11E/UBrpd5D4VD8Rg+4oBcpeP+/0o69QL2g/h04y9prNcj8mNNPKoTV8P5p0R+9uSYQ/pYN4z5L1iz/e7DHNi3uSP84COe8Aepc/jvvpInywnD+3Gj3lduKgPxvRQzXAKKM/XfG2Cbj4pD8SN8dCkSimPxmgRMhcn6Y/RU5Sv0xbpj86NT5KZnOlP9mBEfUNE6Q/SqYC//tvoj+i0/JflL2gP01m+kUdRJ4/OIZvOLpimz9aIGPiyt6YPxJqF+bir5Y/u6RtkpjQlD8u2z2n1UuTP8t6xWj6PZI/BuagaTPJkT/PTXqvIQKSP31g20tm3ZI/",
        "encoding": "base64",
        "path": [
         "_data",
         7,
         "x",
         "buffer"
        ]
       },
       {
        "data": "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",
        "encoding": "base64",
        "path": [
         "_data",
         7,
         "y",
         "buffer"
        ]
       },
       {
        "data": "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",
        "encoding": "base64",
        "path": [
         "_data",
         8,
         "x",
         "buffer"
        ]
       },
       {
        "data": "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",
        "encoding": "base64",
        "path": [
         "_data",
         8,
         "y",
         "buffer"
        ]
       }
      ],
      "model_module": "jupyterlab-plotly",
      "model_module_version": "^5.6.0",
      "model_name": "FigureModel",
      "state": {
       "_config": {
        "plotlyServerURL": "https://plot.ly"
       },
       "_data": [
        {
         "line": {
          "dash": "solid",
          "width": 1.0
         },
         "mode": "lines",
         "name": "Oxygen | n=3, l=2, m=-2",
         "opacity": 1,
         "type": "scatter",
         "uid": "e903fe8f-e3e2-40d5-b4b6-b07bd33a7688",
         "x": {
          "dtype": "float64",
          "shape": [
           399
          ]
         },
         "y": {
          "dtype": "float64",
          "shape": [
           399
          ]
         }
        },
        {
         "line": {
          "dash": "solid",
          "width": 1.0
         },
         "mode": "lines",
         "name": "Oxygen | n=3, l=2, m=-1",
         "opacity": 1,
         "type": "scatter",
         "uid": "c7fb2038-9d35-4b6a-a58a-710c0972b44f",
         "x": {
          "dtype": "float64",
          "shape": [
           399
          ]
         },
         "y": {
          "dtype": "float64",
          "shape": [
           399
          ]
         }
        },
        {
         "line": {
          "dash": "solid",
          "width": 1.0
         },
         "mode": "lines",
         "name": "Oxygen | n=3, l=2, m=0",
         "opacity": 1,
         "type": "scatter",
         "uid": "1e3e5ab2-6e96-4462-b37d-f9af9a8815bc",
         "x": {
          "dtype": "float64",
          "shape": [
           399
          ]
         },
         "y": {
          "dtype": "float64",
          "shape": [
           399
          ]
         }
        },
        {
         "line": {
          "dash": "solid",
          "width": 1.0
         },
         "mode": "lines",
         "name": "Oxygen | n=3, l=2, m=1",
         "opacity": 1,
         "type": "scatter",
         "uid": "afe0c346-b41b-4856-a003-780649afe239",
         "x": {
          "dtype": "float64",
          "shape": [
           399
          ]
         },
         "y": {
          "dtype": "float64",
          "shape": [
           399
          ]
         }
        },
        {
         "line": {
          "dash": "solid",
          "width": 1.0
         },
         "mode": "lines",
         "name": "Oxygen | n=3, l=2, m=2",
         "opacity": 1,
         "type": "scatter",
         "uid": "710ea49f-47b3-4257-8b9f-7b4826e44c7c",
         "x": {
          "dtype": "float64",
          "shape": [
           399
          ]
         },
         "y": {
          "dtype": "float64",
          "shape": [
           399
          ]
         }
        },
        {
         "line": {
          "dash": "solid",
          "width": 1.0
         },
         "mode": "lines",
         "name": "Oxygen | n=2, l=0, m=0",
         "opacity": 1,
         "type": "scatter",
         "uid": "df82c44a-4f6d-4a3f-a5c8-4c81f1fc9f8b",
         "x": {
          "dtype": "float64",
          "shape": [
           399
          ]
         },
         "y": {
          "dtype": "float64",
          "shape": [
           399
          ]
         }
        },
        {
         "line": {
          "dash": "solid",
          "width": 1.0
         },
         "mode": "lines",
         "name": "Oxygen | n=2, l=1, m=-1",
         "opacity": 1,
         "type": "scatter",
         "uid": "5efd5533-a6e4-4448-854f-75835b271ba7",
         "x": {
          "dtype": "float64",
          "shape": [
           399
          ]
         },
         "y": {
          "dtype": "float64",
          "shape": [
           399
          ]
         }
        },
        {
         "line": {
          "dash": "solid",
          "width": 1.0
         },
         "mode": "lines",
         "name": "Oxygen | n=2, l=1, m=0",
         "opacity": 1,
         "type": "scatter",
         "uid": "ea4bc02e-9aba-49a3-977a-3a4979ed5817",
         "x": {
          "dtype": "float64",
          "shape": [
           399
          ]
         },
         "y": {
          "dtype": "float64",
          "shape": [
           399
          ]
         }
        },
        {
         "line": {
          "dash": "solid",
          "width": 1.0
         },
         "mode": "lines",
         "name": "Oxygen | n=2, l=1, m=1",
         "opacity": 1,
         "type": "scatter",
         "uid": "fa51e92f-b704-4615-9d1a-65b581a5ca68",
         "x": {
          "dtype": "float64",
          "shape": [
           399
          ]
         },
         "y": {
          "dtype": "float64",
          "shape": [
           399
          ]
         }
        }
       ],
       "_dom_classes": [],
       "_js2py_layoutDelta": {},
       "_js2py_pointsCallback": {},
       "_js2py_relayout": {},
       "_js2py_restyle": {},
       "_js2py_traceDeltas": {},
       "_js2py_update": {},
       "_last_layout_edit_id": 0,
       "_last_trace_edit_id": 0,
       "_layout": {
        "showlegend": true,
        "template": {
         "layout": {
          "hovermode": "closest",
          "paper_bgcolor": "white",
          "plot_bgcolor": "white",
          "scene": {
           "xaxis": {
            "color": "black",
            "gridcolor": "#ccc",
            "gridwidth": 1,
            "linewidth": 1,
            "mirror": true,
            "showgrid": false,
            "showline": true,
            "ticklen": 5,
            "ticks": "outside",
            "ticksuffix": " ",
            "visible": true,
            "zeroline": false,
            "zerolinecolor": "#ccc",
            "zerolinewidth": 1
           },
           "yaxis": {
            "color": "black",
            "gridcolor": "#ccc",
            "gridwidth": 1,
            "linewidth": 1,
            "mirror": true,
            "showgrid": false,
            "showline": true,
            "ticklen": 5,
            "ticks": "outside",
            "ticksuffix": " ",
            "visible": true,
            "zeroline": false,
            "zerolinecolor": "#ccc",
            "zerolinewidth": 1
           },
           "zaxis": {
            "color": "black",
            "gridcolor": "#ccc",
            "gridwidth": 1,
            "linewidth": 1,
            "mirror": true,
            "showgrid": false,
            "showline": true,
            "ticklen": 5,
            "ticks": "outside",
            "ticksuffix": " ",
            "visible": true,
            "zeroline": false,
            "zerolinecolor": "#ccc",
            "zerolinewidth": 1
           }
          },
          "xaxis": {
           "color": "black",
           "gridcolor": "#ccc",
           "gridwidth": 1,
           "linewidth": 1,
           "mirror": true,
           "showgrid": false,
           "showline": true,
           "ticklen": 5,
           "ticks": "outside",
           "ticksuffix": " ",
           "visible": true,
           "zeroline": false,
           "zerolinecolor": "#ccc",
           "zerolinewidth": 1
          },
          "yaxis": {
           "color": "black",
           "gridcolor": "#ccc",
           "gridwidth": 1,
           "linewidth": 1,
           "mirror": true,
           "showgrid": false,
           "showline": true,
           "ticklen": 5,
           "ticks": "outside",
           "ticksuffix": " ",
           "visible": true,
           "zeroline": false,
           "zerolinecolor": "#ccc",
           "zerolinewidth": 1
          }
         }
        },
        "xaxis": {
         "mirror": true,
         "title": {
          "text": "Density of states [1/eV]"
         }
        },
        "yaxis": {
         "mirror": true,
         "range": [
          -4.977538290000001,
          4.975768842
         ],
         "title": {
          "text": "Energy [eV]"
         }
        }
       },
       "_model_module": "jupyterlab-plotly",
       "_model_module_version": "^5.6.0",
       "_model_name": "FigureModel",
       "_py2js_addTraces": {},
       "_py2js_animate": {},
       "_py2js_deleteTraces": {},
       "_py2js_moveTraces": {},
       "_py2js_relayout": {},
       "_py2js_removeLayoutProps": {},
       "_py2js_removeTraceProps": {},
       "_py2js_restyle": {},
       "_py2js_update": {},
       "_view_count": 0,
       "_view_module": "jupyterlab-plotly",
       "_view_module_version": "^5.6.0",
       "_view_name": "FigureView"
      }
     },
     "2d42a12e4d534933a16324c7a994d55a": {
      "buffers": [
       {
        "data": "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",
        "encoding": "base64",
        "path": [
         "_data",
         0,
         "x",
         "buffer"
        ]
       },
       {
        "data": "E40ozP/oE8BtCY4FZM8TwMmF8z7ItRPAJQJZeCycE8CBfr6xkIITwN36I+v0aBPAkXrTHVlPE8Dt9jhXvTUTwElznpAhHBPApe8DyoUCE8D/a2kD6ugSwFvozjxOzxLAt2Q0drK1EsAT4ZmvFpwSwG9d/+h6ghLAydlkIt9oEsAlVspbQ08SwNvVeY6nNRLANVLfxwscEsCRzkQBcAISwO1KqjrU6BHASccPdDjPEcClQ3WtnLURwP+/2uYAnBHAWzxAIGWCEcC3uKVZyWgRwBM1C5MtTxHAx7S6xZE1EcAjMSD/9RsRwH+thThaAhHA2ynrcb7oEMA3plCrIs8QwJEituSGtRDA7Z4bHuubEMBJG4FXT4IQwKWX5pCzaBDAI+KcxxdPEMB/XgIBfDUQwGUOvDngGxDASb51ckQCEMBa3F5WUdEPwCI80scZng/A7ptFOeJqD8C2+7iqqjcPwH5bLBxzBA/ARrufjTvRDsASGxP/A54OwNp6hnDMag7Aotr54ZQ3DsBqOm1TXQQOwDaa4MQl0Q3A/vlTNu6dDcDGWcentmoNwH5Skhp/Nw3ARrIFjEcEDcASEnn9D9EMwNpx7G7YnQzAotFf4KBqDMBqMdNRaTcMwDaRRsMxBAzA/vC5NPrQC8DGUC2mwp0LwI6woBeLagvAWhAUiVM3C8AicIf6GwQLwOrP+mvk0ArAti9u3aydCsB+j+FOdWoKwEbvVMA9NwrA/ucfMwYECsDGR5OkztAJwI6nBhaXnQnAWgd6h19qCcAiZ+34JzcJwOrGYGrwAwnAtibU27jQCMB+hkdNgZ0IwEbmur5JagjADkYuMBI3CMDapaGh2gMIwKIFFROj0AfAamWIhGudB8Ayxfv1M2oHwP4kb2f8NgfAxoTi2MQDB8B+fa1LjdAGwEbdIL1VnQbADj2ULh5qBsDanAeg5jYGwKL8ehGvAwbAalzugnfQBcAyvGH0P50FwP4b1WUIagXAxntI19A2BcCO27tImQMFwFY7L7ph0ATAIpuiKyqdBMDq+hWd8mkEwLJaiQ67NgTAfrr8f4MDBMBGGnDxS9ADwA5642IUnQPAxnKu1dxpA8CO0iFHpTYDwFYylbhtAwPAIpIIKjbQAsDq8Xub/pwCwLJR7wzHaQLAerFifo82AsBGEdbvVwMCwA5xSWEg0AHA1tC80uicAcCiMDBEsWkBwGqQo7V5NgHAMvAWJ0IDAcD6T4qYCtAAwMSv/QnTnADAjg9xe5tpAMBECDzuYzYAwA5or18sAwDArI9Foumf/79ATyyFejn/v9QOE2gL0/6/ZM75Spxs/r/4jeAtLQb+v4hNxxC+n/2/HA2u8045/b+szJTW39L8v0CMe7lwbPy/0EtinAEG/L9kC0l/kp/7v/TKL2IjOfu/iIoWRbTS+r8YSv0nRWz6v4g7kw3WBfq/HPt58Gaf+b+sumDT9zj5v0B6R7aI0vi/0DkumRls+L9k+RR8qgX4v/S4+147n/e/iHjiQcw4978YOMkkXdL2v6z3rwfua/a/PLeW6n4F9r/Qdn3ND5/1v2Q2ZLCgOPW/9PVKkzHS9L+ItTF2wmv0vxh1GFlTBfS/iGauPuSe878YJpUhdTjzv6zlewQG0vK/PKVi55Zr8r/QZEnKJwXyv2AkMK24nvG/9OMWkEk48b+Eo/1y2tHwvxhj5FVra/C/rCLLOPwE8L94xGM3Gj3vv6BDMf07cO6/wML+wl2j7b/oQcyIf9bsvwjBmU6hCey/MEBnFMM8679QvzTa5G/qvzCiYKUGo+m/UCEuayjW6L94oPswSgnov6AfyfZrPOe/wJ6WvI1v5r/oHWSCr6LlvwidMUjR1eS/MBz/DfMI5L9Qm8zTFDzjv3gampk2b+K/mJlnX1ii4b/AGDUletXgv+CXAuubCOC/EC6gYXt33r9QLDvtvt3cv6Aq1ngCRNu/YPAtD0aq2b+g7siaiRDYv/DsYybNdta/MOv+sRDd1L+A6Zk9VEPTv8DnNMmXqdG/EObPVNsP0L+gyNXAPezMv0DFC9jEuMm/wMFB70uFxr9gvncG01HDvwC7rR1aHsC/AG/HacLVub9AaDOY0G6zv4DCPo29D6q/AGot1LODmr8AoDg1p/1MvwBWpgzas5g/ADl7qdAnqT9Ao1Em2vqyP0Cq5ffLYbk/ALF5yb3Ivz/g24bN1xfDP2DfULZQS8Y/wOIan8l+yT9A5uSHQrLMP6DprnC75c8/kHa8LJqM0T9AeCGhVibTPwB6hhUTwNQ/sHvric9Z1j9wfVD+i/PXP7C3+GdIjdk/cLld3AQn2z8gu8JQwcDcP9C8J8V9Wt4/kL6MOTr03z8g4PhW+8bgPwBhK5HZk+E/2OFdy7dg4j+4YpAFli3jP5Djwj90+uM/cGT1eVLH5D9I5Se0MJTlPyhmWu4OYeY/AOeMKO0t5z/gZ79iy/rnP7jo8Zypx+g/kGkk14eU6T+4hvgLZmHqP5AHK0ZELus/cIhdgCL76z9ICZC6AMjsPyiKwvTelO0/AAv1Lr1h7j/giydpmy7vP7gMWqN5++8/zEbG7itk8D84h98Lm8rwP6TH+CgKMfE/FAgSRnmX8T+ASCtj6P3xP/CIRIBXZPI/XMldncbK8j/MCXe6NTHzP1wY4dSkl/M/zFj68RP+8z84mRMPg2T0P6jZLCzyyvQ/FBpGSWEx9T+AWl9m0Jf1P/CaeIM//vU/XNuRoK5k9j/MG6u9Hcv2PzhcxNqMMfc/qJzd9/uX9z8U3fYUa/73P4QdEDLaZPg/8F0pT0nL+D9gnkJsuDH5P8zeW4knmPk/XO3Fo5b++T/MLd/ABWX6Pzhu+N10y/o/qK4R++Mx+z8U7yoYU5j7P4QvRDXC/vs/8G9dUjFl/D9gsHZvoMv8P8zwj4wPMv0/PDGpqX6Y/T+occLG7f79Pxiy2+NcZf4/hPL0AMzL/j/yMg4eOzL/P2BzJzuqmP8/zrNAWBn//z8wYVU5xDIAQGcB4sf7ZQBAnaFuVjOZAEDUQfvkaswAQAvih3Oi/wBAQoIUAtoyAUB5IqGQEWYBQLDCLR9JmQFA52K6rYDMAUAeA0c8uP8BQFWj08rvMgJAjENgWSdmAkDD4+znXpkCQPqDeXaWzAJAMSQGBc7/AkBnxJKTBTMDQLDLxyA9ZgNA52tUr3SZA0AeDOE9rMwDQFWsbczj/wNAjEz6WhszBEDD7IbpUmYEQPqME3iKmQRAMS2gBsLMBEBozSyV+f8EQJ9tuSMxMwVA1g1GsmhmBUAMrtJAoJkFQENOX8/XzAVAeu7rXQ8ABkCxjnjsRjMGQOguBXt+ZgZAH8+RCbaZBkBo1saW7cwGQJ92UyUlAAdA1hbgs1wzB0ANt2xClGYHQERX+dDLmQdAeveFXwPNB0CxlxLuOgAIQOg3n3xyMwhAH9grC6pmCEBWeLiZ4ZkIQI0YRSgZzQhAxLjRtlAACUD7WF5FiDMJQDL56tO/ZglAaZl3YveZCUCgOQTxLs0JQOlAOX5mAApAH+HFDJ4zCkBWgVKb1WYKQI0h3ykNmgpAxMFruETNCkD7YfhGfAALQDIChdWzMwtAaaIRZOtmC0CgQp7yIpoLQNfiKoFazQtADoO3D5IADEBFI0SeyTMMQHzD0CwBZwxAs2NduziaDEDpA+pJcM0MQCCkdtinAA1AaaurZd8zDUCgSzj0FmcNQNfrxIJOmg1ADoxREYbNDUBFLN6fvQAOQHzMai71Mw5As2z3vCxnDkDqDIRLZJoOQCGtENqbzQ5AV02daNMAD0CO7Sn3CjQPQMaNtoVCZw9A/C1DFHqaD0Azzs+isc0PQDU3rph0ABBAUIf0XxAaEED1Co8mrDMQQBBb1e1HTRBALKsbteNmEEBH+2F8f4AQQGNLqEMbmhBAfpvuCrezEECa6zTSUs0QQLU7e5nu5hBA0IvBYIoAEUDs2wcoJhoRQAgsTu/BMxFAI3yUtl1NEUA+zNp9+WYRQFocIUWVgBFAdmxnDDGaEUCRvK3TzLMRQKwM9JpozRFAUZCOYQTnEUBs4NQooAASQIgwG/A7GhJAo4Bht9czEkC+0Kd+c00SQNog7kUPZxJA9nA0DauAEkARwXrURpoSQCwRwZvisxJASGEHY37NEkBjsU0qGucSQH8BlPG1ABNAmlHauFEaE0C2oSCA7TMTQNHxZkeJTRNA7UGtDiVnE0CRxUfVwIATQKwVjpxcmhNA7O8HZPizE0AHQE4rlM0TQBdig/Iv5xNA",
        "encoding": "base64",
        "path": [
         "_data",
         0,
         "y",
         "buffer"
        ]
       },
       {
        "data": "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",
        "encoding": "base64",
        "path": [
         "_data",
         1,
         "x",
         "buffer"
        ]
       },
       {
        "data": "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",
        "encoding": "base64",
        "path": [
         "_data",
         1,
         "y",
         "buffer"
        ]
       },
       {
        "data": "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",
        "encoding": "base64",
        "path": [
         "_data",
         2,
         "x",
         "buffer"
        ]
       },
       {
        "data": "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",
        "encoding": "base64",
        "path": [
         "_data",
         2,
         "y",
         "buffer"
        ]
       }
      ],
      "model_module": "jupyterlab-plotly",
      "model_module_version": "^5.6.0",
      "model_name": "FigureModel",
      "state": {
       "_config": {
        "plotlyServerURL": "https://plot.ly"
       },
       "_data": [
        {
         "line": {
          "dash": "solid",
          "width": 1.0
         },
         "mode": "lines",
         "name": " | atoms=0",
         "opacity": 1,
         "type": "scatter",
         "uid": "eec432cf-089b-4ee6-818e-eaa2ea3207ba",
         "x": {
          "dtype": "float64",
          "shape": [
           399
          ]
         },
         "y": {
          "dtype": "float64",
          "shape": [
           399
          ]
         }
        },
        {
         "line": {
          "dash": "solid",
          "width": 1.0
         },
         "mode": "lines",
         "name": " | atoms=2",
         "opacity": 1,
         "type": "scatter",
         "uid": "f55c89c3-dce4-4bb7-be8f-2b5f7066cd7c",
         "x": {
          "dtype": "float64",
          "shape": [
           399
          ]
         },
         "y": {
          "dtype": "float64",
          "shape": [
           399
          ]
         }
        },
        {
         "line": {
          "dash": "solid",
          "width": 1.0
         },
         "mode": "lines",
         "name": " | atoms=4",
         "opacity": 1,
         "type": "scatter",
         "uid": "0a527918-abfb-4e4c-b823-06c7dd425483",
         "x": {
          "dtype": "float64",
          "shape": [
           399
          ]
         },
         "y": {
          "dtype": "float64",
          "shape": [
           399
          ]
         }
        }
       ],
       "_dom_classes": [],
       "_js2py_layoutDelta": {},
       "_js2py_pointsCallback": {},
       "_js2py_relayout": {},
       "_js2py_restyle": {},
       "_js2py_traceDeltas": {},
       "_js2py_update": {},
       "_last_layout_edit_id": 0,
       "_last_trace_edit_id": 0,
       "_layout": {
        "showlegend": true,
        "template": {
         "layout": {
          "hovermode": "closest",
          "paper_bgcolor": "white",
          "plot_bgcolor": "white",
          "scene": {
           "xaxis": {
            "color": "black",
            "gridcolor": "#ccc",
            "gridwidth": 1,
            "linewidth": 1,
            "mirror": true,
            "showgrid": false,
            "showline": true,
            "ticklen": 5,
            "ticks": "outside",
            "ticksuffix": " ",
            "visible": true,
            "zeroline": false,
            "zerolinecolor": "#ccc",
            "zerolinewidth": 1
           },
           "yaxis": {
            "color": "black",
            "gridcolor": "#ccc",
            "gridwidth": 1,
            "linewidth": 1,
            "mirror": true,
            "showgrid": false,
            "showline": true,
            "ticklen": 5,
            "ticks": "outside",
            "ticksuffix": " ",
            "visible": true,
            "zeroline": false,
            "zerolinecolor": "#ccc",
            "zerolinewidth": 1
           },
           "zaxis": {
            "color": "black",
            "gridcolor": "#ccc",
            "gridwidth": 1,
            "linewidth": 1,
            "mirror": true,
            "showgrid": false,
            "showline": true,
            "ticklen": 5,
            "ticks": "outside",
            "ticksuffix": " ",
            "visible": true,
            "zeroline": false,
            "zerolinecolor": "#ccc",
            "zerolinewidth": 1
           }
          },
          "xaxis": {
           "color": "black",
           "gridcolor": "#ccc",
           "gridwidth": 1,
           "linewidth": 1,
           "mirror": true,
           "showgrid": false,
           "showline": true,
           "ticklen": 5,
           "ticks": "outside",
           "ticksuffix": " ",
           "visible": true,
           "zeroline": false,
           "zerolinecolor": "#ccc",
           "zerolinewidth": 1
          },
          "yaxis": {
           "color": "black",
           "gridcolor": "#ccc",
           "gridwidth": 1,
           "linewidth": 1,
           "mirror": true,
           "showgrid": false,
           "showline": true,
           "ticklen": 5,
           "ticks": "outside",
           "ticksuffix": " ",
           "visible": true,
           "zeroline": false,
           "zerolinecolor": "#ccc",
           "zerolinewidth": 1
          }
         }
        },
        "xaxis": {
         "mirror": true,
         "title": {
          "text": "Density of states [1/eV]"
         }
        },
        "yaxis": {
         "mirror": true,
         "range": [
          -4.977538290000001,
          4.975768842
         ],
         "title": {
          "text": "Energy [eV]"
         }
        }
       },
       "_model_module": "jupyterlab-plotly",
       "_model_module_version": "^5.6.0",
       "_model_name": "FigureModel",
       "_py2js_addTraces": {},
       "_py2js_animate": {},
       "_py2js_deleteTraces": {},
       "_py2js_moveTraces": {},
       "_py2js_relayout": {},
       "_py2js_removeLayoutProps": {},
       "_py2js_removeTraceProps": {},
       "_py2js_restyle": {},
       "_py2js_update": {},
       "_view_count": 0,
       "_view_module": "jupyterlab-plotly",
       "_view_module_version": "^5.6.0",
       "_view_name": "FigureView"
      }
     },
     "570cc6f9c8254197ae13a2822d606167": {
      "buffers": [
       {
        "data": "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",
        "encoding": "base64",
        "path": [
         "_data",
         0,
         "x",
         "buffer"
        ]
       },
       {
        "data": "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",
        "encoding": "base64",
        "path": [
         "_data",
         0,
         "y",
         "buffer"
        ]
       },
       {
        "data": "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",
        "encoding": "base64",
        "path": [
         "_data",
         1,
         "x",
         "buffer"
        ]
       },
       {
        "data": "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",
        "encoding": "base64",
        "path": [
         "_data",
         1,
         "y",
         "buffer"
        ]
       },
       {
        "data": "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",
        "encoding": "base64",
        "path": [
         "_data",
         2,
         "x",
         "buffer"
        ]
       },
       {
        "data": "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",
        "encoding": "base64",
        "path": [
         "_data",
         2,
         "y",
         "buffer"
        ]
       }
      ],
      "model_module": "jupyterlab-plotly",
      "model_module_version": "^5.6.0",
      "model_name": "FigureModel",
      "state": {
       "_config": {
        "plotlyServerURL": "https://plot.ly"
       },
       "_data": [
        {
         "line": {
          "dash": "solid",
          "width": 1.0
         },
         "mode": "lines",
         "name": " | species=Sr",
         "opacity": 1,
         "type": "scatter",
         "uid": "1d2b4fb4-c718-40e4-a97d-01a2e6f6b2d0",
         "x": {
          "dtype": "float64",
          "shape": [
           399
          ]
         },
         "y": {
          "dtype": "float64",
          "shape": [
           399
          ]
         }
        },
        {
         "line": {
          "dash": "solid",
          "width": 1.0
         },
         "mode": "lines",
         "name": " | species=Ti",
         "opacity": 1,
         "type": "scatter",
         "uid": "2fcc8f28-2051-44e8-a607-4e7eb3b55dc4",
         "x": {
          "dtype": "float64",
          "shape": [
           399
          ]
         },
         "y": {
          "dtype": "float64",
          "shape": [
           399
          ]
         }
        },
        {
         "line": {
          "dash": "solid",
          "width": 1.0
         },
         "mode": "lines",
         "name": " | species=O",
         "opacity": 1,
         "type": "scatter",
         "uid": "bf8c61b9-385e-476d-bce8-15b56ee49ab1",
         "x": {
          "dtype": "float64",
          "shape": [
           399
          ]
         },
         "y": {
          "dtype": "float64",
          "shape": [
           399
          ]
         }
        }
       ],
       "_dom_classes": [],
       "_js2py_layoutDelta": {},
       "_js2py_pointsCallback": {},
       "_js2py_relayout": {},
       "_js2py_restyle": {},
       "_js2py_traceDeltas": {},
       "_js2py_update": {},
       "_last_layout_edit_id": 0,
       "_last_trace_edit_id": 0,
       "_layout": {
        "showlegend": true,
        "template": {
         "layout": {
          "hovermode": "closest",
          "paper_bgcolor": "white",
          "plot_bgcolor": "white",
          "scene": {
           "xaxis": {
            "color": "black",
            "gridcolor": "#ccc",
            "gridwidth": 1,
            "linewidth": 1,
            "mirror": true,
            "showgrid": false,
            "showline": true,
            "ticklen": 5,
            "ticks": "outside",
            "ticksuffix": " ",
            "visible": true,
            "zeroline": false,
            "zerolinecolor": "#ccc",
            "zerolinewidth": 1
           },
           "yaxis": {
            "color": "black",
            "gridcolor": "#ccc",
            "gridwidth": 1,
            "linewidth": 1,
            "mirror": true,
            "showgrid": false,
            "showline": true,
            "ticklen": 5,
            "ticks": "outside",
            "ticksuffix": " ",
            "visible": true,
            "zeroline": false,
            "zerolinecolor": "#ccc",
            "zerolinewidth": 1
           },
           "zaxis": {
            "color": "black",
            "gridcolor": "#ccc",
            "gridwidth": 1,
            "linewidth": 1,
            "mirror": true,
            "showgrid": false,
            "showline": true,
            "ticklen": 5,
            "ticks": "outside",
            "ticksuffix": " ",
            "visible": true,
            "zeroline": false,
            "zerolinecolor": "#ccc",
            "zerolinewidth": 1
           }
          },
          "xaxis": {
           "color": "black",
           "gridcolor": "#ccc",
           "gridwidth": 1,
           "linewidth": 1,
           "mirror": true,
           "showgrid": false,
           "showline": true,
           "ticklen": 5,
           "ticks": "outside",
           "ticksuffix": " ",
           "visible": true,
           "zeroline": false,
           "zerolinecolor": "#ccc",
           "zerolinewidth": 1
          },
          "yaxis": {
           "color": "black",
           "gridcolor": "#ccc",
           "gridwidth": 1,
           "linewidth": 1,
           "mirror": true,
           "showgrid": false,
           "showline": true,
           "ticklen": 5,
           "ticks": "outside",
           "ticksuffix": " ",
           "visible": true,
           "zeroline": false,
           "zerolinecolor": "#ccc",
           "zerolinewidth": 1
          }
         }
        },
        "xaxis": {
         "mirror": true,
         "title": {
          "text": "Density of states [1/eV]"
         }
        },
        "yaxis": {
         "mirror": true,
         "range": [
          -4.977538290000001,
          4.975768842
         ],
         "title": {
          "text": "Energy [eV]"
         }
        }
       },
       "_model_module": "jupyterlab-plotly",
       "_model_module_version": "^5.6.0",
       "_model_name": "FigureModel",
       "_py2js_addTraces": {},
       "_py2js_animate": {},
       "_py2js_deleteTraces": {},
       "_py2js_moveTraces": {},
       "_py2js_relayout": {},
       "_py2js_removeLayoutProps": {},
       "_py2js_removeTraceProps": {},
       "_py2js_restyle": {},
       "_py2js_update": {},
       "_view_count": 0,
       "_view_module": "jupyterlab-plotly",
       "_view_module_version": "^5.6.0",
       "_view_name": "FigureView"
      }
     },
     "6b636c171be84e49acfa3df010674f76": {
      "buffers": [
       {
        "data": "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",
        "encoding": "base64",
        "path": [
         "_data",
         0,
         "x",
         "buffer"
        ]
       },
       {
        "data": "E40ozP/oE8BtCY4FZM8TwMmF8z7ItRPAJQJZeCycE8CBfr6xkIITwN36I+v0aBPAkXrTHVlPE8Dt9jhXvTUTwElznpAhHBPApe8DyoUCE8D/a2kD6ugSwFvozjxOzxLAt2Q0drK1EsAT4ZmvFpwSwG9d/+h6ghLAydlkIt9oEsAlVspbQ08SwNvVeY6nNRLANVLfxwscEsCRzkQBcAISwO1KqjrU6BHASccPdDjPEcClQ3WtnLURwP+/2uYAnBHAWzxAIGWCEcC3uKVZyWgRwBM1C5MtTxHAx7S6xZE1EcAjMSD/9RsRwH+thThaAhHA2ynrcb7oEMA3plCrIs8QwJEituSGtRDA7Z4bHuubEMBJG4FXT4IQwKWX5pCzaBDAI+KcxxdPEMB/XgIBfDUQwGUOvDngGxDASb51ckQCEMBa3F5WUdEPwCI80scZng/A7ptFOeJqD8C2+7iqqjcPwH5bLBxzBA/ARrufjTvRDsASGxP/A54OwNp6hnDMag7Aotr54ZQ3DsBqOm1TXQQOwDaa4MQl0Q3A/vlTNu6dDcDGWcentmoNwH5Skhp/Nw3ARrIFjEcEDcASEnn9D9EMwNpx7G7YnQzAotFf4KBqDMBqMdNRaTcMwDaRRsMxBAzA/vC5NPrQC8DGUC2mwp0LwI6woBeLagvAWhAUiVM3C8AicIf6GwQLwOrP+mvk0ArAti9u3aydCsB+j+FOdWoKwEbvVMA9NwrA/ucfMwYECsDGR5OkztAJwI6nBhaXnQnAWgd6h19qCcAiZ+34JzcJwOrGYGrwAwnAtibU27jQCMB+hkdNgZ0IwEbmur5JagjADkYuMBI3CMDapaGh2gMIwKIFFROj0AfAamWIhGudB8Ayxfv1M2oHwP4kb2f8NgfAxoTi2MQDB8B+fa1LjdAGwEbdIL1VnQbADj2ULh5qBsDanAeg5jYGwKL8ehGvAwbAalzugnfQBcAyvGH0P50FwP4b1WUIagXAxntI19A2BcCO27tImQMFwFY7L7ph0ATAIpuiKyqdBMDq+hWd8mkEwLJaiQ67NgTAfrr8f4MDBMBGGnDxS9ADwA5642IUnQPAxnKu1dxpA8CO0iFHpTYDwFYylbhtAwPAIpIIKjbQAsDq8Xub/pwCwLJR7wzHaQLAerFifo82AsBGEdbvVwMCwA5xSWEg0AHA1tC80uicAcCiMDBEsWkBwGqQo7V5NgHAMvAWJ0IDAcD6T4qYCtAAwMSv/QnTnADAjg9xe5tpAMBECDzuYzYAwA5or18sAwDArI9Foumf/79ATyyFejn/v9QOE2gL0/6/ZM75Spxs/r/4jeAtLQb+v4hNxxC+n/2/HA2u8045/b+szJTW39L8v0CMe7lwbPy/0EtinAEG/L9kC0l/kp/7v/TKL2IjOfu/iIoWRbTS+r8YSv0nRWz6v4g7kw3WBfq/HPt58Gaf+b+sumDT9zj5v0B6R7aI0vi/0DkumRls+L9k+RR8qgX4v/S4+147n/e/iHjiQcw4978YOMkkXdL2v6z3rwfua/a/PLeW6n4F9r/Qdn3ND5/1v2Q2ZLCgOPW/9PVKkzHS9L+ItTF2wmv0vxh1GFlTBfS/iGauPuSe878YJpUhdTjzv6zlewQG0vK/PKVi55Zr8r/QZEnKJwXyv2AkMK24nvG/9OMWkEk48b+Eo/1y2tHwvxhj5FVra/C/rCLLOPwE8L94xGM3Gj3vv6BDMf07cO6/wML+wl2j7b/oQcyIf9bsvwjBmU6hCey/MEBnFMM8679QvzTa5G/qvzCiYKUGo+m/UCEuayjW6L94oPswSgnov6AfyfZrPOe/wJ6WvI1v5r/oHWSCr6LlvwidMUjR1eS/MBz/DfMI5L9Qm8zTFDzjv3gampk2b+K/mJlnX1ii4b/AGDUletXgv+CXAuubCOC/EC6gYXt33r9QLDvtvt3cv6Aq1ngCRNu/YPAtD0aq2b+g7siaiRDYv/DsYybNdta/MOv+sRDd1L+A6Zk9VEPTv8DnNMmXqdG/EObPVNsP0L+gyNXAPezMv0DFC9jEuMm/wMFB70uFxr9gvncG01HDvwC7rR1aHsC/AG/HacLVub9AaDOY0G6zv4DCPo29D6q/AGot1LODmr8AoDg1p/1MvwBWpgzas5g/ADl7qdAnqT9Ao1Em2vqyP0Cq5ffLYbk/ALF5yb3Ivz/g24bN1xfDP2DfULZQS8Y/wOIan8l+yT9A5uSHQrLMP6DprnC75c8/kHa8LJqM0T9AeCGhVibTPwB6hhUTwNQ/sHvric9Z1j9wfVD+i/PXP7C3+GdIjdk/cLld3AQn2z8gu8JQwcDcP9C8J8V9Wt4/kL6MOTr03z8g4PhW+8bgPwBhK5HZk+E/2OFdy7dg4j+4YpAFli3jP5Djwj90+uM/cGT1eVLH5D9I5Se0MJTlPyhmWu4OYeY/AOeMKO0t5z/gZ79iy/rnP7jo8Zypx+g/kGkk14eU6T+4hvgLZmHqP5AHK0ZELus/cIhdgCL76z9ICZC6AMjsPyiKwvTelO0/AAv1Lr1h7j/giydpmy7vP7gMWqN5++8/zEbG7itk8D84h98Lm8rwP6TH+CgKMfE/FAgSRnmX8T+ASCtj6P3xP/CIRIBXZPI/XMldncbK8j/MCXe6NTHzP1wY4dSkl/M/zFj68RP+8z84mRMPg2T0P6jZLCzyyvQ/FBpGSWEx9T+AWl9m0Jf1P/CaeIM//vU/XNuRoK5k9j/MG6u9Hcv2PzhcxNqMMfc/qJzd9/uX9z8U3fYUa/73P4QdEDLaZPg/8F0pT0nL+D9gnkJsuDH5P8zeW4knmPk/XO3Fo5b++T/MLd/ABWX6Pzhu+N10y/o/qK4R++Mx+z8U7yoYU5j7P4QvRDXC/vs/8G9dUjFl/D9gsHZvoMv8P8zwj4wPMv0/PDGpqX6Y/T+occLG7f79Pxiy2+NcZf4/hPL0AMzL/j/yMg4eOzL/P2BzJzuqmP8/zrNAWBn//z8wYVU5xDIAQGcB4sf7ZQBAnaFuVjOZAEDUQfvkaswAQAvih3Oi/wBAQoIUAtoyAUB5IqGQEWYBQLDCLR9JmQFA52K6rYDMAUAeA0c8uP8BQFWj08rvMgJAjENgWSdmAkDD4+znXpkCQPqDeXaWzAJAMSQGBc7/AkBnxJKTBTMDQLDLxyA9ZgNA52tUr3SZA0AeDOE9rMwDQFWsbczj/wNAjEz6WhszBEDD7IbpUmYEQPqME3iKmQRAMS2gBsLMBEBozSyV+f8EQJ9tuSMxMwVA1g1GsmhmBUAMrtJAoJkFQENOX8/XzAVAeu7rXQ8ABkCxjnjsRjMGQOguBXt+ZgZAH8+RCbaZBkBo1saW7cwGQJ92UyUlAAdA1hbgs1wzB0ANt2xClGYHQERX+dDLmQdAeveFXwPNB0CxlxLuOgAIQOg3n3xyMwhAH9grC6pmCEBWeLiZ4ZkIQI0YRSgZzQhAxLjRtlAACUD7WF5FiDMJQDL56tO/ZglAaZl3YveZCUCgOQTxLs0JQOlAOX5mAApAH+HFDJ4zCkBWgVKb1WYKQI0h3ykNmgpAxMFruETNCkD7YfhGfAALQDIChdWzMwtAaaIRZOtmC0CgQp7yIpoLQNfiKoFazQtADoO3D5IADEBFI0SeyTMMQHzD0CwBZwxAs2NduziaDEDpA+pJcM0MQCCkdtinAA1AaaurZd8zDUCgSzj0FmcNQNfrxIJOmg1ADoxREYbNDUBFLN6fvQAOQHzMai71Mw5As2z3vCxnDkDqDIRLZJoOQCGtENqbzQ5AV02daNMAD0CO7Sn3CjQPQMaNtoVCZw9A/C1DFHqaD0Azzs+isc0PQDU3rph0ABBAUIf0XxAaEED1Co8mrDMQQBBb1e1HTRBALKsbteNmEEBH+2F8f4AQQGNLqEMbmhBAfpvuCrezEECa6zTSUs0QQLU7e5nu5hBA0IvBYIoAEUDs2wcoJhoRQAgsTu/BMxFAI3yUtl1NEUA+zNp9+WYRQFocIUWVgBFAdmxnDDGaEUCRvK3TzLMRQKwM9JpozRFAUZCOYQTnEUBs4NQooAASQIgwG/A7GhJAo4Bht9czEkC+0Kd+c00SQNog7kUPZxJA9nA0DauAEkARwXrURpoSQCwRwZvisxJASGEHY37NEkBjsU0qGucSQH8BlPG1ABNAmlHauFEaE0C2oSCA7TMTQNHxZkeJTRNA7UGtDiVnE0CRxUfVwIATQKwVjpxcmhNA7O8HZPizE0AHQE4rlM0TQBdig/Iv5xNA",
        "encoding": "base64",
        "path": [
         "_data",
         0,
         "y",
         "buffer"
        ]
       },
       {
        "data": "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",
        "encoding": "base64",
        "path": [
         "_data",
         1,
         "x",
         "buffer"
        ]
       },
       {
        "data": "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",
        "encoding": "base64",
        "path": [
         "_data",
         1,
         "y",
         "buffer"
        ]
       },
       {
        "data": "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",
        "encoding": "base64",
        "path": [
         "_data",
         2,
         "x",
         "buffer"
        ]
       },
       {
        "data": "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",
        "encoding": "base64",
        "path": [
         "_data",
         2,
         "y",
         "buffer"
        ]
       },
       {
        "data": "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",
        "encoding": "base64",
        "path": [
         "_data",
         3,
         "x",
         "buffer"
        ]
       },
       {
        "data": "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",
        "encoding": "base64",
        "path": [
         "_data",
         3,
         "y",
         "buffer"
        ]
       },
       {
        "data": "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",
        "encoding": "base64",
        "path": [
         "_data",
         4,
         "x",
         "buffer"
        ]
       },
       {
        "data": "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",
        "encoding": "base64",
        "path": [
         "_data",
         4,
         "y",
         "buffer"
        ]
       },
       {
        "data": "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",
        "encoding": "base64",
        "path": [
         "_data",
         5,
         "x",
         "buffer"
        ]
       },
       {
        "data": "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",
        "encoding": "base64",
        "path": [
         "_data",
         5,
         "y",
         "buffer"
        ]
       },
       {
        "data": "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",
        "encoding": "base64",
        "path": [
         "_data",
         6,
         "x",
         "buffer"
        ]
       },
       {
        "data": "E40ozP/oE8BtCY4FZM8TwMmF8z7ItRPAJQJZeCycE8CBfr6xkIITwN36I+v0aBPAkXrTHVlPE8Dt9jhXvTUTwElznpAhHBPApe8DyoUCE8D/a2kD6ugSwFvozjxOzxLAt2Q0drK1EsAT4ZmvFpwSwG9d/+h6ghLAydlkIt9oEsAlVspbQ08SwNvVeY6nNRLANVLfxwscEsCRzkQBcAISwO1KqjrU6BHASccPdDjPEcClQ3WtnLURwP+/2uYAnBHAWzxAIGWCEcC3uKVZyWgRwBM1C5MtTxHAx7S6xZE1EcAjMSD/9RsRwH+thThaAhHA2ynrcb7oEMA3plCrIs8QwJEituSGtRDA7Z4bHuubEMBJG4FXT4IQwKWX5pCzaBDAI+KcxxdPEMB/XgIBfDUQwGUOvDngGxDASb51ckQCEMBa3F5WUdEPwCI80scZng/A7ptFOeJqD8C2+7iqqjcPwH5bLBxzBA/ARrufjTvRDsASGxP/A54OwNp6hnDMag7Aotr54ZQ3DsBqOm1TXQQOwDaa4MQl0Q3A/vlTNu6dDcDGWcentmoNwH5Skhp/Nw3ARrIFjEcEDcASEnn9D9EMwNpx7G7YnQzAotFf4KBqDMBqMdNRaTcMwDaRRsMxBAzA/vC5NPrQC8DGUC2mwp0LwI6woBeLagvAWhAUiVM3C8AicIf6GwQLwOrP+mvk0ArAti9u3aydCsB+j+FOdWoKwEbvVMA9NwrA/ucfMwYECsDGR5OkztAJwI6nBhaXnQnAWgd6h19qCcAiZ+34JzcJwOrGYGrwAwnAtibU27jQCMB+hkdNgZ0IwEbmur5JagjADkYuMBI3CMDapaGh2gMIwKIFFROj0AfAamWIhGudB8Ayxfv1M2oHwP4kb2f8NgfAxoTi2MQDB8B+fa1LjdAGwEbdIL1VnQbADj2ULh5qBsDanAeg5jYGwKL8ehGvAwbAalzugnfQBcAyvGH0P50FwP4b1WUIagXAxntI19A2BcCO27tImQMFwFY7L7ph0ATAIpuiKyqdBMDq+hWd8mkEwLJaiQ67NgTAfrr8f4MDBMBGGnDxS9ADwA5642IUnQPAxnKu1dxpA8CO0iFHpTYDwFYylbhtAwPAIpIIKjbQAsDq8Xub/pwCwLJR7wzHaQLAerFifo82AsBGEdbvVwMCwA5xSWEg0AHA1tC80uicAcCiMDBEsWkBwGqQo7V5NgHAMvAWJ0IDAcD6T4qYCtAAwMSv/QnTnADAjg9xe5tpAMBECDzuYzYAwA5or18sAwDArI9Foumf/79ATyyFejn/v9QOE2gL0/6/ZM75Spxs/r/4jeAtLQb+v4hNxxC+n/2/HA2u8045/b+szJTW39L8v0CMe7lwbPy/0EtinAEG/L9kC0l/kp/7v/TKL2IjOfu/iIoWRbTS+r8YSv0nRWz6v4g7kw3WBfq/HPt58Gaf+b+sumDT9zj5v0B6R7aI0vi/0DkumRls+L9k+RR8qgX4v/S4+147n/e/iHjiQcw4978YOMkkXdL2v6z3rwfua/a/PLeW6n4F9r/Qdn3ND5/1v2Q2ZLCgOPW/9PVKkzHS9L+ItTF2wmv0vxh1GFlTBfS/iGauPuSe878YJpUhdTjzv6zlewQG0vK/PKVi55Zr8r/QZEnKJwXyv2AkMK24nvG/9OMWkEk48b+Eo/1y2tHwvxhj5FVra/C/rCLLOPwE8L94xGM3Gj3vv6BDMf07cO6/wML+wl2j7b/oQcyIf9bsvwjBmU6hCey/MEBnFMM8679QvzTa5G/qvzCiYKUGo+m/UCEuayjW6L94oPswSgnov6AfyfZrPOe/wJ6WvI1v5r/oHWSCr6LlvwidMUjR1eS/MBz/DfMI5L9Qm8zTFDzjv3gampk2b+K/mJlnX1ii4b/AGDUletXgv+CXAuubCOC/EC6gYXt33r9QLDvtvt3cv6Aq1ngCRNu/YPAtD0aq2b+g7siaiRDYv/DsYybNdta/MOv+sRDd1L+A6Zk9VEPTv8DnNMmXqdG/EObPVNsP0L+gyNXAPezMv0DFC9jEuMm/wMFB70uFxr9gvncG01HDvwC7rR1aHsC/AG/HacLVub9AaDOY0G6zv4DCPo29D6q/AGot1LODmr8AoDg1p/1MvwBWpgzas5g/ADl7qdAnqT9Ao1Em2vqyP0Cq5ffLYbk/ALF5yb3Ivz/g24bN1xfDP2DfULZQS8Y/wOIan8l+yT9A5uSHQrLMP6DprnC75c8/kHa8LJqM0T9AeCGhVibTPwB6hhUTwNQ/sHvric9Z1j9wfVD+i/PXP7C3+GdIjdk/cLld3AQn2z8gu8JQwcDcP9C8J8V9Wt4/kL6MOTr03z8g4PhW+8bgPwBhK5HZk+E/2OFdy7dg4j+4YpAFli3jP5Djwj90+uM/cGT1eVLH5D9I5Se0MJTlPyhmWu4OYeY/AOeMKO0t5z/gZ79iy/rnP7jo8Zypx+g/kGkk14eU6T+4hvgLZmHqP5AHK0ZELus/cIhdgCL76z9ICZC6AMjsPyiKwvTelO0/AAv1Lr1h7j/giydpmy7vP7gMWqN5++8/zEbG7itk8D84h98Lm8rwP6TH+CgKMfE/FAgSRnmX8T+ASCtj6P3xP/CIRIBXZPI/XMldncbK8j/MCXe6NTHzP1wY4dSkl/M/zFj68RP+8z84mRMPg2T0P6jZLCzyyvQ/FBpGSWEx9T+AWl9m0Jf1P/CaeIM//vU/XNuRoK5k9j/MG6u9Hcv2PzhcxNqMMfc/qJzd9/uX9z8U3fYUa/73P4QdEDLaZPg/8F0pT0nL+D9gnkJsuDH5P8zeW4knmPk/XO3Fo5b++T/MLd/ABWX6Pzhu+N10y/o/qK4R++Mx+z8U7yoYU5j7P4QvRDXC/vs/8G9dUjFl/D9gsHZvoMv8P8zwj4wPMv0/PDGpqX6Y/T+occLG7f79Pxiy2+NcZf4/hPL0AMzL/j/yMg4eOzL/P2BzJzuqmP8/zrNAWBn//z8wYVU5xDIAQGcB4sf7ZQBAnaFuVjOZAEDUQfvkaswAQAvih3Oi/wBAQoIUAtoyAUB5IqGQEWYBQLDCLR9JmQFA52K6rYDMAUAeA0c8uP8BQFWj08rvMgJAjENgWSdmAkDD4+znXpkCQPqDeXaWzAJAMSQGBc7/AkBnxJKTBTMDQLDLxyA9ZgNA52tUr3SZA0AeDOE9rMwDQFWsbczj/wNAjEz6WhszBEDD7IbpUmYEQPqME3iKmQRAMS2gBsLMBEBozSyV+f8EQJ9tuSMxMwVA1g1GsmhmBUAMrtJAoJkFQENOX8/XzAVAeu7rXQ8ABkCxjnjsRjMGQOguBXt+ZgZAH8+RCbaZBkBo1saW7cwGQJ92UyUlAAdA1hbgs1wzB0ANt2xClGYHQERX+dDLmQdAeveFXwPNB0CxlxLuOgAIQOg3n3xyMwhAH9grC6pmCEBWeLiZ4ZkIQI0YRSgZzQhAxLjRtlAACUD7WF5FiDMJQDL56tO/ZglAaZl3YveZCUCgOQTxLs0JQOlAOX5mAApAH+HFDJ4zCkBWgVKb1WYKQI0h3ykNmgpAxMFruETNCkD7YfhGfAALQDIChdWzMwtAaaIRZOtmC0CgQp7yIpoLQNfiKoFazQtADoO3D5IADEBFI0SeyTMMQHzD0CwBZwxAs2NduziaDEDpA+pJcM0MQCCkdtinAA1AaaurZd8zDUCgSzj0FmcNQNfrxIJOmg1ADoxREYbNDUBFLN6fvQAOQHzMai71Mw5As2z3vCxnDkDqDIRLZJoOQCGtENqbzQ5AV02daNMAD0CO7Sn3CjQPQMaNtoVCZw9A/C1DFHqaD0Azzs+isc0PQDU3rph0ABBAUIf0XxAaEED1Co8mrDMQQBBb1e1HTRBALKsbteNmEEBH+2F8f4AQQGNLqEMbmhBAfpvuCrezEECa6zTSUs0QQLU7e5nu5hBA0IvBYIoAEUDs2wcoJhoRQAgsTu/BMxFAI3yUtl1NEUA+zNp9+WYRQFocIUWVgBFAdmxnDDGaEUCRvK3TzLMRQKwM9JpozRFAUZCOYQTnEUBs4NQooAASQIgwG/A7GhJAo4Bht9czEkC+0Kd+c00SQNog7kUPZxJA9nA0DauAEkARwXrURpoSQCwRwZvisxJASGEHY37NEkBjsU0qGucSQH8BlPG1ABNAmlHauFEaE0C2oSCA7TMTQNHxZkeJTRNA7UGtDiVnE0CRxUfVwIATQKwVjpxcmhNA7O8HZPizE0AHQE4rlM0TQBdig/Iv5xNA",
        "encoding": "base64",
        "path": [
         "_data",
         6,
         "y",
         "buffer"
        ]
       },
       {
        "data": "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",
        "encoding": "base64",
        "path": [
         "_data",
         7,
         "x",
         "buffer"
        ]
       },
       {
        "data": "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",
        "encoding": "base64",
        "path": [
         "_data",
         7,
         "y",
         "buffer"
        ]
       },
       {
        "data": "5ZZDOwFOsD8ZflShwRWsP+4BNWUOJag/aNk2uoYnpT/rrqzTd1GjP/G6P1B6raI/J9zERr8noz/wMoaiy5+kP6qtkRR/+aY/959PAcQmqj9nDzpA5yWuPz8u7bdcerE/m5SBCJU+tD98A683qUG3PyxQ1BG7Tro/C8v3P84dvT/0hO1/cF+/P6g48qegZsA/ZfMuIDKdwD8Drbrza0/APxA5gDKOGr8/Bdbbq/rvvD9Nig2WZHi6Pz6CX8CYFbg/4k/vyVAktj8ovYFBcvG0P4LG+0nZsrQ/hxnJ8XeDtT/bfU8VRmK3P4vqb/CTM7o/8KLvRYLEvT+eOCnOOujAP1Pk7ewlBMM/JO/us3ENxT/7y+HkC9/GP3VgGOpiW8g/U5Qe3QJvyT8Vi9bHBxHKP/BZwA05Qco/ILy0sIsEyj99GHeJh2HJPz4oWDUiXsg/pt4aXur/xj89AXEYJU7FP+5s70CEVMM/qa+ne9ckwT93/miwba29P/7GF2ViCrk/TWb5m9OWtD9M/tZJsIKwP3DYKusj5qk/QV6Us30ApD/14naMXNaePw9VgqnrSZg/F6EhEA4ulD8z0/DJIzCSP0572smR4ZE/ikaeMpTFkj+SnKIqoWOUP0SqE+n7WpY/iDdSRGVxmD8yMfYbgZaaP6d+oEp82Jw/BGIujSFMnz/kf1S2UPigP9tD4RpKTaI/bWtOOyt4oz+kr4c+tD2kPzw7HyrzZKQ/5Dj6DBzKoz9qhHAMtGyiP7kbggU7dKA//mqXkfdUnD+nUdcB6NyXP172RMd7SZQ/AhX8yLhTkj/pGDH8z5CSPywpB6b9ZJU/OVvHR+r4mj8AQJgvWZehPxT8bnezy6Y/4JnVij23rD+GzCNHpGixP9xs1qZlPLQ/zzck9iiGtj9sHHyQLAS4P0PCDRKkkrg/XJkToFs2uD9GnUnHaR+3P0iYEYAzorU/gs3e86kntD987oU+JRizP3Ufxv7NxbI/+nkC1J9bsz+UrKVn0tS0P5Rq3Q5b/rY/9KECH/iBuT+/IaZaSPi7P041tsAn/r0/leAvW+1Ivz9lsfaCUbW/PxSkDvy3Tb8/h/UB5U5Gvj9LYy5Bsu+8P+x51YIUo7s/e+J2gbisuj8KqubnOzq6P0PxDQVwUbo/P58lZkDSuj8U29sn64K7P8/gxBGXIrw/bm5EpUR8vD88Cbx/N3S8P/2GB7FKDLw/7F7cuzRfuz+0wAbg95W6P7scP+w23Lk/Zpi+h2xXuT/Du/g7zCK5PzN3cbwxT7k/aUm3ExXluT8a8J5rcea6P1Gb3892T7w/xcfKFwsWvj/d8ikzahTAP1RtrAtPN8E/IYC/0E1jwj+Txm1czoTDP7ZIuwoVhsQ/xEjM/sZQxT/bR6gA7s/FP+vr7Vho8sU/8Luv72itxT8Cmn5JZf7EP1sbj8C+68M/IIFIOMWDwj+wRKZkSNrAP14Fu80IC74/Wk+9ZN02uj8ZVfo7UmC2P7QwOvyGq7I/fiYE6V5zrj+Y1vfF/FSoPxoTHzL8OKM/lzlXaCOvnj8+1ZBSMr2ZP/zcNL1q1Jc/LILOFFb5mD9cTxvsme2cPwYID73vkqE/txyiZiBlpT90nMR+R2OpP7nAO/o69qw/m7Nk/JeRrz8UY0nMeGawP7Kp6PeUO7A/rBjdeuCdrj+ZrWENqIarP9rkRxZknKc/ZB3d9txWoz8JYVVuV0eeP4yPuSsfrJY/GKfIuAdAkD/Bbh4qGU+GP24RwmtJV30/hNZRq2F8cj/sO11DDVBmP1LBhOxNyVk/sjAEH7yDTD9rHIkCTiU+P7w+2ffhcC4/JRfuc9VUHT8JwB4a5PAKP78JzFbOkPc+mJ0KT9Sc4z5XQpd18QjPPnM6d+V8U7c+tMAUDCduoD7ObHYAJFCGPqqGzKtVOGs+dE+c8RG9UD5QdWQuR3kzPgAAAAAAAAAAAAAAAAAAAAAAAAAAAAAAAAAAAAAAAAAAAAAAAAAAAAAAAAAAAAAAAAAAAAAAAAAAAAAAAAAAAAAAAAAAAAAAAAAAAAAAAAAAAAAAAAAAAAAAAAAAAAAAAAAAAAAAAAAAAAAAAAAAAAAAAAAAAAAAAAAAAAAAAAAAAAAAAAAAAAAAAAAAAAAAAAAAAAAAAAAAAAAAAAAAAAAAAAAAAAAAAAAAAAAAAAAAAAAAAAAAAAAAAAAAAAAAAAAAAAAAAAAAAAAAAAAAAAAAAAAAAAAAAAAAAAAAAAAAAAAAAAAAAAAAAAAAAAAAAAAAAAAAAAAAAAAAAAAAAAAAAAAAAAAAAAAAAAAAAAAAAAAAAAAAAAAAAAAAAAAAAEPj5mgcrOc9YePoccmxBD4BP83MEx0hPkb6PZsRYzw+I5+DhB89VT4AOqLRTqJuPkB7d0FNsYQ+8MkgeLaLmj7i4Eh4BzKwPlyKusI1yMI+pWGE59G71D4dznO4m87lPgFzl5zd3/U+I/Zgha/yBD+0soWj5CsTPwKvoJ/DyCA/QIuN7XUjLD/kd4sw55k2P1LE84LgZ0E/jOAK2YC3ST+5lACFtTpSP8erWDQtzVg/hy/E+gcxYD8hzmM7rUlkPzSAiIo5ZGg/G3562mMibD/gessR9yBvP2uECgcshHA/MdOG7l/OcD870PeIBWVwP3WJe/f3p24/oXsaEbB1az/TZceA0o1nPzTxJRobVmM/efJ1d0ldXj/pAFvH78hWP0RJP2ehU1A/Bed89wNTRj+EPFLCpRk9P8aLlettETI/AdMqKShfJT/0NLVAoCUYP0x6LVnJgAo/8uIgPamR/j44u0cUerP3Pgsk23shlf8+5bRJwCaVDT9JM+YX0rcdPzdZXgPBHS0/DJdoEQ88Oz+cbxFUlzlIPx9AijcNfFQ/sVj8G695YD+PDhwN6TlpP9X/lJaQZnI/5CWWbLyaeT9IBrBdSwOBP2yzmOLhnoU/fNqPsDRQij8V9QwzZLaOP+x20QtNNpE/FPwkkEOMkj8092Qs0zuTP+OKoJ6bNJM/DLlbIdh5kj8X9N5efiKRPx7EJuEnrY4/jOUOoJeTij9vwrUc/meGP76xXZCEkYI/pAuAeHi/fj+YICsBtwF6P0xBY7II/3Y/2PK6NACQdT+j/GzQamV1P4w+C5xxIHY/CBnCfupmdz/UL1par+94P9EFHAXghno/owA1PrUNfD9wZA+JDHt9P5k8jXRs4H4/ftuzh6U5gD/gAdviwEqBP3mzGBA66oI/WEM/Nl9rhT983Q+MqBqJP7kD42nrIo4/YbUQt2U5kj/wO5aEYNaVP6hOydJelZk/EtKUV2IMnT9HepdEs9CfPyGyGt/Yx6A/zQUGhyQRoT8RLBZAT8qgP9kKlIDgD6A/q8qx3Q8Ynj/cntlCqNabPxSAQKYOpZk/LR09ZH6wlz8V6wCz+QaWP1ypHxXpnJQ/mRZB0PJXkz+JLAwMEhuSPwV9UHaO0JA/VMBKkH7fjj9YPWiE//uLPzaZj5kQF4k/RTEk1Yxbhj++hDPSVvKDP1KnzWBW+IE/+ozZyfB4gD/paaUjtNp+P4sj7Ltgf30/Ndk5Bk2gfD9lyLoyVvV7P1lSWvo/OHs/4cc83bUtej+tTzxFyqx4PwTCs3N3pHY/gO+Ee/sddD9BGCka0jpxP9yfqGz/W2w/SMD6uxZkZj8Vbm8Sw/xgP8RmKfGm/Fg//SfT00tGUj/fAhgc5iRMP57cV8Tt5Eg/suU373u2Sj+clM6zVapQP63Q27mMHlY/fG/OrxdIXT/I2TewPr1iP3S/pFcg5mY/Z5y3zTKWaj9nALalukZtP3e4DsjVjW4/kF/X5pw2bj/bJVIzy01sP5y8wpoPHmk/vDMXnRcdZT99qGvtv89gPzdDj3HPXFk/CTOFgKAiUj+Ea14M9qNIP26CkO9oCEA/uD69eDKIND80klDFCwIsPxxN2XbmySc/ge4jVRb2Kz+U1f/wrYY0P1wawN+KH0A/dBt5giMSST+xCpWHa85SP+qU6XKTDFs/dG5l57ajYj/CdNEEuqRoP5AnhSFWTW8/HSpxglIgcz9D+RLwSIN2PwGZXbOqi3k/1nK7gkr2ez9gT1UybIt9P5cA5vbQKX4/t9Mo/xDPfT9X0DrM3Zl8P2gch8ASxHo/lJRQL1CVeD9HnkZhG1J2Pzs3fBBpLXQ/RJFqrdFBcj9LjtRoh5RwP1C/JmHZP24/tPxUbsvAaz9IgAb7cbppP2Cs372iUmg/5tq1fu62Zz9LVyqn1gJoP9OQ7QcyJ2k/",
        "encoding": "base64",
        "path": [
         "_data",
         8,
         "x",
         "buffer"
        ]
       },
       {
        "data": "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",
        "encoding": "base64",
        "path": [
         "_data",
         8,
         "y",
         "buffer"
        ]
       }
      ],
      "model_module": "jupyterlab-plotly",
      "model_module_version": "^5.6.0",
      "model_name": "FigureModel",
      "state": {
       "_config": {
        "plotlyServerURL": "https://plot.ly"
       },
       "_data": [
        {
         "line": {
          "dash": "solid",
          "width": 1.0
         },
         "mode": "lines",
         "name": "Ti",
         "opacity": 1,
         "type": "scatter",
         "uid": "2bb1660d-2d65-48fe-b435-077fee875fcf",
         "x": {
          "dtype": "float64",
          "shape": [
           399
          ]
         },
         "y": {
          "dtype": "float64",
          "shape": [
           399
          ]
         }
        },
        {
         "line": {
          "dash": "dot",
          "width": 1.0
         },
         "mode": "lines",
         "name": "Sr | n=4, l=0",
         "opacity": 1,
         "type": "scatter",
         "uid": "a5c8b1fb-d1a9-4d75-9311-05ce418602fe",
         "x": {
          "dtype": "float64",
          "shape": [
           399
          ]
         },
         "y": {
          "dtype": "float64",
          "shape": [
           399
          ]
         }
        },
        {
         "line": {
          "dash": "dot",
          "width": 1.0
         },
         "mode": "lines",
         "name": "Sr | n=5, l=0",
         "opacity": 1,
         "type": "scatter",
         "uid": "5eae368e-0811-4aa0-b701-e76d6a3e7f5c",
         "x": {
          "dtype": "float64",
          "shape": [
           399
          ]
         },
         "y": {
          "dtype": "float64",
          "shape": [
           399
          ]
         }
        },
        {
         "line": {
          "dash": "dot",
          "width": 1.0
         },
         "mode": "lines",
         "name": "Sr | n=4, l=1",
         "opacity": 1,
         "type": "scatter",
         "uid": "06143264-55c9-41ea-a662-ce93847dd325",
         "x": {
          "dtype": "float64",
          "shape": [
           399
          ]
         },
         "y": {
          "dtype": "float64",
          "shape": [
           399
          ]
         }
        },
        {
         "line": {
          "dash": "dot",
          "width": 1.0
         },
         "mode": "lines",
         "name": "Sr | n=5, l=1",
         "opacity": 1,
         "type": "scatter",
         "uid": "41ab431f-f504-431f-a8bd-33c45a136ede",
         "x": {
          "dtype": "float64",
          "shape": [
           399
          ]
         },
         "y": {
          "dtype": "float64",
          "shape": [
           399
          ]
         }
        },
        {
         "line": {
          "dash": "dot",
          "width": 1.0
         },
         "mode": "lines",
         "name": "Sr | n=4, l=2",
         "opacity": 1,
         "type": "scatter",
         "uid": "db909595-2f3b-4ba3-a2eb-38eb3ffaee48",
         "x": {
          "dtype": "float64",
          "shape": [
           399
          ]
         },
         "y": {
          "dtype": "float64",
          "shape": [
           399
          ]
         }
        },
        {
         "line": {
          "dash": "dot",
          "width": 1.0
         },
         "mode": "lines",
         "name": "O | n=3, l=2",
         "opacity": 1,
         "type": "scatter",
         "uid": "cd8f3835-8ed6-438b-94bc-ea88a211e18b",
         "x": {
          "dtype": "float64",
          "shape": [
           399
          ]
         },
         "y": {
          "dtype": "float64",
          "shape": [
           399
          ]
         }
        },
        {
         "line": {
          "dash": "dot",
          "width": 1.0
         },
         "mode": "lines",
         "name": "O | n=2, l=0",
         "opacity": 1,
         "type": "scatter",
         "uid": "596ded0e-b0b1-45e6-a62e-ebc4c336314c",
         "x": {
          "dtype": "float64",
          "shape": [
           399
          ]
         },
         "y": {
          "dtype": "float64",
          "shape": [
           399
          ]
         }
        },
        {
         "line": {
          "dash": "dot",
          "width": 1.0
         },
         "mode": "lines",
         "name": "O | n=2, l=1",
         "opacity": 1,
         "type": "scatter",
         "uid": "478b7949-6fcb-480d-8219-d0841b8d01a6",
         "x": {
          "dtype": "float64",
          "shape": [
           399
          ]
         },
         "y": {
          "dtype": "float64",
          "shape": [
           399
          ]
         }
        }
       ],
       "_dom_classes": [],
       "_js2py_layoutDelta": {},
       "_js2py_pointsCallback": {},
       "_js2py_relayout": {},
       "_js2py_restyle": {},
       "_js2py_traceDeltas": {},
       "_js2py_update": {},
       "_last_layout_edit_id": 0,
       "_last_trace_edit_id": 0,
       "_layout": {
        "showlegend": true,
        "template": {
         "layout": {
          "hovermode": "closest",
          "paper_bgcolor": "white",
          "plot_bgcolor": "white",
          "scene": {
           "xaxis": {
            "color": "black",
            "gridcolor": "#ccc",
            "gridwidth": 1,
            "linewidth": 1,
            "mirror": true,
            "showgrid": false,
            "showline": true,
            "ticklen": 5,
            "ticks": "outside",
            "ticksuffix": " ",
            "visible": true,
            "zeroline": false,
            "zerolinecolor": "#ccc",
            "zerolinewidth": 1
           },
           "yaxis": {
            "color": "black",
            "gridcolor": "#ccc",
            "gridwidth": 1,
            "linewidth": 1,
            "mirror": true,
            "showgrid": false,
            "showline": true,
            "ticklen": 5,
            "ticks": "outside",
            "ticksuffix": " ",
            "visible": true,
            "zeroline": false,
            "zerolinecolor": "#ccc",
            "zerolinewidth": 1
           },
           "zaxis": {
            "color": "black",
            "gridcolor": "#ccc",
            "gridwidth": 1,
            "linewidth": 1,
            "mirror": true,
            "showgrid": false,
            "showline": true,
            "ticklen": 5,
            "ticks": "outside",
            "ticksuffix": " ",
            "visible": true,
            "zeroline": false,
            "zerolinecolor": "#ccc",
            "zerolinewidth": 1
           }
          },
          "xaxis": {
           "color": "black",
           "gridcolor": "#ccc",
           "gridwidth": 1,
           "linewidth": 1,
           "mirror": true,
           "showgrid": false,
           "showline": true,
           "ticklen": 5,
           "ticks": "outside",
           "ticksuffix": " ",
           "visible": true,
           "zeroline": false,
           "zerolinecolor": "#ccc",
           "zerolinewidth": 1
          },
          "yaxis": {
           "color": "black",
           "gridcolor": "#ccc",
           "gridwidth": 1,
           "linewidth": 1,
           "mirror": true,
           "showgrid": false,
           "showline": true,
           "ticklen": 5,
           "ticks": "outside",
           "ticksuffix": " ",
           "visible": true,
           "zeroline": false,
           "zerolinecolor": "#ccc",
           "zerolinewidth": 1
          }
         }
        },
        "xaxis": {
         "mirror": true,
         "title": {
          "text": "Density of states [1/eV]"
         }
        },
        "yaxis": {
         "mirror": true,
         "range": [
          -4.977538290000001,
          4.975768842
         ],
         "title": {
          "text": "Energy [eV]"
         }
        }
       },
       "_model_module": "jupyterlab-plotly",
       "_model_module_version": "^5.6.0",
       "_model_name": "FigureModel",
       "_py2js_addTraces": {},
       "_py2js_animate": {},
       "_py2js_deleteTraces": {},
       "_py2js_moveTraces": {},
       "_py2js_relayout": {},
       "_py2js_removeLayoutProps": {},
       "_py2js_removeTraceProps": {},
       "_py2js_restyle": {},
       "_py2js_update": {},
       "_view_count": 0,
       "_view_module": "jupyterlab-plotly",
       "_view_module_version": "^5.6.0",
       "_view_name": "FigureView"
      }
     },
     "6f0b046014c24b6a8aca4f731802380c": {
      "buffers": [
       {
        "data": "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",
        "encoding": "base64",
        "path": [
         "_data",
         0,
         "x",
         "buffer"
        ]
       },
       {
        "data": "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",
        "encoding": "base64",
        "path": [
         "_data",
         0,
         "y",
         "buffer"
        ]
       }
      ],
      "model_module": "jupyterlab-plotly",
      "model_module_version": "^5.6.0",
      "model_name": "FigureModel",
      "state": {
       "_config": {
        "plotlyServerURL": "https://plot.ly"
       },
       "_data": [
        {
         "line": {
          "dash": "solid",
          "width": 1.0
         },
         "mode": "lines",
         "name": "Ti",
         "opacity": 1,
         "type": "scatter",
         "uid": "74cf77f9-3b8e-404f-abc8-fa130590edfb",
         "x": {
          "dtype": "float64",
          "shape": [
           399
          ]
         },
         "y": {
          "dtype": "float64",
          "shape": [
           399
          ]
         }
        }
       ],
       "_dom_classes": [],
       "_js2py_layoutDelta": {},
       "_js2py_pointsCallback": {},
       "_js2py_relayout": {},
       "_js2py_restyle": {},
       "_js2py_traceDeltas": {},
       "_js2py_update": {},
       "_last_layout_edit_id": 0,
       "_last_trace_edit_id": 0,
       "_layout": {
        "showlegend": true,
        "template": {
         "layout": {
          "hovermode": "closest",
          "paper_bgcolor": "white",
          "plot_bgcolor": "white",
          "scene": {
           "xaxis": {
            "color": "black",
            "gridcolor": "#ccc",
            "gridwidth": 1,
            "linewidth": 1,
            "mirror": true,
            "showgrid": false,
            "showline": true,
            "ticklen": 5,
            "ticks": "outside",
            "ticksuffix": " ",
            "visible": true,
            "zeroline": false,
            "zerolinecolor": "#ccc",
            "zerolinewidth": 1
           },
           "yaxis": {
            "color": "black",
            "gridcolor": "#ccc",
            "gridwidth": 1,
            "linewidth": 1,
            "mirror": true,
            "showgrid": false,
            "showline": true,
            "ticklen": 5,
            "ticks": "outside",
            "ticksuffix": " ",
            "visible": true,
            "zeroline": false,
            "zerolinecolor": "#ccc",
            "zerolinewidth": 1
           },
           "zaxis": {
            "color": "black",
            "gridcolor": "#ccc",
            "gridwidth": 1,
            "linewidth": 1,
            "mirror": true,
            "showgrid": false,
            "showline": true,
            "ticklen": 5,
            "ticks": "outside",
            "ticksuffix": " ",
            "visible": true,
            "zeroline": false,
            "zerolinecolor": "#ccc",
            "zerolinewidth": 1
           }
          },
          "xaxis": {
           "color": "black",
           "gridcolor": "#ccc",
           "gridwidth": 1,
           "linewidth": 1,
           "mirror": true,
           "showgrid": false,
           "showline": true,
           "ticklen": 5,
           "ticks": "outside",
           "ticksuffix": " ",
           "visible": true,
           "zeroline": false,
           "zerolinecolor": "#ccc",
           "zerolinewidth": 1
          },
          "yaxis": {
           "color": "black",
           "gridcolor": "#ccc",
           "gridwidth": 1,
           "linewidth": 1,
           "mirror": true,
           "showgrid": false,
           "showline": true,
           "ticklen": 5,
           "ticks": "outside",
           "ticksuffix": " ",
           "visible": true,
           "zeroline": false,
           "zerolinecolor": "#ccc",
           "zerolinewidth": 1
          }
         }
        },
        "xaxis": {
         "mirror": true,
         "title": {
          "text": "Density of states [1/eV]"
         }
        },
        "yaxis": {
         "mirror": true,
         "range": [
          -4.977538290000001,
          4.975768842
         ],
         "title": {
          "text": "Energy [eV]"
         }
        }
       },
       "_model_module": "jupyterlab-plotly",
       "_model_module_version": "^5.6.0",
       "_model_name": "FigureModel",
       "_py2js_addTraces": {},
       "_py2js_animate": {},
       "_py2js_deleteTraces": {},
       "_py2js_moveTraces": {},
       "_py2js_relayout": {},
       "_py2js_removeLayoutProps": {},
       "_py2js_removeTraceProps": {},
       "_py2js_restyle": {},
       "_py2js_update": {},
       "_view_count": 0,
       "_view_module": "jupyterlab-plotly",
       "_view_module_version": "^5.6.0",
       "_view_name": "FigureView"
      }
     },
     "72e473939aa8463eafcb67bd6e8230db": {
      "buffers": [
       {
        "data": "AAAAAAAAAAAAAAAAAAAAAAAAAAAAAAAAAAAAAAAAAAAAAAAAAAAAAAAAAAAAAAAAAAAAAAAAAAAAAAAAAAAAAAAAAAAAAAAAAAAAAAAAAAAAAAAAAAAAAAAAAAAAAAAAAAAAAAAAAAAAAAAAAAAAAAAAAAAAAAAAAAAAAAAAAAAAAAAAAAAAAAAAAAAAAAAAAAAAAAAAAAAAAAAAAAAAAAAAAAAAAAAAAAAAAAAAAAAAAAAAAAAAAAAAAAAAAAAAAAAAAAAAAAAAAAAAAAAAAAAAAAAAAAAAAAAAAAAAAAAAAAAAAAAAAAAAAAAAAAAAAAAAAAAAAAAAAAAAAAAAAAAAAAAAAAAAAAAAAAAAAAAAAAAAAAAAAAAAAAAAAAAAAAAAAAAAAAAAAAAAAAAAAAAAAAAAAAAAAAAAAAAAAAAAAAAAAAAAAAAAAAAAAAAAAAAAAAAAAAAAAAAAAAAAAAAAAAAAAAAAAAAAAAAAAAAAAAAAAAAAAAAAAAAAAAAAAAAAAAAAAAAAAAAAAAAAAAAAAAAAAAAAAAAAAAAAAAAAAAAAAAAAAAAAAAAAAAAAAAAAAAAAAAAAAAAAAAAAAAAAAAAAAAAAAAAAAAAAAAAAAAAAAAAAAAAAAAAAAAAAAAAAAAAAAAAAAAAAAAAAAAAAAAAAAAAAAAAAAAAAAAAAAAAAAAAAAAAAAAAAAAAAAAAAAAAAAAAAAAAAAAAAAAAAAAAAAAAAAAAAAAAAAAAAAAAAAAAAAAAAAAAAAAAAAAAAAAAAAAAAAAAAAAAAAAAAAAAAAAAAAAAAAAAAAAAAAAAAAAAAAAAAAAAAAAAAAAAAAAAAAAAAAAAAAAAAAAAAAAAAAAAAAAAAAAAAAAAAAAAAAAAAAAAAAAAAAAAAAAAAAAAAAAAAAAAAAAAAAAAAAAAAAAAAAAAAAAAAAAAAAAAAAAAAAAAAAAAAAAAAAAAAAAAAAAAAAAAAAAAAAAAAAAAAAAAAAAAAAAAAAAAAAAAAAAAAAAAAAAAAAAAAAAAAAAAAAAAAAAAAAAAAAAAAAAAAAAAAAAAAAAAAAAAAAAAAAAAAAAAAAAAAAAAAAAAAAAAAAAAAAAAAAAAAAAAAAAAAAAAAAAAAAAAAAAAAAAAAAAAAAAAAAAAAAAAAAAAAAAAAAAAAAAAAAAAAAAAAAAAAAAAAAAAAAAAAAAAAAAAAAAAAAAAAAAAAAAAAAAAAAAAAAAAAAAAAAAAAAAAAAAAAAAAAAAAAAAAAAAAAAAAAAAAAAAAAAAAAAAAAAAAAAAAAAAAAAAAAAAAAAAAAAAAAAAAAAAAAAAAAAAAAAAAAAAAAAAAAAAAAAAAAAAAAAAAAAAAAAAAAAAAAAAAAAAAAAAAAAAAAAAAAAAAAAAAAAAAAAAAAAAAAAAAAAAAAAAAAAAAAAAAAAAAAAAAAAAAAAAAAAAAAAAAAAAAAAAAAAAAAAAAAAAAAAAAAAAAAAAAAAAAAAAAAAAAAAAAAAAAAAAAAAAAAAAAAAAAAAAAAAAAAAAAAAAAAAAAAAAAAAAAAAAAAAAAAAAAAAAAAAAAAAAAAAAAAAAAAAABW2+a7XeGYPo8pUHHu57Q+CDNMgTae0D7T9oQ2H/7oPrAABq0T3QE/jvXuUiwaGD9UGP9O68AuP3TYkEKWkkI/Yu3ijSE9VT9TSrcxwABnP27A0TY5mnc/oF0JynLzhj+RY7DU2SmVP93ffP76hKI/UEjBqnXJrj8nnA3dW1a4P0jgIw1ZU8I/tZWCYQVXyj/enN0KpRzSP3jbVp+359c/KSfDWiZk3j++3M5in6/iP+eHdYa9U+Y/NkbKxpsK6j/oPHDLW8btP21gYY39vfA/KMaWjpqO8j9TbwLV/Ej0P3YUNBpn2vU/0734imYq9z89MEgaKR/4P+w38YJypPg/hG7v7jiz+D/CJqDyLVf4P+zPfCesr/c/I5cfrdTq9j/7CmKtwTv2P6S75hK7zvU/SiJjMFq/9T9k5EqL4xP2Pw7m2B4Av/Y/BUBdiVOm9z9C6WOBd6r4P1wYTWmzrPk/FuZ5rXuQ+j9HdHU8hjn7P178XKeGifs/WdHaqBNh+z/ZTKxrZKX6PwzY99WQSfk/pi8lHF5X9z/47dMGF/P0P8IJrGLBV/I/3A1/1XmY7z8sotsxsCnrP5W0fZF3zOc/yEQizqa75T9PskeaKQPlP6x3nS+3jOU/TvnWFsUz5z9f4yP3rtjpP/aTeYGca+0/qqggFFL18D8H1OpOqKnzPy7HkalnxvY/6+OkXt4p+j8y2g50kpj9PzZi+wPEYABAyZr1R6+lAUC9f/C8dHMCQNLRNGTYsAJAowIycllZAkAZIGj8734BQGOoqwD9RgBAlzvPKHHH/T+GcmvYSxj7P945LePa6Pg/zfSxiaCP9z9SPztzNEn3P7g8AvDmM/g/lm35145O+j/c531uBnr9P6fLVkeJvgBAsl/uJ0IFA0DdoIuqqmQFQAjNbOofrwdAegV+Ye26CUCEbFtHz2YLQN1mwjjjnAxAeFzRwChTDUAuZXgvYIkNQKRTyyYdRQ1AjfuleriNDEBGLQN85mkLQHs63qnn3wlAZSF/u+n3B0CMWg3JFL8FQJ6lHGtySQNAIw87s42xAEDev7qxriv8PxeTeA+uKfc/Ft4RUwaT8j9+M5Bo6CLtPwnqBmqNgOY/qt8CD5RY4T+xn7IeKVPbPzrVJdLPs9Y/me0uQyh21D+4yhUDxB3UP1sP8rhGHtU/JPD2TxXw1j+NHzZmWybZP3l+3OyRf9s/WPd0P1Hp3T8+R/rpxTngPyIXat/SmuE/4Q8fzVoX4z9WbD1e85bkP9s4uKIw5+U/mKVYxmrF5j+kImOPkfHmPwGAmY5fQ+Y/95T+jUq65D8wXzJmwoLiP15YyoOW398/3DsSAoXY2j8qlS1Aq9LWP6KXG+IvntQ/Bjy3++ni1D9SDshanRHYP6BGwJAHWN4/AEiLVUTK4z+X21zmKaXpP44mGJ4SJ/A/F0YI0LiV8z94OrFb8sP2P8m+6BTuVvk/+p+LIrIE+z+Lek+U+KT7P4cMFhQnPfs/79AyAFcD+j9RyxPweVb4PzKnWjKfrPY/S6xW5il79T9k456+hx71PznJgs4Tx/U/J2KatGxv9z/mF7lwJt75PzL24iI3svw/9+X6ZVF3/z/8fWZc9t4AQFTuSoMFmQFAycOq2f3VAUBLPMh9t5sBQBwa0WCMBwFA2heqRNRGAEAqKTATdxf/P8q+pZFPAv4/S3/jZIOB/T9rr68Fnpv9PydT6nKILP4/dlbXjEjz/j/pfP3z6ab/Px5+9pzmBQBAMsXZN18BAEDddygH1I3/P8nqV1Mby/4/ypgH3Lbo/T9SAMfJvRf9P3Nrthhagvw/O9N3wyVH/D8Zpv/zF3n8P5YyLra3If0/Hc4SmT9D/j+7jtupZdn/P18QYj1m7ABAOTGPefcWAkD++iHtOF4DQCVw14q3rwRAZX/7J2j1BUDNsRKs1xYHQNzRpd7f+gdA1lC9wOuJCEBoqQtktbAIQG6zpQ0WYwhAQm2u8jGeB0DG/qCYNmkGQESRUd891ARARg07cZH1AkAFM7nzNOYAQEX5VBG5ff0/vJ95g1ws+T/LdsHb9wD1P6dVEmPlIPE/a9G2Xpxf6z999WK4G6DlP2UQseqDQuE/5u/inNj03D+beNsU+M7aP3JSaNeAGNw/pFzPlKZF4D8H6bC0TcXjP05gdnPEEeg/AjCdbrCP7D9onMEsgUrwPwel+H3lwfE/do/S5Udz8j/ovuWWB0PyP+FdHEXOOPE/TOMND3337j914RCZ8I/qPxDBuJW4weU/lQYQLiEI4T99wTARo4HZP/u74a8ISNI/mTxiT/wYyT/OKZ1MGYHAP1QRvODty7Q/auPI6w4aqT98WRWqdwKdP2RbctEZCpA//B9t4fv0gD9KM2obfx9xPwXtNRG4f2A/CphinQBPTj/3iqUh6II6P0vx69huECY/URUl0gd1ET/BISaC7D36PstYl+3re+I+aDqFgCgayT5/F0ZhYJ+uPmLZzy+01JI++gMxFHDodT4AAAAAAAAAAAAAAAAAAAAAAAAAAAAAAAAAAAAAAAAAAAAAAAAAAAAAAAAAAAAAAAAAAAAAAAAAAAAAAAAAAAAAAAAAAAAAAAAAAAAAAAAAAAAAAAAAAAAAAAAAAAAAAAAAAAAAAAAAAAAAAAAAAAAAAAAAAAAAAAAAAAAAAAAAAAAAAAAAAAAAAAAAAAAAAAAAAAAAAAAAAAAAAAAAAAAAAAAAAAAAAAAAAAAAAAAAAAAAAAAAAAAAAAAAAAAAAAAAAAAAAAAAAAAAAAAAAAAAAAAAAAAAAAAAAAAAAAAAAAAAAAAAAAAAAAAAAAAAAAAAAAAAAAAAAAAAAAAAAAAAAAAAAAAAAAAAAAAAAAAAAAAAAAAAAAAAAAAAAAAAAACrvwP2n6EqPs3/JaACSEc+4eZmRrZAYz6PuaXOc+9/PgcTFHXD5Jc+oEDrVUw7sT6oaqbpdkfHPi7jJEct3d0+/vxRZ0g48j6o2xF7PCEFP9rtdCRMUxc/4UeCL2+IKD9hYSpQ2Zs4P+cUDXYFkUc/C2n2N2GRVT/ixJQT3OFiP6g8P6vkp28/4eacFiRteT/cPFKT3JSDP508LPRw7ow/UKegNQyClD9AwePa0uabP3i1HPooN6I/5UfQ4uLSpj87kNm7wHCrP97NyVWwpq8/HnUC+oqCsT/41OuHsZSyP5etV+wr6LI/QsoWOqZxsj9SfTV7ez6xPxXLPRNm5K4/jVLg0Ix/qj9ar2p93sClP2RYMlN5FKE/BmFGwA2imT9tMieUFV6SP+aDbHZkHYk/CkJOPW1egD8/PQipm1N0P2EtUC4NC2g/ktvLSFQqWz+WKVOE4tBNP6h/YjLvMUE/n7LQVumpOj9GRKvV4sNBP8F1Kczlo1A/2XxxLWa3YD8vEuWRvGBwP+6plfOQo34/j52TPspAiz8jiHvejguXP8fje//kiKI/YZC/LiZhrD/Qn2epYrO0P6DqKPoTzrw/EQdmybQjwz/ayesevlLIP8zVoUY7ms0/3Em3XJhG0T/JpUutFl3TP5ebKQLM3dQ/GpbxkU2j1T8/nHQSL5vVPy4whyUTydQ/mtK6Ks5G0z9RzqVuZkHRPz3CEJQK5s0/vXpM4P00yT/2Z2kitePEP4wGyMOzS8E/q4RQ4e1BvT91qa/I6d65PzNRUjsAQrg/N5x6KhgSuD9dpozPf+S4Pylcms7HU7o/znWlRaUNvD+Lhr8FvNe9P7eg++Vrj78/f6gYDTeVwD8Wco8BPV7BP+5WqjjaQMI/HGI2/xh0wz/oyRtSgUfFP8MrBx3LGMg/LNmRnf09zD8Yso9rpPPQPw3M8m2SgNQ/bgMplSyR2D99eCKtCsjcPyq2Q1H3VuA/yDSV1mTl4T9lCP760+DiP4fG5hdJM+M/k/EYKJnj4j80jKaQ3BHiPwACtOyI7eA/t9I0S31R3z8WkAh7sNncP9PAxDCOpto/eAhh6djH2D+InsM3hjDXP2w5SSrxwtU/GrKNTXRe1D+mjBpFoOrSPy8MKjG3XdE/A0X1dH97zz9djMGs8jnMP263yG/+Jsk/VvV5rKFwxj88XOcsYTfEP5m+FOMOiMI/kwsNVAVbwT/+07RpppfAPy6KgFMrGsA/ciES+QB0vz+knKX5R5++P91g5Jhsc70/o9njjWPCuz9EOipiBnm5P3CN9eq6obY/STtuXSxisz/Xsz1af+evP1EYepOZMKk/2Fu9dFscoz+dk07POxycP/2MTU4Vj5Q/OwOb34Kpjz8y2OJ8iwGMP2jiHm1LDY4/L2dIaqC/kj/DShdRXuKYP7Ye5FKNeKA/AdU+huYUpT9iV5li5MKpP/SPbif56K0/OmA2/ch3sD/DR4hAyC+xP8El2UG4/rA/lmq8mYTXrz8vFBuO0UGsPzMaupC6wKc/jR0Z67fpoj+eK8FfaYicP2rZlZD0ZpQ/9DjqzXS4iz+8koINdgmCP4/m1Mc4GXc/e6T6PU2Cbz+/drRFI8NqP1FsyB/ZdG8/R9Afr4MXdz+oHbg7fCOCP+M+yPJnNIw/B6yH+DgolT+Hx0bhJW6eP0IcUsQt+KQ/WqNrRVG5qz9B5tpygJuxP2FPv9JchLU/a1gVDrJTuT8hTMkJIL28PzHhEtMTdb8/pvxP3GyewD9VYOGKhffAPxf3ho95xMA/MRXhwowWwD/1/5cYlRy+PyenOjX6p7s/EHJvzV4cuT8ivosyFrO2P23jF+MLirQ/FCDvVRinsj+dy6VG6gOxP0ucH9zkOK8/UVBnOsDxrD/soZsV91yrP0OWjE7Mrao/NKIPfDEDqz/tQutIGEysP42wKy7UOa4//giAmvAjsD+UsbgqFuywP+vV3ih0LbE/OJXLRzu6sD9saAcQqBSvP1fmgSRfeKs/X4PCsdQWpz+6nXwTyIKiP/8zWanNlZw/0NVy8p3FlT86DRJmdDGRP9u0bjpsWI4/+z+jVMSWjz9kRloIsfKSP14wm77MWJg/OVeIj/iFnz/ajITXmumjP0xmmcr6OKg/gUChO4lArD8vKZfKTpevP1aPX5A++LA/agbHCeGXsT8rlTS46LyxP7JJ+Cs0n7E/D0k7O6icsT/I72osmDOyP2gbaNoi9bM/fiXg0hdutz+hi2EQQge9Pwx7ggj8cMI/YAnqOBBdxz/w9yBLqezMPy8oxm4xSdE/cs7X1TXS0z9lfkygrL7VP0tbyKzPz9Y/ry83NqLo1j9LCbv4tRPWPyN96OpQf9Q/y1XhpZtx0j8HiV4P2jjQPznbNB+nOMw/QK8liwSjyD+bJh29P+7FP2AQnntZK8Q/NIPnNYpHwz90bTg5YxjDP/EWwK/dZ8M/qEFEzRr+wz9b7NuIB6jEPyynz6U6O8U/4/U/PvGXxT+jQjG+E6rFPwKMpBbkacU/YrICKJXcxD/Vsd2u6BTEP/XUYhXWM8M/mmYKOfpowj8TM5Va/PHBP+jRiMRcF8I/H8Vyhtokwz9gKf6oYVzFP5qYwbKC5Mg/jTLV30W2zT+M6JmmRsjRP5g1/nPC+9Q/qknZX/gh2D/iVUO9ZuDaPyfOJAjn59w/hTanf80E3j8zW7dnyifeP/CApK4VZd0/cBsmOyfr2z+PaAbDM/XZP6/9Wu6Bvtc/1h4X8j161T/r7pnzv1DTP1J88ra5YNE/S8G5Li6Dzz8hWT7UbAnNP2MgS54Gacs/4f4Vtwykyj+SgDhb/qTKP70jeKh4Pcs/hkV1AX8qzD9hyJrVSB7NP91tALVWzc0/CLMZN1/7zT/FzMCpxYTNP9TJ6w+pYsw/D8BwEpupyj/vauDzwITIP5hO1PneL8Y/+B5Tkkzywz/mkgH9dxvCPxIkcXnl/8A/322e/oH0wD+ffwAv+kXCP+que1L+KsU/QCa9z6yyyT+yxFsqN7PPPy7gv3mHX9M/ymaTBaMT1z9xzrM8rofaP+rt7eS8SN0/903wvd713j9eHe5XOFXfP+qhDiUUYd4/r+p4M6BI3D+QFUYcE2TZP/TjahMmINY/rZU9Q2Dn0j+CyUsGmQ/QPycByaFTn8s/T1GFq8V7yD/ppQ7ZCarGP1DNTC2y+MU/Ih4Pq/4fxj90D8Lz4s/GPyQdu04eu8c/8hl29EGgyD/0yfJPJlHJP7WL4okuuMk/Ho+DF/PZyT86kGDIItLJP82lNtmXy8k/R4NteBv1yT9L+UjoXnXKP8EtO1zRYMs/W4q1hVGzzD9eqTR8nU7OP7nD00F9/c8/1p6nqIi90D/cVRpisj7RPyFjhfP7YNE/Mmw6NTQN0T++j7ClWzvQP5/JeoqV6s0/opI8CfCryj84ZdlvogrHP8f0c8YzY8M/EUj2odUPwD8M0eiKE7a6PyvTlM6T7LY/ncE24ArrtD+yZ5e7C560P3G4+76UvbU/gcwEzSjZtz/jvTMDMGi6Py8nz+NR3bw/cFxdRXO6vj/UXK8R9KG/P8qxf8S3Yb8/1GtCl9z1vT95lB41PoO7PwUGG334S7g/R89dNTGhtD98Na/zRdWwP9Y1krc5Yao/szQxfWbUoz9IWtfQ45CcP+af6cyYsZM/Y38It7j6iT/HS31K726APyMYVSBdMXQ/1M2sT75DaT+gtPgGRFZiPyIZjEG/h2I/W238R+foaT9fiyArP9F0P7REH0O56oA/2NYqc2mNij/Jj0RFBNyTP5Rf8Vk4N5w/nLEO/iEGoz/dLYZhF1moP3GT/l6Vla0/ft3tTBsSsT9RTWJHaLmyP7rIUvGvi7M/dSe/r2p3sz+EPo76gJeyPyoCQ7FEM7E/gQif1Lhqrz+iE46rLzetPz9ihdbzxKw/Ff0Q0jLerj/Gj7dLrvmxP6e8LWSZ+7U/17elDAAluz+5sL3PfW/AP1oyd3EoL8M/z+y4V0tjxT/OmV1YwqvGP/YNCaJWzMY/Aabb0yG7xT8eOJxMxqLDP8vTRhL618A/xSuGb8WMuz8=",
        "encoding": "base64",
        "path": [
         "_data",
         0,
         "x",
         "buffer"
        ]
       },
       {
        "data": "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",
        "encoding": "base64",
        "path": [
         "_data",
         0,
         "y",
         "buffer"
        ]
       }
      ],
      "model_module": "jupyterlab-plotly",
      "model_module_version": "^5.6.0",
      "model_name": "FigureModel",
      "state": {
       "_config": {
        "plotlyServerURL": "https://plot.ly"
       },
       "_data": [
        {
         "line": {
          "dash": "solid",
          "width": 1
         },
         "mode": "lines",
         "name": "My first PDOS (Oxygen)",
         "opacity": 1,
         "type": "scatter",
         "uid": "c9ed562f-1ff8-4e14-bfae-ee980198cb9d",
         "x": {
          "dtype": "float64",
          "shape": [
           799
          ]
         },
         "y": {
          "dtype": "float64",
          "shape": [
           799
          ]
         }
        }
       ],
       "_dom_classes": [],
       "_js2py_layoutDelta": {},
       "_js2py_pointsCallback": {},
       "_js2py_relayout": {},
       "_js2py_restyle": {},
       "_js2py_traceDeltas": {},
       "_js2py_update": {},
       "_last_layout_edit_id": 0,
       "_last_trace_edit_id": 0,
       "_layout": {
        "showlegend": true,
        "template": {
         "layout": {
          "hovermode": "closest",
          "paper_bgcolor": "white",
          "plot_bgcolor": "white",
          "scene": {
           "xaxis": {
            "color": "black",
            "gridcolor": "#ccc",
            "gridwidth": 1,
            "linewidth": 1,
            "mirror": true,
            "showgrid": false,
            "showline": true,
            "ticklen": 5,
            "ticks": "outside",
            "ticksuffix": " ",
            "visible": true,
            "zeroline": false,
            "zerolinecolor": "#ccc",
            "zerolinewidth": 1
           },
           "yaxis": {
            "color": "black",
            "gridcolor": "#ccc",
            "gridwidth": 1,
            "linewidth": 1,
            "mirror": true,
            "showgrid": false,
            "showline": true,
            "ticklen": 5,
            "ticks": "outside",
            "ticksuffix": " ",
            "visible": true,
            "zeroline": false,
            "zerolinecolor": "#ccc",
            "zerolinewidth": 1
           },
           "zaxis": {
            "color": "black",
            "gridcolor": "#ccc",
            "gridwidth": 1,
            "linewidth": 1,
            "mirror": true,
            "showgrid": false,
            "showline": true,
            "ticklen": 5,
            "ticks": "outside",
            "ticksuffix": " ",
            "visible": true,
            "zeroline": false,
            "zerolinecolor": "#ccc",
            "zerolinewidth": 1
           }
          },
          "xaxis": {
           "color": "black",
           "gridcolor": "#ccc",
           "gridwidth": 1,
           "linewidth": 1,
           "mirror": true,
           "showgrid": false,
           "showline": true,
           "ticklen": 5,
           "ticks": "outside",
           "ticksuffix": " ",
           "visible": true,
           "zeroline": false,
           "zerolinecolor": "#ccc",
           "zerolinewidth": 1
          },
          "yaxis": {
           "color": "black",
           "gridcolor": "#ccc",
           "gridwidth": 1,
           "linewidth": 1,
           "mirror": true,
           "showgrid": false,
           "showline": true,
           "ticklen": 5,
           "ticks": "outside",
           "ticksuffix": " ",
           "visible": true,
           "zeroline": false,
           "zerolinecolor": "#ccc",
           "zerolinewidth": 1
          }
         }
        },
        "xaxis": {
         "mirror": true,
         "title": {
          "text": "Density of states [1/eV]"
         }
        },
        "yaxis": {
         "mirror": true,
         "range": [
          -9.97920019,
          9.97743072
         ],
         "title": {
          "text": "Energy [eV]"
         }
        }
       },
       "_model_module": "jupyterlab-plotly",
       "_model_module_version": "^5.6.0",
       "_model_name": "FigureModel",
       "_py2js_addTraces": {},
       "_py2js_animate": {},
       "_py2js_deleteTraces": {},
       "_py2js_moveTraces": {},
       "_py2js_relayout": {},
       "_py2js_removeLayoutProps": {},
       "_py2js_removeTraceProps": {},
       "_py2js_restyle": {},
       "_py2js_update": {},
       "_view_count": 0,
       "_view_module": "jupyterlab-plotly",
       "_view_module_version": "^5.6.0",
       "_view_name": "FigureView"
      }
     },
     "7566d63bb69f4da2bb45800b560b134a": {
      "buffers": [
       {
        "data": "L4dFnOddgz/wCm4VAFOAP2upYcWczXo/p4lBX2LHdT+XmbHEauxxP21pJuaLtG4/IIVhC/sDbD9KtHERkXtrP75XP/iryWw/FbOQK7+tbz+FA9zA6/xxPxWEmFiuwHQ/h0BzDVL/dz9FJVi9MX57Pw7T2qmg534/iXhAFY7pgD+UuNrQBOyBP0o9Y2DmUoI/P8ZCEscMgj/raN/KOCWBP7++IotJiH8/zm6ELIJNfD8uf7IpDSl5P90wbQr7pnY//ZFBFmQ9dT/VDcNzl0B1P78NAYBp3nY/0huzUXgeej8NRZUl0OR+P1VqOj2YeoI/l0mAJFT7hT8d28WbQLyJP9mJjhEAfY0/PGEJnYB9kD/dK7A2ffyRP5/9iYJgI5M/GRvZc63jkz/33wiUljmUP1iJz2OlKpQ/4r3gSWXCkz/7ai6sXg6TPwqAPajyGpI/ylh86CbykD+yQiw81DiPP6qSZDvYRIw/ybAg5oodiT8b6CBgCd2FPy9nz7bxoII/IGuIK+MOfz/+HcV/gFh5P9CTnfH5THQ/yfUAsiEPcD9S2HqyVmppPx6aaZXtjmQ/0Ce9m1l+YT8ConmpNgtgP/vhL0Ii118/JXfAn5zCYD+5SdjAgjBiP06EN/Gg5GM/MOTpBhisZT+3yV52hnZnP0CdzZWlTWk/BigEcLFBaz9pzcH62FFtP+W8h7S2Wm8/Sx0Q5LCJcD/T7JFG+w1xPzfQnXuKDHE/ri21zwdpcD+yH5YAcUZuP3p1y+Ems2o/kVBDxKKGZj/F+PsCv0liP/P/86/uDF0/r8RZzdJoVz/jyx2OVl1UPxhz+CbpYlQ/tikctaO1Vz9tPVk1HFNePwgEn9oj+GM/TsQq5MT1aT8cMAGca1FwP6s9CJSiq3M/gx2t+1Ordj+R0IAwrPh4P3tT/L7EVXo/qwPfraWvej/Xspfn2yZ6P1+J2D21C3k/wxAketPNdz9tx1qkwuJ2PwiN308pqnY/Ro5rQe1Wdz9TuRbRM+N4P64j9KsDEns/YkeQf7x9fT/yBoBrf69/P419dqjjnIA/nxjqoQDogD+gMIfv9KqAPys8jLGA438/3rvbgBG9fT9YvjkFmkF7P54lJbEO1Hg/9m8G3SfFdj+PYT3yJUN1P9cEU99iU3Q/AC9U1OPWcz8/Hf/lHphzP+GP4JOZXXM/FX4xWbz7cj+RY/HEsGByP9/DJEROl3E/jFl6CSLBcD8Lk5oTcQpwP6AkBJlFOW8/++Kghsombz+S/c7Cs+5vP42KrtrwvnA/1pIQsBXUcT/zPv0HCxxzPyFWQGyHfnQ/46eNydjpdT9ws2qoIVN3P/LgIT9Cs3g/BfKgmycCej+bIQz5jDJ7P5rGtrHiL3w/VaB14SbffD8wigztiiJ9PzhnwqIC33w//1k6CGICfD+/GfdwgIh6PyO1kAHwfXg/dRPMvFf/dT86rQbyXDVzP049ej4bTnA/ripcWOXraj8CF3qOS6NlP2G2NFdV9mA/KmqZ+BQGWj+IsdYO0atTP/PxXYQEwU0/brryzaU3Rz+QXLA8eaFDPyjwV6e22kI/9S9X21mqRD/SCi3OCbFIP55nbBJfWk4/gi/cRppsUj9Gu7RdwZpVP82kk7pxNlg/d7VhBL7PWT9b3dqcYh5aPweEgVvFEFk/OAp5HTHOVj/+Uh+KVqtTP5sMjMDUFFA/RX5hSYvtSD9YCxaq9VBCP+b2nyDAhDk/E1a10qDaMD/n+Yc7vBslP2IH0+D5EBk/x0CRBVs5DD9iewM8ECL+PvZAt5gWge4+yVQeUI5H3T59sq4YiqXKPgD2Ztf//bY+ALJVOQPPoj5edKfIRiyNPg0UUj1gcnU+nnDMDPXjXT4Xf8saDL5DPvdobTBwtyg+FfvF2Do5Bj4Hw6EJCI7pPWvZ8x2K0RU7Yfp/qHvV+jr9liIrADjfOgAAAAAAAAAAAAAAAAAAAAAAAAAAAAAAAAAAAAAAAAAAAAAAAAAAAAAAAAAAAAAAAAAAAAAAAAAAAAAAAAAAAAAAAAAAAAAAAAAAAAAAAAAAAAAAAAAAAAAAAAAAAAAAAAAAAAAAAAAAAAAAAAAAAAAAAAAAAAAAAAAAAAAAAAAAAAAAAAAAAAAAAAAAAAAAAAAAAAAAAAAAAAAAAAAAAAAAAAAAAAAAAAAAAAAAAAAAAAAAAAAAAAAAAAAAAAAAAAAAAAAAAAAAAAAAAAAAAAAAAAAAAAAAAAAAAAAAAAAAAAAAAAAAAAAAAAAAAAAAAAAAAAAAAAAAAAAAAAAAAAAAAAAAAAAAAAAAAAAAAAAAAAAAAAAAAAAAAAAAAAAAAP4jAw9OM+s9x0qSW13HBz6y9f+MB6ojPqBw8oY50z8+IVhPmgy0Vz7YX/5OXdhwPmjLO/xfj4Y+HhQthRSlnD4SyWDn9z+xPvXRUpbItsM+GK00oWdk1T5gU2XGHg7mPvI0L4mynvU+5X6aQ6oqBD/nWBgJUeoRP+NMLw+VVx4/jX1XmOqDKD8h/gbiWOoyPyu8c2fh5Ts/XuR/elatQz+9t+V4W5BKPw5Pw2CWKlE/tftbceM+VT8oiPgZ7C1ZPy5RGPFZklw/zlD/ak8IXz+FLCfE6B9gP1dE3GO6BmA/k5y0F4N0Xj9WsD7gQqdbPw2zRVnm/Fc/yV/yeuffUz+6qeeZtXNPP6MURTxMxEc/fl2kL/4mQT/lGalWzKU3P5Fe2gloJS8/1hr8VxCZIz8Xv9Jam5EXP6MpXObpFws/SzrAv1vN/T4CjEqcR4zvPj5rzghEj+A+L0imE/qx0z7LkjMxcVrSPs/S1FOGlN0+fuxWth++7T7TmApS01n+PkMhJBARxQ0/SbXDqqzCGz/5zwRaoI8oP76zVzuqnDQ/5Yl0obpoQD+SsEv27clIP1x1OOYZxVE/4v1KcN8vWD+u//d6o0RfP0e4Jr3xNGM/jUeM+oNwZj+dpXXIY/RoP1c0Jmzycmo/+6yWb0zDaj+3F+sjEutpP/aA5DSsHWg/wvgGNgGyZT9pMPfETBJjPxtiBwOSqmA/5cqzKxayXT9eAV7mLcRbP/GeEbunz1s/k3JgrvbKXT/Zi8dHUa9gP97EW8J3+GI/XdEVozpfZT9xxq7dZn5nP1ueRTfr/2g/sPCVmsKraT+wFeQ0Jm9pP72odjaqWmg/m/g4ileZZj9bBOTz9mRkPxGw9bjY+2E/FV9D2iU1Xz+a1WYWbvNaP7Nlq+1cm1c/ZxtbHguNVT/bNM2fcxxVP65NEc7oilY/ayvYV/3+WT+pMYqHCH1fP6YmkaLEcGM/GImLx9vuZz86V/KzLvtsPwFO3QJ/IXE/nmcaKCuxcz/YI98LHvZ1PwJ4m8nIu3c/9QhlC6fXeD81KBPjSzF5P7KWS3skyHg/ehPijgu1dz/OZYDr2iZ2P57UNQKFWnQ/TUIbDVeQcj9wxJm0nwBxP7VJS+EUpG8/JW3+pVcnbj+dnCUPFHhtPxn4paqqWm0/VUfxtW97bT+rsStf/oJtP/A/DTPOKG0/9bUQ5oc/bD9CEvAwDLlqP5LG3Fz7omg/Lm1hlIgeZj940s+b4lZjPyLO9EqweGA//smVzbpXWz+OWZ2y2R9WPzPrGYoAdVE/WIYc2X/eSj+uCEEWKy1EPzJ6tKYznj0/S3mdxsxhNT9PL6yUl/EuP7iuUw3YgSc/9wK8echXJD8gDcizrIIlP3nsUGgVLSs/d2NampW6Mj94wtF24Bg6P35MZFmLrEE/o5VjYhTkRj+oYM9FrStMP4v6cyRublA/ZZT0Hn8nUj9gQ0D9vP1SP8u27uL1zlI/Fb4qEZmiUT9uL4vvIk9PPyIVCWpXUEo/YkqUwYnwRD8F4Nm8UY4/P5IjjkJkhDY/7iVw7QtxLj/+arydtoMjP8sNDoET0hc/2/oAwkQWDD+tVSvykMoAP4EOyJ3gN/c+S1dZkJlR9j5DM1IHMNv9Ppa5CRODSQc/yizQYbLKEj/2s/JHQT0eP47zrw61Lig/dVTPRk5SMz8ZWYEcw/U+PziaqDdF1Ug/nmHSi5POUz9D9vL+iB1fP2LPxvYL1Gc/5SPqb22jcT/3nnUMCRN5Py7FUE5+CIE/znJ9GqYLhj+Xmu95tx+LP6dV1K9pro8/fm6Ri+WMkT+oI7m6wG+SP+WCpkKzXJI/v9/k00lYkT97U8LHKxyPP4fnU8NbjIo/Oz7A1tyohT8xpc5Gug2BP1KQ9IMgYHo/HmsySzagdD9Sb6XLkfFwP/VZsjonJW4/",
        "encoding": "base64",
        "path": [
         "_data",
         0,
         "x",
         "buffer"
        ]
       },
       {
        "data": "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",
        "encoding": "base64",
        "path": [
         "_data",
         0,
         "y",
         "buffer"
        ]
       },
       {
        "data": "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",
        "encoding": "base64",
        "path": [
         "_data",
         1,
         "x",
         "buffer"
        ]
       },
       {
        "data": "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",
        "encoding": "base64",
        "path": [
         "_data",
         1,
         "y",
         "buffer"
        ]
       },
       {
        "data": "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",
        "encoding": "base64",
        "path": [
         "_data",
         2,
         "x",
         "buffer"
        ]
       },
       {
        "data": "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",
        "encoding": "base64",
        "path": [
         "_data",
         2,
         "y",
         "buffer"
        ]
       }
      ],
      "model_module": "jupyterlab-plotly",
      "model_module_version": "^5.6.0",
      "model_name": "FigureModel",
      "state": {
       "_config": {
        "plotlyServerURL": "https://plot.ly"
       },
       "_data": [
        {
         "line": {
          "dash": "solid",
          "width": 1.0
         },
         "mode": "lines",
         "name": "Sr",
         "opacity": 1,
         "type": "scatter",
         "uid": "3aaacbde-4d55-44a2-ae5d-783280b5748f",
         "x": {
          "dtype": "float64",
          "shape": [
           399
          ]
         },
         "y": {
          "dtype": "float64",
          "shape": [
           399
          ]
         }
        },
        {
         "line": {
          "dash": "solid",
          "width": 1.0
         },
         "mode": "lines",
         "name": "Ti",
         "opacity": 1,
         "type": "scatter",
         "uid": "ee757219-ca76-4c41-b0c3-7fd99f5a1bcb",
         "x": {
          "dtype": "float64",
          "shape": [
           399
          ]
         },
         "y": {
          "dtype": "float64",
          "shape": [
           399
          ]
         }
        },
        {
         "line": {
          "dash": "solid",
          "width": 1.0
         },
         "mode": "lines",
         "name": "O",
         "opacity": 1,
         "type": "scatter",
         "uid": "82bc04e3-8736-47af-a8cb-e4d9069245f4",
         "x": {
          "dtype": "float64",
          "shape": [
           399
          ]
         },
         "y": {
          "dtype": "float64",
          "shape": [
           399
          ]
         }
        }
       ],
       "_dom_classes": [],
       "_js2py_layoutDelta": {},
       "_js2py_pointsCallback": {},
       "_js2py_relayout": {},
       "_js2py_restyle": {},
       "_js2py_traceDeltas": {},
       "_js2py_update": {},
       "_last_layout_edit_id": 0,
       "_last_trace_edit_id": 0,
       "_layout": {
        "showlegend": true,
        "template": {
         "layout": {
          "hovermode": "closest",
          "paper_bgcolor": "white",
          "plot_bgcolor": "white",
          "scene": {
           "xaxis": {
            "color": "black",
            "gridcolor": "#ccc",
            "gridwidth": 1,
            "linewidth": 1,
            "mirror": true,
            "showgrid": false,
            "showline": true,
            "ticklen": 5,
            "ticks": "outside",
            "ticksuffix": " ",
            "visible": true,
            "zeroline": false,
            "zerolinecolor": "#ccc",
            "zerolinewidth": 1
           },
           "yaxis": {
            "color": "black",
            "gridcolor": "#ccc",
            "gridwidth": 1,
            "linewidth": 1,
            "mirror": true,
            "showgrid": false,
            "showline": true,
            "ticklen": 5,
            "ticks": "outside",
            "ticksuffix": " ",
            "visible": true,
            "zeroline": false,
            "zerolinecolor": "#ccc",
            "zerolinewidth": 1
           },
           "zaxis": {
            "color": "black",
            "gridcolor": "#ccc",
            "gridwidth": 1,
            "linewidth": 1,
            "mirror": true,
            "showgrid": false,
            "showline": true,
            "ticklen": 5,
            "ticks": "outside",
            "ticksuffix": " ",
            "visible": true,
            "zeroline": false,
            "zerolinecolor": "#ccc",
            "zerolinewidth": 1
           }
          },
          "xaxis": {
           "color": "black",
           "gridcolor": "#ccc",
           "gridwidth": 1,
           "linewidth": 1,
           "mirror": true,
           "showgrid": false,
           "showline": true,
           "ticklen": 5,
           "ticks": "outside",
           "ticksuffix": " ",
           "visible": true,
           "zeroline": false,
           "zerolinecolor": "#ccc",
           "zerolinewidth": 1
          },
          "yaxis": {
           "color": "black",
           "gridcolor": "#ccc",
           "gridwidth": 1,
           "linewidth": 1,
           "mirror": true,
           "showgrid": false,
           "showline": true,
           "ticklen": 5,
           "ticks": "outside",
           "ticksuffix": " ",
           "visible": true,
           "zeroline": false,
           "zerolinecolor": "#ccc",
           "zerolinewidth": 1
          }
         }
        },
        "xaxis": {
         "mirror": true,
         "title": {
          "text": "Density of states [1/eV]"
         }
        },
        "yaxis": {
         "mirror": true,
         "range": [
          -4.977538290000001,
          4.975768842
         ],
         "title": {
          "text": "Energy [eV]"
         }
        }
       },
       "_model_module": "jupyterlab-plotly",
       "_model_module_version": "^5.6.0",
       "_model_name": "FigureModel",
       "_py2js_addTraces": {},
       "_py2js_animate": {},
       "_py2js_deleteTraces": {},
       "_py2js_moveTraces": {},
       "_py2js_relayout": {},
       "_py2js_removeLayoutProps": {},
       "_py2js_removeTraceProps": {},
       "_py2js_restyle": {},
       "_py2js_update": {},
       "_view_count": 0,
       "_view_module": "jupyterlab-plotly",
       "_view_module_version": "^5.6.0",
       "_view_name": "FigureView"
      }
     },
     "7be6a0b46a5b44b5920eaaab51175d39": {
      "buffers": [
       {
        "data": "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",
        "encoding": "base64",
        "path": [
         "_data",
         0,
         "x",
         "buffer"
        ]
       },
       {
        "data": "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",
        "encoding": "base64",
        "path": [
         "_data",
         0,
         "y",
         "buffer"
        ]
       },
       {
        "data": "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",
        "encoding": "base64",
        "path": [
         "_data",
         1,
         "x",
         "buffer"
        ]
       },
       {
        "data": "E40ozP/oE8BtCY4FZM8TwMmF8z7ItRPAJQJZeCycE8CBfr6xkIITwN36I+v0aBPAkXrTHVlPE8Dt9jhXvTUTwElznpAhHBPApe8DyoUCE8D/a2kD6ugSwFvozjxOzxLAt2Q0drK1EsAT4ZmvFpwSwG9d/+h6ghLAydlkIt9oEsAlVspbQ08SwNvVeY6nNRLANVLfxwscEsCRzkQBcAISwO1KqjrU6BHASccPdDjPEcClQ3WtnLURwP+/2uYAnBHAWzxAIGWCEcC3uKVZyWgRwBM1C5MtTxHAx7S6xZE1EcAjMSD/9RsRwH+thThaAhHA2ynrcb7oEMA3plCrIs8QwJEituSGtRDA7Z4bHuubEMBJG4FXT4IQwKWX5pCzaBDAI+KcxxdPEMB/XgIBfDUQwGUOvDngGxDASb51ckQCEMBa3F5WUdEPwCI80scZng/A7ptFOeJqD8C2+7iqqjcPwH5bLBxzBA/ARrufjTvRDsASGxP/A54OwNp6hnDMag7Aotr54ZQ3DsBqOm1TXQQOwDaa4MQl0Q3A/vlTNu6dDcDGWcentmoNwH5Skhp/Nw3ARrIFjEcEDcASEnn9D9EMwNpx7G7YnQzAotFf4KBqDMBqMdNRaTcMwDaRRsMxBAzA/vC5NPrQC8DGUC2mwp0LwI6woBeLagvAWhAUiVM3C8AicIf6GwQLwOrP+mvk0ArAti9u3aydCsB+j+FOdWoKwEbvVMA9NwrA/ucfMwYECsDGR5OkztAJwI6nBhaXnQnAWgd6h19qCcAiZ+34JzcJwOrGYGrwAwnAtibU27jQCMB+hkdNgZ0IwEbmur5JagjADkYuMBI3CMDapaGh2gMIwKIFFROj0AfAamWIhGudB8Ayxfv1M2oHwP4kb2f8NgfAxoTi2MQDB8B+fa1LjdAGwEbdIL1VnQbADj2ULh5qBsDanAeg5jYGwKL8ehGvAwbAalzugnfQBcAyvGH0P50FwP4b1WUIagXAxntI19A2BcCO27tImQMFwFY7L7ph0ATAIpuiKyqdBMDq+hWd8mkEwLJaiQ67NgTAfrr8f4MDBMBGGnDxS9ADwA5642IUnQPAxnKu1dxpA8CO0iFHpTYDwFYylbhtAwPAIpIIKjbQAsDq8Xub/pwCwLJR7wzHaQLAerFifo82AsBGEdbvVwMCwA5xSWEg0AHA1tC80uicAcCiMDBEsWkBwGqQo7V5NgHAMvAWJ0IDAcD6T4qYCtAAwMSv/QnTnADAjg9xe5tpAMBECDzuYzYAwA5or18sAwDArI9Foumf/79ATyyFejn/v9QOE2gL0/6/ZM75Spxs/r/4jeAtLQb+v4hNxxC+n/2/HA2u8045/b+szJTW39L8v0CMe7lwbPy/0EtinAEG/L9kC0l/kp/7v/TKL2IjOfu/iIoWRbTS+r8YSv0nRWz6v4g7kw3WBfq/HPt58Gaf+b+sumDT9zj5v0B6R7aI0vi/0DkumRls+L9k+RR8qgX4v/S4+147n/e/iHjiQcw4978YOMkkXdL2v6z3rwfua/a/PLeW6n4F9r/Qdn3ND5/1v2Q2ZLCgOPW/9PVKkzHS9L+ItTF2wmv0vxh1GFlTBfS/iGauPuSe878YJpUhdTjzv6zlewQG0vK/PKVi55Zr8r/QZEnKJwXyv2AkMK24nvG/9OMWkEk48b+Eo/1y2tHwvxhj5FVra/C/rCLLOPwE8L94xGM3Gj3vv6BDMf07cO6/wML+wl2j7b/oQcyIf9bsvwjBmU6hCey/MEBnFMM8679QvzTa5G/qvzCiYKUGo+m/UCEuayjW6L94oPswSgnov6AfyfZrPOe/wJ6WvI1v5r/oHWSCr6LlvwidMUjR1eS/MBz/DfMI5L9Qm8zTFDzjv3gampk2b+K/mJlnX1ii4b/AGDUletXgv+CXAuubCOC/EC6gYXt33r9QLDvtvt3cv6Aq1ngCRNu/YPAtD0aq2b+g7siaiRDYv/DsYybNdta/MOv+sRDd1L+A6Zk9VEPTv8DnNMmXqdG/EObPVNsP0L+gyNXAPezMv0DFC9jEuMm/wMFB70uFxr9gvncG01HDvwC7rR1aHsC/AG/HacLVub9AaDOY0G6zv4DCPo29D6q/AGot1LODmr8AoDg1p/1MvwBWpgzas5g/ADl7qdAnqT9Ao1Em2vqyP0Cq5ffLYbk/ALF5yb3Ivz/g24bN1xfDP2DfULZQS8Y/wOIan8l+yT9A5uSHQrLMP6DprnC75c8/kHa8LJqM0T9AeCGhVibTPwB6hhUTwNQ/sHvric9Z1j9wfVD+i/PXP7C3+GdIjdk/cLld3AQn2z8gu8JQwcDcP9C8J8V9Wt4/kL6MOTr03z8g4PhW+8bgPwBhK5HZk+E/2OFdy7dg4j+4YpAFli3jP5Djwj90+uM/cGT1eVLH5D9I5Se0MJTlPyhmWu4OYeY/AOeMKO0t5z/gZ79iy/rnP7jo8Zypx+g/kGkk14eU6T+4hvgLZmHqP5AHK0ZELus/cIhdgCL76z9ICZC6AMjsPyiKwvTelO0/AAv1Lr1h7j/giydpmy7vP7gMWqN5++8/zEbG7itk8D84h98Lm8rwP6TH+CgKMfE/FAgSRnmX8T+ASCtj6P3xP/CIRIBXZPI/XMldncbK8j/MCXe6NTHzP1wY4dSkl/M/zFj68RP+8z84mRMPg2T0P6jZLCzyyvQ/FBpGSWEx9T+AWl9m0Jf1P/CaeIM//vU/XNuRoK5k9j/MG6u9Hcv2PzhcxNqMMfc/qJzd9/uX9z8U3fYUa/73P4QdEDLaZPg/8F0pT0nL+D9gnkJsuDH5P8zeW4knmPk/XO3Fo5b++T/MLd/ABWX6Pzhu+N10y/o/qK4R++Mx+z8U7yoYU5j7P4QvRDXC/vs/8G9dUjFl/D9gsHZvoMv8P8zwj4wPMv0/PDGpqX6Y/T+occLG7f79Pxiy2+NcZf4/hPL0AMzL/j/yMg4eOzL/P2BzJzuqmP8/zrNAWBn//z8wYVU5xDIAQGcB4sf7ZQBAnaFuVjOZAEDUQfvkaswAQAvih3Oi/wBAQoIUAtoyAUB5IqGQEWYBQLDCLR9JmQFA52K6rYDMAUAeA0c8uP8BQFWj08rvMgJAjENgWSdmAkDD4+znXpkCQPqDeXaWzAJAMSQGBc7/AkBnxJKTBTMDQLDLxyA9ZgNA52tUr3SZA0AeDOE9rMwDQFWsbczj/wNAjEz6WhszBEDD7IbpUmYEQPqME3iKmQRAMS2gBsLMBEBozSyV+f8EQJ9tuSMxMwVA1g1GsmhmBUAMrtJAoJkFQENOX8/XzAVAeu7rXQ8ABkCxjnjsRjMGQOguBXt+ZgZAH8+RCbaZBkBo1saW7cwGQJ92UyUlAAdA1hbgs1wzB0ANt2xClGYHQERX+dDLmQdAeveFXwPNB0CxlxLuOgAIQOg3n3xyMwhAH9grC6pmCEBWeLiZ4ZkIQI0YRSgZzQhAxLjRtlAACUD7WF5FiDMJQDL56tO/ZglAaZl3YveZCUCgOQTxLs0JQOlAOX5mAApAH+HFDJ4zCkBWgVKb1WYKQI0h3ykNmgpAxMFruETNCkD7YfhGfAALQDIChdWzMwtAaaIRZOtmC0CgQp7yIpoLQNfiKoFazQtADoO3D5IADEBFI0SeyTMMQHzD0CwBZwxAs2NduziaDEDpA+pJcM0MQCCkdtinAA1AaaurZd8zDUCgSzj0FmcNQNfrxIJOmg1ADoxREYbNDUBFLN6fvQAOQHzMai71Mw5As2z3vCxnDkDqDIRLZJoOQCGtENqbzQ5AV02daNMAD0CO7Sn3CjQPQMaNtoVCZw9A/C1DFHqaD0Azzs+isc0PQDU3rph0ABBAUIf0XxAaEED1Co8mrDMQQBBb1e1HTRBALKsbteNmEEBH+2F8f4AQQGNLqEMbmhBAfpvuCrezEECa6zTSUs0QQLU7e5nu5hBA0IvBYIoAEUDs2wcoJhoRQAgsTu/BMxFAI3yUtl1NEUA+zNp9+WYRQFocIUWVgBFAdmxnDDGaEUCRvK3TzLMRQKwM9JpozRFAUZCOYQTnEUBs4NQooAASQIgwG/A7GhJAo4Bht9czEkC+0Kd+c00SQNog7kUPZxJA9nA0DauAEkARwXrURpoSQCwRwZvisxJASGEHY37NEkBjsU0qGucSQH8BlPG1ABNAmlHauFEaE0C2oSCA7TMTQNHxZkeJTRNA7UGtDiVnE0CRxUfVwIATQKwVjpxcmhNA7O8HZPizE0AHQE4rlM0TQBdig/Iv5xNA",
        "encoding": "base64",
        "path": [
         "_data",
         1,
         "y",
         "buffer"
        ]
       },
       {
        "data": "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",
        "encoding": "base64",
        "path": [
         "_data",
         2,
         "x",
         "buffer"
        ]
       },
       {
        "data": "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",
        "encoding": "base64",
        "path": [
         "_data",
         2,
         "y",
         "buffer"
        ]
       }
      ],
      "model_module": "jupyterlab-plotly",
      "model_module_version": "^5.6.0",
      "model_name": "FigureModel",
      "state": {
       "_config": {
        "plotlyServerURL": "https://plot.ly"
       },
       "_data": [
        {
         "line": {
          "dash": "solid",
          "width": 1
         },
         "mode": "lines",
         "name": "Atoms 0 and 1",
         "opacity": 1,
         "type": "scatter",
         "uid": "19cc1e9b-cfb2-4bd0-9ce2-bbd3eb820c04",
         "x": {
          "dtype": "float64",
          "shape": [
           399
          ]
         },
         "y": {
          "dtype": "float64",
          "shape": [
           399
          ]
         }
        },
        {
         "line": {
          "dash": "solid",
          "width": 1
         },
         "mode": "lines",
         "name": "Atoms with Z=8",
         "opacity": 1,
         "type": "scatter",
         "uid": "166399f5-53db-44c6-a142-5820e275434f",
         "x": {
          "dtype": "float64",
          "shape": [
           399
          ]
         },
         "y": {
          "dtype": "float64",
          "shape": [
           399
          ]
         }
        },
        {
         "line": {
          "dash": "solid",
          "width": 1
         },
         "mode": "lines",
         "name": "Oxygens with even indices",
         "opacity": 1,
         "type": "scatter",
         "uid": "00470a98-9fc1-49ff-8fe5-f145b6938d87",
         "x": {
          "dtype": "float64",
          "shape": [
           399
          ]
         },
         "y": {
          "dtype": "float64",
          "shape": [
           399
          ]
         }
        }
       ],
       "_dom_classes": [],
       "_js2py_layoutDelta": {},
       "_js2py_pointsCallback": {},
       "_js2py_relayout": {},
       "_js2py_restyle": {},
       "_js2py_traceDeltas": {},
       "_js2py_update": {},
       "_last_layout_edit_id": 0,
       "_last_trace_edit_id": 0,
       "_layout": {
        "showlegend": true,
        "template": {
         "layout": {
          "hovermode": "closest",
          "paper_bgcolor": "white",
          "plot_bgcolor": "white",
          "scene": {
           "xaxis": {
            "color": "black",
            "gridcolor": "#ccc",
            "gridwidth": 1,
            "linewidth": 1,
            "mirror": true,
            "showgrid": false,
            "showline": true,
            "ticklen": 5,
            "ticks": "outside",
            "ticksuffix": " ",
            "visible": true,
            "zeroline": false,
            "zerolinecolor": "#ccc",
            "zerolinewidth": 1
           },
           "yaxis": {
            "color": "black",
            "gridcolor": "#ccc",
            "gridwidth": 1,
            "linewidth": 1,
            "mirror": true,
            "showgrid": false,
            "showline": true,
            "ticklen": 5,
            "ticks": "outside",
            "ticksuffix": " ",
            "visible": true,
            "zeroline": false,
            "zerolinecolor": "#ccc",
            "zerolinewidth": 1
           },
           "zaxis": {
            "color": "black",
            "gridcolor": "#ccc",
            "gridwidth": 1,
            "linewidth": 1,
            "mirror": true,
            "showgrid": false,
            "showline": true,
            "ticklen": 5,
            "ticks": "outside",
            "ticksuffix": " ",
            "visible": true,
            "zeroline": false,
            "zerolinecolor": "#ccc",
            "zerolinewidth": 1
           }
          },
          "xaxis": {
           "color": "black",
           "gridcolor": "#ccc",
           "gridwidth": 1,
           "linewidth": 1,
           "mirror": true,
           "showgrid": false,
           "showline": true,
           "ticklen": 5,
           "ticks": "outside",
           "ticksuffix": " ",
           "visible": true,
           "zeroline": false,
           "zerolinecolor": "#ccc",
           "zerolinewidth": 1
          },
          "yaxis": {
           "color": "black",
           "gridcolor": "#ccc",
           "gridwidth": 1,
           "linewidth": 1,
           "mirror": true,
           "showgrid": false,
           "showline": true,
           "ticklen": 5,
           "ticks": "outside",
           "ticksuffix": " ",
           "visible": true,
           "zeroline": false,
           "zerolinecolor": "#ccc",
           "zerolinewidth": 1
          }
         }
        },
        "xaxis": {
         "mirror": true,
         "title": {
          "text": "Density of states [1/eV]"
         }
        },
        "yaxis": {
         "mirror": true,
         "range": [
          -4.977538290000001,
          4.975768842
         ],
         "title": {
          "text": "Energy [eV]"
         }
        }
       },
       "_model_module": "jupyterlab-plotly",
       "_model_module_version": "^5.6.0",
       "_model_name": "FigureModel",
       "_py2js_addTraces": {},
       "_py2js_animate": {},
       "_py2js_deleteTraces": {},
       "_py2js_moveTraces": {},
       "_py2js_relayout": {},
       "_py2js_removeLayoutProps": {},
       "_py2js_removeTraceProps": {},
       "_py2js_restyle": {},
       "_py2js_update": {},
       "_view_count": 0,
       "_view_module": "jupyterlab-plotly",
       "_view_module_version": "^5.6.0",
       "_view_name": "FigureView"
      }
     },
     "87329fb281714a9b95a777db7b2f04c6": {
      "buffers": [
       {
        "data": "AAAAAAAAAAAAAAAAAAAAAAAAAAAAAAAAAAAAAAAAAAAAAAAAAAAAAAAAAAAAAAAAAAAAAAAAAAAAAAAAAAAAAAAAAAAAAAAAAAAAAAAAAAAAAAAAAAAAAAAAAAAAAAAAAAAAAAAAAAAAAAAAAAAAAAAAAAAAAAAAAAAAAAAAAAAAAAAAAAAAAAAAAAAAAAAAAAAAAAAAAAAAAAAAAAAAAAAAAAAAAAAAAAAAAAAAAAAAAAAAAAAAAAAAAAAAAAAAAAAAAAAAAAAAAAAAAAAAAAAAAAAAAAAAAAAAAAAAAAAAAAAAAAAAAAAAAAAAAAAAAAAAAAAAAAAAAAAAAAAAAAAAAAAAAAAAAAAAAAAAAAAAAAAAAAAAAAAAAAAAAAAAAAAAAAAAAAAAAAAAAAAAAAAAAAAAAAAAAAAAAAAAAAAAAAAAAAAAAAAAAAAAAAAAAAAAAAAAAAAAAAAAAAAAAAAAAAAAAAAAAAAAAAAAAAAAAAAAAAAAAAAAAAAAAAAAAAAAAAAAAAAAAAAAAAAAAAAAAAAAAAAAAAAAAAAAAAAAAAAAAAAAAAAAAAAAAAAAAAAAAAAAAAAAAAAAAAAAAAAAAAAAAAAAAAAAAAAAAAAAAAAAAAAAAAAAAAAAAAAAAAAAAAAAAAAAAAAAAAAAAAAAAAAAAAAAAAAAAAAAAAAAAAAAAAAAAAAAAAAAAAAAAAAAAAAAAAAAAAAAAAAAAAAAAAAAAAAAAAAAAAAAAAAAAAAAAAAAAAAAAAAAAAAAAAAAAAAAAAAAAAAAAAAAAAAAAAAAAAAAAAAAAAAAAAAAAAAAAAAAAAAAAAAAAAAAAAAAAAAAAAAAAAAAAAAAAAAAAAAAAAAAAAAAAAAAAAAAAAAAAAAAAAAAAAAAAAAAAAAAAAAAAAAAAAAAAAAAAAAAAAAAAAAAAAAAAAAAAAAAAAAAAAAAAAAAAAAAAAAAAAAAAAAAAAAAAAAAAAAAAAAAAAAAAAAAAAAAAAAAAAAAAAAAAAAAAAAAAAAAAAAAAAAAAAAAAAAAAAAAAAAAAAAAAAAAAAAAAAAAAAAAAAAAAAAAAAAAAAAAAAAAAAAAAAAAAAAAAAAAAAAAAAAAAAAAAAAAAAAAAAAAAAAAAAAAAAAAAAAAAAAAAAAAAAAAAAAAAAAAAAAAAAAAAAAAAAAAAAAAAAAAAAAAAAAAAAAAAAAAAAAAAAAAAAAAAAAAAAAAAAAAAAAAAAAAAAAAAAAAAAAAAAAAAAAAAAAAAAAAAAAAAAAAAAAAAAAAAAAAAAAAAAAAAAAAAAAAAAAAAAAAAAAAAAAAAAAAAAAAAAAAAAAAAAAAAAAAAAAAAAAAAAAAAAAAAAAAAAAAAAAAAAAAAAAAAAAAAAAAAAAAAAAAAAAAAAAAAAAAAAAAAAAAAAAAAAAAAAAAAAAAAAAAAAAAAAAAAAAAAAAAAAAAAAAAAAAAAAAAAAAAAAAAAAAAAAAAAAAAAAAAAAAAAAAAAAAAAAAAAAAAAAAAAAAAAAAAAAAAAAAAAAAAAAAAAAAAAAAAAAAAAAAAAAAAAAAAAAAAAAAAAAAAAAAAAAAAAAAERcYgTAKiPmrX7hPaQ74+LIXBLtQO2D6YXB09XxfyPotYTLVx3Ak/O/+6EV9yIT++rMKj/EI2P7ncRFR740o/Iud/9q6/Xj/6nR9+xKZwP4GLy//bFYE/7i69HhydkD+PdUDrpaOeP2ZFKd2az6o/pvwIYvFItj8uQYYDrp3BPwvA3Bcxh8o/+TUI42oQ0z+YIHa+gTfaPyWgFQv5TOE/ZAaaU4n+5T/Qi4OL2QvrP4DjzIGfKPA/LEZwpiXZ8j+rfwl6n431P/jCwnpDPvg/QQH6oOng+j9k8vDpRWT9PxXjIV49rf8/f371vSbMAEDWBBe46H8BQIVigZER4wFAC04XjGLwAUCcPXKsTbABQO5Sjlu6OQFAhfMl7IGuAEAd1MeNOTQAQGJtwSbF1v8/U25zU83P/z+a0EmWYi0AQMBOoR9EsABAhj4zDMdaAUCeEfi6VBMCQDj1MXp9wQJAnm44Cd5PA0BUAJc4OasDQHw4l9rHwANAF0jN8z5+A0CAjAPH7dQCQIPT1cVLvwFALpFJ329GAEBVbdIq4Qj9P2aFL6ilQ/k/z7MBoaqc9T95UutC3m7yPy2QIeYF/+8/PMEL9Pfo7D/tl+NZ6ajrP0hUzlJnH+w/psQGyBkb7j9q3f//DrnwP9RYCQICCPM/ZUy0FFr59T+L9puxXYv5PyRIlfcZrf0/gkatcIwYAUCy8J3J0GMDQG0z4YhLggVAOcnMGXg4B0DwVoEepVEIQAVw4asdrAhAPFGTK39BCEA+WwKp8SgHQC4isd8TkwVA616UGVTBA0BtF+EQYvsBQKbFn9orhQBA7ScIXuUt/z9PuAZv7a/+P4o98nUjt/8/uZk4rGYgAUCYkkcgYREDQBjJ8XphiAVA5hyxvXdSCEB/Mq2PeTULQCKPlqeP9g1A+pOR8YMwEEDohYmQKSYRQEXPhGHozxFAPadUmZ4pEkA+k35kvDUSQIvqtZxc+hFAVHa5RDF+EUC/xaaGgcYQQJieJ9b2rQ9AvSMthWlmDUC3ooko2sEKQLzlkEmm0wdA/s336dS3BEDfy5wrzpABQFkkcJgYBv0/W7fZWNpg9z9MHLh3CmnyP48XibAoiuw/Irrl3pUS5j9BmGWLmXDhP9Z/37c6Ed0/pGDgtcBE2j+oi2mAY9/ZP5E2LA+dLds/BGaH1CeA3T/LMMXXiyTgP/d93TT0mOE/5dKkDqUQ4z/SkdYg0ZXkP6EaOzugOOY/2kegvvv65z+Y4S1QQsHpP0wbEkoiT+s/qDwPSE1T7D+UFnsTpX7sP+IXI7OOnus/xzkg6dqw6T8Cscv9aOrmP1Dqt7lDr+M/v71CDVOA4D8JNDlYKcvbP2G0wSw/ttg/sxBnKMuH2D9RDZrI4sLbPybXMmTHTeE/GtQHDyt15j9al1Ex8w/tP57asQfeT/I/m0KRjGM69j9mka5lxd/5PwOySo+B1/w/C6a/7cTL/j+O1iS1yIz/P9RuJd6/Hv8/GP9JW569/T9h7Cr+YtT7P2LZIrP56Pk/Po65bwyB+D8wqDhjKQb4P9/N2brMr/g/BmPjzUR4+j+M5vIFpx79PxoD1EaMGgBAlNq7rRKcAUBgkydqGtUCQJIoUz6zlgNAlAvbQTTLA0Aix/ZdE3oDQCr9VYo5xQJArbMVGljgAUACfc5vOgQBQMxfm6gpYQBA2aQT0tkTAECOny1wzx8AQIMOx1C5cABA9LoOgzPiAEAghFcgbUsBQGD61nzvigFAEg0Jj+WOAUDpYvS3vVcBQBO8eiw39QBAWzfu8eR/AECBZOrOEBIAQO+CPkfXhP8/ZTXysCpD/z/yGOozH3T/PxgMJylWEQBAUkrVM96oAEAKnImUWH4BQKEe0QxOiwJAwUaQ45XEA0AcKIaRJxoFQCiwrfSJdwZAE4r+gNPEB0D8msNWHegIQGaAVExbxwlAw7en+6NKCkBK1avg3l4KQJvxOIh/+AlALxKEmZ4VCUDepKLupb4HQLqFk5MbBQZAKQaEJsQABEBH4+7aB8wBQGU9AnKTAf8/W98WNTNt+j+ama8G4gT2P3pLJj7l7vE/u5o0ACKf7D/xW3kthZPmPx1CKDPh+uE/NmhkrBcS3j/KRM2rhrrbP4Ho/Xil8dw/su6Plmm24D/YFnBUaETkP48ZwJtBpeg/8W7Urvo47T859r0Bd6jwP0HcoVSnJfI/I0nHrRDY8j/3X++GtKPyP7HVkNjEkPE/905KbUSP7z/ll0PnFQzrPz+mBWr9IeY/fzZzwudO4T/EGV8ATuTZP5L40I8+idI/FWN6kbdqyT8P/aSaqrHAP/s3Gt+pArU/yP2ZRI1UqT8Uz2jovj2dP0bqg6GVJpA/MMgmEfEOgT9dxdXW7TVxP2R2ojkakmA/SZAd/5JrTj86Zesj9pc6P2tU6UolHyY//p4am8d+ET/dzgQSLUr6PpIpELeGgeI+3Lf8sqMgyT6z4XG2qp+uPjT0geXh1JI+P/YEQqXodT4AAAAAAAAAAAAAAAAAAAAAAAAAAAAAAAAAAAAAAAAAAAAAAAAAAAAAAAAAAAAAAAAAAAAAAAAAAAAAAAAAAAAAAAAAAAAAAAAAAAAAAAAAAAAAAAAAAAAAAAAAAAAAAAAAAAAAAAAAAAAAAAAAAAAAAAAAAAAAAAAAAAAAAAAAAAAAAAAAAAAAAAAAAAAAAAAAAAAAAAAAAAAAAAAAAAAAAAAAAAAAAAAAAAAAAAAAAAAAAAAAAAAAAAAAAAAAAAAAAAAAAAAAAAAAAAAAAAAAAAAAAAAAAAAAAAAAAAAAAAAAAAAAAAAAAAAAAAAAAAAAAAAAAAAAAAAAAAAAAAAAAAAAAAAAAAAAAAAAAAAAAAAAAAAAAAAAAAAAAAAAAADlNxVclsFtPjaWW6tXA4o+NjbeygiDpT4tmgL1I4vBPo2dLIOwK9o+DBGxl1HD8j6CD0PzSzoJP+kU8o65FyA/71wqe2uCMz/n4G44vXVGP6gURk+Lllg/VCm5NOOeaT9E7v0Bk295P6oiVjIWFog/mBIVEsvHlT+r+8U8itSiP+0RL3N3Kq8/hKhIohO3uD8Sj7e69czCP31vTXDNdcs/vcRu4/JD0z8shf/oEPvZP5Ct8v1F1+A/8GKdzVz95D+kjMes2yXpP6V7aQ0S9ew/KUk0hqoE8D+VQ2QUNgXxP65JBvu2XPE/o3TmApj+8D+0Roj29ufvP+/pq4q3tOw/COj/fXS86D9vz5wtWmbkPwoNeL19FuA/MAj93XI+2D8bjM3aHnDRP3xZy3HF7Mc/3o+rOJdHvz8ddr8SSnizP6bopglcEac/xE3XC3sImj9PXr6+ei+MP9ixJjuBX34/nkBDIKbicj/Q3Yd1gGtyP/w0+tnaXX0/peNYQ9QxjD/VttjIM0qbP7p4ze+UZak/IGAhZZyBtj8dNRb35PbCP585FJHKZc4/53aa6Rsw1z/upurDD9rgP9RC0FORXOc/Rf0GXV/t7j9P4S7ddpPzPwkY1I1su/c/TUA3PWKX+z8lco1ULc7+PxR7trXciABAUeayh1kVAUBN1F3tgAABQK/GVSgHUABA8L/FilE2/j9++HbT6g/7P7qpbl5gjPc/x5PRzpMQ9D/462kzMPfwPwT5IDeqBe0/c7E7gaGq6T/4LL8QNdznP4i1ieA6YOc/DPODbH3Z5z8jYenIIOHoP31nC48KHOo/KD81Q4NH6z+A8LQxSTzsP0HXLcVc6+w/H55+r9lZ7T+MnKY6a6DtP0JA+xeP7+0/W8Gt4myV7j/nOpQ4tv7vPxrYJk3fVfE/YfOQ40mL8z+JKCaZycb2P5gyXnR5Bvs/1vQ2bHgJAEBxQrIsDMACQCG/FGnqXgVA/hVe3amaB0AxsGoZRzUJQKBzHKC4CwpABuJneQ0cCkBDA0lQhYIJQB7cwNNBbwhADhQYHH8YB0CTQKLL1K0FQGDUAe/lTwRAXwE7tNoNA0Bjoq4C++cBQAzN/iNw1QBAm9DxkqeV/z+Jq117JX/9P17D0RHuYfs/yW6LhitF+T8XimCEOzn3PzutM8P1UfU/Y20/qL6g8z/3ldxREjDyP+Va1alkAfE/GENuGE8N8D9Vvi1UzIruP8qWhWm7Le0/02P/B6Xa6z/gPeDK1GrqP+vmeAeUvug/8+mmELzB5j9wuyPrfG/kP2UXZW1U1OE/1KCSX0wa3j/Mf2bVPobYPxzv/KbEStM/8hgzGfKJzT8ooj+VcI/GPxOlZYcBMsI/hOXNdDLpwD9bQYGYDR/DP1wj8eubLMk/yIznl5mh0T/+CMA5TKHYPxTke9HsoeA/smn9KFdy5T/XLCX4vkbqP40+OXX4iO4/Uyflnv7Q8D/wecQMF43xP0hNKZ3mWvE/1nWmB/xB8D8Qo2NjqtrsP/ZxeawVQeg/P5mSZ7tP4z8RH8pwQSHdP/y8pDlN0dQ/gaArUTg6zD+m2l3TDTzCP80s71X/ybY/LYXD+FvprD/P80wdjwOlP+6R2t10iaQ/J9LuPMj4qj8DBYE/8U+0P6XdZjOTL78/O8PZLIRRxz9cLEr8G8TQP+EbN9WOIdc/ZUm3aI2k3j/F6k/pm4XjP5BzRNaP9+c/NomXpwNm7D9jE3NYE0PwP0B1qNCYBvI/1/JODHRd8z/cM+/tETL0P95L3OxVffQ/3ib9oqlH9D9g2wECUqbzPwyvOJOCtfI/OVONoR6R8T/uPr1y3U7wP+lsVWMd+O0/b85q30k/6z/BK8/Zan7oPx4yuwZ8yOU/DWnWBMk94z/GuzIGGgnhP7AeotEXqt4/O+nhOCp73D+ozVN4DIfbP8dCP7Crjts/ZcxhD7sb3D8EhUXFJ5zcP9+erP70htw/NBwhAaJ+2z9d7uELWWbZP/ExFGpZZNY/NDjlpQ3T0j8m137w+E/OP7SwfcottMc/e7U1jC+ewj+gtcQwRky/P1WHgpKwYb4/5DWqZfF2wT8RoxZZZInGP8Tjf3YhTs4/5QAZHiQ71D/ad7JrKzraPzSGbd2TXuA/g/8vRUuh4z+xqOqet53mP6PWr4f2Duk/jHuiG8i96j++NSOlr4vrP+jhnWCGfOs/q1w8nGy86j9AXmVnnJ/pPxC3AzDYmeg/i/r2IYks6D/VhWsVPc3oP7nu7G5dyeo/Xg1pI1wu7j8SbrvxBV/xPwt9Jbw7+vM/6WjuC+WP9j8XfSjuiML4P88fSQcMRPo/iOTJBJjl+j8wTmm/SZ/6P1gZrENAjvk/pqBQbsXq9z9T4xC9ZPr1P+TpOOIzAvQ/22J4+4E88j/KbzdDWdPwP3Mg1Hg0v+8/pynHG8LW7j/fOFp+2+vuP9Mg+Qie7u8/5O5wiHDi8D+KeKdaAyXyP0kUFbvTpfM/fzB8+iFD9T9MPgOhCtP2Pz6NscuTJ/g/LCnMO5YW+T8D6AR7CYT5P4Qs+m7fa/k/bfR0EC3o+D/K5RWjDjH4P1LMBoYxlfc/LJTgLMRr9z9qg4AvPQL4PxKhKcazifk/L4TkVDkI/D8FGQ8YiFL/P90s4bSEiAFAcAP3H0VoA0CffHlhoA0FQEaHQ6KxSQZAeWZLr44DB0DB8FXQtTsHQOs4JS8ACAdAFo2GJQKKBkAKjvSU1eMFQMezalSeLwVA1pG42ZB8BECE07RJpNEDQCGLECKdMwNAL9fOKNqqAkAaCu8wsUUCQAPz1fz0FQJANOgNX5AqAkD9Zq4GB4gCQPTLBsxAIwNAm/DWfyPhA0BUgNumhZsEQBCOH0XZKQVAOMCB+o9qBUB18WXcMkoFQBg7PV5dxgRAsFMkX5LsA0Dnn5+TUNYCQDOJZrpLpAFA+UD59y96AEAuHCcervb+PwLIoe/ej/0/sfhNJKvz/D+a10SxiEH9P23kDpqefP4/oLQjINZCAEAudY1j8YwBQGuZgcl67AJA3OqCLWIpBEBFNqgmTA0FQAJ1AKfcbQVA3coJmiA1BUBrkTd132UEQLtRbZS+GgNAMnINspiAAUAn5M4WdJv/PzVUHPvDcPw/oqpGwYrd+T8qju9J4yP4PylchriJZ/c/GAnSyHau9z+l3uxz2OP4P07fnMK/2/o/BPqkIVhX/T/ZWsj1YAUAQEI7cGryUgFAyOOk+CZwAkAIEHVpEUMDQLomxzQ+wQNAQMhKkKnxA0D87REmauoDQOjQTYB4ygNA++4kUl6xA0CpR2vwQ7cDQL6y2Ll15wNAOjbLY2o+BEA/Cgc2FKsEQNaKhpyHEgVA9vGdleFUBUBseFbtqlIFQKsGCJc98gRAoi01EaskBEBvqJtHVOkCQH4Pvkk0TwFAL0dW6FHm/j9bgsE+rPb6PzvqQ1SFIfc/7uZnBtix8z/P0GVH3eHwP/gsDnQ3rO0/nK/UOHY56z8FngQHhl7qPyYo+c7c6eo/DqPWK86J7D9VgazfENLuP4ALHr9eovA/LVv2qhKw8T8PfT6NIVjyP67UlaYPcPI/Ty8NqE/j8T/aivHuoLXwPxx20kCrAe4/LJ2ej3Ld6T9fYAm8amHlP3gA/klg7uA/CdDTk5qp2T+X8G5E3JfSP1SlLxNCvMk/M92rcwACwT8Gk+BGgoK1P3Q7e8anTKo/o6PtDxMooD/zmNtsPVWWP6wQI1u35JQ/xidndYiEmz9XB+iNfXelP3azJhwsLbE/htCNTd2luj9HIGN1TrXDP9ddd2rEq8s/DNSyFpFr0j8n62mwA0HXP+ZbiT8Y2Ns/HHGnJAOk3z+u/jrxwBPhP/2tQq1TiuE/wNqXHWIy4T9ib5QacDDgPxm43WQImN0/hzpY3C3G2j/gZ5xcKrLYPxIQXaVfCtg/6ub5ks1F2T+MnGHPI43cP4m/3qP41uA/fY+lnhkN5D//7npfdHvnP/xGQxyineo/EvDUXCHv7D/w2sI4XQXuP6krjKiRpu0/TYktLc/W6z96eEAi39boPwZ51W9qFeU/OzfQ8YAX4T8=",
        "encoding": "base64",
        "path": [
         "_data",
         0,
         "x",
         "buffer"
        ]
       },
       {
        "data": "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",
        "encoding": "base64",
        "path": [
         "_data",
         0,
         "y",
         "buffer"
        ]
       }
      ],
      "model_module": "jupyterlab-plotly",
      "model_module_version": "^5.6.0",
      "model_name": "FigureModel",
      "state": {
       "_config": {
        "plotlyServerURL": "https://plot.ly"
       },
       "_data": [
        {
         "line": {
          "color": "black",
          "dash": "solid",
          "width": 1.0
         },
         "mode": "lines",
         "name": "DOS",
         "opacity": 1,
         "type": "scatter",
         "uid": "dc10106e-cb4d-4a53-b05c-9d9185dacb5d",
         "x": {
          "dtype": "float64",
          "shape": [
           799
          ]
         },
         "y": {
          "dtype": "float64",
          "shape": [
           799
          ]
         }
        }
       ],
       "_dom_classes": [],
       "_js2py_layoutDelta": {},
       "_js2py_pointsCallback": {},
       "_js2py_relayout": {},
       "_js2py_restyle": {},
       "_js2py_traceDeltas": {},
       "_js2py_update": {},
       "_last_layout_edit_id": 0,
       "_last_trace_edit_id": 0,
       "_layout": {
        "showlegend": true,
        "template": {
         "layout": {
          "hovermode": "closest",
          "paper_bgcolor": "white",
          "plot_bgcolor": "white",
          "scene": {
           "xaxis": {
            "color": "black",
            "gridcolor": "#ccc",
            "gridwidth": 1,
            "linewidth": 1,
            "mirror": true,
            "showgrid": false,
            "showline": true,
            "ticklen": 5,
            "ticks": "outside",
            "ticksuffix": " ",
            "visible": true,
            "zeroline": false,
            "zerolinecolor": "#ccc",
            "zerolinewidth": 1
           },
           "yaxis": {
            "color": "black",
            "gridcolor": "#ccc",
            "gridwidth": 1,
            "linewidth": 1,
            "mirror": true,
            "showgrid": false,
            "showline": true,
            "ticklen": 5,
            "ticks": "outside",
            "ticksuffix": " ",
            "visible": true,
            "zeroline": false,
            "zerolinecolor": "#ccc",
            "zerolinewidth": 1
           },
           "zaxis": {
            "color": "black",
            "gridcolor": "#ccc",
            "gridwidth": 1,
            "linewidth": 1,
            "mirror": true,
            "showgrid": false,
            "showline": true,
            "ticklen": 5,
            "ticks": "outside",
            "ticksuffix": " ",
            "visible": true,
            "zeroline": false,
            "zerolinecolor": "#ccc",
            "zerolinewidth": 1
           }
          },
          "xaxis": {
           "color": "black",
           "gridcolor": "#ccc",
           "gridwidth": 1,
           "linewidth": 1,
           "mirror": true,
           "showgrid": false,
           "showline": true,
           "ticklen": 5,
           "ticks": "outside",
           "ticksuffix": " ",
           "visible": true,
           "zeroline": false,
           "zerolinecolor": "#ccc",
           "zerolinewidth": 1
          },
          "yaxis": {
           "color": "black",
           "gridcolor": "#ccc",
           "gridwidth": 1,
           "linewidth": 1,
           "mirror": true,
           "showgrid": false,
           "showline": true,
           "ticklen": 5,
           "ticks": "outside",
           "ticksuffix": " ",
           "visible": true,
           "zeroline": false,
           "zerolinecolor": "#ccc",
           "zerolinewidth": 1
          }
         }
        },
        "xaxis": {
         "mirror": true,
         "title": {
          "text": "Density of states [1/eV]"
         }
        },
        "yaxis": {
         "mirror": true,
         "range": [
          -9.97920019,
          9.97743072
         ],
         "title": {
          "text": "Energy [eV]"
         }
        }
       },
       "_model_module": "jupyterlab-plotly",
       "_model_module_version": "^5.6.0",
       "_model_name": "FigureModel",
       "_py2js_addTraces": {},
       "_py2js_animate": {},
       "_py2js_deleteTraces": {},
       "_py2js_moveTraces": {},
       "_py2js_relayout": {},
       "_py2js_removeLayoutProps": {},
       "_py2js_removeTraceProps": {},
       "_py2js_restyle": {},
       "_py2js_update": {},
       "_view_count": 0,
       "_view_module": "jupyterlab-plotly",
       "_view_module_version": "^5.6.0",
       "_view_name": "FigureView"
      }
     },
     "8a74ce3e37984d43bad53433ac177cef": {
      "buffers": [
       {
        "data": "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",
        "encoding": "base64",
        "path": [
         "_data",
         0,
         "x",
         "buffer"
        ]
       },
       {
        "data": "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",
        "encoding": "base64",
        "path": [
         "_data",
         0,
         "y",
         "buffer"
        ]
       },
       {
        "data": "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",
        "encoding": "base64",
        "path": [
         "_data",
         1,
         "x",
         "buffer"
        ]
       },
       {
        "data": "E40ozP/oE8BtCY4FZM8TwMmF8z7ItRPAJQJZeCycE8CBfr6xkIITwN36I+v0aBPAkXrTHVlPE8Dt9jhXvTUTwElznpAhHBPApe8DyoUCE8D/a2kD6ugSwFvozjxOzxLAt2Q0drK1EsAT4ZmvFpwSwG9d/+h6ghLAydlkIt9oEsAlVspbQ08SwNvVeY6nNRLANVLfxwscEsCRzkQBcAISwO1KqjrU6BHASccPdDjPEcClQ3WtnLURwP+/2uYAnBHAWzxAIGWCEcC3uKVZyWgRwBM1C5MtTxHAx7S6xZE1EcAjMSD/9RsRwH+thThaAhHA2ynrcb7oEMA3plCrIs8QwJEituSGtRDA7Z4bHuubEMBJG4FXT4IQwKWX5pCzaBDAI+KcxxdPEMB/XgIBfDUQwGUOvDngGxDASb51ckQCEMBa3F5WUdEPwCI80scZng/A7ptFOeJqD8C2+7iqqjcPwH5bLBxzBA/ARrufjTvRDsASGxP/A54OwNp6hnDMag7Aotr54ZQ3DsBqOm1TXQQOwDaa4MQl0Q3A/vlTNu6dDcDGWcentmoNwH5Skhp/Nw3ARrIFjEcEDcASEnn9D9EMwNpx7G7YnQzAotFf4KBqDMBqMdNRaTcMwDaRRsMxBAzA/vC5NPrQC8DGUC2mwp0LwI6woBeLagvAWhAUiVM3C8AicIf6GwQLwOrP+mvk0ArAti9u3aydCsB+j+FOdWoKwEbvVMA9NwrA/ucfMwYECsDGR5OkztAJwI6nBhaXnQnAWgd6h19qCcAiZ+34JzcJwOrGYGrwAwnAtibU27jQCMB+hkdNgZ0IwEbmur5JagjADkYuMBI3CMDapaGh2gMIwKIFFROj0AfAamWIhGudB8Ayxfv1M2oHwP4kb2f8NgfAxoTi2MQDB8B+fa1LjdAGwEbdIL1VnQbADj2ULh5qBsDanAeg5jYGwKL8ehGvAwbAalzugnfQBcAyvGH0P50FwP4b1WUIagXAxntI19A2BcCO27tImQMFwFY7L7ph0ATAIpuiKyqdBMDq+hWd8mkEwLJaiQ67NgTAfrr8f4MDBMBGGnDxS9ADwA5642IUnQPAxnKu1dxpA8CO0iFHpTYDwFYylbhtAwPAIpIIKjbQAsDq8Xub/pwCwLJR7wzHaQLAerFifo82AsBGEdbvVwMCwA5xSWEg0AHA1tC80uicAcCiMDBEsWkBwGqQo7V5NgHAMvAWJ0IDAcD6T4qYCtAAwMSv/QnTnADAjg9xe5tpAMBECDzuYzYAwA5or18sAwDArI9Foumf/79ATyyFejn/v9QOE2gL0/6/ZM75Spxs/r/4jeAtLQb+v4hNxxC+n/2/HA2u8045/b+szJTW39L8v0CMe7lwbPy/0EtinAEG/L9kC0l/kp/7v/TKL2IjOfu/iIoWRbTS+r8YSv0nRWz6v4g7kw3WBfq/HPt58Gaf+b+sumDT9zj5v0B6R7aI0vi/0DkumRls+L9k+RR8qgX4v/S4+147n/e/iHjiQcw4978YOMkkXdL2v6z3rwfua/a/PLeW6n4F9r/Qdn3ND5/1v2Q2ZLCgOPW/9PVKkzHS9L+ItTF2wmv0vxh1GFlTBfS/iGauPuSe878YJpUhdTjzv6zlewQG0vK/PKVi55Zr8r/QZEnKJwXyv2AkMK24nvG/9OMWkEk48b+Eo/1y2tHwvxhj5FVra/C/rCLLOPwE8L94xGM3Gj3vv6BDMf07cO6/wML+wl2j7b/oQcyIf9bsvwjBmU6hCey/MEBnFMM8679QvzTa5G/qvzCiYKUGo+m/UCEuayjW6L94oPswSgnov6AfyfZrPOe/wJ6WvI1v5r/oHWSCr6LlvwidMUjR1eS/MBz/DfMI5L9Qm8zTFDzjv3gampk2b+K/mJlnX1ii4b/AGDUletXgv+CXAuubCOC/EC6gYXt33r9QLDvtvt3cv6Aq1ngCRNu/YPAtD0aq2b+g7siaiRDYv/DsYybNdta/MOv+sRDd1L+A6Zk9VEPTv8DnNMmXqdG/EObPVNsP0L+gyNXAPezMv0DFC9jEuMm/wMFB70uFxr9gvncG01HDvwC7rR1aHsC/AG/HacLVub9AaDOY0G6zv4DCPo29D6q/AGot1LODmr8AoDg1p/1MvwBWpgzas5g/ADl7qdAnqT9Ao1Em2vqyP0Cq5ffLYbk/ALF5yb3Ivz/g24bN1xfDP2DfULZQS8Y/wOIan8l+yT9A5uSHQrLMP6DprnC75c8/kHa8LJqM0T9AeCGhVibTPwB6hhUTwNQ/sHvric9Z1j9wfVD+i/PXP7C3+GdIjdk/cLld3AQn2z8gu8JQwcDcP9C8J8V9Wt4/kL6MOTr03z8g4PhW+8bgPwBhK5HZk+E/2OFdy7dg4j+4YpAFli3jP5Djwj90+uM/cGT1eVLH5D9I5Se0MJTlPyhmWu4OYeY/AOeMKO0t5z/gZ79iy/rnP7jo8Zypx+g/kGkk14eU6T+4hvgLZmHqP5AHK0ZELus/cIhdgCL76z9ICZC6AMjsPyiKwvTelO0/AAv1Lr1h7j/giydpmy7vP7gMWqN5++8/zEbG7itk8D84h98Lm8rwP6TH+CgKMfE/FAgSRnmX8T+ASCtj6P3xP/CIRIBXZPI/XMldncbK8j/MCXe6NTHzP1wY4dSkl/M/zFj68RP+8z84mRMPg2T0P6jZLCzyyvQ/FBpGSWEx9T+AWl9m0Jf1P/CaeIM//vU/XNuRoK5k9j/MG6u9Hcv2PzhcxNqMMfc/qJzd9/uX9z8U3fYUa/73P4QdEDLaZPg/8F0pT0nL+D9gnkJsuDH5P8zeW4knmPk/XO3Fo5b++T/MLd/ABWX6Pzhu+N10y/o/qK4R++Mx+z8U7yoYU5j7P4QvRDXC/vs/8G9dUjFl/D9gsHZvoMv8P8zwj4wPMv0/PDGpqX6Y/T+occLG7f79Pxiy2+NcZf4/hPL0AMzL/j/yMg4eOzL/P2BzJzuqmP8/zrNAWBn//z8wYVU5xDIAQGcB4sf7ZQBAnaFuVjOZAEDUQfvkaswAQAvih3Oi/wBAQoIUAtoyAUB5IqGQEWYBQLDCLR9JmQFA52K6rYDMAUAeA0c8uP8BQFWj08rvMgJAjENgWSdmAkDD4+znXpkCQPqDeXaWzAJAMSQGBc7/AkBnxJKTBTMDQLDLxyA9ZgNA52tUr3SZA0AeDOE9rMwDQFWsbczj/wNAjEz6WhszBEDD7IbpUmYEQPqME3iKmQRAMS2gBsLMBEBozSyV+f8EQJ9tuSMxMwVA1g1GsmhmBUAMrtJAoJkFQENOX8/XzAVAeu7rXQ8ABkCxjnjsRjMGQOguBXt+ZgZAH8+RCbaZBkBo1saW7cwGQJ92UyUlAAdA1hbgs1wzB0ANt2xClGYHQERX+dDLmQdAeveFXwPNB0CxlxLuOgAIQOg3n3xyMwhAH9grC6pmCEBWeLiZ4ZkIQI0YRSgZzQhAxLjRtlAACUD7WF5FiDMJQDL56tO/ZglAaZl3YveZCUCgOQTxLs0JQOlAOX5mAApAH+HFDJ4zCkBWgVKb1WYKQI0h3ykNmgpAxMFruETNCkD7YfhGfAALQDIChdWzMwtAaaIRZOtmC0CgQp7yIpoLQNfiKoFazQtADoO3D5IADEBFI0SeyTMMQHzD0CwBZwxAs2NduziaDEDpA+pJcM0MQCCkdtinAA1AaaurZd8zDUCgSzj0FmcNQNfrxIJOmg1ADoxREYbNDUBFLN6fvQAOQHzMai71Mw5As2z3vCxnDkDqDIRLZJoOQCGtENqbzQ5AV02daNMAD0CO7Sn3CjQPQMaNtoVCZw9A/C1DFHqaD0Azzs+isc0PQDU3rph0ABBAUIf0XxAaEED1Co8mrDMQQBBb1e1HTRBALKsbteNmEEBH+2F8f4AQQGNLqEMbmhBAfpvuCrezEECa6zTSUs0QQLU7e5nu5hBA0IvBYIoAEUDs2wcoJhoRQAgsTu/BMxFAI3yUtl1NEUA+zNp9+WYRQFocIUWVgBFAdmxnDDGaEUCRvK3TzLMRQKwM9JpozRFAUZCOYQTnEUBs4NQooAASQIgwG/A7GhJAo4Bht9czEkC+0Kd+c00SQNog7kUPZxJA9nA0DauAEkARwXrURpoSQCwRwZvisxJASGEHY37NEkBjsU0qGucSQH8BlPG1ABNAmlHauFEaE0C2oSCA7TMTQNHxZkeJTRNA7UGtDiVnE0CRxUfVwIATQKwVjpxcmhNA7O8HZPizE0AHQE4rlM0TQBdig/Iv5xNA",
        "encoding": "base64",
        "path": [
         "_data",
         1,
         "y",
         "buffer"
        ]
       },
       {
        "data": "yG7vRK5ppD87hvlgI6ygP6WcKGiUFJo/h+r9YeCxkz/ullWxICiNP9RpsT6MroU/dPuQ+ii7gD9aF1Ikx5J7P8xq2hVEcXg/vm/evMzgdj+k9u5Y1O51P1RWjFnt+nQ/AvS1O6u0cz/2bhKYAgtyP3rG3ex8FXA/EurjP2/9az+atMskFetnP6b2ASLJTWQ/PCWSvXB+YT+L9Vs06b9fP7/61Nzg0l8/HIO1fU0nYj+HOfhCEi1nPywIL6yKdm8/4H6c++OddT+h8Db8TSF9PwOaK4le74I/QK+RhzKShz+QeUQUcQSMP74g/UlQyY8/buUlK646kT+GNYHsQOORPxzYIlCa2ZE/mYkomNo1kT9KON/3dSaQP4gGxoDhyI0/NnoZAcdLiz87mqTX7iSJPwKUuFs+eYc/MKNOEoNBhj/GHV40xVOFP/nWacsGdIQ/LiRdpl1ngz82ycqyNwSCP2Z8QRzdO4A/bEGf9g03fD8mT29P7ot3P/gTQywN0XI/5QH4g+29bD/hoosh0vNkP0QhB1IhIl0/2prOCaROUz9UHVCxDGZIPyVsNxRhdz0/TOWz8m8wMT/gS5vgDTUkP4D3CJgkRhs/EJDNECY0Gj/g7wVa1EwiP+qMP0YGEy4/GsR4+FEPOT9NDStl4R5EP0yWLlfQtE4/x1oZD7AwVj+kD5kDDFleP1+ovXX3oWM/1PlqwN8HaD/lPxYfGtRrP0hiEVi8fm4/hAq8rNaibz9+gKu2vBpvP8VdgD0BD20/z5y1KyX0aT9+bwmhZXlmPxoo/6z9b2M//iR+SQqzYT/X/z9LyhRiP8k4cZFQUGU/3BRD/ST6az9WIvwa+zRzP2YvdO+3TXo/c8f3ewKDgT+yVnN1s2iGP+DYMy2WbIs/7j/a0jYEkD8Cy+zuvteRP3bw2bry9JI/2vIMVDA4kz+pGR1/O6CSP7lEk+4vUZE/yoeinrEdjz/b9M5y216LP8i3XhGtE4g/wLIptGXHhT+cgt4WisaEPyRoRQidEIU/YxwI3Ktahj+ClSKTECKIP16GBERKy4k/vAVCN8jFij/CCIVS26uKPyYBUZqmVok/MWGGDDnhhj9HU0kpI5uDP2zAx9Hf338/jfUbx6+XeD/NRj2LZQtyPzRRwCs/TGk/V20bwWscYT9fkznz78tWPwFjBvyrDU8/O9+/UC/PRj+34+GeYuJCP8gAlTpCnEE/fAZMerW9QT9sYuKot3lCP1CqG9MKckM/uSjAJdqvRD9d52yRRpZGP2DnUCGHyUk/Q0mukrgGTz9jk5/S7nZTPySXeR5741g/wzgTRMyoXz/JvvxqPaxjPwZYRXIyoGc/yJ/yKy9Faz8EAL23kDRuPwx8LggtEXA/sc2uF8l1cD+LawPODkxwP+oDU3iCUG8/9+Oz2fFMbT96baSJHsVqP/WaOX3S5mc/ViiVePbUZD9cWxgdXqxhP7/gsgL0El0/OE/OVrMVVz8M4sUhWJ5RPwUYpJYdwUk/WcvDEp74QT9F8tEVBeM3P4snQWjzLi4/KIaf4bcaIj8+Wv22IZkUP/DEccTkNQY/VmTp+Xav9j5Wg19Ki/DlPlkVzb/4FdQ+i5y9N2BnwT6cpUIgMYisPkf79EK7H5Y+1Mpi0rQ+gD4R3GOr44pmPrRqKIIook0+Dgv0AsJsMj6no/B9ZqwVPvCZN7iuHto7PK5UJyuN1zuEjHo9FNbTO5Qrkm2PRs87hLrJXZYexzsrPOcNrQzAO3AAPVWy87Q77njpfKi9qTt2LR434cidO5ge3HRUPZA7qjnMqoWygDtK2gCOwTFwO3qTdUxKpF07mAhP0gabSTv+VjpmCOI0O7LqyKE6FSA7H3BPEqJlBzuHwztnexPwOu1+URLu3tQ6R9bHvT9KvDq85I5mlj+gOjLDt3x7PxG6PP/6sHo29bnxgmNp3a3YuQAAAAAAAAAAAAAAAAAAAAAAAAAAAAAAAAAAAAAAAAAAAAAAAAAAAAAAAAAAAAAAAAAAAAAAAAAAAAAAAAAAAAAAAAAAAAAAAAAAAAAAAAAAAAAAAAAAAAAAAAAAAAAAAAAAAAAAAAAAAAAAAAAAAAAAAAAAAAAAAAAAAAAAAAAAAAAAAAAAAAAAAAAAAAAAAAAAAAAAAAAAAAAAAAAAAAAAAAAAAAAAAAAAAAAAAAAAAAAAAAAAAAAAAAAAAAAAAAAAAAAAAAAAAAAAAAAAAAAAAAAAAAAAAAAAAAAAAAAAAAAAAAAAAAAAAAAAAAAAAAAAAAAAAAAAAAAAAAAAAAAAAAAAAAAAAAAAAAAAAAAAAAAAAAAAAAAAAAAAAAAAAEqWXj0d0OA9bpYT+11l/T2AU+2MNE8YPlrC+6BABDM++EL8hgIlTD4ffSz/E8JjPnc9a9ZjMHo+sic1TjNskD7rTZnqe32jPl8T4LS747U+G6e9KrNExz7fvgOC4mnXPsHgjjB7TuY+UumFvWgg9D62S42eKjQBP6u8ZenQ3ws/jwnTgLxpFT9bHyPFkzcfP4y3fKn4myU/2TYIY1dwLD8ERY7qYM8xP2/t63eiQjU/IgpmCOg5OD8hkZyN9WU6P9Bg00S3jjs/SvJ1cCecOz8Guhdc45c6PxfmXwAqqDg/vDKbgssGNj9JUJCH8vYyPy4D77HRdy8/LR1lsKsjKT8fZ3mPWFEjP3k1uT/+hBw/Ed9SqwUyFD9DJPY3yGYLP0VtanfZyQE/y8hmR04U9j7TUQPbUy/qPquVaxT1r90+OWiPE9kv0D7RnEJfl5DBPiv3pYBnCrY+EBPNMoeCtj5AgkxKC7vDPjx7nJTFAtU+hej7Hht55j5GzjuLWQn3PiKB7u+QbAY/C+7JbWGxFD95m//8+BgiP/OxQyhVAC4/glDqgL6RNz+wW65QCI1BP6+sZVsmx0g/RkaLE+aUUD/NSIw/7gpVPzu8CaLuUlk/5i4rDZToXD8LE9VJu1BfPzwXZzxKG2A/xsF1aY6CXz8eWM8+D2RdP3d2QgN4S1o/H9pXKCnXVj8aZdTevblTP/wvOCH5n1E/nwbUDVgaUT8Fv8PG6opSPyFaqGFPFlY/KOsYwZyXWz9YPWes/ExhP1vJIO+TLmU/ZW4kqwf1aD/aV8osDxxsP3xJgLbYLm4/rqqtdbrfbj+M2JUYbRhuPxs5s2KT/Ws/FMY4643kaD+wo/6fOj9lP/bbxARZhGE/Jz6z2U43XD/JL2LO1aRWP57j+7q5slI/ijh5M0OTUD+Jd1Ple1lQP7w5uaWHB1I/Lm1WfMWWVT92cfDIiPhaP6USvs88CGE/mJKl819VZT/B69dVUzhqP842XEilb28/ks7+xUJRcj9g5c0opbJ0PzSRvwWRonY/quwNYwLtdz84AzX8mW14P2xViUZWGHg/6EQ7Hfr9dj8EnMfgZkp1P11Jb3zyPHM/eK8iw3cccT9CzztrGFRuP59B0lkIK2s/0KHAUbLsaD9wZK8omJRnPyalgFE082Y/UNtShGW+Zj+Hxvwv7aRmPzBXzOfVX2Y/snPoEPy9ZT9wirNaVqhkP/WTpAH5H2M/+GVjITw4YT9h1fPVLB9eP2QdrzH1kVk/FxyAEA0NVT/9oXmzTMtQPwNw6e5S8kk/uUZgoaJkQz+cXbMMNwc8P1RdyRsskTM/+MnZFv5eKj8UuK2F0iIhP6gKykAUcxU/9oA8x/nSCT+y+L56wtv9Pi8CxBLgjPA+vlypFd+P4T6O7Oh+CM/RPrrwARQtO8E++Y45yYrFrz71nYkhgtybPtrriqC1PYc+v41XPE9pcj4FDZiPpq5bPp5bnfesR0Q+KmQNsInEMD6u01qT8dgwPkS8ReVPjEQ+ObR6rBKvXT5slS0QxNR0PpVd1eTbtos+jWo3VR9xoT59wMegYcW0Phr2RtRmZ8c+JipNitLz2D7u8CIXwizpPvUW7B+xCfg+2EpQxJi5BT9/kdwvipYSP6a6iAyPHh4/tThwtfscJz9MBct6WM4wPwbQ8H8JKzc//n8cFEdLPj+8Q7EssMxCP/L0vjS+KkY/ULaUALTbSD+AzVxCwotKP6CmWaxaCUs/ID1//+hOSj+ctxvu8oFIP+BJVsRw6EU/ilUiN+jYQj9qa3UWP1U/P5q8NjXnVDk/kQd31rstND/Ew20yhkcwP4h6sU/QFCw/8xi6/mf8Kz8YuPOQPuwwP5iBhvGH9zc/70XFbyNNQj8odg+4ZztMP+MvT0BJPFU/pBlIxzmmXj/PjFJZtxBlP7oH9dIRfGs/",
        "encoding": "base64",
        "path": [
         "_data",
         2,
         "x",
         "buffer"
        ]
       },
       {
        "data": "E40ozP/oE8BtCY4FZM8TwMmF8z7ItRPAJQJZeCycE8CBfr6xkIITwN36I+v0aBPAkXrTHVlPE8Dt9jhXvTUTwElznpAhHBPApe8DyoUCE8D/a2kD6ugSwFvozjxOzxLAt2Q0drK1EsAT4ZmvFpwSwG9d/+h6ghLAydlkIt9oEsAlVspbQ08SwNvVeY6nNRLANVLfxwscEsCRzkQBcAISwO1KqjrU6BHASccPdDjPEcClQ3WtnLURwP+/2uYAnBHAWzxAIGWCEcC3uKVZyWgRwBM1C5MtTxHAx7S6xZE1EcAjMSD/9RsRwH+thThaAhHA2ynrcb7oEMA3plCrIs8QwJEituSGtRDA7Z4bHuubEMBJG4FXT4IQwKWX5pCzaBDAI+KcxxdPEMB/XgIBfDUQwGUOvDngGxDASb51ckQCEMBa3F5WUdEPwCI80scZng/A7ptFOeJqD8C2+7iqqjcPwH5bLBxzBA/ARrufjTvRDsASGxP/A54OwNp6hnDMag7Aotr54ZQ3DsBqOm1TXQQOwDaa4MQl0Q3A/vlTNu6dDcDGWcentmoNwH5Skhp/Nw3ARrIFjEcEDcASEnn9D9EMwNpx7G7YnQzAotFf4KBqDMBqMdNRaTcMwDaRRsMxBAzA/vC5NPrQC8DGUC2mwp0LwI6woBeLagvAWhAUiVM3C8AicIf6GwQLwOrP+mvk0ArAti9u3aydCsB+j+FOdWoKwEbvVMA9NwrA/ucfMwYECsDGR5OkztAJwI6nBhaXnQnAWgd6h19qCcAiZ+34JzcJwOrGYGrwAwnAtibU27jQCMB+hkdNgZ0IwEbmur5JagjADkYuMBI3CMDapaGh2gMIwKIFFROj0AfAamWIhGudB8Ayxfv1M2oHwP4kb2f8NgfAxoTi2MQDB8B+fa1LjdAGwEbdIL1VnQbADj2ULh5qBsDanAeg5jYGwKL8ehGvAwbAalzugnfQBcAyvGH0P50FwP4b1WUIagXAxntI19A2BcCO27tImQMFwFY7L7ph0ATAIpuiKyqdBMDq+hWd8mkEwLJaiQ67NgTAfrr8f4MDBMBGGnDxS9ADwA5642IUnQPAxnKu1dxpA8CO0iFHpTYDwFYylbhtAwPAIpIIKjbQAsDq8Xub/pwCwLJR7wzHaQLAerFifo82AsBGEdbvVwMCwA5xSWEg0AHA1tC80uicAcCiMDBEsWkBwGqQo7V5NgHAMvAWJ0IDAcD6T4qYCtAAwMSv/QnTnADAjg9xe5tpAMBECDzuYzYAwA5or18sAwDArI9Foumf/79ATyyFejn/v9QOE2gL0/6/ZM75Spxs/r/4jeAtLQb+v4hNxxC+n/2/HA2u8045/b+szJTW39L8v0CMe7lwbPy/0EtinAEG/L9kC0l/kp/7v/TKL2IjOfu/iIoWRbTS+r8YSv0nRWz6v4g7kw3WBfq/HPt58Gaf+b+sumDT9zj5v0B6R7aI0vi/0DkumRls+L9k+RR8qgX4v/S4+147n/e/iHjiQcw4978YOMkkXdL2v6z3rwfua/a/PLeW6n4F9r/Qdn3ND5/1v2Q2ZLCgOPW/9PVKkzHS9L+ItTF2wmv0vxh1GFlTBfS/iGauPuSe878YJpUhdTjzv6zlewQG0vK/PKVi55Zr8r/QZEnKJwXyv2AkMK24nvG/9OMWkEk48b+Eo/1y2tHwvxhj5FVra/C/rCLLOPwE8L94xGM3Gj3vv6BDMf07cO6/wML+wl2j7b/oQcyIf9bsvwjBmU6hCey/MEBnFMM8679QvzTa5G/qvzCiYKUGo+m/UCEuayjW6L94oPswSgnov6AfyfZrPOe/wJ6WvI1v5r/oHWSCr6LlvwidMUjR1eS/MBz/DfMI5L9Qm8zTFDzjv3gampk2b+K/mJlnX1ii4b/AGDUletXgv+CXAuubCOC/EC6gYXt33r9QLDvtvt3cv6Aq1ngCRNu/YPAtD0aq2b+g7siaiRDYv/DsYybNdta/MOv+sRDd1L+A6Zk9VEPTv8DnNMmXqdG/EObPVNsP0L+gyNXAPezMv0DFC9jEuMm/wMFB70uFxr9gvncG01HDvwC7rR1aHsC/AG/HacLVub9AaDOY0G6zv4DCPo29D6q/AGot1LODmr8AoDg1p/1MvwBWpgzas5g/ADl7qdAnqT9Ao1Em2vqyP0Cq5ffLYbk/ALF5yb3Ivz/g24bN1xfDP2DfULZQS8Y/wOIan8l+yT9A5uSHQrLMP6DprnC75c8/kHa8LJqM0T9AeCGhVibTPwB6hhUTwNQ/sHvric9Z1j9wfVD+i/PXP7C3+GdIjdk/cLld3AQn2z8gu8JQwcDcP9C8J8V9Wt4/kL6MOTr03z8g4PhW+8bgPwBhK5HZk+E/2OFdy7dg4j+4YpAFli3jP5Djwj90+uM/cGT1eVLH5D9I5Se0MJTlPyhmWu4OYeY/AOeMKO0t5z/gZ79iy/rnP7jo8Zypx+g/kGkk14eU6T+4hvgLZmHqP5AHK0ZELus/cIhdgCL76z9ICZC6AMjsPyiKwvTelO0/AAv1Lr1h7j/giydpmy7vP7gMWqN5++8/zEbG7itk8D84h98Lm8rwP6TH+CgKMfE/FAgSRnmX8T+ASCtj6P3xP/CIRIBXZPI/XMldncbK8j/MCXe6NTHzP1wY4dSkl/M/zFj68RP+8z84mRMPg2T0P6jZLCzyyvQ/FBpGSWEx9T+AWl9m0Jf1P/CaeIM//vU/XNuRoK5k9j/MG6u9Hcv2PzhcxNqMMfc/qJzd9/uX9z8U3fYUa/73P4QdEDLaZPg/8F0pT0nL+D9gnkJsuDH5P8zeW4knmPk/XO3Fo5b++T/MLd/ABWX6Pzhu+N10y/o/qK4R++Mx+z8U7yoYU5j7P4QvRDXC/vs/8G9dUjFl/D9gsHZvoMv8P8zwj4wPMv0/PDGpqX6Y/T+occLG7f79Pxiy2+NcZf4/hPL0AMzL/j/yMg4eOzL/P2BzJzuqmP8/zrNAWBn//z8wYVU5xDIAQGcB4sf7ZQBAnaFuVjOZAEDUQfvkaswAQAvih3Oi/wBAQoIUAtoyAUB5IqGQEWYBQLDCLR9JmQFA52K6rYDMAUAeA0c8uP8BQFWj08rvMgJAjENgWSdmAkDD4+znXpkCQPqDeXaWzAJAMSQGBc7/AkBnxJKTBTMDQLDLxyA9ZgNA52tUr3SZA0AeDOE9rMwDQFWsbczj/wNAjEz6WhszBEDD7IbpUmYEQPqME3iKmQRAMS2gBsLMBEBozSyV+f8EQJ9tuSMxMwVA1g1GsmhmBUAMrtJAoJkFQENOX8/XzAVAeu7rXQ8ABkCxjnjsRjMGQOguBXt+ZgZAH8+RCbaZBkBo1saW7cwGQJ92UyUlAAdA1hbgs1wzB0ANt2xClGYHQERX+dDLmQdAeveFXwPNB0CxlxLuOgAIQOg3n3xyMwhAH9grC6pmCEBWeLiZ4ZkIQI0YRSgZzQhAxLjRtlAACUD7WF5FiDMJQDL56tO/ZglAaZl3YveZCUCgOQTxLs0JQOlAOX5mAApAH+HFDJ4zCkBWgVKb1WYKQI0h3ykNmgpAxMFruETNCkD7YfhGfAALQDIChdWzMwtAaaIRZOtmC0CgQp7yIpoLQNfiKoFazQtADoO3D5IADEBFI0SeyTMMQHzD0CwBZwxAs2NduziaDEDpA+pJcM0MQCCkdtinAA1AaaurZd8zDUCgSzj0FmcNQNfrxIJOmg1ADoxREYbNDUBFLN6fvQAOQHzMai71Mw5As2z3vCxnDkDqDIRLZJoOQCGtENqbzQ5AV02daNMAD0CO7Sn3CjQPQMaNtoVCZw9A/C1DFHqaD0Azzs+isc0PQDU3rph0ABBAUIf0XxAaEED1Co8mrDMQQBBb1e1HTRBALKsbteNmEEBH+2F8f4AQQGNLqEMbmhBAfpvuCrezEECa6zTSUs0QQLU7e5nu5hBA0IvBYIoAEUDs2wcoJhoRQAgsTu/BMxFAI3yUtl1NEUA+zNp9+WYRQFocIUWVgBFAdmxnDDGaEUCRvK3TzLMRQKwM9JpozRFAUZCOYQTnEUBs4NQooAASQIgwG/A7GhJAo4Bht9czEkC+0Kd+c00SQNog7kUPZxJA9nA0DauAEkARwXrURpoSQCwRwZvisxJASGEHY37NEkBjsU0qGucSQH8BlPG1ABNAmlHauFEaE0C2oSCA7TMTQNHxZkeJTRNA7UGtDiVnE0CRxUfVwIATQKwVjpxcmhNA7O8HZPizE0AHQE4rlM0TQBdig/Iv5xNA",
        "encoding": "base64",
        "path": [
         "_data",
         2,
         "y",
         "buffer"
        ]
       },
       {
        "data": "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",
        "encoding": "base64",
        "path": [
         "_data",
         3,
         "x",
         "buffer"
        ]
       },
       {
        "data": "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",
        "encoding": "base64",
        "path": [
         "_data",
         3,
         "y",
         "buffer"
        ]
       },
       {
        "data": "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",
        "encoding": "base64",
        "path": [
         "_data",
         4,
         "x",
         "buffer"
        ]
       },
       {
        "data": "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",
        "encoding": "base64",
        "path": [
         "_data",
         4,
         "y",
         "buffer"
        ]
       },
       {
        "data": "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",
        "encoding": "base64",
        "path": [
         "_data",
         5,
         "x",
         "buffer"
        ]
       },
       {
        "data": "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",
        "encoding": "base64",
        "path": [
         "_data",
         5,
         "y",
         "buffer"
        ]
       },
       {
        "data": "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",
        "encoding": "base64",
        "path": [
         "_data",
         6,
         "x",
         "buffer"
        ]
       },
       {
        "data": "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",
        "encoding": "base64",
        "path": [
         "_data",
         6,
         "y",
         "buffer"
        ]
       },
       {
        "data": "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",
        "encoding": "base64",
        "path": [
         "_data",
         7,
         "x",
         "buffer"
        ]
       },
       {
        "data": "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",
        "encoding": "base64",
        "path": [
         "_data",
         7,
         "y",
         "buffer"
        ]
       },
       {
        "data": "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",
        "encoding": "base64",
        "path": [
         "_data",
         8,
         "x",
         "buffer"
        ]
       },
       {
        "data": "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",
        "encoding": "base64",
        "path": [
         "_data",
         8,
         "y",
         "buffer"
        ]
       }
      ],
      "model_module": "jupyterlab-plotly",
      "model_module_version": "^5.6.0",
      "model_name": "FigureModel",
      "state": {
       "_config": {
        "plotlyServerURL": "https://plot.ly"
       },
       "_data": [
        {
         "line": {
          "color": "red",
          "dash": "solid",
          "width": 2.0
         },
         "mode": "lines",
         "name": "Ti",
         "opacity": 1,
         "type": "scatter",
         "uid": "0fec606a-67e8-44d6-b96d-ac11852e336e",
         "x": {
          "dtype": "float64",
          "shape": [
           399
          ]
         },
         "y": {
          "dtype": "float64",
          "shape": [
           399
          ]
         }
        },
        {
         "line": {
          "dash": "dot",
          "width": 1.0
         },
         "mode": "lines",
         "name": "Sr | n=4, l=0",
         "opacity": 1,
         "type": "scatter",
         "uid": "b50ffc57-d7a2-4bde-9407-9e8552f0f33b",
         "x": {
          "dtype": "float64",
          "shape": [
           399
          ]
         },
         "y": {
          "dtype": "float64",
          "shape": [
           399
          ]
         }
        },
        {
         "line": {
          "dash": "dot",
          "width": 1.0
         },
         "mode": "lines",
         "name": "Sr | n=5, l=0",
         "opacity": 1,
         "type": "scatter",
         "uid": "72987d6d-9e25-4490-9f16-85da4750ba45",
         "x": {
          "dtype": "float64",
          "shape": [
           399
          ]
         },
         "y": {
          "dtype": "float64",
          "shape": [
           399
          ]
         }
        },
        {
         "line": {
          "dash": "dot",
          "width": 1.0
         },
         "mode": "lines",
         "name": "Sr | n=4, l=1",
         "opacity": 1,
         "type": "scatter",
         "uid": "bafdecbb-17ad-49a4-a100-3e5568cb31ab",
         "x": {
          "dtype": "float64",
          "shape": [
           399
          ]
         },
         "y": {
          "dtype": "float64",
          "shape": [
           399
          ]
         }
        },
        {
         "line": {
          "dash": "dot",
          "width": 1.0
         },
         "mode": "lines",
         "name": "Sr | n=5, l=1",
         "opacity": 1,
         "type": "scatter",
         "uid": "7e4f8050-50b5-45f5-9701-cade60a8ff75",
         "x": {
          "dtype": "float64",
          "shape": [
           399
          ]
         },
         "y": {
          "dtype": "float64",
          "shape": [
           399
          ]
         }
        },
        {
         "line": {
          "dash": "dot",
          "width": 1.0
         },
         "mode": "lines",
         "name": "Sr | n=4, l=2",
         "opacity": 1,
         "type": "scatter",
         "uid": "7dc602ae-0ada-48f9-aecf-6e34e919cdc0",
         "x": {
          "dtype": "float64",
          "shape": [
           399
          ]
         },
         "y": {
          "dtype": "float64",
          "shape": [
           399
          ]
         }
        },
        {
         "line": {
          "dash": "dot",
          "width": 1.0
         },
         "mode": "lines",
         "name": "O | n=3, l=2",
         "opacity": 1,
         "type": "scatter",
         "uid": "e325059c-3331-4a29-b72c-23ebe2cbf52f",
         "x": {
          "dtype": "float64",
          "shape": [
           399
          ]
         },
         "y": {
          "dtype": "float64",
          "shape": [
           399
          ]
         }
        },
        {
         "line": {
          "dash": "dot",
          "width": 1.0
         },
         "mode": "lines",
         "name": "O | n=2, l=0",
         "opacity": 1,
         "type": "scatter",
         "uid": "94d9a875-fb29-498c-8565-b50a621cfd06",
         "x": {
          "dtype": "float64",
          "shape": [
           399
          ]
         },
         "y": {
          "dtype": "float64",
          "shape": [
           399
          ]
         }
        },
        {
         "line": {
          "dash": "dot",
          "width": 1.0
         },
         "mode": "lines",
         "name": "O | n=2, l=1",
         "opacity": 1,
         "type": "scatter",
         "uid": "6cd0bb7f-ce47-4c4b-9e67-d7f390c47abf",
         "x": {
          "dtype": "float64",
          "shape": [
           399
          ]
         },
         "y": {
          "dtype": "float64",
          "shape": [
           399
          ]
         }
        }
       ],
       "_dom_classes": [],
       "_js2py_layoutDelta": {},
       "_js2py_pointsCallback": {},
       "_js2py_relayout": {},
       "_js2py_restyle": {},
       "_js2py_traceDeltas": {},
       "_js2py_update": {},
       "_last_layout_edit_id": 0,
       "_last_trace_edit_id": 0,
       "_layout": {
        "showlegend": true,
        "template": {
         "layout": {
          "hovermode": "closest",
          "paper_bgcolor": "white",
          "plot_bgcolor": "white",
          "scene": {
           "xaxis": {
            "color": "black",
            "gridcolor": "#ccc",
            "gridwidth": 1,
            "linewidth": 1,
            "mirror": true,
            "showgrid": false,
            "showline": true,
            "ticklen": 5,
            "ticks": "outside",
            "ticksuffix": " ",
            "visible": true,
            "zeroline": false,
            "zerolinecolor": "#ccc",
            "zerolinewidth": 1
           },
           "yaxis": {
            "color": "black",
            "gridcolor": "#ccc",
            "gridwidth": 1,
            "linewidth": 1,
            "mirror": true,
            "showgrid": false,
            "showline": true,
            "ticklen": 5,
            "ticks": "outside",
            "ticksuffix": " ",
            "visible": true,
            "zeroline": false,
            "zerolinecolor": "#ccc",
            "zerolinewidth": 1
           },
           "zaxis": {
            "color": "black",
            "gridcolor": "#ccc",
            "gridwidth": 1,
            "linewidth": 1,
            "mirror": true,
            "showgrid": false,
            "showline": true,
            "ticklen": 5,
            "ticks": "outside",
            "ticksuffix": " ",
            "visible": true,
            "zeroline": false,
            "zerolinecolor": "#ccc",
            "zerolinewidth": 1
           }
          },
          "xaxis": {
           "color": "black",
           "gridcolor": "#ccc",
           "gridwidth": 1,
           "linewidth": 1,
           "mirror": true,
           "showgrid": false,
           "showline": true,
           "ticklen": 5,
           "ticks": "outside",
           "ticksuffix": " ",
           "visible": true,
           "zeroline": false,
           "zerolinecolor": "#ccc",
           "zerolinewidth": 1
          },
          "yaxis": {
           "color": "black",
           "gridcolor": "#ccc",
           "gridwidth": 1,
           "linewidth": 1,
           "mirror": true,
           "showgrid": false,
           "showline": true,
           "ticklen": 5,
           "ticks": "outside",
           "ticksuffix": " ",
           "visible": true,
           "zeroline": false,
           "zerolinecolor": "#ccc",
           "zerolinewidth": 1
          }
         }
        },
        "xaxis": {
         "mirror": true,
         "title": {
          "text": "Density of states [1/eV]"
         }
        },
        "yaxis": {
         "mirror": true,
         "range": [
          -4.977538290000001,
          4.975768842
         ],
         "title": {
          "text": "Energy [eV]"
         }
        }
       },
       "_model_module": "jupyterlab-plotly",
       "_model_module_version": "^5.6.0",
       "_model_name": "FigureModel",
       "_py2js_addTraces": {},
       "_py2js_animate": {},
       "_py2js_deleteTraces": {},
       "_py2js_moveTraces": {},
       "_py2js_relayout": {},
       "_py2js_removeLayoutProps": {},
       "_py2js_removeTraceProps": {},
       "_py2js_restyle": {},
       "_py2js_update": {},
       "_view_count": 0,
       "_view_module": "jupyterlab-plotly",
       "_view_module_version": "^5.6.0",
       "_view_name": "FigureView"
      }
     },
     "979489b53ccf46b5bdf159261dc805b5": {
      "buffers": [
       {
        "data": "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",
        "encoding": "base64",
        "path": [
         "_data",
         0,
         "x",
         "buffer"
        ]
       },
       {
        "data": "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",
        "encoding": "base64",
        "path": [
         "_data",
         0,
         "y",
         "buffer"
        ]
       },
       {
        "data": "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",
        "encoding": "base64",
        "path": [
         "_data",
         1,
         "x",
         "buffer"
        ]
       },
       {
        "data": "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",
        "encoding": "base64",
        "path": [
         "_data",
         1,
         "y",
         "buffer"
        ]
       }
      ],
      "model_module": "jupyterlab-plotly",
      "model_module_version": "^5.6.0",
      "model_name": "FigureModel",
      "state": {
       "_config": {
        "plotlyServerURL": "https://plot.ly"
       },
       "_data": [
        {
         "line": {
          "dash": "solid",
          "width": 1.0
         },
         "mode": "lines",
         "name": " | atoms=0",
         "opacity": 1,
         "type": "scatter",
         "uid": "78b412d5-1a30-43b8-8221-f5a2e5dd1571",
         "x": {
          "dtype": "float64",
          "shape": [
           399
          ]
         },
         "y": {
          "dtype": "float64",
          "shape": [
           399
          ]
         }
        },
        {
         "line": {
          "dash": "solid",
          "width": 1.0
         },
         "mode": "lines",
         "name": " | atoms=2",
         "opacity": 1,
         "type": "scatter",
         "uid": "6b4d6668-5056-471d-b68e-856653afd619",
         "x": {
          "dtype": "float64",
          "shape": [
           399
          ]
         },
         "y": {
          "dtype": "float64",
          "shape": [
           399
          ]
         }
        }
       ],
       "_dom_classes": [],
       "_js2py_layoutDelta": {},
       "_js2py_pointsCallback": {},
       "_js2py_relayout": {},
       "_js2py_restyle": {},
       "_js2py_traceDeltas": {},
       "_js2py_update": {},
       "_last_layout_edit_id": 0,
       "_last_trace_edit_id": 0,
       "_layout": {
        "showlegend": true,
        "template": {
         "layout": {
          "hovermode": "closest",
          "paper_bgcolor": "white",
          "plot_bgcolor": "white",
          "scene": {
           "xaxis": {
            "color": "black",
            "gridcolor": "#ccc",
            "gridwidth": 1,
            "linewidth": 1,
            "mirror": true,
            "showgrid": false,
            "showline": true,
            "ticklen": 5,
            "ticks": "outside",
            "ticksuffix": " ",
            "visible": true,
            "zeroline": false,
            "zerolinecolor": "#ccc",
            "zerolinewidth": 1
           },
           "yaxis": {
            "color": "black",
            "gridcolor": "#ccc",
            "gridwidth": 1,
            "linewidth": 1,
            "mirror": true,
            "showgrid": false,
            "showline": true,
            "ticklen": 5,
            "ticks": "outside",
            "ticksuffix": " ",
            "visible": true,
            "zeroline": false,
            "zerolinecolor": "#ccc",
            "zerolinewidth": 1
           },
           "zaxis": {
            "color": "black",
            "gridcolor": "#ccc",
            "gridwidth": 1,
            "linewidth": 1,
            "mirror": true,
            "showgrid": false,
            "showline": true,
            "ticklen": 5,
            "ticks": "outside",
            "ticksuffix": " ",
            "visible": true,
            "zeroline": false,
            "zerolinecolor": "#ccc",
            "zerolinewidth": 1
           }
          },
          "xaxis": {
           "color": "black",
           "gridcolor": "#ccc",
           "gridwidth": 1,
           "linewidth": 1,
           "mirror": true,
           "showgrid": false,
           "showline": true,
           "ticklen": 5,
           "ticks": "outside",
           "ticksuffix": " ",
           "visible": true,
           "zeroline": false,
           "zerolinecolor": "#ccc",
           "zerolinewidth": 1
          },
          "yaxis": {
           "color": "black",
           "gridcolor": "#ccc",
           "gridwidth": 1,
           "linewidth": 1,
           "mirror": true,
           "showgrid": false,
           "showline": true,
           "ticklen": 5,
           "ticks": "outside",
           "ticksuffix": " ",
           "visible": true,
           "zeroline": false,
           "zerolinecolor": "#ccc",
           "zerolinewidth": 1
          }
         }
        },
        "xaxis": {
         "mirror": true,
         "title": {
          "text": "Density of states [1/eV]"
         }
        },
        "yaxis": {
         "mirror": true,
         "range": [
          -4.977538290000001,
          4.975768842
         ],
         "title": {
          "text": "Energy [eV]"
         }
        }
       },
       "_model_module": "jupyterlab-plotly",
       "_model_module_version": "^5.6.0",
       "_model_name": "FigureModel",
       "_py2js_addTraces": {},
       "_py2js_animate": {},
       "_py2js_deleteTraces": {},
       "_py2js_moveTraces": {},
       "_py2js_relayout": {},
       "_py2js_removeLayoutProps": {},
       "_py2js_removeTraceProps": {},
       "_py2js_restyle": {},
       "_py2js_update": {},
       "_view_count": 0,
       "_view_module": "jupyterlab-plotly",
       "_view_module_version": "^5.6.0",
       "_view_name": "FigureView"
      }
     },
     "bb7a4295ecf34b81bbf8e67f03a98106": {
      "buffers": [
       {
        "data": "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",
        "encoding": "base64",
        "path": [
         "_data",
         0,
         "x",
         "buffer"
        ]
       },
       {
        "data": "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",
        "encoding": "base64",
        "path": [
         "_data",
         0,
         "y",
         "buffer"
        ]
       },
       {
        "data": "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",
        "encoding": "base64",
        "path": [
         "_data",
         1,
         "x",
         "buffer"
        ]
       },
       {
        "data": "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",
        "encoding": "base64",
        "path": [
         "_data",
         1,
         "y",
         "buffer"
        ]
       },
       {
        "data": "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",
        "encoding": "base64",
        "path": [
         "_data",
         2,
         "x",
         "buffer"
        ]
       },
       {
        "data": "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",
        "encoding": "base64",
        "path": [
         "_data",
         2,
         "y",
         "buffer"
        ]
       }
      ],
      "model_module": "jupyterlab-plotly",
      "model_module_version": "^5.6.0",
      "model_name": "FigureModel",
      "state": {
       "_config": {
        "plotlyServerURL": "https://plot.ly"
       },
       "_data": [
        {
         "line": {
          "dash": "solid",
          "width": 1.0
         },
         "mode": "lines",
         "name": "Oxygen 2",
         "opacity": 1,
         "type": "scatter",
         "uid": "b0c3a937-eeb6-4894-86a2-cdea4e942006",
         "x": {
          "dtype": "float64",
          "shape": [
           399
          ]
         },
         "y": {
          "dtype": "float64",
          "shape": [
           399
          ]
         }
        },
        {
         "line": {
          "dash": "solid",
          "width": 1.0
         },
         "mode": "lines",
         "name": "Oxygen 3",
         "opacity": 1,
         "type": "scatter",
         "uid": "ef98426e-c591-4f99-b7c1-d17c76b1a94c",
         "x": {
          "dtype": "float64",
          "shape": [
           399
          ]
         },
         "y": {
          "dtype": "float64",
          "shape": [
           399
          ]
         }
        },
        {
         "line": {
          "dash": "solid",
          "width": 1.0
         },
         "mode": "lines",
         "name": "Oxygen 4",
         "opacity": 1,
         "type": "scatter",
         "uid": "e039c5b7-81ee-4a57-aee4-46326bf8e603",
         "x": {
          "dtype": "float64",
          "shape": [
           399
          ]
         },
         "y": {
          "dtype": "float64",
          "shape": [
           399
          ]
         }
        }
       ],
       "_dom_classes": [],
       "_js2py_layoutDelta": {},
       "_js2py_pointsCallback": {},
       "_js2py_relayout": {},
       "_js2py_restyle": {},
       "_js2py_traceDeltas": {},
       "_js2py_update": {},
       "_last_layout_edit_id": 0,
       "_last_trace_edit_id": 0,
       "_layout": {
        "showlegend": true,
        "template": {
         "layout": {
          "hovermode": "closest",
          "paper_bgcolor": "white",
          "plot_bgcolor": "white",
          "scene": {
           "xaxis": {
            "color": "black",
            "gridcolor": "#ccc",
            "gridwidth": 1,
            "linewidth": 1,
            "mirror": true,
            "showgrid": false,
            "showline": true,
            "ticklen": 5,
            "ticks": "outside",
            "ticksuffix": " ",
            "visible": true,
            "zeroline": false,
            "zerolinecolor": "#ccc",
            "zerolinewidth": 1
           },
           "yaxis": {
            "color": "black",
            "gridcolor": "#ccc",
            "gridwidth": 1,
            "linewidth": 1,
            "mirror": true,
            "showgrid": false,
            "showline": true,
            "ticklen": 5,
            "ticks": "outside",
            "ticksuffix": " ",
            "visible": true,
            "zeroline": false,
            "zerolinecolor": "#ccc",
            "zerolinewidth": 1
           },
           "zaxis": {
            "color": "black",
            "gridcolor": "#ccc",
            "gridwidth": 1,
            "linewidth": 1,
            "mirror": true,
            "showgrid": false,
            "showline": true,
            "ticklen": 5,
            "ticks": "outside",
            "ticksuffix": " ",
            "visible": true,
            "zeroline": false,
            "zerolinecolor": "#ccc",
            "zerolinewidth": 1
           }
          },
          "xaxis": {
           "color": "black",
           "gridcolor": "#ccc",
           "gridwidth": 1,
           "linewidth": 1,
           "mirror": true,
           "showgrid": false,
           "showline": true,
           "ticklen": 5,
           "ticks": "outside",
           "ticksuffix": " ",
           "visible": true,
           "zeroline": false,
           "zerolinecolor": "#ccc",
           "zerolinewidth": 1
          },
          "yaxis": {
           "color": "black",
           "gridcolor": "#ccc",
           "gridwidth": 1,
           "linewidth": 1,
           "mirror": true,
           "showgrid": false,
           "showline": true,
           "ticklen": 5,
           "ticks": "outside",
           "ticksuffix": " ",
           "visible": true,
           "zeroline": false,
           "zerolinecolor": "#ccc",
           "zerolinewidth": 1
          }
         }
        },
        "xaxis": {
         "mirror": true,
         "title": {
          "text": "Density of states [1/eV]"
         }
        },
        "yaxis": {
         "mirror": true,
         "range": [
          -4.977538290000001,
          4.975768842
         ],
         "title": {
          "text": "Energy [eV]"
         }
        }
       },
       "_model_module": "jupyterlab-plotly",
       "_model_module_version": "^5.6.0",
       "_model_name": "FigureModel",
       "_py2js_addTraces": {},
       "_py2js_animate": {},
       "_py2js_deleteTraces": {},
       "_py2js_moveTraces": {},
       "_py2js_relayout": {},
       "_py2js_removeLayoutProps": {},
       "_py2js_removeTraceProps": {},
       "_py2js_restyle": {},
       "_py2js_update": {},
       "_view_count": 0,
       "_view_module": "jupyterlab-plotly",
       "_view_module_version": "^5.6.0",
       "_view_name": "FigureView"
      }
     },
     "f2ef1439ac2a4de5aee378ca40fd688f": {
      "buffers": [
       {
        "data": "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",
        "encoding": "base64",
        "path": [
         "_data",
         0,
         "x",
         "buffer"
        ]
       },
       {
        "data": "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",
        "encoding": "base64",
        "path": [
         "_data",
         0,
         "y",
         "buffer"
        ]
       },
       {
        "data": "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",
        "encoding": "base64",
        "path": [
         "_data",
         1,
         "x",
         "buffer"
        ]
       },
       {
        "data": "E40ozP/oE8BtCY4FZM8TwMmF8z7ItRPAJQJZeCycE8CBfr6xkIITwN36I+v0aBPAkXrTHVlPE8Dt9jhXvTUTwElznpAhHBPApe8DyoUCE8D/a2kD6ugSwFvozjxOzxLAt2Q0drK1EsAT4ZmvFpwSwG9d/+h6ghLAydlkIt9oEsAlVspbQ08SwNvVeY6nNRLANVLfxwscEsCRzkQBcAISwO1KqjrU6BHASccPdDjPEcClQ3WtnLURwP+/2uYAnBHAWzxAIGWCEcC3uKVZyWgRwBM1C5MtTxHAx7S6xZE1EcAjMSD/9RsRwH+thThaAhHA2ynrcb7oEMA3plCrIs8QwJEituSGtRDA7Z4bHuubEMBJG4FXT4IQwKWX5pCzaBDAI+KcxxdPEMB/XgIBfDUQwGUOvDngGxDASb51ckQCEMBa3F5WUdEPwCI80scZng/A7ptFOeJqD8C2+7iqqjcPwH5bLBxzBA/ARrufjTvRDsASGxP/A54OwNp6hnDMag7Aotr54ZQ3DsBqOm1TXQQOwDaa4MQl0Q3A/vlTNu6dDcDGWcentmoNwH5Skhp/Nw3ARrIFjEcEDcASEnn9D9EMwNpx7G7YnQzAotFf4KBqDMBqMdNRaTcMwDaRRsMxBAzA/vC5NPrQC8DGUC2mwp0LwI6woBeLagvAWhAUiVM3C8AicIf6GwQLwOrP+mvk0ArAti9u3aydCsB+j+FOdWoKwEbvVMA9NwrA/ucfMwYECsDGR5OkztAJwI6nBhaXnQnAWgd6h19qCcAiZ+34JzcJwOrGYGrwAwnAtibU27jQCMB+hkdNgZ0IwEbmur5JagjADkYuMBI3CMDapaGh2gMIwKIFFROj0AfAamWIhGudB8Ayxfv1M2oHwP4kb2f8NgfAxoTi2MQDB8B+fa1LjdAGwEbdIL1VnQbADj2ULh5qBsDanAeg5jYGwKL8ehGvAwbAalzugnfQBcAyvGH0P50FwP4b1WUIagXAxntI19A2BcCO27tImQMFwFY7L7ph0ATAIpuiKyqdBMDq+hWd8mkEwLJaiQ67NgTAfrr8f4MDBMBGGnDxS9ADwA5642IUnQPAxnKu1dxpA8CO0iFHpTYDwFYylbhtAwPAIpIIKjbQAsDq8Xub/pwCwLJR7wzHaQLAerFifo82AsBGEdbvVwMCwA5xSWEg0AHA1tC80uicAcCiMDBEsWkBwGqQo7V5NgHAMvAWJ0IDAcD6T4qYCtAAwMSv/QnTnADAjg9xe5tpAMBECDzuYzYAwA5or18sAwDArI9Foumf/79ATyyFejn/v9QOE2gL0/6/ZM75Spxs/r/4jeAtLQb+v4hNxxC+n/2/HA2u8045/b+szJTW39L8v0CMe7lwbPy/0EtinAEG/L9kC0l/kp/7v/TKL2IjOfu/iIoWRbTS+r8YSv0nRWz6v4g7kw3WBfq/HPt58Gaf+b+sumDT9zj5v0B6R7aI0vi/0DkumRls+L9k+RR8qgX4v/S4+147n/e/iHjiQcw4978YOMkkXdL2v6z3rwfua/a/PLeW6n4F9r/Qdn3ND5/1v2Q2ZLCgOPW/9PVKkzHS9L+ItTF2wmv0vxh1GFlTBfS/iGauPuSe878YJpUhdTjzv6zlewQG0vK/PKVi55Zr8r/QZEnKJwXyv2AkMK24nvG/9OMWkEk48b+Eo/1y2tHwvxhj5FVra/C/rCLLOPwE8L94xGM3Gj3vv6BDMf07cO6/wML+wl2j7b/oQcyIf9bsvwjBmU6hCey/MEBnFMM8679QvzTa5G/qvzCiYKUGo+m/UCEuayjW6L94oPswSgnov6AfyfZrPOe/wJ6WvI1v5r/oHWSCr6LlvwidMUjR1eS/MBz/DfMI5L9Qm8zTFDzjv3gampk2b+K/mJlnX1ii4b/AGDUletXgv+CXAuubCOC/EC6gYXt33r9QLDvtvt3cv6Aq1ngCRNu/YPAtD0aq2b+g7siaiRDYv/DsYybNdta/MOv+sRDd1L+A6Zk9VEPTv8DnNMmXqdG/EObPVNsP0L+gyNXAPezMv0DFC9jEuMm/wMFB70uFxr9gvncG01HDvwC7rR1aHsC/AG/HacLVub9AaDOY0G6zv4DCPo29D6q/AGot1LODmr8AoDg1p/1MvwBWpgzas5g/ADl7qdAnqT9Ao1Em2vqyP0Cq5ffLYbk/ALF5yb3Ivz/g24bN1xfDP2DfULZQS8Y/wOIan8l+yT9A5uSHQrLMP6DprnC75c8/kHa8LJqM0T9AeCGhVibTPwB6hhUTwNQ/sHvric9Z1j9wfVD+i/PXP7C3+GdIjdk/cLld3AQn2z8gu8JQwcDcP9C8J8V9Wt4/kL6MOTr03z8g4PhW+8bgPwBhK5HZk+E/2OFdy7dg4j+4YpAFli3jP5Djwj90+uM/cGT1eVLH5D9I5Se0MJTlPyhmWu4OYeY/AOeMKO0t5z/gZ79iy/rnP7jo8Zypx+g/kGkk14eU6T+4hvgLZmHqP5AHK0ZELus/cIhdgCL76z9ICZC6AMjsPyiKwvTelO0/AAv1Lr1h7j/giydpmy7vP7gMWqN5++8/zEbG7itk8D84h98Lm8rwP6TH+CgKMfE/FAgSRnmX8T+ASCtj6P3xP/CIRIBXZPI/XMldncbK8j/MCXe6NTHzP1wY4dSkl/M/zFj68RP+8z84mRMPg2T0P6jZLCzyyvQ/FBpGSWEx9T+AWl9m0Jf1P/CaeIM//vU/XNuRoK5k9j/MG6u9Hcv2PzhcxNqMMfc/qJzd9/uX9z8U3fYUa/73P4QdEDLaZPg/8F0pT0nL+D9gnkJsuDH5P8zeW4knmPk/XO3Fo5b++T/MLd/ABWX6Pzhu+N10y/o/qK4R++Mx+z8U7yoYU5j7P4QvRDXC/vs/8G9dUjFl/D9gsHZvoMv8P8zwj4wPMv0/PDGpqX6Y/T+occLG7f79Pxiy2+NcZf4/hPL0AMzL/j/yMg4eOzL/P2BzJzuqmP8/zrNAWBn//z8wYVU5xDIAQGcB4sf7ZQBAnaFuVjOZAEDUQfvkaswAQAvih3Oi/wBAQoIUAtoyAUB5IqGQEWYBQLDCLR9JmQFA52K6rYDMAUAeA0c8uP8BQFWj08rvMgJAjENgWSdmAkDD4+znXpkCQPqDeXaWzAJAMSQGBc7/AkBnxJKTBTMDQLDLxyA9ZgNA52tUr3SZA0AeDOE9rMwDQFWsbczj/wNAjEz6WhszBEDD7IbpUmYEQPqME3iKmQRAMS2gBsLMBEBozSyV+f8EQJ9tuSMxMwVA1g1GsmhmBUAMrtJAoJkFQENOX8/XzAVAeu7rXQ8ABkCxjnjsRjMGQOguBXt+ZgZAH8+RCbaZBkBo1saW7cwGQJ92UyUlAAdA1hbgs1wzB0ANt2xClGYHQERX+dDLmQdAeveFXwPNB0CxlxLuOgAIQOg3n3xyMwhAH9grC6pmCEBWeLiZ4ZkIQI0YRSgZzQhAxLjRtlAACUD7WF5FiDMJQDL56tO/ZglAaZl3YveZCUCgOQTxLs0JQOlAOX5mAApAH+HFDJ4zCkBWgVKb1WYKQI0h3ykNmgpAxMFruETNCkD7YfhGfAALQDIChdWzMwtAaaIRZOtmC0CgQp7yIpoLQNfiKoFazQtADoO3D5IADEBFI0SeyTMMQHzD0CwBZwxAs2NduziaDEDpA+pJcM0MQCCkdtinAA1AaaurZd8zDUCgSzj0FmcNQNfrxIJOmg1ADoxREYbNDUBFLN6fvQAOQHzMai71Mw5As2z3vCxnDkDqDIRLZJoOQCGtENqbzQ5AV02daNMAD0CO7Sn3CjQPQMaNtoVCZw9A/C1DFHqaD0Azzs+isc0PQDU3rph0ABBAUIf0XxAaEED1Co8mrDMQQBBb1e1HTRBALKsbteNmEEBH+2F8f4AQQGNLqEMbmhBAfpvuCrezEECa6zTSUs0QQLU7e5nu5hBA0IvBYIoAEUDs2wcoJhoRQAgsTu/BMxFAI3yUtl1NEUA+zNp9+WYRQFocIUWVgBFAdmxnDDGaEUCRvK3TzLMRQKwM9JpozRFAUZCOYQTnEUBs4NQooAASQIgwG/A7GhJAo4Bht9czEkC+0Kd+c00SQNog7kUPZxJA9nA0DauAEkARwXrURpoSQCwRwZvisxJASGEHY37NEkBjsU0qGucSQH8BlPG1ABNAmlHauFEaE0C2oSCA7TMTQNHxZkeJTRNA7UGtDiVnE0CRxUfVwIATQKwVjpxcmhNA7O8HZPizE0AHQE4rlM0TQBdig/Iv5xNA",
        "encoding": "base64",
        "path": [
         "_data",
         1,
         "y",
         "buffer"
        ]
       },
       {
        "data": "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",
        "encoding": "base64",
        "path": [
         "_data",
         2,
         "x",
         "buffer"
        ]
       },
       {
        "data": "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",
        "encoding": "base64",
        "path": [
         "_data",
         2,
         "y",
         "buffer"
        ]
       }
      ],
      "model_module": "jupyterlab-plotly",
      "model_module_version": "^5.6.0",
      "model_name": "FigureModel",
      "state": {
       "_config": {
        "plotlyServerURL": "https://plot.ly"
       },
       "_data": [
        {
         "line": {
          "color": "darkred",
          "dash": "dash",
          "width": 1
         },
         "mode": "lines",
         "name": "Oxygen",
         "opacity": 1,
         "type": "scatter",
         "uid": "cc97b806-ac65-4a3b-877c-8cf0ccf88639",
         "x": {
          "dtype": "float64",
          "shape": [
           399
          ]
         },
         "y": {
          "dtype": "float64",
          "shape": [
           399
          ]
         }
        },
        {
         "line": {
          "color": "grey",
          "dash": "solid",
          "width": 3.0
         },
         "mode": "lines",
         "name": "Titanium",
         "opacity": 1,
         "type": "scatter",
         "uid": "010cb863-e1ee-4631-a9a1-b61e43384223",
         "x": {
          "dtype": "float64",
          "shape": [
           399
          ]
         },
         "y": {
          "dtype": "float64",
          "shape": [
           399
          ]
         }
        },
        {
         "line": {
          "color": "green",
          "dash": "solid",
          "width": 1
         },
         "mode": "lines",
         "name": "Sr",
         "opacity": 1,
         "type": "scatter",
         "uid": "6ff9bed1-24b3-41e1-b2ef-d34d2b149a60",
         "x": {
          "dtype": "float64",
          "shape": [
           399
          ]
         },
         "y": {
          "dtype": "float64",
          "shape": [
           399
          ]
         }
        }
       ],
       "_dom_classes": [],
       "_js2py_layoutDelta": {},
       "_js2py_pointsCallback": {},
       "_js2py_relayout": {},
       "_js2py_restyle": {},
       "_js2py_traceDeltas": {},
       "_js2py_update": {},
       "_last_layout_edit_id": 0,
       "_last_trace_edit_id": 0,
       "_layout": {
        "showlegend": true,
        "template": {
         "layout": {
          "hovermode": "closest",
          "paper_bgcolor": "white",
          "plot_bgcolor": "white",
          "scene": {
           "xaxis": {
            "color": "black",
            "gridcolor": "#ccc",
            "gridwidth": 1,
            "linewidth": 1,
            "mirror": true,
            "showgrid": false,
            "showline": true,
            "ticklen": 5,
            "ticks": "outside",
            "ticksuffix": " ",
            "visible": true,
            "zeroline": false,
            "zerolinecolor": "#ccc",
            "zerolinewidth": 1
           },
           "yaxis": {
            "color": "black",
            "gridcolor": "#ccc",
            "gridwidth": 1,
            "linewidth": 1,
            "mirror": true,
            "showgrid": false,
            "showline": true,
            "ticklen": 5,
            "ticks": "outside",
            "ticksuffix": " ",
            "visible": true,
            "zeroline": false,
            "zerolinecolor": "#ccc",
            "zerolinewidth": 1
           },
           "zaxis": {
            "color": "black",
            "gridcolor": "#ccc",
            "gridwidth": 1,
            "linewidth": 1,
            "mirror": true,
            "showgrid": false,
            "showline": true,
            "ticklen": 5,
            "ticks": "outside",
            "ticksuffix": " ",
            "visible": true,
            "zeroline": false,
            "zerolinecolor": "#ccc",
            "zerolinewidth": 1
           }
          },
          "xaxis": {
           "color": "black",
           "gridcolor": "#ccc",
           "gridwidth": 1,
           "linewidth": 1,
           "mirror": true,
           "showgrid": false,
           "showline": true,
           "ticklen": 5,
           "ticks": "outside",
           "ticksuffix": " ",
           "visible": true,
           "zeroline": false,
           "zerolinecolor": "#ccc",
           "zerolinewidth": 1
          },
          "yaxis": {
           "color": "black",
           "gridcolor": "#ccc",
           "gridwidth": 1,
           "linewidth": 1,
           "mirror": true,
           "showgrid": false,
           "showline": true,
           "ticklen": 5,
           "ticks": "outside",
           "ticksuffix": " ",
           "visible": true,
           "zeroline": false,
           "zerolinecolor": "#ccc",
           "zerolinewidth": 1
          }
         }
        },
        "xaxis": {
         "mirror": true,
         "title": {
          "text": "Density of states [1/eV]"
         }
        },
        "yaxis": {
         "mirror": true,
         "range": [
          -4.977538290000001,
          4.975768842
         ],
         "title": {
          "text": "Energy [eV]"
         }
        }
       },
       "_model_module": "jupyterlab-plotly",
       "_model_module_version": "^5.6.0",
       "_model_name": "FigureModel",
       "_py2js_addTraces": {},
       "_py2js_animate": {},
       "_py2js_deleteTraces": {},
       "_py2js_moveTraces": {},
       "_py2js_relayout": {},
       "_py2js_removeLayoutProps": {},
       "_py2js_removeTraceProps": {},
       "_py2js_restyle": {},
       "_py2js_update": {},
       "_view_count": 0,
       "_view_module": "jupyterlab-plotly",
       "_view_module_version": "^5.6.0",
       "_view_name": "FigureView"
      }
     }
    },
    "version_major": 2,
    "version_minor": 0
   }
  }
 },
 "nbformat": 4,
 "nbformat_minor": 2
}
