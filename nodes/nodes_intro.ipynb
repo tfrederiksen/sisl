{
 "cells": [
  {
   "cell_type": "markdown",
   "id": "ab557674",
   "metadata": {},
   "source": [
    "Nodes and workflows\n",
    "--------\n",
    "\n",
    "Nodes and workflows are a functionality within `sisl` that allows you to define functional workflows that are lazily computed in a very easy way. Some of the reasons that you might want to use the `sisl.nodes` framework are:\n",
    "\n",
    "- **Cleaner and maintainable code**: The framework forces to write your workflows in a functional style. That is, **each piece of functionality** must be packed into **a node, which must be a pure function**, i.e. a function whose result depends only on its inputs. If you manage to do this, your code will be much more reusable and reproduceable by other people. It also helps a lot in testing your code, since you can very easily test each piece individually.\n",
    "- **Easier to use by an external interface**: Graphical interfaces (GUI) can have a hard time interacting with code if there is no clear division of functionalities or the inputs to provide are very complex. Nodes are pieces of functionality with simple input fields. Whenever an input to a node is too complex, you can always generate it from another node, simplifying the input that the user needs to provide. Linking a node's output to another node's input is therefore a very efficient way of creating \"workchains\" from a GUI by providing only simple inputs.\n",
    "\n",
    "*Note*: The plan is to convert [`sisl-gui`](https://pypi.org/project/sisl-gui/) to use these nodes and workflows, so whatever that you develope within the framework will be usable automatically by the GUI.\n",
    "\n",
    "### Nodes\n",
    "\n",
    "In `sisl.nodes`, you have the `Node` class:"
   ]
  },
  {
   "cell_type": "code",
   "execution_count": 1,
   "id": "bc48e2c4",
   "metadata": {
    "execution": {
     "iopub.execute_input": "2024-02-23T10:47:57.080251Z",
     "iopub.status.busy": "2024-02-23T10:47:57.080073Z",
     "iopub.status.idle": "2024-02-23T10:47:57.882007Z",
     "shell.execute_reply": "2024-02-23T10:47:57.881458Z"
    }
   },
   "outputs": [],
   "source": [
    "import sisl\n",
    "from sisl.nodes import Node"
   ]
  },
  {
   "cell_type": "markdown",
   "id": "1883c9ef",
   "metadata": {},
   "source": [
    "You can easily create a node from a function with the `from_func` method:"
   ]
  },
  {
   "cell_type": "code",
   "execution_count": 2,
   "id": "ac09f8b8",
   "metadata": {
    "execution": {
     "iopub.execute_input": "2024-02-23T10:47:57.884834Z",
     "iopub.status.busy": "2024-02-23T10:47:57.884329Z",
     "iopub.status.idle": "2024-02-23T10:47:57.887816Z",
     "shell.execute_reply": "2024-02-23T10:47:57.887283Z"
    }
   },
   "outputs": [],
   "source": [
    "@Node.from_func\n",
    "def my_sum(a: int, b: int):\n",
    "    print(f\"SUMMING {a} + {b}\")\n",
    "    return a + b\n",
    "\n",
    "\n",
    "# Instead of using it as a decorator, if you want to keep the pristine function,\n",
    "# you can always create the node later:\n",
    "#\n",
    "# def my_sum(a: int, b: int):\n",
    "#     print(f\"SUMMING {a} + {b}\")\n",
    "#     return a + b\n",
    "#\n",
    "# my_sum_node = Node.from_func(my_sum)"
   ]
  },
  {
   "cell_type": "markdown",
   "id": "e8eae22d",
   "metadata": {},
   "source": [
    "By default, **nodes compute lazily**. That is they only run when you explicitly ask for the result. Therefore, calling your node won't run the function, it will just create a new node instance."
   ]
  },
  {
   "cell_type": "code",
   "execution_count": 3,
   "id": "4f4006f4",
   "metadata": {
    "execution": {
     "iopub.execute_input": "2024-02-23T10:47:57.889886Z",
     "iopub.status.busy": "2024-02-23T10:47:57.889481Z",
     "iopub.status.idle": "2024-02-23T10:47:57.894944Z",
     "shell.execute_reply": "2024-02-23T10:47:57.894428Z"
    }
   },
   "outputs": [
    {
     "data": {
      "text/plain": [
       "<sisl.nodes.node.my_sum at 0x7f9f3af9a390>"
      ]
     },
     "execution_count": 3,
     "metadata": {},
     "output_type": "execute_result"
    }
   ],
   "source": [
    "my_sum(2, 5)"
   ]
  },
  {
   "cell_type": "markdown",
   "id": "56348124",
   "metadata": {},
   "source": [
    "It is only when you call `.get()` on it that it will compute its result."
   ]
  },
  {
   "cell_type": "code",
   "execution_count": 4,
   "id": "21c54a1c",
   "metadata": {
    "execution": {
     "iopub.execute_input": "2024-02-23T10:47:57.896856Z",
     "iopub.status.busy": "2024-02-23T10:47:57.896687Z",
     "iopub.status.idle": "2024-02-23T10:47:57.901001Z",
     "shell.execute_reply": "2024-02-23T10:47:57.900403Z"
    }
   },
   "outputs": [
    {
     "name": "stdout",
     "output_type": "stream",
     "text": [
      "SUMMING 2 + 5\n"
     ]
    },
    {
     "data": {
      "text/plain": [
       "7"
      ]
     },
     "execution_count": 4,
     "metadata": {},
     "output_type": "execute_result"
    }
   ],
   "source": [
    "result = my_sum(2, 5)\n",
    "\n",
    "result.get()"
   ]
  },
  {
   "cell_type": "markdown",
   "id": "ed90e577",
   "metadata": {},
   "source": [
    "The result is then stored in the node, and if you keep requesting it the node will not need to recompute, it will just return the result:"
   ]
  },
  {
   "cell_type": "code",
   "execution_count": 5,
   "id": "4ae1f5ce",
   "metadata": {
    "execution": {
     "iopub.execute_input": "2024-02-23T10:47:57.902955Z",
     "iopub.status.busy": "2024-02-23T10:47:57.902644Z",
     "iopub.status.idle": "2024-02-23T10:47:57.906469Z",
     "shell.execute_reply": "2024-02-23T10:47:57.905939Z"
    }
   },
   "outputs": [
    {
     "data": {
      "text/plain": [
       "7"
      ]
     },
     "execution_count": 5,
     "metadata": {},
     "output_type": "execute_result"
    }
   ],
   "source": [
    "# This won't execute the function, so we won't see the printed message.\n",
    "result.get()"
   ]
  },
  {
   "cell_type": "markdown",
   "id": "78496815",
   "metadata": {},
   "source": [
    "Nodes will typically be part of a workflow. If you want to change an input in a section of your workflow, you should not need to substitute your node. Therefore, nodes have a method to change inputs:"
   ]
  },
  {
   "cell_type": "code",
   "execution_count": 6,
   "id": "37dedda5",
   "metadata": {
    "execution": {
     "iopub.execute_input": "2024-02-23T10:47:57.908652Z",
     "iopub.status.busy": "2024-02-23T10:47:57.908319Z",
     "iopub.status.idle": "2024-02-23T10:47:57.912003Z",
     "shell.execute_reply": "2024-02-23T10:47:57.911460Z"
    }
   },
   "outputs": [
    {
     "data": {
      "text/plain": [
       "<sisl.nodes.node.my_sum at 0x7f9f3c058890>"
      ]
     },
     "execution_count": 6,
     "metadata": {},
     "output_type": "execute_result"
    }
   ],
   "source": [
    "result.update_inputs(a=8)"
   ]
  },
  {
   "cell_type": "markdown",
   "id": "acfb2817",
   "metadata": {},
   "source": [
    "And now, when you need the value again, it will understand that the stored output is outdated and recompute:"
   ]
  },
  {
   "cell_type": "code",
   "execution_count": 7,
   "id": "cba981f5",
   "metadata": {
    "execution": {
     "iopub.execute_input": "2024-02-23T10:47:57.913997Z",
     "iopub.status.busy": "2024-02-23T10:47:57.913690Z",
     "iopub.status.idle": "2024-02-23T10:47:57.917588Z",
     "shell.execute_reply": "2024-02-23T10:47:57.917051Z"
    }
   },
   "outputs": [
    {
     "name": "stdout",
     "output_type": "stream",
     "text": [
      "SUMMING 8 + 5\n"
     ]
    },
    {
     "data": {
      "text/plain": [
       "13"
      ]
     },
     "execution_count": 7,
     "metadata": {},
     "output_type": "execute_result"
    }
   ],
   "source": [
    "result.get()"
   ]
  },
  {
   "cell_type": "markdown",
   "id": "62e9a61b",
   "metadata": {},
   "source": [
    "A node's context defines how it behaves. One of the context keys is `lazy`, which determines whether the node should be recomputed each time its inputs change. By default it is `True`, which means it waits for its output to be needed. However, it can be set to `False`."
   ]
  },
  {
   "cell_type": "code",
   "execution_count": 8,
   "id": "72b23330",
   "metadata": {
    "execution": {
     "iopub.execute_input": "2024-02-23T10:47:57.919482Z",
     "iopub.status.busy": "2024-02-23T10:47:57.919171Z",
     "iopub.status.idle": "2024-02-23T10:47:57.923991Z",
     "shell.execute_reply": "2024-02-23T10:47:57.923444Z"
    }
   },
   "outputs": [
    {
     "name": "stdout",
     "output_type": "stream",
     "text": [
      "SUMMING 2 + 5\n",
      "SUMMING 8 + 5\n"
     ]
    },
    {
     "data": {
      "text/plain": [
       "<sisl.nodes.node.my_sum at 0x7f9f3afa5d50>"
      ]
     },
     "execution_count": 8,
     "metadata": {},
     "output_type": "execute_result"
    }
   ],
   "source": [
    "auto_result = my_sum(2, 5)\n",
    "\n",
    "auto_result.context.update(lazy=False)\n",
    "\n",
    "auto_result.get()\n",
    "auto_result.update_inputs(a=8)"
   ]
  },
  {
   "cell_type": "markdown",
   "id": "3d12f7e0",
   "metadata": {},
   "source": [
    "And now comes the most useful thing about nodes. If you pass a node as an input to another node, the **nodes are recursively resolved** until they reach a leaf that is not a node.\n",
    "\n",
    "In the following example, we will create a node that depends on another node. We will see that whenever you need the result for the final node, all its dependencies are computed."
   ]
  },
  {
   "cell_type": "code",
   "execution_count": 9,
   "id": "f6cbd52b",
   "metadata": {
    "execution": {
     "iopub.execute_input": "2024-02-23T10:47:57.926014Z",
     "iopub.status.busy": "2024-02-23T10:47:57.925708Z",
     "iopub.status.idle": "2024-02-23T10:47:57.930007Z",
     "shell.execute_reply": "2024-02-23T10:47:57.929462Z"
    }
   },
   "outputs": [
    {
     "name": "stdout",
     "output_type": "stream",
     "text": [
      "SUMMING 2 + 5\n",
      "SUMMING 7 + 5\n"
     ]
    },
    {
     "data": {
      "text/plain": [
       "12"
      ]
     },
     "execution_count": 9,
     "metadata": {},
     "output_type": "execute_result"
    }
   ],
   "source": [
    "# Compute a first value\n",
    "first_val = my_sum(2, 5)\n",
    "# Use the first value to compute our final value\n",
    "final_val = my_sum(first_val, 5)\n",
    "\n",
    "final_val.get()"
   ]
  },
  {
   "cell_type": "markdown",
   "id": "9632904f",
   "metadata": {},
   "source": [
    "Exactly as in the case where we had only one node, if you update the inputs of any node, the results also get recomputed when the value is requested.\n",
    "\n",
    "In the following example we update the input of the first node. When we request the output of the last node, the first node goes like \"Wait a moment, I am outdated, I need to recompute my value\". Then when the value is recomputed, the final node goes on to also recompute its value with the new input."
   ]
  },
  {
   "cell_type": "code",
   "execution_count": 10,
   "id": "82d31f33",
   "metadata": {
    "execution": {
     "iopub.execute_input": "2024-02-23T10:47:57.932068Z",
     "iopub.status.busy": "2024-02-23T10:47:57.931664Z",
     "iopub.status.idle": "2024-02-23T10:47:57.935940Z",
     "shell.execute_reply": "2024-02-23T10:47:57.935415Z"
    }
   },
   "outputs": [
    {
     "name": "stdout",
     "output_type": "stream",
     "text": [
      "SUMMING 7 + 5\n",
      "SUMMING 12 + 5\n"
     ]
    },
    {
     "data": {
      "text/plain": [
       "17"
      ]
     },
     "execution_count": 10,
     "metadata": {},
     "output_type": "execute_result"
    }
   ],
   "source": [
    "first_val.update_inputs(a=7)\n",
    "final_val.get()"
   ]
  },
  {
   "cell_type": "markdown",
   "id": "2430d05f",
   "metadata": {},
   "source": [
    "And if a node doesn't need to be recomputed, it will just return the stored output. In the following cell we update the inputs of our second node, but the first one still has the same inputs and therefore doesn't need to recompute:"
   ]
  },
  {
   "cell_type": "code",
   "execution_count": 11,
   "id": "79a64b11",
   "metadata": {
    "execution": {
     "iopub.execute_input": "2024-02-23T10:47:57.938028Z",
     "iopub.status.busy": "2024-02-23T10:47:57.937619Z",
     "iopub.status.idle": "2024-02-23T10:47:57.941836Z",
     "shell.execute_reply": "2024-02-23T10:47:57.941256Z"
    }
   },
   "outputs": [
    {
     "name": "stdout",
     "output_type": "stream",
     "text": [
      "SUMMING 12 + 20\n"
     ]
    },
    {
     "data": {
      "text/plain": [
       "32"
      ]
     },
     "execution_count": 11,
     "metadata": {},
     "output_type": "execute_result"
    }
   ],
   "source": [
    "final_val.update_inputs(b=20)\n",
    "final_val.get()"
   ]
  },
  {
   "cell_type": "markdown",
   "id": "acc2f1f4",
   "metadata": {},
   "source": [
    "When nodes are passed as inputs, they are not only recursively resolved. A **connection** between them is made so that they can **propagate information through the tree**. That is, when a node updates its inputs, it will send a signal up the tree that its output is outdated. In this way, if some node up the tree wants automatic recalculation, it will trigger a recompute of himself, which will recursively reach the outdated node.\n",
    "\n",
    "Let's create again two nodes, but this time the final one will have automatic recalculation:"
   ]
  },
  {
   "cell_type": "code",
   "execution_count": 12,
   "id": "6717188b",
   "metadata": {
    "execution": {
     "iopub.execute_input": "2024-02-23T10:47:57.943899Z",
     "iopub.status.busy": "2024-02-23T10:47:57.943594Z",
     "iopub.status.idle": "2024-02-23T10:47:57.948233Z",
     "shell.execute_reply": "2024-02-23T10:47:57.947754Z"
    }
   },
   "outputs": [
    {
     "name": "stdout",
     "output_type": "stream",
     "text": [
      "SUMMING 2 + 5\n",
      "SUMMING 7 + 5\n"
     ]
    },
    {
     "data": {
      "text/plain": [
       "12"
      ]
     },
     "execution_count": 12,
     "metadata": {},
     "output_type": "execute_result"
    }
   ],
   "source": [
    "# Compute a first value\n",
    "first_val = my_sum(2, 5)\n",
    "# Use the first value to compute our final value, which we want to\n",
    "# automatically recompute when there are changes.\n",
    "final_val = my_sum(first_val, 5)\n",
    "final_val.context.update(lazy=False)\n",
    "\n",
    "# Get the value\n",
    "final_val.get()"
   ]
  },
  {
   "cell_type": "markdown",
   "id": "078fbcf7",
   "metadata": {},
   "source": [
    "Now, when we update the inputs of the first node, the second one will notice, and it will trigger a recompute on all the tree, just as if we had called its `.get()` method."
   ]
  },
  {
   "cell_type": "code",
   "execution_count": 13,
   "id": "38e973d6",
   "metadata": {
    "execution": {
     "iopub.execute_input": "2024-02-23T10:47:57.950042Z",
     "iopub.status.busy": "2024-02-23T10:47:57.949875Z",
     "iopub.status.idle": "2024-02-23T10:47:57.954010Z",
     "shell.execute_reply": "2024-02-23T10:47:57.953546Z"
    }
   },
   "outputs": [
    {
     "name": "stdout",
     "output_type": "stream",
     "text": [
      "SUMMING 7 + 5\n",
      "SUMMING 12 + 5\n"
     ]
    },
    {
     "data": {
      "text/plain": [
       "<sisl.nodes.node.my_sum at 0x7f9f3afb2150>"
      ]
     },
     "execution_count": 13,
     "metadata": {},
     "output_type": "execute_result"
    }
   ],
   "source": [
    "# Update the inputs of the first node, which will trigger recalculation\n",
    "first_val.update_inputs(a=7)"
   ]
  },
  {
   "cell_type": "markdown",
   "id": "baeaeff7",
   "metadata": {},
   "source": [
    "This might be useful to create \"event listeners\" that enable live updating naturally. We might introduce \"async\" nodes at some point (?).\n",
    "\n",
    "### Workflows\n",
    "\n",
    "At this point, the need for somehow packing the workchain that we created arises naturally. What you would usually do is to wrap your code into a function. And that is also what we do here. We call this wrapper function a workflow, and workflows can be created just as nodes are:"
   ]
  },
  {
   "cell_type": "code",
   "execution_count": 14,
   "id": "308f24da",
   "metadata": {
    "execution": {
     "iopub.execute_input": "2024-02-23T10:47:57.955984Z",
     "iopub.status.busy": "2024-02-23T10:47:57.955690Z",
     "iopub.status.idle": "2024-02-23T10:47:57.961123Z",
     "shell.execute_reply": "2024-02-23T10:47:57.960573Z"
    }
   },
   "outputs": [
    {
     "name": "stderr",
     "output_type": "stream",
     "text": [
      "warn:0: SislWarning: Decorators are ignored for now on workflow creation. Ignoring 1 decorators on triple_sum\n"
     ]
    }
   ],
   "source": [
    "from sisl.nodes import Workflow\n",
    "\n",
    "\n",
    "def my_sum(a, b):\n",
    "    print(f\"SUMMING {a} + {b}\")\n",
    "    return a + b\n",
    "\n",
    "\n",
    "# Define our workchain as a workflow.\n",
    "@Workflow.from_func\n",
    "def triple_sum(a: int, b: int, c: int):\n",
    "    first_val = my_sum(a, b)\n",
    "    return my_sum(first_val, c)\n",
    "\n",
    "\n",
    "# Again, if you want to keep the pristine function,\n",
    "# don't use the decorator\n",
    "#\n",
    "# def triple_sum(a: int, b: int, c: int):\n",
    "#    first_val = my_sum(a, b)\n",
    "#    return my_sum(first_val, c)\n",
    "#\n",
    "# my_workflow = Workflow.from_func(triple_sum)"
   ]
  },
  {
   "cell_type": "markdown",
   "id": "b465e625",
   "metadata": {},
   "source": [
    "When a workflow is defined, the nodes within it are discovered and stored in `dryrun_nodes`:"
   ]
  },
  {
   "cell_type": "code",
   "execution_count": 15,
   "id": "1da1d4ec",
   "metadata": {
    "execution": {
     "iopub.execute_input": "2024-02-23T10:47:57.963129Z",
     "iopub.status.busy": "2024-02-23T10:47:57.962806Z",
     "iopub.status.idle": "2024-02-23T10:47:57.966308Z",
     "shell.execute_reply": "2024-02-23T10:47:57.965877Z"
    }
   },
   "outputs": [
    {
     "data": {
      "text/plain": [
       "<sisl.nodes.workflow.WorkflowNodes at 0x7f9f3afa4110>"
      ]
     },
     "execution_count": 15,
     "metadata": {},
     "output_type": "execute_result"
    }
   ],
   "source": [
    "wf_nodes = triple_sum.dryrun_nodes\n",
    "wf_nodes"
   ]
  },
  {
   "cell_type": "markdown",
   "id": "24c8e468",
   "metadata": {},
   "source": [
    "You can print them to get an idea of the nodes that you have there:"
   ]
  },
  {
   "cell_type": "code",
   "execution_count": 16,
   "id": "aeea29c6",
   "metadata": {
    "execution": {
     "iopub.execute_input": "2024-02-23T10:47:57.968206Z",
     "iopub.status.busy": "2024-02-23T10:47:57.967884Z",
     "iopub.status.idle": "2024-02-23T10:47:57.970789Z",
     "shell.execute_reply": "2024-02-23T10:47:57.970345Z"
    }
   },
   "outputs": [
    {
     "name": "stdout",
     "output_type": "stream",
     "text": [
      "Inputs: {'a': <sisl.nodes.workflow.WorkflowInput object at 0x7f9f3afb1090>, 'b': <sisl.nodes.workflow.WorkflowInput object at 0x7f9f3c2bc650>, 'c': <sisl.nodes.workflow.WorkflowInput object at 0x7f9f3afbb310>}\n",
      "\n",
      "Workers: {'my_sum': <sisl.nodes.node.my_sum object at 0x7f9f3afbb1d0>, 'my_sum_1': <sisl.nodes.node.my_sum object at 0x7f9f3afa58d0>}\n",
      "\n",
      "Output: <sisl.nodes.workflow.WorkflowOutput object at 0x7f9f3afbb9d0>\n",
      "\n",
      "Named nodes: {'first_val': 'my_sum'}\n"
     ]
    }
   ],
   "source": [
    "print(wf_nodes)"
   ]
  },
  {
   "cell_type": "markdown",
   "id": "ebb6f767",
   "metadata": {},
   "source": [
    "One important thing that you can see here is that the workflow gives names to the nodes that it uses so that it can easily find them when needed. The name is usually just the node's name, but if there are multiple nodes of the same type it can get a bit more messy, because it adds a suffix `_1`, `_2`, `_3`...\n",
    "\n",
    "For that reason, it is always a good idea to give more human understandable names to nodes. On workflow creation, **variable assignments are automatically discovered**, and the workflow uses the name of the variable as an alias to find the node. In this way, you can very easily give more meaningful names to nodes so that you can find them afterwards!"
   ]
  },
  {
   "cell_type": "code",
   "execution_count": 17,
   "id": "2245562b",
   "metadata": {
    "execution": {
     "iopub.execute_input": "2024-02-23T10:47:57.972722Z",
     "iopub.status.busy": "2024-02-23T10:47:57.972391Z",
     "iopub.status.idle": "2024-02-23T10:47:57.975981Z",
     "shell.execute_reply": "2024-02-23T10:47:57.975459Z"
    }
   },
   "outputs": [
    {
     "data": {
      "text/plain": [
       "<sisl.nodes.node.my_sum at 0x7f9f3afbb1d0>"
      ]
     },
     "execution_count": 17,
     "metadata": {},
     "output_type": "execute_result"
    }
   ],
   "source": [
    "wf_nodes.first_val"
   ]
  },
  {
   "cell_type": "markdown",
   "id": "c6cb14a5",
   "metadata": {},
   "source": [
    "Accessing nodes of the workflows is nice, but often it is **difficult to get an idea of the whole workflow** if it gets a bit complex.\n",
    "\n",
    "It is always easier to **understand the workflow by visualizing it**. For that, you can use the `visualize` method of its `network` attribute, but you need `networkx` and `pyvis` installed in your computer, which you can install through `pip`."
   ]
  },
  {
   "cell_type": "code",
   "execution_count": 18,
   "id": "fa7579c6",
   "metadata": {
    "execution": {
     "iopub.execute_input": "2024-02-23T10:47:57.977905Z",
     "iopub.status.busy": "2024-02-23T10:47:57.977593Z",
     "iopub.status.idle": "2024-02-23T10:47:58.160542Z",
     "shell.execute_reply": "2024-02-23T10:47:58.159916Z"
    }
   },
   "outputs": [
    {
     "name": "stderr",
     "output_type": "stream",
     "text": [
      "/opt/hostedtoolcache/Python/3.11.8/x64/lib/python3.11/site-packages/IPython/core/display.py:431: UserWarning: Consider using IPython.display.IFrame instead\n",
      "  warnings.warn(\"Consider using IPython.display.IFrame instead\")\n"
     ]
    },
    {
     "data": {
      "text/html": [
       "<iframe height='600px' srcdoc=\"&lt;html&gt;\n",
       "    &lt;head&gt;\n",
       "        &lt;meta charset=&quot;utf-8&quot;&gt;\n",
       "        \n",
       "            &lt;script&gt;function neighbourhoodHighlight(params) {\n",
       "  // console.log(&quot;in nieghbourhoodhighlight&quot;);\n",
       "  allNodes = nodes.get({ returnType: &quot;Object&quot; });\n",
       "  // originalNodes = JSON.parse(JSON.stringify(allNodes));\n",
       "  // if something is selected:\n",
       "  if (params.nodes.length &gt; 0) {\n",
       "    highlightActive = true;\n",
       "    var i, j;\n",
       "    var selectedNode = params.nodes[0];\n",
       "    var degrees = 2;\n",
       "\n",
       "    // mark all nodes as hard to read.\n",
       "    for (let nodeId in allNodes) {\n",
       "      // nodeColors[nodeId] = allNodes[nodeId].color;\n",
       "      allNodes[nodeId].color = &quot;rgba(200,200,200,0.5)&quot;;\n",
       "      if (allNodes[nodeId].hiddenLabel === undefined) {\n",
       "        allNodes[nodeId].hiddenLabel = allNodes[nodeId].label;\n",
       "        allNodes[nodeId].label = undefined;\n",
       "      }\n",
       "    }\n",
       "    var connectedNodes = network.getConnectedNodes(selectedNode);\n",
       "    var allConnectedNodes = [];\n",
       "\n",
       "    // get the second degree nodes\n",
       "    for (i = 1; i &lt; degrees; i++) {\n",
       "      for (j = 0; j &lt; connectedNodes.length; j++) {\n",
       "        allConnectedNodes = allConnectedNodes.concat(\n",
       "          network.getConnectedNodes(connectedNodes[j])\n",
       "        );\n",
       "      }\n",
       "    }\n",
       "\n",
       "    // all second degree nodes get a different color and their label back\n",
       "    for (i = 0; i &lt; allConnectedNodes.length; i++) {\n",
       "      // allNodes[allConnectedNodes[i]].color = &quot;pink&quot;;\n",
       "      allNodes[allConnectedNodes[i]].color = &quot;rgba(150,150,150,0.75)&quot;;\n",
       "      if (allNodes[allConnectedNodes[i]].hiddenLabel !== undefined) {\n",
       "        allNodes[allConnectedNodes[i]].label =\n",
       "          allNodes[allConnectedNodes[i]].hiddenLabel;\n",
       "        allNodes[allConnectedNodes[i]].hiddenLabel = undefined;\n",
       "      }\n",
       "    }\n",
       "\n",
       "    // all first degree nodes get their own color and their label back\n",
       "    for (i = 0; i &lt; connectedNodes.length; i++) {\n",
       "      // allNodes[connectedNodes[i]].color = undefined;\n",
       "      allNodes[connectedNodes[i]].color = nodeColors[connectedNodes[i]];\n",
       "      if (allNodes[connectedNodes[i]].hiddenLabel !== undefined) {\n",
       "        allNodes[connectedNodes[i]].label =\n",
       "          allNodes[connectedNodes[i]].hiddenLabel;\n",
       "        allNodes[connectedNodes[i]].hiddenLabel = undefined;\n",
       "      }\n",
       "    }\n",
       "\n",
       "    // the main node gets its own color and its label back.\n",
       "    // allNodes[selectedNode].color = undefined;\n",
       "    allNodes[selectedNode].color = nodeColors[selectedNode];\n",
       "    if (allNodes[selectedNode].hiddenLabel !== undefined) {\n",
       "      allNodes[selectedNode].label = allNodes[selectedNode].hiddenLabel;\n",
       "      allNodes[selectedNode].hiddenLabel = undefined;\n",
       "    }\n",
       "  } else if (highlightActive === true) {\n",
       "    // console.log(&quot;highlightActive was true&quot;);\n",
       "    // reset all nodes\n",
       "    for (let nodeId in allNodes) {\n",
       "      // allNodes[nodeId].color = &quot;purple&quot;;\n",
       "      allNodes[nodeId].color = nodeColors[nodeId];\n",
       "      // delete allNodes[nodeId].color;\n",
       "      if (allNodes[nodeId].hiddenLabel !== undefined) {\n",
       "        allNodes[nodeId].label = allNodes[nodeId].hiddenLabel;\n",
       "        allNodes[nodeId].hiddenLabel = undefined;\n",
       "      }\n",
       "    }\n",
       "    highlightActive = false;\n",
       "  }\n",
       "\n",
       "  // transform the object into an array\n",
       "  var updateArray = [];\n",
       "  if (params.nodes.length &gt; 0) {\n",
       "    for (let nodeId in allNodes) {\n",
       "      if (allNodes.hasOwnProperty(nodeId)) {\n",
       "        // console.log(allNodes[nodeId]);\n",
       "        updateArray.push(allNodes[nodeId]);\n",
       "      }\n",
       "    }\n",
       "    nodes.update(updateArray);\n",
       "  } else {\n",
       "    // console.log(&quot;Nothing was selected&quot;);\n",
       "    for (let nodeId in allNodes) {\n",
       "      if (allNodes.hasOwnProperty(nodeId)) {\n",
       "        // console.log(allNodes[nodeId]);\n",
       "        // allNodes[nodeId].color = {};\n",
       "        updateArray.push(allNodes[nodeId]);\n",
       "      }\n",
       "    }\n",
       "    nodes.update(updateArray);\n",
       "  }\n",
       "}\n",
       "\n",
       "function filterHighlight(params) {\n",
       "  allNodes = nodes.get({ returnType: &quot;Object&quot; });\n",
       "  // if something is selected:\n",
       "  if (params.nodes.length &gt; 0) {\n",
       "    filterActive = true;\n",
       "    let selectedNodes = params.nodes;\n",
       "\n",
       "    // hiding all nodes and saving the label\n",
       "    for (let nodeId in allNodes) {\n",
       "      allNodes[nodeId].hidden = true;\n",
       "      if (allNodes[nodeId].savedLabel === undefined) {\n",
       "        allNodes[nodeId].savedLabel = allNodes[nodeId].label;\n",
       "        allNodes[nodeId].label = undefined;\n",
       "      }\n",
       "    }\n",
       "\n",
       "    for (let i=0; i &lt; selectedNodes.length; i++) {\n",
       "      allNodes[selectedNodes[i]].hidden = false;\n",
       "      if (allNodes[selectedNodes[i]].savedLabel !== undefined) {\n",
       "        allNodes[selectedNodes[i]].label = allNodes[selectedNodes[i]].savedLabel;\n",
       "        allNodes[selectedNodes[i]].savedLabel = undefined;\n",
       "      }\n",
       "    }\n",
       "\n",
       "  } else if (filterActive === true) {\n",
       "    // reset all nodes\n",
       "    for (let nodeId in allNodes) {\n",
       "      allNodes[nodeId].hidden = false;\n",
       "      if (allNodes[nodeId].savedLabel !== undefined) {\n",
       "        allNodes[nodeId].label = allNodes[nodeId].savedLabel;\n",
       "        allNodes[nodeId].savedLabel = undefined;\n",
       "      }\n",
       "    }\n",
       "    filterActive = false;\n",
       "  }\n",
       "\n",
       "  // transform the object into an array\n",
       "  var updateArray = [];\n",
       "  if (params.nodes.length &gt; 0) {\n",
       "    for (let nodeId in allNodes) {\n",
       "      if (allNodes.hasOwnProperty(nodeId)) {\n",
       "        updateArray.push(allNodes[nodeId]);\n",
       "      }\n",
       "    }\n",
       "    nodes.update(updateArray);\n",
       "  } else {\n",
       "    for (let nodeId in allNodes) {\n",
       "      if (allNodes.hasOwnProperty(nodeId)) {\n",
       "        updateArray.push(allNodes[nodeId]);\n",
       "      }\n",
       "    }\n",
       "    nodes.update(updateArray);\n",
       "  }\n",
       "}\n",
       "\n",
       "function selectNode(nodes) {\n",
       "  network.selectNodes(nodes);\n",
       "  neighbourhoodHighlight({ nodes: nodes });\n",
       "  return nodes;\n",
       "}\n",
       "\n",
       "function selectNodes(nodes) {\n",
       "  network.selectNodes(nodes);\n",
       "  filterHighlight({nodes: nodes});\n",
       "  return nodes;\n",
       "}\n",
       "\n",
       "function highlightFilter(filter) {\n",
       "  let selectedNodes = []\n",
       "  let selectedProp = filter[&#x27;property&#x27;]\n",
       "  if (filter[&#x27;item&#x27;] === &#x27;node&#x27;) {\n",
       "    let allNodes = nodes.get({ returnType: &quot;Object&quot; });\n",
       "    for (let nodeId in allNodes) {\n",
       "      if (allNodes[nodeId][selectedProp] &amp;&amp; filter[&#x27;value&#x27;].includes((allNodes[nodeId][selectedProp]).toString())) {\n",
       "        selectedNodes.push(nodeId)\n",
       "      }\n",
       "    }\n",
       "  }\n",
       "  else if (filter[&#x27;item&#x27;] === &#x27;edge&#x27;){\n",
       "    let allEdges = edges.get({returnType: &#x27;object&#x27;});\n",
       "    // check if the selected property exists for selected edge and select the nodes connected to the edge\n",
       "    for (let edge in allEdges) {\n",
       "      if (allEdges[edge][selectedProp] &amp;&amp; filter[&#x27;value&#x27;].includes((allEdges[edge][selectedProp]).toString())) {\n",
       "        selectedNodes.push(allEdges[edge][&#x27;from&#x27;])\n",
       "        selectedNodes.push(allEdges[edge][&#x27;to&#x27;])\n",
       "      }\n",
       "    }\n",
       "  }\n",
       "  selectNodes(selectedNodes)\n",
       "}&lt;/script&gt;\n",
       "            &lt;link rel=&quot;stylesheet&quot; href=&quot;https://cdnjs.cloudflare.com/ajax/libs/vis-network/9.1.2/dist/dist/vis-network.min.css&quot; integrity=&quot;sha512-WgxfT5LWjfszlPHXRmBWHkV2eceiWTOBvrKCNbdgDYTHrT2AeLCGbF4sZlZw3UMN3WtL0tGUoIAKsu8mllg/XA==&quot; crossorigin=&quot;anonymous&quot; referrerpolicy=&quot;no-referrer&quot; /&gt;\n",
       "            &lt;script src=&quot;https://cdnjs.cloudflare.com/ajax/libs/vis-network/9.1.2/dist/vis-network.min.js&quot; integrity=&quot;sha512-LnvoEWDFrqGHlHmDD2101OrLcbsfkrzoSpvtSQtxK3RMnRV0eOkhhBN2dXHKRrUU8p2DGRTk35n4O8nWSVe1mQ==&quot; crossorigin=&quot;anonymous&quot; referrerpolicy=&quot;no-referrer&quot;&gt;&lt;/script&gt;\n",
       "            \n",
       "            \n",
       "            \n",
       "            \n",
       "            \n",
       "            \n",
       "\n",
       "        \n",
       "&lt;center&gt;\n",
       "&lt;h1&gt;&lt;/h1&gt;\n",
       "&lt;/center&gt;\n",
       "\n",
       "&lt;!-- &lt;link rel=&quot;stylesheet&quot; href=&quot;../node_modules/vis/dist/vis.min.css&quot; type=&quot;text/css&quot; /&gt;\n",
       "&lt;script type=&quot;text/javascript&quot; src=&quot;../node_modules/vis/dist/vis.js&quot;&gt; &lt;/script&gt;--&gt;\n",
       "        &lt;link\n",
       "          href=&quot;https://cdn.jsdelivr.net/npm/bootstrap@5.0.0-beta3/dist/css/bootstrap.min.css&quot;\n",
       "          rel=&quot;stylesheet&quot;\n",
       "          integrity=&quot;sha384-eOJMYsd53ii+scO/bJGFsiCZc+5NDVN2yr8+0RDqr0Ql0h+rP48ckxlpbzKgwra6&quot;\n",
       "          crossorigin=&quot;anonymous&quot;\n",
       "        /&gt;\n",
       "        &lt;script\n",
       "          src=&quot;https://cdn.jsdelivr.net/npm/bootstrap@5.0.0-beta3/dist/js/bootstrap.bundle.min.js&quot;\n",
       "          integrity=&quot;sha384-JEW9xMcG8R+pH31jmWH6WWP0WintQrMb4s7ZOdauHnUtxwoG2vI5DkLtS3qm9Ekf&quot;\n",
       "          crossorigin=&quot;anonymous&quot;\n",
       "        &gt;&lt;/script&gt;\n",
       "\n",
       "\n",
       "        &lt;center&gt;\n",
       "          &lt;h1&gt;&lt;/h1&gt;\n",
       "        &lt;/center&gt;\n",
       "        &lt;style type=&quot;text/css&quot;&gt;\n",
       "\n",
       "             #mynetwork {\n",
       "                 width: 100%;\n",
       "                 height: 600px;\n",
       "                 background-color: #ffffff;\n",
       "                 border: 1px solid lightgray;\n",
       "                 position: relative;\n",
       "                 float: left;\n",
       "             }\n",
       "\n",
       "             \n",
       "\n",
       "             \n",
       "\n",
       "             \n",
       "        &lt;/style&gt;\n",
       "    &lt;/head&gt;\n",
       "\n",
       "\n",
       "    &lt;body&gt;\n",
       "        &lt;div class=&quot;card&quot; style=&quot;width: 100%&quot;&gt;\n",
       "            \n",
       "            \n",
       "            &lt;div id=&quot;mynetwork&quot; class=&quot;card-body&quot;&gt;&lt;/div&gt;\n",
       "        &lt;/div&gt;\n",
       "\n",
       "        \n",
       "        \n",
       "\n",
       "        &lt;script type=&quot;text/javascript&quot;&gt;\n",
       "\n",
       "              // initialize global variables.\n",
       "              var edges;\n",
       "              var nodes;\n",
       "              var allNodes;\n",
       "              var allEdges;\n",
       "              var nodeColors;\n",
       "              var originalNodes;\n",
       "              var network;\n",
       "              var container;\n",
       "              var options, data;\n",
       "              var filter = {\n",
       "                  item : &#x27;&#x27;,\n",
       "                  property : &#x27;&#x27;,\n",
       "                  value : []\n",
       "              };\n",
       "\n",
       "              \n",
       "\n",
       "              \n",
       "\n",
       "              // This method is responsible for drawing the graph, returns the drawn network\n",
       "              function drawGraph() {\n",
       "                  var container = document.getElementById(&#x27;mynetwork&#x27;);\n",
       "\n",
       "                  \n",
       "\n",
       "                  // parsing and collecting nodes and edges from the python\n",
       "                  nodes = new vis.DataSet([{&quot;color&quot;: &quot;#fde725&quot;, &quot;font&quot;: {}, &quot;id&quot;: &quot;my_sum_1&quot;, &quot;label&quot;: &quot;my_sum_1&quot;, &quot;level&quot;: 3.0, &quot;mass&quot;: 2, &quot;shape&quot;: &quot;circle&quot;, &quot;size&quot;: 10, &quot;title&quot;: &quot;Node class: my_sum\\nNo documentation\\n............................................\\na = Linked( my_sum.output )\\nb = Linked( triple_sum.c )\\n&quot;}, {&quot;color&quot;: &quot;pink&quot;, &quot;font&quot;: {&quot;color&quot;: &quot;black&quot;}, &quot;id&quot;: &quot;output&quot;, &quot;label&quot;: &quot;Output&quot;, &quot;level&quot;: 4.0, &quot;mass&quot;: 2, &quot;shape&quot;: &quot;box&quot;, &quot;size&quot;: 10, &quot;title&quot;: &quot;Node class: WorkflowOutput\\nNo documentation\\n............................................\\nvalue = Linked( my_sum_1.output )\\n&quot;}, {&quot;color&quot;: &quot;#ccc&quot;, &quot;font&quot;: {&quot;color&quot;: &quot;black&quot;}, &quot;id&quot;: &quot;a&quot;, &quot;label&quot;: &quot;Input(a)&quot;, &quot;level&quot;: 1.0, &quot;mass&quot;: 2, &quot;shape&quot;: &quot;box&quot;, &quot;size&quot;: 10, &quot;title&quot;: &quot;Node class: WorkflowInput\\nNo documentation\\n............................................\\nvalue = \\u003cobject object at 0x7f9f3b5c4420\\u003e\\ninput_key = a\\n&quot;}, {&quot;color&quot;: &quot;#440154&quot;, &quot;font&quot;: {&quot;color&quot;: &quot;white&quot;}, &quot;id&quot;: &quot;my_sum&quot;, &quot;label&quot;: &quot;my_sum&quot;, &quot;level&quot;: 2.0, &quot;mass&quot;: 2, &quot;shape&quot;: &quot;circle&quot;, &quot;size&quot;: 10, &quot;title&quot;: &quot;Node class: my_sum\\nNo documentation\\n............................................\\na = Linked( triple_sum.a )\\nb = Linked( triple_sum.b )\\n&quot;}, {&quot;color&quot;: &quot;#ccc&quot;, &quot;font&quot;: {&quot;color&quot;: &quot;black&quot;}, &quot;id&quot;: &quot;b&quot;, &quot;label&quot;: &quot;Input(b)&quot;, &quot;level&quot;: 1.0, &quot;mass&quot;: 2, &quot;shape&quot;: &quot;box&quot;, &quot;size&quot;: 10, &quot;title&quot;: &quot;Node class: WorkflowInput\\nNo documentation\\n............................................\\nvalue = \\u003cobject object at 0x7f9f3b5c4420\\u003e\\ninput_key = b\\n&quot;}, {&quot;color&quot;: &quot;#ccc&quot;, &quot;font&quot;: {&quot;color&quot;: &quot;black&quot;}, &quot;id&quot;: &quot;c&quot;, &quot;label&quot;: &quot;Input(c)&quot;, &quot;level&quot;: 2.0, &quot;mass&quot;: 2, &quot;shape&quot;: &quot;box&quot;, &quot;size&quot;: 10, &quot;title&quot;: &quot;Node class: WorkflowInput\\nNo documentation\\n............................................\\nvalue = \\u003cobject object at 0x7f9f3b5c4420\\u003e\\ninput_key = c\\n&quot;}]);\n",
       "                  edges = new vis.DataSet([{&quot;arrows&quot;: &quot;to&quot;, &quot;from&quot;: &quot;my_sum_1&quot;, &quot;label&quot;: &quot;value&quot;, &quot;title&quot;: &quot;my_sum() -\\u003e WorkflowOutput.value&quot;, &quot;to&quot;: &quot;output&quot;, &quot;width&quot;: 1}, {&quot;arrows&quot;: &quot;to&quot;, &quot;from&quot;: &quot;a&quot;, &quot;label&quot;: &quot;a&quot;, &quot;title&quot;: &quot;WorkflowInput() -\\u003e my_sum.a&quot;, &quot;to&quot;: &quot;my_sum&quot;, &quot;width&quot;: 1}, {&quot;arrows&quot;: &quot;to&quot;, &quot;from&quot;: &quot;my_sum&quot;, &quot;label&quot;: &quot;a&quot;, &quot;title&quot;: &quot;my_sum() -\\u003e my_sum.a&quot;, &quot;to&quot;: &quot;my_sum_1&quot;, &quot;width&quot;: 1}, {&quot;arrows&quot;: &quot;to&quot;, &quot;from&quot;: &quot;b&quot;, &quot;label&quot;: &quot;b&quot;, &quot;title&quot;: &quot;WorkflowInput() -\\u003e my_sum.b&quot;, &quot;to&quot;: &quot;my_sum&quot;, &quot;width&quot;: 1}, {&quot;arrows&quot;: &quot;to&quot;, &quot;from&quot;: &quot;c&quot;, &quot;label&quot;: &quot;b&quot;, &quot;title&quot;: &quot;WorkflowInput() -\\u003e my_sum.b&quot;, &quot;to&quot;: &quot;my_sum_1&quot;, &quot;width&quot;: 1}]);\n",
       "\n",
       "                  nodeColors = {};\n",
       "                  allNodes = nodes.get({ returnType: &quot;Object&quot; });\n",
       "                  for (nodeId in allNodes) {\n",
       "                    nodeColors[nodeId] = allNodes[nodeId].color;\n",
       "                  }\n",
       "                  allEdges = edges.get({ returnType: &quot;Object&quot; });\n",
       "                  // adding nodes and edges to the graph\n",
       "                  data = {nodes: nodes, edges: edges};\n",
       "\n",
       "                  var options = {\n",
       "    &quot;configure&quot;: {\n",
       "        &quot;enabled&quot;: false\n",
       "    },\n",
       "    &quot;edges&quot;: {\n",
       "        &quot;color&quot;: {\n",
       "            &quot;inherit&quot;: true\n",
       "        },\n",
       "        &quot;smooth&quot;: {\n",
       "            &quot;enabled&quot;: true,\n",
       "            &quot;type&quot;: &quot;dynamic&quot;\n",
       "        }\n",
       "    },\n",
       "    &quot;interaction&quot;: {\n",
       "        &quot;dragNodes&quot;: true,\n",
       "        &quot;hideEdgesOnDrag&quot;: false,\n",
       "        &quot;hideNodesOnDrag&quot;: false\n",
       "    },\n",
       "    &quot;layout&quot;: {\n",
       "        &quot;hierarchical&quot;: {\n",
       "            &quot;blockShifting&quot;: true,\n",
       "            &quot;edgeMinimization&quot;: true,\n",
       "            &quot;enabled&quot;: true,\n",
       "            &quot;levelSeparation&quot;: 150,\n",
       "            &quot;parentCentralization&quot;: true,\n",
       "            &quot;sortMethod&quot;: &quot;hubsize&quot;,\n",
       "            &quot;treeSpacing&quot;: 200\n",
       "        },\n",
       "        &quot;improvedLayout&quot;: true,\n",
       "        &quot;randomSeed&quot;: 0\n",
       "    },\n",
       "    &quot;physics&quot;: {\n",
       "        &quot;enabled&quot;: true,\n",
       "        &quot;stabilization&quot;: {\n",
       "            &quot;enabled&quot;: true,\n",
       "            &quot;fit&quot;: true,\n",
       "            &quot;iterations&quot;: 1000,\n",
       "            &quot;onlyDynamicEdges&quot;: false,\n",
       "            &quot;updateInterval&quot;: 50\n",
       "        }\n",
       "    }\n",
       "};\n",
       "\n",
       "                  \n",
       "\n",
       "\n",
       "                  \n",
       "\n",
       "                  network = new vis.Network(container, data, options);\n",
       "\n",
       "                  \n",
       "\n",
       "                  \n",
       "\n",
       "                  \n",
       "\n",
       "\n",
       "                  \n",
       "\n",
       "                  return network;\n",
       "\n",
       "              }\n",
       "              drawGraph();\n",
       "        &lt;/script&gt;\n",
       "    &lt;/body&gt;\n",
       "&lt;/html&gt;\" style=\"width:100%\"></iframe>"
      ],
      "text/plain": [
       "<IPython.core.display.HTML object>"
      ]
     },
     "metadata": {},
     "output_type": "display_data"
    }
   ],
   "source": [
    "triple_sum.network.visualize(notebook=True)"
   ]
  },
  {
   "cell_type": "markdown",
   "id": "3ffd6243",
   "metadata": {},
   "source": [
    "There are many tweaks that you can try on the visualization, but we are not going to enter into the details. You can play with it to find the most appropiate representation!\n",
    "\n",
    "Workflows are just a way of organizing nodes, so they work exactly the same. By default, they are lazy, so calling your workflow class will just get you an instance:"
   ]
  },
  {
   "cell_type": "markdown",
   "id": "8c934cef",
   "metadata": {},
   "source": [
    "Workflows are, unlike nodes, lazy by default. So when you call a workflow, you get a workflow instance:"
   ]
  },
  {
   "cell_type": "code",
   "execution_count": 19,
   "id": "23a4cb80",
   "metadata": {
    "execution": {
     "iopub.execute_input": "2024-02-23T10:47:58.162960Z",
     "iopub.status.busy": "2024-02-23T10:47:58.162412Z",
     "iopub.status.idle": "2024-02-23T10:47:58.166962Z",
     "shell.execute_reply": "2024-02-23T10:47:58.166457Z"
    }
   },
   "outputs": [
    {
     "data": {
      "text/plain": [
       "<sisl.nodes.node.triple_sum at 0x7f9f3a5ed350>"
      ]
     },
     "execution_count": 19,
     "metadata": {},
     "output_type": "execute_result"
    }
   ],
   "source": [
    "result = triple_sum(2, 3, 4)\n",
    "result"
   ]
  },
  {
   "cell_type": "markdown",
   "id": "560c1f8c",
   "metadata": {},
   "source": [
    "And then whenever you ask for the value, the workflow runs."
   ]
  },
  {
   "cell_type": "code",
   "execution_count": 20,
   "id": "0eb25eef",
   "metadata": {
    "execution": {
     "iopub.execute_input": "2024-02-23T10:47:58.169038Z",
     "iopub.status.busy": "2024-02-23T10:47:58.168706Z",
     "iopub.status.idle": "2024-02-23T10:47:58.172988Z",
     "shell.execute_reply": "2024-02-23T10:47:58.172509Z"
    }
   },
   "outputs": [
    {
     "name": "stdout",
     "output_type": "stream",
     "text": [
      "SUMMING 2 + 3\n",
      "SUMMING 5 + 4\n"
     ]
    },
    {
     "data": {
      "text/plain": [
       "9"
      ]
     },
     "execution_count": 20,
     "metadata": {},
     "output_type": "execute_result"
    }
   ],
   "source": [
    "result.get()"
   ]
  },
  {
   "cell_type": "markdown",
   "id": "6b702fa6",
   "metadata": {},
   "source": [
    "Workflows link their inputs to inputs of the nodes they contain. In this way, if you update some input of the workflow, only the nodes that used that input will get updated, and only the necessary recomputation will be performed, exactly as we saw before."
   ]
  },
  {
   "cell_type": "code",
   "execution_count": 21,
   "id": "d05a9539",
   "metadata": {
    "execution": {
     "iopub.execute_input": "2024-02-23T10:47:58.174927Z",
     "iopub.status.busy": "2024-02-23T10:47:58.174603Z",
     "iopub.status.idle": "2024-02-23T10:47:58.178072Z",
     "shell.execute_reply": "2024-02-23T10:47:58.177606Z"
    }
   },
   "outputs": [
    {
     "data": {
      "text/plain": [
       "<sisl.nodes.node.triple_sum at 0x7f9f3a5ed350>"
      ]
     },
     "execution_count": 21,
     "metadata": {},
     "output_type": "execute_result"
    }
   ],
   "source": [
    "result.update_inputs(c=8)"
   ]
  },
  {
   "cell_type": "code",
   "execution_count": 22,
   "id": "85a5b586",
   "metadata": {
    "execution": {
     "iopub.execute_input": "2024-02-23T10:47:58.179904Z",
     "iopub.status.busy": "2024-02-23T10:47:58.179612Z",
     "iopub.status.idle": "2024-02-23T10:47:58.183778Z",
     "shell.execute_reply": "2024-02-23T10:47:58.183246Z"
    }
   },
   "outputs": [
    {
     "name": "stdout",
     "output_type": "stream",
     "text": [
      "SUMMING 5 + 8\n"
     ]
    },
    {
     "data": {
      "text/plain": [
       "13"
      ]
     },
     "execution_count": 22,
     "metadata": {},
     "output_type": "execute_result"
    }
   ],
   "source": [
    "result.get()"
   ]
  },
  {
   "cell_type": "markdown",
   "id": "0a777514",
   "metadata": {},
   "source": [
    "Once the workflow has been instantiated, it will contain **instantiated nodes**, which are different from the nodes that are produced during the discovery run."
   ]
  },
  {
   "cell_type": "code",
   "execution_count": 23,
   "id": "d4ecbeae",
   "metadata": {
    "execution": {
     "iopub.execute_input": "2024-02-23T10:47:58.185904Z",
     "iopub.status.busy": "2024-02-23T10:47:58.185475Z",
     "iopub.status.idle": "2024-02-23T10:47:58.189182Z",
     "shell.execute_reply": "2024-02-23T10:47:58.188670Z"
    }
   },
   "outputs": [
    {
     "data": {
      "text/plain": [
       "<sisl.nodes.workflow.WorkflowNodes at 0x7f9f3e273410>"
      ]
     },
     "execution_count": 23,
     "metadata": {},
     "output_type": "execute_result"
    }
   ],
   "source": [
    "result.nodes"
   ]
  },
  {
   "cell_type": "markdown",
   "id": "db310bfa",
   "metadata": {},
   "source": [
    "One can imagine **reusing their result for something else**.\n",
    "\n",
    "As an example, we can create an automatically recalculating node that will just inform us whenever the intermediate value changes"
   ]
  },
  {
   "cell_type": "code",
   "execution_count": 24,
   "id": "8330551a",
   "metadata": {
    "execution": {
     "iopub.execute_input": "2024-02-23T10:47:58.191151Z",
     "iopub.status.busy": "2024-02-23T10:47:58.190852Z",
     "iopub.status.idle": "2024-02-23T10:47:58.196423Z",
     "shell.execute_reply": "2024-02-23T10:47:58.195964Z"
    }
   },
   "outputs": [
    {
     "name": "stdout",
     "output_type": "stream",
     "text": [
      "VALUE CHANGED, it now is 5\n",
      "SUMMING 10 + 3\n",
      "VALUE CHANGED, it now is 13\n"
     ]
    },
    {
     "data": {
      "text/plain": [
       "<sisl.nodes.node.triple_sum at 0x7f9f3a5ed350>"
      ]
     },
     "execution_count": 24,
     "metadata": {},
     "output_type": "execute_result"
    }
   ],
   "source": [
    "@Node.from_func(context={\"lazy\": False})\n",
    "def alert_change(val: int):\n",
    "    print(f\"VALUE CHANGED, it now is {val}\")\n",
    "\n",
    "\n",
    "# We feed the node that produces the intermediate value into our alert node\n",
    "my_alert = alert_change(result.nodes.first_val)\n",
    "\n",
    "# Now when we update the inputs of the workflow, the node will propagate the information through\n",
    "# our new node.\n",
    "result.update_inputs(a=10)"
   ]
  },
  {
   "cell_type": "markdown",
   "id": "7b266dbf",
   "metadata": {},
   "source": [
    "It sometimes might be useful to provide methods for a workflow. For that case, workflows can also be defined with class syntax, passing the workflow as a static method in the `function` method."
   ]
  },
  {
   "cell_type": "code",
   "execution_count": 25,
   "id": "7250e251",
   "metadata": {
    "execution": {
     "iopub.execute_input": "2024-02-23T10:47:58.198388Z",
     "iopub.status.busy": "2024-02-23T10:47:58.198068Z",
     "iopub.status.idle": "2024-02-23T10:47:58.203451Z",
     "shell.execute_reply": "2024-02-23T10:47:58.202988Z"
    }
   },
   "outputs": [
    {
     "name": "stderr",
     "output_type": "stream",
     "text": [
      "warn:0: SislWarning: Decorators are ignored for now on workflow creation. Ignoring 1 decorators on function\n"
     ]
    }
   ],
   "source": [
    "class TripleSum(Workflow):\n",
    "    # Define the function that runs the workflow, exactly as we did before.\n",
    "    @staticmethod\n",
    "    def function(a: int, b: int, c: int):\n",
    "        first_val = my_sum(a, b)\n",
    "        return my_sum(first_val, c)\n",
    "\n",
    "    # Now, we have the possibility of adding new methods to it.\n",
    "    def scale(self, factor: int):\n",
    "        self.update_inputs(\n",
    "            a=self.get_input(\"a\") * factor,\n",
    "            b=self.get_input(\"b\") * factor,\n",
    "            c=self.get_input(\"c\") * factor,\n",
    "        )"
   ]
  },
  {
   "cell_type": "markdown",
   "id": "4587423e",
   "metadata": {},
   "source": [
    "We can now use the workflow exactly as we did before."
   ]
  },
  {
   "cell_type": "code",
   "execution_count": 26,
   "id": "fc020892",
   "metadata": {
    "execution": {
     "iopub.execute_input": "2024-02-23T10:47:58.205254Z",
     "iopub.status.busy": "2024-02-23T10:47:58.205090Z",
     "iopub.status.idle": "2024-02-23T10:47:58.209870Z",
     "shell.execute_reply": "2024-02-23T10:47:58.209340Z"
    }
   },
   "outputs": [
    {
     "name": "stdout",
     "output_type": "stream",
     "text": [
      "SUMMING 2 + 3\n",
      "SUMMING 5 + 4\n"
     ]
    },
    {
     "data": {
      "text/plain": [
       "9"
      ]
     },
     "execution_count": 26,
     "metadata": {},
     "output_type": "execute_result"
    }
   ],
   "source": [
    "result = TripleSum(2, 3, 4)\n",
    "result.get()"
   ]
  },
  {
   "cell_type": "markdown",
   "id": "c0b6390d",
   "metadata": {},
   "source": [
    "But with the added possibility of using this useful provided method:"
   ]
  },
  {
   "cell_type": "code",
   "execution_count": 27,
   "id": "61ec8624",
   "metadata": {
    "execution": {
     "iopub.execute_input": "2024-02-23T10:47:58.211920Z",
     "iopub.status.busy": "2024-02-23T10:47:58.211491Z",
     "iopub.status.idle": "2024-02-23T10:47:58.216052Z",
     "shell.execute_reply": "2024-02-23T10:47:58.215501Z"
    }
   },
   "outputs": [
    {
     "name": "stdout",
     "output_type": "stream",
     "text": [
      "SUMMING 8 + 12\n",
      "SUMMING 20 + 16\n"
     ]
    },
    {
     "data": {
      "text/plain": [
       "36"
      ]
     },
     "execution_count": 27,
     "metadata": {},
     "output_type": "execute_result"
    }
   ],
   "source": [
    "result.scale(4)\n",
    "result.get()"
   ]
  },
  {
   "cell_type": "markdown",
   "id": "5c953306",
   "metadata": {},
   "source": [
    "It is important to know that **whatever calculation that you do in your workflow's code** will be **reconverted to a node**. This means that its inputs and outputs are stored. As a not so obvious example, if you sum three values, the intermediate sum will be stored as a node:"
   ]
  },
  {
   "cell_type": "code",
   "execution_count": 28,
   "id": "95c5e1d2",
   "metadata": {
    "execution": {
     "iopub.execute_input": "2024-02-23T10:47:58.218044Z",
     "iopub.status.busy": "2024-02-23T10:47:58.217718Z",
     "iopub.status.idle": "2024-02-23T10:47:58.236452Z",
     "shell.execute_reply": "2024-02-23T10:47:58.235892Z"
    }
   },
   "outputs": [
    {
     "name": "stderr",
     "output_type": "stream",
     "text": [
      "warn:0: SislWarning: Decorators are ignored for now on workflow creation. Ignoring 1 decorators on sum_triple\n"
     ]
    },
    {
     "data": {
      "text/html": [
       "<iframe height='600px' srcdoc=\"&lt;html&gt;\n",
       "    &lt;head&gt;\n",
       "        &lt;meta charset=&quot;utf-8&quot;&gt;\n",
       "        \n",
       "            &lt;script&gt;function neighbourhoodHighlight(params) {\n",
       "  // console.log(&quot;in nieghbourhoodhighlight&quot;);\n",
       "  allNodes = nodes.get({ returnType: &quot;Object&quot; });\n",
       "  // originalNodes = JSON.parse(JSON.stringify(allNodes));\n",
       "  // if something is selected:\n",
       "  if (params.nodes.length &gt; 0) {\n",
       "    highlightActive = true;\n",
       "    var i, j;\n",
       "    var selectedNode = params.nodes[0];\n",
       "    var degrees = 2;\n",
       "\n",
       "    // mark all nodes as hard to read.\n",
       "    for (let nodeId in allNodes) {\n",
       "      // nodeColors[nodeId] = allNodes[nodeId].color;\n",
       "      allNodes[nodeId].color = &quot;rgba(200,200,200,0.5)&quot;;\n",
       "      if (allNodes[nodeId].hiddenLabel === undefined) {\n",
       "        allNodes[nodeId].hiddenLabel = allNodes[nodeId].label;\n",
       "        allNodes[nodeId].label = undefined;\n",
       "      }\n",
       "    }\n",
       "    var connectedNodes = network.getConnectedNodes(selectedNode);\n",
       "    var allConnectedNodes = [];\n",
       "\n",
       "    // get the second degree nodes\n",
       "    for (i = 1; i &lt; degrees; i++) {\n",
       "      for (j = 0; j &lt; connectedNodes.length; j++) {\n",
       "        allConnectedNodes = allConnectedNodes.concat(\n",
       "          network.getConnectedNodes(connectedNodes[j])\n",
       "        );\n",
       "      }\n",
       "    }\n",
       "\n",
       "    // all second degree nodes get a different color and their label back\n",
       "    for (i = 0; i &lt; allConnectedNodes.length; i++) {\n",
       "      // allNodes[allConnectedNodes[i]].color = &quot;pink&quot;;\n",
       "      allNodes[allConnectedNodes[i]].color = &quot;rgba(150,150,150,0.75)&quot;;\n",
       "      if (allNodes[allConnectedNodes[i]].hiddenLabel !== undefined) {\n",
       "        allNodes[allConnectedNodes[i]].label =\n",
       "          allNodes[allConnectedNodes[i]].hiddenLabel;\n",
       "        allNodes[allConnectedNodes[i]].hiddenLabel = undefined;\n",
       "      }\n",
       "    }\n",
       "\n",
       "    // all first degree nodes get their own color and their label back\n",
       "    for (i = 0; i &lt; connectedNodes.length; i++) {\n",
       "      // allNodes[connectedNodes[i]].color = undefined;\n",
       "      allNodes[connectedNodes[i]].color = nodeColors[connectedNodes[i]];\n",
       "      if (allNodes[connectedNodes[i]].hiddenLabel !== undefined) {\n",
       "        allNodes[connectedNodes[i]].label =\n",
       "          allNodes[connectedNodes[i]].hiddenLabel;\n",
       "        allNodes[connectedNodes[i]].hiddenLabel = undefined;\n",
       "      }\n",
       "    }\n",
       "\n",
       "    // the main node gets its own color and its label back.\n",
       "    // allNodes[selectedNode].color = undefined;\n",
       "    allNodes[selectedNode].color = nodeColors[selectedNode];\n",
       "    if (allNodes[selectedNode].hiddenLabel !== undefined) {\n",
       "      allNodes[selectedNode].label = allNodes[selectedNode].hiddenLabel;\n",
       "      allNodes[selectedNode].hiddenLabel = undefined;\n",
       "    }\n",
       "  } else if (highlightActive === true) {\n",
       "    // console.log(&quot;highlightActive was true&quot;);\n",
       "    // reset all nodes\n",
       "    for (let nodeId in allNodes) {\n",
       "      // allNodes[nodeId].color = &quot;purple&quot;;\n",
       "      allNodes[nodeId].color = nodeColors[nodeId];\n",
       "      // delete allNodes[nodeId].color;\n",
       "      if (allNodes[nodeId].hiddenLabel !== undefined) {\n",
       "        allNodes[nodeId].label = allNodes[nodeId].hiddenLabel;\n",
       "        allNodes[nodeId].hiddenLabel = undefined;\n",
       "      }\n",
       "    }\n",
       "    highlightActive = false;\n",
       "  }\n",
       "\n",
       "  // transform the object into an array\n",
       "  var updateArray = [];\n",
       "  if (params.nodes.length &gt; 0) {\n",
       "    for (let nodeId in allNodes) {\n",
       "      if (allNodes.hasOwnProperty(nodeId)) {\n",
       "        // console.log(allNodes[nodeId]);\n",
       "        updateArray.push(allNodes[nodeId]);\n",
       "      }\n",
       "    }\n",
       "    nodes.update(updateArray);\n",
       "  } else {\n",
       "    // console.log(&quot;Nothing was selected&quot;);\n",
       "    for (let nodeId in allNodes) {\n",
       "      if (allNodes.hasOwnProperty(nodeId)) {\n",
       "        // console.log(allNodes[nodeId]);\n",
       "        // allNodes[nodeId].color = {};\n",
       "        updateArray.push(allNodes[nodeId]);\n",
       "      }\n",
       "    }\n",
       "    nodes.update(updateArray);\n",
       "  }\n",
       "}\n",
       "\n",
       "function filterHighlight(params) {\n",
       "  allNodes = nodes.get({ returnType: &quot;Object&quot; });\n",
       "  // if something is selected:\n",
       "  if (params.nodes.length &gt; 0) {\n",
       "    filterActive = true;\n",
       "    let selectedNodes = params.nodes;\n",
       "\n",
       "    // hiding all nodes and saving the label\n",
       "    for (let nodeId in allNodes) {\n",
       "      allNodes[nodeId].hidden = true;\n",
       "      if (allNodes[nodeId].savedLabel === undefined) {\n",
       "        allNodes[nodeId].savedLabel = allNodes[nodeId].label;\n",
       "        allNodes[nodeId].label = undefined;\n",
       "      }\n",
       "    }\n",
       "\n",
       "    for (let i=0; i &lt; selectedNodes.length; i++) {\n",
       "      allNodes[selectedNodes[i]].hidden = false;\n",
       "      if (allNodes[selectedNodes[i]].savedLabel !== undefined) {\n",
       "        allNodes[selectedNodes[i]].label = allNodes[selectedNodes[i]].savedLabel;\n",
       "        allNodes[selectedNodes[i]].savedLabel = undefined;\n",
       "      }\n",
       "    }\n",
       "\n",
       "  } else if (filterActive === true) {\n",
       "    // reset all nodes\n",
       "    for (let nodeId in allNodes) {\n",
       "      allNodes[nodeId].hidden = false;\n",
       "      if (allNodes[nodeId].savedLabel !== undefined) {\n",
       "        allNodes[nodeId].label = allNodes[nodeId].savedLabel;\n",
       "        allNodes[nodeId].savedLabel = undefined;\n",
       "      }\n",
       "    }\n",
       "    filterActive = false;\n",
       "  }\n",
       "\n",
       "  // transform the object into an array\n",
       "  var updateArray = [];\n",
       "  if (params.nodes.length &gt; 0) {\n",
       "    for (let nodeId in allNodes) {\n",
       "      if (allNodes.hasOwnProperty(nodeId)) {\n",
       "        updateArray.push(allNodes[nodeId]);\n",
       "      }\n",
       "    }\n",
       "    nodes.update(updateArray);\n",
       "  } else {\n",
       "    for (let nodeId in allNodes) {\n",
       "      if (allNodes.hasOwnProperty(nodeId)) {\n",
       "        updateArray.push(allNodes[nodeId]);\n",
       "      }\n",
       "    }\n",
       "    nodes.update(updateArray);\n",
       "  }\n",
       "}\n",
       "\n",
       "function selectNode(nodes) {\n",
       "  network.selectNodes(nodes);\n",
       "  neighbourhoodHighlight({ nodes: nodes });\n",
       "  return nodes;\n",
       "}\n",
       "\n",
       "function selectNodes(nodes) {\n",
       "  network.selectNodes(nodes);\n",
       "  filterHighlight({nodes: nodes});\n",
       "  return nodes;\n",
       "}\n",
       "\n",
       "function highlightFilter(filter) {\n",
       "  let selectedNodes = []\n",
       "  let selectedProp = filter[&#x27;property&#x27;]\n",
       "  if (filter[&#x27;item&#x27;] === &#x27;node&#x27;) {\n",
       "    let allNodes = nodes.get({ returnType: &quot;Object&quot; });\n",
       "    for (let nodeId in allNodes) {\n",
       "      if (allNodes[nodeId][selectedProp] &amp;&amp; filter[&#x27;value&#x27;].includes((allNodes[nodeId][selectedProp]).toString())) {\n",
       "        selectedNodes.push(nodeId)\n",
       "      }\n",
       "    }\n",
       "  }\n",
       "  else if (filter[&#x27;item&#x27;] === &#x27;edge&#x27;){\n",
       "    let allEdges = edges.get({returnType: &#x27;object&#x27;});\n",
       "    // check if the selected property exists for selected edge and select the nodes connected to the edge\n",
       "    for (let edge in allEdges) {\n",
       "      if (allEdges[edge][selectedProp] &amp;&amp; filter[&#x27;value&#x27;].includes((allEdges[edge][selectedProp]).toString())) {\n",
       "        selectedNodes.push(allEdges[edge][&#x27;from&#x27;])\n",
       "        selectedNodes.push(allEdges[edge][&#x27;to&#x27;])\n",
       "      }\n",
       "    }\n",
       "  }\n",
       "  selectNodes(selectedNodes)\n",
       "}&lt;/script&gt;\n",
       "            &lt;link rel=&quot;stylesheet&quot; href=&quot;https://cdnjs.cloudflare.com/ajax/libs/vis-network/9.1.2/dist/dist/vis-network.min.css&quot; integrity=&quot;sha512-WgxfT5LWjfszlPHXRmBWHkV2eceiWTOBvrKCNbdgDYTHrT2AeLCGbF4sZlZw3UMN3WtL0tGUoIAKsu8mllg/XA==&quot; crossorigin=&quot;anonymous&quot; referrerpolicy=&quot;no-referrer&quot; /&gt;\n",
       "            &lt;script src=&quot;https://cdnjs.cloudflare.com/ajax/libs/vis-network/9.1.2/dist/vis-network.min.js&quot; integrity=&quot;sha512-LnvoEWDFrqGHlHmDD2101OrLcbsfkrzoSpvtSQtxK3RMnRV0eOkhhBN2dXHKRrUU8p2DGRTk35n4O8nWSVe1mQ==&quot; crossorigin=&quot;anonymous&quot; referrerpolicy=&quot;no-referrer&quot;&gt;&lt;/script&gt;\n",
       "            \n",
       "            \n",
       "            \n",
       "            \n",
       "            \n",
       "            \n",
       "\n",
       "        \n",
       "&lt;center&gt;\n",
       "&lt;h1&gt;&lt;/h1&gt;\n",
       "&lt;/center&gt;\n",
       "\n",
       "&lt;!-- &lt;link rel=&quot;stylesheet&quot; href=&quot;../node_modules/vis/dist/vis.min.css&quot; type=&quot;text/css&quot; /&gt;\n",
       "&lt;script type=&quot;text/javascript&quot; src=&quot;../node_modules/vis/dist/vis.js&quot;&gt; &lt;/script&gt;--&gt;\n",
       "        &lt;link\n",
       "          href=&quot;https://cdn.jsdelivr.net/npm/bootstrap@5.0.0-beta3/dist/css/bootstrap.min.css&quot;\n",
       "          rel=&quot;stylesheet&quot;\n",
       "          integrity=&quot;sha384-eOJMYsd53ii+scO/bJGFsiCZc+5NDVN2yr8+0RDqr0Ql0h+rP48ckxlpbzKgwra6&quot;\n",
       "          crossorigin=&quot;anonymous&quot;\n",
       "        /&gt;\n",
       "        &lt;script\n",
       "          src=&quot;https://cdn.jsdelivr.net/npm/bootstrap@5.0.0-beta3/dist/js/bootstrap.bundle.min.js&quot;\n",
       "          integrity=&quot;sha384-JEW9xMcG8R+pH31jmWH6WWP0WintQrMb4s7ZOdauHnUtxwoG2vI5DkLtS3qm9Ekf&quot;\n",
       "          crossorigin=&quot;anonymous&quot;\n",
       "        &gt;&lt;/script&gt;\n",
       "\n",
       "\n",
       "        &lt;center&gt;\n",
       "          &lt;h1&gt;&lt;/h1&gt;\n",
       "        &lt;/center&gt;\n",
       "        &lt;style type=&quot;text/css&quot;&gt;\n",
       "\n",
       "             #mynetwork {\n",
       "                 width: 100%;\n",
       "                 height: 600px;\n",
       "                 background-color: #ffffff;\n",
       "                 border: 1px solid lightgray;\n",
       "                 position: relative;\n",
       "                 float: left;\n",
       "             }\n",
       "\n",
       "             \n",
       "\n",
       "             \n",
       "\n",
       "             \n",
       "        &lt;/style&gt;\n",
       "    &lt;/head&gt;\n",
       "\n",
       "\n",
       "    &lt;body&gt;\n",
       "        &lt;div class=&quot;card&quot; style=&quot;width: 100%&quot;&gt;\n",
       "            \n",
       "            \n",
       "            &lt;div id=&quot;mynetwork&quot; class=&quot;card-body&quot;&gt;&lt;/div&gt;\n",
       "        &lt;/div&gt;\n",
       "\n",
       "        \n",
       "        \n",
       "\n",
       "        &lt;script type=&quot;text/javascript&quot;&gt;\n",
       "\n",
       "              // initialize global variables.\n",
       "              var edges;\n",
       "              var nodes;\n",
       "              var allNodes;\n",
       "              var allEdges;\n",
       "              var nodeColors;\n",
       "              var originalNodes;\n",
       "              var network;\n",
       "              var container;\n",
       "              var options, data;\n",
       "              var filter = {\n",
       "                  item : &#x27;&#x27;,\n",
       "                  property : &#x27;&#x27;,\n",
       "                  value : []\n",
       "              };\n",
       "\n",
       "              \n",
       "\n",
       "              \n",
       "\n",
       "              // This method is responsible for drawing the graph, returns the drawn network\n",
       "              function drawGraph() {\n",
       "                  var container = document.getElementById(&#x27;mynetwork&#x27;);\n",
       "\n",
       "                  \n",
       "\n",
       "                  // parsing and collecting nodes and edges from the python\n",
       "                  nodes = new vis.DataSet([{&quot;color&quot;: &quot;#fde725&quot;, &quot;font&quot;: {}, &quot;id&quot;: &quot;UfuncNode_1&quot;, &quot;label&quot;: &quot;UfuncNode_1&quot;, &quot;level&quot;: 3.0, &quot;mass&quot;: 2, &quot;shape&quot;: &quot;circle&quot;, &quot;size&quot;: 10, &quot;title&quot;: &quot;Node class: UfuncNode\\nNo documentation\\n............................................\\nkwargs = {\\u0027input_0\\u0027: \\u0027Linked( UfuncNode.output )\\u0027, \\u0027input_1\\u0027: \\u0027Linked( sum_triple.c )\\u0027}\\nufunc = \\u003cufunc \\u0027add\\u0027\\u003e\\nmethod = __call__\\ninput_kwargs = {}\\n&quot;}, {&quot;color&quot;: &quot;pink&quot;, &quot;font&quot;: {&quot;color&quot;: &quot;black&quot;}, &quot;id&quot;: &quot;output&quot;, &quot;label&quot;: &quot;Output&quot;, &quot;level&quot;: 4.0, &quot;mass&quot;: 2, &quot;shape&quot;: &quot;box&quot;, &quot;size&quot;: 10, &quot;title&quot;: &quot;Node class: WorkflowOutput\\nNo documentation\\n............................................\\nvalue = Linked( UfuncNode_1.output )\\n&quot;}, {&quot;color&quot;: &quot;#ccc&quot;, &quot;font&quot;: {&quot;color&quot;: &quot;black&quot;}, &quot;id&quot;: &quot;a&quot;, &quot;label&quot;: &quot;Input(a)&quot;, &quot;level&quot;: 1.0, &quot;mass&quot;: 2, &quot;shape&quot;: &quot;box&quot;, &quot;size&quot;: 10, &quot;title&quot;: &quot;Node class: WorkflowInput\\nNo documentation\\n............................................\\nvalue = \\u003cobject object at 0x7f9f3b5c4420\\u003e\\ninput_key = a\\n&quot;}, {&quot;color&quot;: &quot;#440154&quot;, &quot;font&quot;: {&quot;color&quot;: &quot;white&quot;}, &quot;id&quot;: &quot;UfuncNode&quot;, &quot;label&quot;: &quot;UfuncNode&quot;, &quot;level&quot;: 2.0, &quot;mass&quot;: 2, &quot;shape&quot;: &quot;circle&quot;, &quot;size&quot;: 10, &quot;title&quot;: &quot;Node class: UfuncNode\\nNo documentation\\n............................................\\nkwargs = {\\u0027input_0\\u0027: \\u0027Linked( sum_triple.a )\\u0027, \\u0027input_1\\u0027: \\u0027Linked( sum_triple.b )\\u0027}\\nufunc = \\u003cufunc \\u0027add\\u0027\\u003e\\nmethod = __call__\\ninput_kwargs = {}\\n&quot;}, {&quot;color&quot;: &quot;#ccc&quot;, &quot;font&quot;: {&quot;color&quot;: &quot;black&quot;}, &quot;id&quot;: &quot;b&quot;, &quot;label&quot;: &quot;Input(b)&quot;, &quot;level&quot;: 1.0, &quot;mass&quot;: 2, &quot;shape&quot;: &quot;box&quot;, &quot;size&quot;: 10, &quot;title&quot;: &quot;Node class: WorkflowInput\\nNo documentation\\n............................................\\nvalue = \\u003cobject object at 0x7f9f3b5c4420\\u003e\\ninput_key = b\\n&quot;}, {&quot;color&quot;: &quot;#ccc&quot;, &quot;font&quot;: {&quot;color&quot;: &quot;black&quot;}, &quot;id&quot;: &quot;c&quot;, &quot;label&quot;: &quot;Input(c)&quot;, &quot;level&quot;: 2.0, &quot;mass&quot;: 2, &quot;shape&quot;: &quot;box&quot;, &quot;size&quot;: 10, &quot;title&quot;: &quot;Node class: WorkflowInput\\nNo documentation\\n............................................\\nvalue = \\u003cobject object at 0x7f9f3b5c4420\\u003e\\ninput_key = c\\n&quot;}]);\n",
       "                  edges = new vis.DataSet([{&quot;arrows&quot;: &quot;to&quot;, &quot;from&quot;: &quot;UfuncNode_1&quot;, &quot;label&quot;: &quot;value&quot;, &quot;title&quot;: &quot;UfuncNode() -\\u003e WorkflowOutput.value&quot;, &quot;to&quot;: &quot;output&quot;, &quot;width&quot;: 1}, {&quot;arrows&quot;: &quot;to&quot;, &quot;from&quot;: &quot;a&quot;, &quot;label&quot;: &quot;kwargs[input_0]&quot;, &quot;title&quot;: &quot;WorkflowInput() -\\u003e UfuncNode.kwargs[input_0]&quot;, &quot;to&quot;: &quot;UfuncNode&quot;, &quot;width&quot;: 1}, {&quot;arrows&quot;: &quot;to&quot;, &quot;from&quot;: &quot;UfuncNode&quot;, &quot;label&quot;: &quot;kwargs[input_0]&quot;, &quot;title&quot;: &quot;UfuncNode() -\\u003e UfuncNode.kwargs[input_0]&quot;, &quot;to&quot;: &quot;UfuncNode_1&quot;, &quot;width&quot;: 1}, {&quot;arrows&quot;: &quot;to&quot;, &quot;from&quot;: &quot;b&quot;, &quot;label&quot;: &quot;kwargs[input_1]&quot;, &quot;title&quot;: &quot;WorkflowInput() -\\u003e UfuncNode.kwargs[input_1]&quot;, &quot;to&quot;: &quot;UfuncNode&quot;, &quot;width&quot;: 1}, {&quot;arrows&quot;: &quot;to&quot;, &quot;from&quot;: &quot;c&quot;, &quot;label&quot;: &quot;kwargs[input_1]&quot;, &quot;title&quot;: &quot;WorkflowInput() -\\u003e UfuncNode.kwargs[input_1]&quot;, &quot;to&quot;: &quot;UfuncNode_1&quot;, &quot;width&quot;: 1}]);\n",
       "\n",
       "                  nodeColors = {};\n",
       "                  allNodes = nodes.get({ returnType: &quot;Object&quot; });\n",
       "                  for (nodeId in allNodes) {\n",
       "                    nodeColors[nodeId] = allNodes[nodeId].color;\n",
       "                  }\n",
       "                  allEdges = edges.get({ returnType: &quot;Object&quot; });\n",
       "                  // adding nodes and edges to the graph\n",
       "                  data = {nodes: nodes, edges: edges};\n",
       "\n",
       "                  var options = {\n",
       "    &quot;configure&quot;: {\n",
       "        &quot;enabled&quot;: false\n",
       "    },\n",
       "    &quot;edges&quot;: {\n",
       "        &quot;color&quot;: {\n",
       "            &quot;inherit&quot;: true\n",
       "        },\n",
       "        &quot;smooth&quot;: {\n",
       "            &quot;enabled&quot;: true,\n",
       "            &quot;type&quot;: &quot;dynamic&quot;\n",
       "        }\n",
       "    },\n",
       "    &quot;interaction&quot;: {\n",
       "        &quot;dragNodes&quot;: true,\n",
       "        &quot;hideEdgesOnDrag&quot;: false,\n",
       "        &quot;hideNodesOnDrag&quot;: false\n",
       "    },\n",
       "    &quot;layout&quot;: {\n",
       "        &quot;hierarchical&quot;: {\n",
       "            &quot;blockShifting&quot;: true,\n",
       "            &quot;edgeMinimization&quot;: true,\n",
       "            &quot;enabled&quot;: true,\n",
       "            &quot;levelSeparation&quot;: 150,\n",
       "            &quot;parentCentralization&quot;: true,\n",
       "            &quot;sortMethod&quot;: &quot;hubsize&quot;,\n",
       "            &quot;treeSpacing&quot;: 200\n",
       "        },\n",
       "        &quot;improvedLayout&quot;: true,\n",
       "        &quot;randomSeed&quot;: 0\n",
       "    },\n",
       "    &quot;physics&quot;: {\n",
       "        &quot;enabled&quot;: true,\n",
       "        &quot;stabilization&quot;: {\n",
       "            &quot;enabled&quot;: true,\n",
       "            &quot;fit&quot;: true,\n",
       "            &quot;iterations&quot;: 1000,\n",
       "            &quot;onlyDynamicEdges&quot;: false,\n",
       "            &quot;updateInterval&quot;: 50\n",
       "        }\n",
       "    }\n",
       "};\n",
       "\n",
       "                  \n",
       "\n",
       "\n",
       "                  \n",
       "\n",
       "                  network = new vis.Network(container, data, options);\n",
       "\n",
       "                  \n",
       "\n",
       "                  \n",
       "\n",
       "                  \n",
       "\n",
       "\n",
       "                  \n",
       "\n",
       "                  return network;\n",
       "\n",
       "              }\n",
       "              drawGraph();\n",
       "        &lt;/script&gt;\n",
       "    &lt;/body&gt;\n",
       "&lt;/html&gt;\" style=\"width:100%\"></iframe>"
      ],
      "text/plain": [
       "<IPython.core.display.HTML object>"
      ]
     },
     "metadata": {},
     "output_type": "display_data"
    }
   ],
   "source": [
    "@Workflow.from_func\n",
    "def sum_triple(a, b, c):\n",
    "    val = a + b + c\n",
    "    return val\n",
    "\n",
    "\n",
    "sum_triple.network.visualize(\n",
    "    notebook=True,\n",
    ")"
   ]
  },
  {
   "cell_type": "markdown",
   "id": "21ccbd4c",
   "metadata": {},
   "source": [
    "So if you don't want that, you should pack everything that you don't want to be saved in a separate function, and then use it in the workflow:"
   ]
  },
  {
   "cell_type": "code",
   "execution_count": 29,
   "id": "cff943fd",
   "metadata": {
    "execution": {
     "iopub.execute_input": "2024-02-23T10:47:58.238538Z",
     "iopub.status.busy": "2024-02-23T10:47:58.238366Z",
     "iopub.status.idle": "2024-02-23T10:47:58.256910Z",
     "shell.execute_reply": "2024-02-23T10:47:58.256314Z"
    }
   },
   "outputs": [
    {
     "name": "stderr",
     "output_type": "stream",
     "text": [
      "warn:0: SislWarning: Decorators are ignored for now on workflow creation. Ignoring 1 decorators on sum_triple\n"
     ]
    },
    {
     "data": {
      "text/html": [
       "<iframe height='600px' srcdoc=\"&lt;html&gt;\n",
       "    &lt;head&gt;\n",
       "        &lt;meta charset=&quot;utf-8&quot;&gt;\n",
       "        \n",
       "            &lt;script&gt;function neighbourhoodHighlight(params) {\n",
       "  // console.log(&quot;in nieghbourhoodhighlight&quot;);\n",
       "  allNodes = nodes.get({ returnType: &quot;Object&quot; });\n",
       "  // originalNodes = JSON.parse(JSON.stringify(allNodes));\n",
       "  // if something is selected:\n",
       "  if (params.nodes.length &gt; 0) {\n",
       "    highlightActive = true;\n",
       "    var i, j;\n",
       "    var selectedNode = params.nodes[0];\n",
       "    var degrees = 2;\n",
       "\n",
       "    // mark all nodes as hard to read.\n",
       "    for (let nodeId in allNodes) {\n",
       "      // nodeColors[nodeId] = allNodes[nodeId].color;\n",
       "      allNodes[nodeId].color = &quot;rgba(200,200,200,0.5)&quot;;\n",
       "      if (allNodes[nodeId].hiddenLabel === undefined) {\n",
       "        allNodes[nodeId].hiddenLabel = allNodes[nodeId].label;\n",
       "        allNodes[nodeId].label = undefined;\n",
       "      }\n",
       "    }\n",
       "    var connectedNodes = network.getConnectedNodes(selectedNode);\n",
       "    var allConnectedNodes = [];\n",
       "\n",
       "    // get the second degree nodes\n",
       "    for (i = 1; i &lt; degrees; i++) {\n",
       "      for (j = 0; j &lt; connectedNodes.length; j++) {\n",
       "        allConnectedNodes = allConnectedNodes.concat(\n",
       "          network.getConnectedNodes(connectedNodes[j])\n",
       "        );\n",
       "      }\n",
       "    }\n",
       "\n",
       "    // all second degree nodes get a different color and their label back\n",
       "    for (i = 0; i &lt; allConnectedNodes.length; i++) {\n",
       "      // allNodes[allConnectedNodes[i]].color = &quot;pink&quot;;\n",
       "      allNodes[allConnectedNodes[i]].color = &quot;rgba(150,150,150,0.75)&quot;;\n",
       "      if (allNodes[allConnectedNodes[i]].hiddenLabel !== undefined) {\n",
       "        allNodes[allConnectedNodes[i]].label =\n",
       "          allNodes[allConnectedNodes[i]].hiddenLabel;\n",
       "        allNodes[allConnectedNodes[i]].hiddenLabel = undefined;\n",
       "      }\n",
       "    }\n",
       "\n",
       "    // all first degree nodes get their own color and their label back\n",
       "    for (i = 0; i &lt; connectedNodes.length; i++) {\n",
       "      // allNodes[connectedNodes[i]].color = undefined;\n",
       "      allNodes[connectedNodes[i]].color = nodeColors[connectedNodes[i]];\n",
       "      if (allNodes[connectedNodes[i]].hiddenLabel !== undefined) {\n",
       "        allNodes[connectedNodes[i]].label =\n",
       "          allNodes[connectedNodes[i]].hiddenLabel;\n",
       "        allNodes[connectedNodes[i]].hiddenLabel = undefined;\n",
       "      }\n",
       "    }\n",
       "\n",
       "    // the main node gets its own color and its label back.\n",
       "    // allNodes[selectedNode].color = undefined;\n",
       "    allNodes[selectedNode].color = nodeColors[selectedNode];\n",
       "    if (allNodes[selectedNode].hiddenLabel !== undefined) {\n",
       "      allNodes[selectedNode].label = allNodes[selectedNode].hiddenLabel;\n",
       "      allNodes[selectedNode].hiddenLabel = undefined;\n",
       "    }\n",
       "  } else if (highlightActive === true) {\n",
       "    // console.log(&quot;highlightActive was true&quot;);\n",
       "    // reset all nodes\n",
       "    for (let nodeId in allNodes) {\n",
       "      // allNodes[nodeId].color = &quot;purple&quot;;\n",
       "      allNodes[nodeId].color = nodeColors[nodeId];\n",
       "      // delete allNodes[nodeId].color;\n",
       "      if (allNodes[nodeId].hiddenLabel !== undefined) {\n",
       "        allNodes[nodeId].label = allNodes[nodeId].hiddenLabel;\n",
       "        allNodes[nodeId].hiddenLabel = undefined;\n",
       "      }\n",
       "    }\n",
       "    highlightActive = false;\n",
       "  }\n",
       "\n",
       "  // transform the object into an array\n",
       "  var updateArray = [];\n",
       "  if (params.nodes.length &gt; 0) {\n",
       "    for (let nodeId in allNodes) {\n",
       "      if (allNodes.hasOwnProperty(nodeId)) {\n",
       "        // console.log(allNodes[nodeId]);\n",
       "        updateArray.push(allNodes[nodeId]);\n",
       "      }\n",
       "    }\n",
       "    nodes.update(updateArray);\n",
       "  } else {\n",
       "    // console.log(&quot;Nothing was selected&quot;);\n",
       "    for (let nodeId in allNodes) {\n",
       "      if (allNodes.hasOwnProperty(nodeId)) {\n",
       "        // console.log(allNodes[nodeId]);\n",
       "        // allNodes[nodeId].color = {};\n",
       "        updateArray.push(allNodes[nodeId]);\n",
       "      }\n",
       "    }\n",
       "    nodes.update(updateArray);\n",
       "  }\n",
       "}\n",
       "\n",
       "function filterHighlight(params) {\n",
       "  allNodes = nodes.get({ returnType: &quot;Object&quot; });\n",
       "  // if something is selected:\n",
       "  if (params.nodes.length &gt; 0) {\n",
       "    filterActive = true;\n",
       "    let selectedNodes = params.nodes;\n",
       "\n",
       "    // hiding all nodes and saving the label\n",
       "    for (let nodeId in allNodes) {\n",
       "      allNodes[nodeId].hidden = true;\n",
       "      if (allNodes[nodeId].savedLabel === undefined) {\n",
       "        allNodes[nodeId].savedLabel = allNodes[nodeId].label;\n",
       "        allNodes[nodeId].label = undefined;\n",
       "      }\n",
       "    }\n",
       "\n",
       "    for (let i=0; i &lt; selectedNodes.length; i++) {\n",
       "      allNodes[selectedNodes[i]].hidden = false;\n",
       "      if (allNodes[selectedNodes[i]].savedLabel !== undefined) {\n",
       "        allNodes[selectedNodes[i]].label = allNodes[selectedNodes[i]].savedLabel;\n",
       "        allNodes[selectedNodes[i]].savedLabel = undefined;\n",
       "      }\n",
       "    }\n",
       "\n",
       "  } else if (filterActive === true) {\n",
       "    // reset all nodes\n",
       "    for (let nodeId in allNodes) {\n",
       "      allNodes[nodeId].hidden = false;\n",
       "      if (allNodes[nodeId].savedLabel !== undefined) {\n",
       "        allNodes[nodeId].label = allNodes[nodeId].savedLabel;\n",
       "        allNodes[nodeId].savedLabel = undefined;\n",
       "      }\n",
       "    }\n",
       "    filterActive = false;\n",
       "  }\n",
       "\n",
       "  // transform the object into an array\n",
       "  var updateArray = [];\n",
       "  if (params.nodes.length &gt; 0) {\n",
       "    for (let nodeId in allNodes) {\n",
       "      if (allNodes.hasOwnProperty(nodeId)) {\n",
       "        updateArray.push(allNodes[nodeId]);\n",
       "      }\n",
       "    }\n",
       "    nodes.update(updateArray);\n",
       "  } else {\n",
       "    for (let nodeId in allNodes) {\n",
       "      if (allNodes.hasOwnProperty(nodeId)) {\n",
       "        updateArray.push(allNodes[nodeId]);\n",
       "      }\n",
       "    }\n",
       "    nodes.update(updateArray);\n",
       "  }\n",
       "}\n",
       "\n",
       "function selectNode(nodes) {\n",
       "  network.selectNodes(nodes);\n",
       "  neighbourhoodHighlight({ nodes: nodes });\n",
       "  return nodes;\n",
       "}\n",
       "\n",
       "function selectNodes(nodes) {\n",
       "  network.selectNodes(nodes);\n",
       "  filterHighlight({nodes: nodes});\n",
       "  return nodes;\n",
       "}\n",
       "\n",
       "function highlightFilter(filter) {\n",
       "  let selectedNodes = []\n",
       "  let selectedProp = filter[&#x27;property&#x27;]\n",
       "  if (filter[&#x27;item&#x27;] === &#x27;node&#x27;) {\n",
       "    let allNodes = nodes.get({ returnType: &quot;Object&quot; });\n",
       "    for (let nodeId in allNodes) {\n",
       "      if (allNodes[nodeId][selectedProp] &amp;&amp; filter[&#x27;value&#x27;].includes((allNodes[nodeId][selectedProp]).toString())) {\n",
       "        selectedNodes.push(nodeId)\n",
       "      }\n",
       "    }\n",
       "  }\n",
       "  else if (filter[&#x27;item&#x27;] === &#x27;edge&#x27;){\n",
       "    let allEdges = edges.get({returnType: &#x27;object&#x27;});\n",
       "    // check if the selected property exists for selected edge and select the nodes connected to the edge\n",
       "    for (let edge in allEdges) {\n",
       "      if (allEdges[edge][selectedProp] &amp;&amp; filter[&#x27;value&#x27;].includes((allEdges[edge][selectedProp]).toString())) {\n",
       "        selectedNodes.push(allEdges[edge][&#x27;from&#x27;])\n",
       "        selectedNodes.push(allEdges[edge][&#x27;to&#x27;])\n",
       "      }\n",
       "    }\n",
       "  }\n",
       "  selectNodes(selectedNodes)\n",
       "}&lt;/script&gt;\n",
       "            &lt;link rel=&quot;stylesheet&quot; href=&quot;https://cdnjs.cloudflare.com/ajax/libs/vis-network/9.1.2/dist/dist/vis-network.min.css&quot; integrity=&quot;sha512-WgxfT5LWjfszlPHXRmBWHkV2eceiWTOBvrKCNbdgDYTHrT2AeLCGbF4sZlZw3UMN3WtL0tGUoIAKsu8mllg/XA==&quot; crossorigin=&quot;anonymous&quot; referrerpolicy=&quot;no-referrer&quot; /&gt;\n",
       "            &lt;script src=&quot;https://cdnjs.cloudflare.com/ajax/libs/vis-network/9.1.2/dist/vis-network.min.js&quot; integrity=&quot;sha512-LnvoEWDFrqGHlHmDD2101OrLcbsfkrzoSpvtSQtxK3RMnRV0eOkhhBN2dXHKRrUU8p2DGRTk35n4O8nWSVe1mQ==&quot; crossorigin=&quot;anonymous&quot; referrerpolicy=&quot;no-referrer&quot;&gt;&lt;/script&gt;\n",
       "            \n",
       "            \n",
       "            \n",
       "            \n",
       "            \n",
       "            \n",
       "\n",
       "        \n",
       "&lt;center&gt;\n",
       "&lt;h1&gt;&lt;/h1&gt;\n",
       "&lt;/center&gt;\n",
       "\n",
       "&lt;!-- &lt;link rel=&quot;stylesheet&quot; href=&quot;../node_modules/vis/dist/vis.min.css&quot; type=&quot;text/css&quot; /&gt;\n",
       "&lt;script type=&quot;text/javascript&quot; src=&quot;../node_modules/vis/dist/vis.js&quot;&gt; &lt;/script&gt;--&gt;\n",
       "        &lt;link\n",
       "          href=&quot;https://cdn.jsdelivr.net/npm/bootstrap@5.0.0-beta3/dist/css/bootstrap.min.css&quot;\n",
       "          rel=&quot;stylesheet&quot;\n",
       "          integrity=&quot;sha384-eOJMYsd53ii+scO/bJGFsiCZc+5NDVN2yr8+0RDqr0Ql0h+rP48ckxlpbzKgwra6&quot;\n",
       "          crossorigin=&quot;anonymous&quot;\n",
       "        /&gt;\n",
       "        &lt;script\n",
       "          src=&quot;https://cdn.jsdelivr.net/npm/bootstrap@5.0.0-beta3/dist/js/bootstrap.bundle.min.js&quot;\n",
       "          integrity=&quot;sha384-JEW9xMcG8R+pH31jmWH6WWP0WintQrMb4s7ZOdauHnUtxwoG2vI5DkLtS3qm9Ekf&quot;\n",
       "          crossorigin=&quot;anonymous&quot;\n",
       "        &gt;&lt;/script&gt;\n",
       "\n",
       "\n",
       "        &lt;center&gt;\n",
       "          &lt;h1&gt;&lt;/h1&gt;\n",
       "        &lt;/center&gt;\n",
       "        &lt;style type=&quot;text/css&quot;&gt;\n",
       "\n",
       "             #mynetwork {\n",
       "                 width: 100%;\n",
       "                 height: 600px;\n",
       "                 background-color: #ffffff;\n",
       "                 border: 1px solid lightgray;\n",
       "                 position: relative;\n",
       "                 float: left;\n",
       "             }\n",
       "\n",
       "             \n",
       "\n",
       "             \n",
       "\n",
       "             \n",
       "        &lt;/style&gt;\n",
       "    &lt;/head&gt;\n",
       "\n",
       "\n",
       "    &lt;body&gt;\n",
       "        &lt;div class=&quot;card&quot; style=&quot;width: 100%&quot;&gt;\n",
       "            \n",
       "            \n",
       "            &lt;div id=&quot;mynetwork&quot; class=&quot;card-body&quot;&gt;&lt;/div&gt;\n",
       "        &lt;/div&gt;\n",
       "\n",
       "        \n",
       "        \n",
       "\n",
       "        &lt;script type=&quot;text/javascript&quot;&gt;\n",
       "\n",
       "              // initialize global variables.\n",
       "              var edges;\n",
       "              var nodes;\n",
       "              var allNodes;\n",
       "              var allEdges;\n",
       "              var nodeColors;\n",
       "              var originalNodes;\n",
       "              var network;\n",
       "              var container;\n",
       "              var options, data;\n",
       "              var filter = {\n",
       "                  item : &#x27;&#x27;,\n",
       "                  property : &#x27;&#x27;,\n",
       "                  value : []\n",
       "              };\n",
       "\n",
       "              \n",
       "\n",
       "              \n",
       "\n",
       "              // This method is responsible for drawing the graph, returns the drawn network\n",
       "              function drawGraph() {\n",
       "                  var container = document.getElementById(&#x27;mynetwork&#x27;);\n",
       "\n",
       "                  \n",
       "\n",
       "                  // parsing and collecting nodes and edges from the python\n",
       "                  nodes = new vis.DataSet([{&quot;color&quot;: &quot;#440154&quot;, &quot;font&quot;: {&quot;color&quot;: &quot;white&quot;}, &quot;id&quot;: &quot;operation&quot;, &quot;label&quot;: &quot;operation&quot;, &quot;level&quot;: 2.0, &quot;mass&quot;: 2, &quot;shape&quot;: &quot;circle&quot;, &quot;size&quot;: 10, &quot;title&quot;: &quot;Node class: operation\\nNo documentation\\n............................................\\na = Linked( sum_triple.a )\\nb = Linked( sum_triple.b )\\nc = Linked( sum_triple.c )\\n&quot;}, {&quot;color&quot;: &quot;pink&quot;, &quot;font&quot;: {&quot;color&quot;: &quot;black&quot;}, &quot;id&quot;: &quot;output&quot;, &quot;label&quot;: &quot;Output&quot;, &quot;level&quot;: 3.0, &quot;mass&quot;: 2, &quot;shape&quot;: &quot;box&quot;, &quot;size&quot;: 10, &quot;title&quot;: &quot;Node class: WorkflowOutput\\nNo documentation\\n............................................\\nvalue = Linked( operation.output )\\n&quot;}, {&quot;color&quot;: &quot;#ccc&quot;, &quot;font&quot;: {&quot;color&quot;: &quot;black&quot;}, &quot;id&quot;: &quot;a&quot;, &quot;label&quot;: &quot;Input(a)&quot;, &quot;level&quot;: 1.0, &quot;mass&quot;: 2, &quot;shape&quot;: &quot;box&quot;, &quot;size&quot;: 10, &quot;title&quot;: &quot;Node class: WorkflowInput\\nNo documentation\\n............................................\\nvalue = \\u003cobject object at 0x7f9f3b5c4420\\u003e\\ninput_key = a\\n&quot;}, {&quot;color&quot;: &quot;#ccc&quot;, &quot;font&quot;: {&quot;color&quot;: &quot;black&quot;}, &quot;id&quot;: &quot;b&quot;, &quot;label&quot;: &quot;Input(b)&quot;, &quot;level&quot;: 1.0, &quot;mass&quot;: 2, &quot;shape&quot;: &quot;box&quot;, &quot;size&quot;: 10, &quot;title&quot;: &quot;Node class: WorkflowInput\\nNo documentation\\n............................................\\nvalue = \\u003cobject object at 0x7f9f3b5c4420\\u003e\\ninput_key = b\\n&quot;}, {&quot;color&quot;: &quot;#ccc&quot;, &quot;font&quot;: {&quot;color&quot;: &quot;black&quot;}, &quot;id&quot;: &quot;c&quot;, &quot;label&quot;: &quot;Input(c)&quot;, &quot;level&quot;: 1.0, &quot;mass&quot;: 2, &quot;shape&quot;: &quot;box&quot;, &quot;size&quot;: 10, &quot;title&quot;: &quot;Node class: WorkflowInput\\nNo documentation\\n............................................\\nvalue = \\u003cobject object at 0x7f9f3b5c4420\\u003e\\ninput_key = c\\n&quot;}]);\n",
       "                  edges = new vis.DataSet([{&quot;arrows&quot;: &quot;to&quot;, &quot;from&quot;: &quot;operation&quot;, &quot;label&quot;: &quot;value&quot;, &quot;title&quot;: &quot;operation() -\\u003e WorkflowOutput.value&quot;, &quot;to&quot;: &quot;output&quot;, &quot;width&quot;: 1}, {&quot;arrows&quot;: &quot;to&quot;, &quot;from&quot;: &quot;a&quot;, &quot;label&quot;: &quot;a&quot;, &quot;title&quot;: &quot;WorkflowInput() -\\u003e operation.a&quot;, &quot;to&quot;: &quot;operation&quot;, &quot;width&quot;: 1}, {&quot;arrows&quot;: &quot;to&quot;, &quot;from&quot;: &quot;b&quot;, &quot;label&quot;: &quot;b&quot;, &quot;title&quot;: &quot;WorkflowInput() -\\u003e operation.b&quot;, &quot;to&quot;: &quot;operation&quot;, &quot;width&quot;: 1}, {&quot;arrows&quot;: &quot;to&quot;, &quot;from&quot;: &quot;c&quot;, &quot;label&quot;: &quot;c&quot;, &quot;title&quot;: &quot;WorkflowInput() -\\u003e operation.c&quot;, &quot;to&quot;: &quot;operation&quot;, &quot;width&quot;: 1}]);\n",
       "\n",
       "                  nodeColors = {};\n",
       "                  allNodes = nodes.get({ returnType: &quot;Object&quot; });\n",
       "                  for (nodeId in allNodes) {\n",
       "                    nodeColors[nodeId] = allNodes[nodeId].color;\n",
       "                  }\n",
       "                  allEdges = edges.get({ returnType: &quot;Object&quot; });\n",
       "                  // adding nodes and edges to the graph\n",
       "                  data = {nodes: nodes, edges: edges};\n",
       "\n",
       "                  var options = {\n",
       "    &quot;configure&quot;: {\n",
       "        &quot;enabled&quot;: false\n",
       "    },\n",
       "    &quot;edges&quot;: {\n",
       "        &quot;color&quot;: {\n",
       "            &quot;inherit&quot;: true\n",
       "        },\n",
       "        &quot;smooth&quot;: {\n",
       "            &quot;enabled&quot;: true,\n",
       "            &quot;type&quot;: &quot;dynamic&quot;\n",
       "        }\n",
       "    },\n",
       "    &quot;interaction&quot;: {\n",
       "        &quot;dragNodes&quot;: true,\n",
       "        &quot;hideEdgesOnDrag&quot;: false,\n",
       "        &quot;hideNodesOnDrag&quot;: false\n",
       "    },\n",
       "    &quot;layout&quot;: {\n",
       "        &quot;hierarchical&quot;: {\n",
       "            &quot;blockShifting&quot;: true,\n",
       "            &quot;edgeMinimization&quot;: true,\n",
       "            &quot;enabled&quot;: true,\n",
       "            &quot;levelSeparation&quot;: 150,\n",
       "            &quot;parentCentralization&quot;: true,\n",
       "            &quot;sortMethod&quot;: &quot;hubsize&quot;,\n",
       "            &quot;treeSpacing&quot;: 200\n",
       "        },\n",
       "        &quot;improvedLayout&quot;: true,\n",
       "        &quot;randomSeed&quot;: 0\n",
       "    },\n",
       "    &quot;physics&quot;: {\n",
       "        &quot;enabled&quot;: true,\n",
       "        &quot;stabilization&quot;: {\n",
       "            &quot;enabled&quot;: true,\n",
       "            &quot;fit&quot;: true,\n",
       "            &quot;iterations&quot;: 1000,\n",
       "            &quot;onlyDynamicEdges&quot;: false,\n",
       "            &quot;updateInterval&quot;: 50\n",
       "        }\n",
       "    }\n",
       "};\n",
       "\n",
       "                  \n",
       "\n",
       "\n",
       "                  \n",
       "\n",
       "                  network = new vis.Network(container, data, options);\n",
       "\n",
       "                  \n",
       "\n",
       "                  \n",
       "\n",
       "                  \n",
       "\n",
       "\n",
       "                  \n",
       "\n",
       "                  return network;\n",
       "\n",
       "              }\n",
       "              drawGraph();\n",
       "        &lt;/script&gt;\n",
       "    &lt;/body&gt;\n",
       "&lt;/html&gt;\" style=\"width:100%\"></iframe>"
      ],
      "text/plain": [
       "<IPython.core.display.HTML object>"
      ]
     },
     "metadata": {},
     "output_type": "display_data"
    }
   ],
   "source": [
    "def operation(a, b, c):\n",
    "    return a + b + c\n",
    "\n",
    "\n",
    "@Workflow.from_func\n",
    "def sum_triple(a, b, c):\n",
    "    val = operation(a, b, c)\n",
    "    return val\n",
    "\n",
    "\n",
    "sum_triple.network.visualize(notebook=True)"
   ]
  },
  {
   "cell_type": "code",
   "execution_count": null,
   "id": "39c74b3c",
   "metadata": {},
   "outputs": [],
   "source": []
  }
 ],
 "metadata": {
  "kernelspec": {
   "display_name": "Python 3 (ipykernel)",
   "language": "python",
   "name": "python3"
  },
  "language_info": {
   "codemirror_mode": {
    "name": "ipython",
    "version": 3
   },
   "file_extension": ".py",
   "mimetype": "text/x-python",
   "name": "python",
   "nbconvert_exporter": "python",
   "pygments_lexer": "ipython3",
   "version": "3.11.8"
  }
 },
 "nbformat": 4,
 "nbformat_minor": 5
}
